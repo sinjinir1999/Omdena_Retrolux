{
 "cells": [
  {
   "cell_type": "code",
   "execution_count": 1,
   "metadata": {},
   "outputs": [
    {
     "data": {
      "text/html": [
       "<div>\n",
       "<style scoped>\n",
       "    .dataframe tbody tr th:only-of-type {\n",
       "        vertical-align: middle;\n",
       "    }\n",
       "\n",
       "    .dataframe tbody tr th {\n",
       "        vertical-align: top;\n",
       "    }\n",
       "\n",
       "    .dataframe thead th {\n",
       "        text-align: right;\n",
       "    }\n",
       "</style>\n",
       "<table border=\"1\" class=\"dataframe\">\n",
       "  <thead>\n",
       "    <tr style=\"text-align: right;\">\n",
       "      <th></th>\n",
       "      <th>id</th>\n",
       "      <th>option_calculation_id</th>\n",
       "      <th>existing_lighting_id</th>\n",
       "      <th>solution_id</th>\n",
       "      <th>use</th>\n",
       "      <th>started_at</th>\n",
       "      <th>finished_at</th>\n",
       "      <th>existing_quantity</th>\n",
       "      <th>proposed_quantity</th>\n",
       "    </tr>\n",
       "  </thead>\n",
       "  <tbody>\n",
       "    <tr>\n",
       "      <th>0</th>\n",
       "      <td>41272</td>\n",
       "      <td>5545</td>\n",
       "      <td>39580</td>\n",
       "      <td>NaN</td>\n",
       "      <td>t</td>\n",
       "      <td>2020-09-22 19:26:41.59626</td>\n",
       "      <td>2020-09-22 19:26:41.602818</td>\n",
       "      <td>0</td>\n",
       "      <td>0</td>\n",
       "    </tr>\n",
       "    <tr>\n",
       "      <th>1</th>\n",
       "      <td>4</td>\n",
       "      <td>1</td>\n",
       "      <td>15701</td>\n",
       "      <td>NaN</td>\n",
       "      <td>t</td>\n",
       "      <td>2020-03-21 19:09:11.43746</td>\n",
       "      <td>2020-03-21 19:09:11.444008</td>\n",
       "      <td>188</td>\n",
       "      <td>0</td>\n",
       "    </tr>\n",
       "    <tr>\n",
       "      <th>2</th>\n",
       "      <td>5</td>\n",
       "      <td>1</td>\n",
       "      <td>15700</td>\n",
       "      <td>17556.0</td>\n",
       "      <td>t</td>\n",
       "      <td>2020-03-21 19:09:11.466992</td>\n",
       "      <td>2020-03-21 19:09:11.478303</td>\n",
       "      <td>2</td>\n",
       "      <td>2</td>\n",
       "    </tr>\n",
       "    <tr>\n",
       "      <th>3</th>\n",
       "      <td>32</td>\n",
       "      <td>1</td>\n",
       "      <td>15673</td>\n",
       "      <td>17403.0</td>\n",
       "      <td>t</td>\n",
       "      <td>2020-03-21 19:09:12.453801</td>\n",
       "      <td>2020-03-21 19:09:12.47004</td>\n",
       "      <td>14</td>\n",
       "      <td>14</td>\n",
       "    </tr>\n",
       "    <tr>\n",
       "      <th>4</th>\n",
       "      <td>34</td>\n",
       "      <td>1</td>\n",
       "      <td>15671</td>\n",
       "      <td>NaN</td>\n",
       "      <td>t</td>\n",
       "      <td>2020-03-21 19:09:12.545806</td>\n",
       "      <td>2020-03-21 19:09:12.55322</td>\n",
       "      <td>66</td>\n",
       "      <td>0</td>\n",
       "    </tr>\n",
       "  </tbody>\n",
       "</table>\n",
       "</div>"
      ],
      "text/plain": [
       "      id  option_calculation_id  existing_lighting_id  solution_id use  \\\n",
       "0  41272                   5545                 39580          NaN   t   \n",
       "1      4                      1                 15701          NaN   t   \n",
       "2      5                      1                 15700      17556.0   t   \n",
       "3     32                      1                 15673      17403.0   t   \n",
       "4     34                      1                 15671          NaN   t   \n",
       "\n",
       "                   started_at                 finished_at  existing_quantity  \\\n",
       "0   2020-09-22 19:26:41.59626  2020-09-22 19:26:41.602818                  0   \n",
       "1   2020-03-21 19:09:11.43746  2020-03-21 19:09:11.444008                188   \n",
       "2  2020-03-21 19:09:11.466992  2020-03-21 19:09:11.478303                  2   \n",
       "3  2020-03-21 19:09:12.453801   2020-03-21 19:09:12.47004                 14   \n",
       "4  2020-03-21 19:09:12.545806   2020-03-21 19:09:12.55322                 66   \n",
       "\n",
       "   proposed_quantity  \n",
       "0                  0  \n",
       "1                  0  \n",
       "2                  2  \n",
       "3                 14  \n",
       "4                  0  "
      ]
     },
     "execution_count": 1,
     "metadata": {},
     "output_type": "execute_result"
    }
   ],
   "source": [
    "import pandas as pd\n",
    "df=pd.read_csv(r\"option_calc_lightings.csv\")\n",
    "df.head()"
   ]
  },
  {
   "cell_type": "code",
   "execution_count": 2,
   "metadata": {
    "scrolled": true
   },
   "outputs": [
    {
     "data": {
      "text/plain": [
       "Index(['id', 'option_calculation_id', 'existing_lighting_id', 'solution_id',\n",
       "       'use', 'started_at', 'finished_at', 'existing_quantity',\n",
       "       'proposed_quantity'],\n",
       "      dtype='object')"
      ]
     },
     "execution_count": 2,
     "metadata": {},
     "output_type": "execute_result"
    }
   ],
   "source": [
    "df.columns\n"
   ]
  },
  {
   "cell_type": "code",
   "execution_count": 4,
   "metadata": {},
   "outputs": [
    {
     "data": {
      "text/plain": [
       "880"
      ]
     },
     "execution_count": 4,
     "metadata": {},
     "output_type": "execute_result"
    }
   ],
   "source": [
    "len(df['existing_quantity'].unique())"
   ]
  },
  {
   "cell_type": "code",
   "execution_count": 8,
   "metadata": {},
   "outputs": [
    {
     "data": {
      "text/plain": [
       "88076"
      ]
     },
     "execution_count": 8,
     "metadata": {},
     "output_type": "execute_result"
    }
   ],
   "source": [
    "len(df)"
   ]
  },
  {
   "cell_type": "code",
   "execution_count": 10,
   "metadata": {},
   "outputs": [
    {
     "name": "stdout",
     "output_type": "stream",
     "text": [
      "null values\n",
      "\n",
      "solution_id : 53.21426949452746 %\n"
     ]
    }
   ],
   "source": [
    "print(\"null values\")\n",
    "print()\n",
    "for i in df.columns:\n",
    "    if (df[i].isnull().sum()/len(df))*100 >= 30:\n",
    "        print(i,\":\", df[i].isnull().sum()/len(df)*100, \"%\")"
   ]
  },
  {
   "cell_type": "code",
   "execution_count": 11,
   "metadata": {
    "scrolled": true
   },
   "outputs": [
    {
     "data": {
      "text/plain": [
       "Index(['id', 'option_calculation_id', 'existing_lighting_id', 'solution_id',\n",
       "       'use', 'started_at', 'finished_at', 'existing_quantity',\n",
       "       'proposed_quantity'],\n",
       "      dtype='object')"
      ]
     },
     "execution_count": 11,
     "metadata": {},
     "output_type": "execute_result"
    }
   ],
   "source": [
    "df.columns\n"
   ]
  },
  {
   "cell_type": "code",
   "execution_count": 15,
   "metadata": {},
   "outputs": [
    {
     "data": {
      "text/plain": [
       "<AxesSubplot:>"
      ]
     },
     "execution_count": 15,
     "metadata": {},
     "output_type": "execute_result"
    },
    {
     "data": {
      "image/png": "[encoded data removed]",
      "text/plain": [
       "<Figure size 288x288 with 2 Axes>"
      ]
     },
     "metadata": {
      "needs_background": "light"
     },
     "output_type": "display_data"
    }
   ],
   "source": [
    "import matplotlib.pyplot as plt\n",
    "import seaborn as sns\n",
    "\n",
    "df_new=df[['started_at', 'finished_at', 'existing_quantity','proposed_quantity']]\n",
    "plt.figure(figsize=(4,4))\n",
    "\n",
    "sns.light_palette(\"seagreen\", as_cmap=True)\n",
    "sns.heatmap(df_new.corr(), annot=True)"
   ]
  }
 ],
 "metadata": {
  "kernelspec": {
   "display_name": "Python 3",
   "language": "python",
   "name": "python3"
  },
  "language_info": {
   "codemirror_mode": {
    "name": "ipython",
    "version": 3
   },
   "file_extension": ".py",
   "mimetype": "text/x-python",
   "name": "python",
   "nbconvert_exporter": "python",
   "pygments_lexer": "ipython3",
   "version": "3.8.5"
  }
 },
 "nbformat": 4,
 "nbformat_minor": 4
}

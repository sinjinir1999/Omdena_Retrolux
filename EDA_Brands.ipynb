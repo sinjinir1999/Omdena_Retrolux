{
 "cells": [
  {
   "cell_type": "code",
   "execution_count": 175,
   "metadata": {},
   "outputs": [
    {
     "name": "stdout",
     "output_type": "stream",
     "text": [
      "Requirement already satisfied: plotly in c:\\anaconda\\lib\\site-packages (4.14.3)\n",
      "Requirement already satisfied: six in c:\\anaconda\\lib\\site-packages (from plotly) (1.15.0)\n",
      "Requirement already satisfied: retrying>=1.3.3 in c:\\anaconda\\lib\\site-packages (from plotly) (1.3.3)\n"
     ]
    },
    {
     "data": {
      "text/html": [
       "<div>\n",
       "<style scoped>\n",
       "    .dataframe tbody tr th:only-of-type {\n",
       "        vertical-align: middle;\n",
       "    }\n",
       "\n",
       "    .dataframe tbody tr th {\n",
       "        vertical-align: top;\n",
       "    }\n",
       "\n",
       "    .dataframe thead th {\n",
       "        text-align: right;\n",
       "    }\n",
       "</style>\n",
       "<table border=\"1\" class=\"dataframe\">\n",
       "  <thead>\n",
       "    <tr style=\"text-align: right;\">\n",
       "      <th></th>\n",
       "      <th>id</th>\n",
       "      <th>manufacturer_id</th>\n",
       "      <th>name</th>\n",
       "      <th>created_at</th>\n",
       "      <th>updated_at</th>\n",
       "      <th>alt_names</th>\n",
       "      <th>active</th>\n",
       "      <th>inactive_at</th>\n",
       "      <th>inactivated_by_user_id</th>\n",
       "    </tr>\n",
       "  </thead>\n",
       "  <tbody>\n",
       "    <tr>\n",
       "      <th>0</th>\n",
       "      <td>1</td>\n",
       "      <td>1.0</td>\n",
       "      <td>ABB Brand</td>\n",
       "      <td>2016-09-07 02:06:02.495688</td>\n",
       "      <td>2016-09-07 02:06:02.495688</td>\n",
       "      <td>NaN</td>\n",
       "      <td>t</td>\n",
       "      <td>NaN</td>\n",
       "      <td>NaN</td>\n",
       "    </tr>\n",
       "    <tr>\n",
       "      <th>1</th>\n",
       "      <td>2</td>\n",
       "      <td>1.0</td>\n",
       "      <td>ABBLighting</td>\n",
       "      <td>2016-09-07 16:41:26.361125</td>\n",
       "      <td>2016-09-07 16:41:26.361125</td>\n",
       "      <td>NaN</td>\n",
       "      <td>t</td>\n",
       "      <td>NaN</td>\n",
       "      <td>NaN</td>\n",
       "    </tr>\n",
       "    <tr>\n",
       "      <th>2</th>\n",
       "      <td>3</td>\n",
       "      <td>4.0</td>\n",
       "      <td>HiLumz USA</td>\n",
       "      <td>2016-09-27 01:13:53.593774</td>\n",
       "      <td>2016-09-27 01:13:53.593774</td>\n",
       "      <td>NaN</td>\n",
       "      <td>t</td>\n",
       "      <td>NaN</td>\n",
       "      <td>NaN</td>\n",
       "    </tr>\n",
       "    <tr>\n",
       "      <th>3</th>\n",
       "      <td>4</td>\n",
       "      <td>5.0</td>\n",
       "      <td>LED DIRECT SUPPLY</td>\n",
       "      <td>2016-10-03 04:35:26.084827</td>\n",
       "      <td>2016-10-03 04:35:26.084827</td>\n",
       "      <td>NaN</td>\n",
       "      <td>t</td>\n",
       "      <td>NaN</td>\n",
       "      <td>NaN</td>\n",
       "    </tr>\n",
       "    <tr>\n",
       "      <th>4</th>\n",
       "      <td>5</td>\n",
       "      <td>6.0</td>\n",
       "      <td>LitespanLED</td>\n",
       "      <td>2016-10-03 04:35:26.207099</td>\n",
       "      <td>2016-10-03 04:35:26.207099</td>\n",
       "      <td>NaN</td>\n",
       "      <td>t</td>\n",
       "      <td>NaN</td>\n",
       "      <td>NaN</td>\n",
       "    </tr>\n",
       "  </tbody>\n",
       "</table>\n",
       "</div>"
      ],
      "text/plain": [
       "   id  manufacturer_id               name                  created_at  \\\n",
       "0   1              1.0          ABB Brand  2016-09-07 02:06:02.495688   \n",
       "1   2              1.0        ABBLighting  2016-09-07 16:41:26.361125   \n",
       "2   3              4.0         HiLumz USA  2016-09-27 01:13:53.593774   \n",
       "3   4              5.0  LED DIRECT SUPPLY  2016-10-03 04:35:26.084827   \n",
       "4   5              6.0        LitespanLED  2016-10-03 04:35:26.207099   \n",
       "\n",
       "                   updated_at alt_names active  inactive_at  \\\n",
       "0  2016-09-07 02:06:02.495688       NaN      t          NaN   \n",
       "1  2016-09-07 16:41:26.361125       NaN      t          NaN   \n",
       "2  2016-09-27 01:13:53.593774       NaN      t          NaN   \n",
       "3  2016-10-03 04:35:26.084827       NaN      t          NaN   \n",
       "4  2016-10-03 04:35:26.207099       NaN      t          NaN   \n",
       "\n",
       "   inactivated_by_user_id  \n",
       "0                     NaN  \n",
       "1                     NaN  \n",
       "2                     NaN  \n",
       "3                     NaN  \n",
       "4                     NaN  "
      ]
     },
     "execution_count": 175,
     "metadata": {},
     "output_type": "execute_result"
    }
   ],
   "source": [
    "import pandas as pd\n",
    "import missingno as msno\n",
    "import matplotlib.pyplot as plt\n",
    "import plotly.express as px\n",
    "import seaborn as sns\n",
    "\n",
    "df= pd.read_csv(r'C:\\Users\\ABC\\Downloads\\brands.csv')\n",
    "df.head(5)"
   ]
  },
  {
   "cell_type": "code",
   "execution_count": 176,
   "metadata": {},
   "outputs": [
    {
     "name": "stdout",
     "output_type": "stream",
     "text": [
      "<class 'pandas.core.frame.DataFrame'>\n",
      "RangeIndex: 513 entries, 0 to 512\n",
      "Data columns (total 9 columns):\n",
      " #   Column                  Non-Null Count  Dtype  \n",
      "---  ------                  --------------  -----  \n",
      " 0   id                      513 non-null    int64  \n",
      " 1   manufacturer_id         511 non-null    float64\n",
      " 2   name                    513 non-null    object \n",
      " 3   created_at              513 non-null    object \n",
      " 4   updated_at              513 non-null    object \n",
      " 5   alt_names               40 non-null     object \n",
      " 6   active                  513 non-null    object \n",
      " 7   inactive_at             0 non-null      float64\n",
      " 8   inactivated_by_user_id  0 non-null      float64\n",
      "dtypes: float64(3), int64(1), object(5)\n",
      "memory usage: 36.2+ KB\n"
     ]
    }
   ],
   "source": [
    "df.info()"
   ]
  },
  {
   "cell_type": "code",
   "execution_count": 177,
   "metadata": {},
   "outputs": [
    {
     "data": {
      "text/plain": [
       "(513, 9)"
      ]
     },
     "execution_count": 177,
     "metadata": {},
     "output_type": "execute_result"
    }
   ],
   "source": [
    "df.shape"
   ]
  },
  {
   "cell_type": "markdown",
   "metadata": {},
   "source": [
    "**Checking Duplicate Rows**"
   ]
  },
  {
   "cell_type": "code",
   "execution_count": 178,
   "metadata": {},
   "outputs": [
    {
     "data": {
      "text/html": [
       "<div>\n",
       "<style scoped>\n",
       "    .dataframe tbody tr th:only-of-type {\n",
       "        vertical-align: middle;\n",
       "    }\n",
       "\n",
       "    .dataframe tbody tr th {\n",
       "        vertical-align: top;\n",
       "    }\n",
       "\n",
       "    .dataframe thead th {\n",
       "        text-align: right;\n",
       "    }\n",
       "</style>\n",
       "<table border=\"1\" class=\"dataframe\">\n",
       "  <thead>\n",
       "    <tr style=\"text-align: right;\">\n",
       "      <th></th>\n",
       "      <th>id</th>\n",
       "      <th>manufacturer_id</th>\n",
       "      <th>name</th>\n",
       "      <th>created_at</th>\n",
       "      <th>updated_at</th>\n",
       "      <th>alt_names</th>\n",
       "      <th>active</th>\n",
       "      <th>inactive_at</th>\n",
       "      <th>inactivated_by_user_id</th>\n",
       "    </tr>\n",
       "  </thead>\n",
       "  <tbody>\n",
       "  </tbody>\n",
       "</table>\n",
       "</div>"
      ],
      "text/plain": [
       "Empty DataFrame\n",
       "Columns: [id, manufacturer_id, name, created_at, updated_at, alt_names, active, inactive_at, inactivated_by_user_id]\n",
       "Index: []"
      ]
     },
     "execution_count": 178,
     "metadata": {},
     "output_type": "execute_result"
    }
   ],
   "source": [
    "\n",
    "\n",
    "df[df.duplicated()]\n"
   ]
  },
  {
   "cell_type": "markdown",
   "metadata": {},
   "source": [
    ">No duplicate rows"
   ]
  },
  {
   "cell_type": "markdown",
   "metadata": {},
   "source": [
    "**Checking the null values**"
   ]
  },
  {
   "cell_type": "code",
   "execution_count": 179,
   "metadata": {},
   "outputs": [
    {
     "data": {
      "text/plain": [
       "<AxesSubplot:>"
      ]
     },
     "execution_count": 179,
     "metadata": {},
     "output_type": "execute_result"
    },
    {
     "data": {
      "image/png": "[encoded data removed]",
      "text/plain": [
       "<Figure size 720x360 with 3 Axes>"
      ]
     },
     "metadata": {
      "needs_background": "light"
     },
     "output_type": "display_data"
    }
   ],
   "source": [
    "msno.bar(df ,color=\"dodgerblue\", sort=\"ascending\", figsize=(10,5), fontsize=12)\n",
    "\n"
   ]
  },
  {
   "cell_type": "code",
   "execution_count": 180,
   "metadata": {},
   "outputs": [
    {
     "data": {
      "text/plain": [
       "id                          0.000000\n",
       "manufacturer_id             0.389864\n",
       "name                        0.000000\n",
       "created_at                  0.000000\n",
       "updated_at                  0.000000\n",
       "alt_names                  92.202729\n",
       "active                      0.000000\n",
       "inactive_at               100.000000\n",
       "inactivated_by_user_id    100.000000\n",
       "dtype: float64"
      ]
     },
     "execution_count": 180,
     "metadata": {},
     "output_type": "execute_result"
    }
   ],
   "source": [
    "(df.isnull().sum()/len(df))*100"
   ]
  },
  {
   "cell_type": "markdown",
   "metadata": {},
   "source": [
    ">1. inactive_at and inactivated_by_user_id have 0 non - null values\n",
    ">2. alt_names also has very high null values."
   ]
  },
  {
   "cell_type": "markdown",
   "metadata": {},
   "source": [
    "**Question : How many brands having alternate names are available?**"
   ]
  },
  {
   "cell_type": "code",
   "execution_count": 181,
   "metadata": {},
   "outputs": [
    {
     "name": "stdout",
     "output_type": "stream",
     "text": [
      "Number of brands having alternate names available : 40\n"
     ]
    },
    {
     "data": {
      "text/html": [
       "<div>\n",
       "<style scoped>\n",
       "    .dataframe tbody tr th:only-of-type {\n",
       "        vertical-align: middle;\n",
       "    }\n",
       "\n",
       "    .dataframe tbody tr th {\n",
       "        vertical-align: top;\n",
       "    }\n",
       "\n",
       "    .dataframe thead th {\n",
       "        text-align: right;\n",
       "    }\n",
       "</style>\n",
       "<table border=\"1\" class=\"dataframe\">\n",
       "  <thead>\n",
       "    <tr style=\"text-align: right;\">\n",
       "      <th></th>\n",
       "      <th>id</th>\n",
       "      <th>manufacturer_id</th>\n",
       "      <th>name</th>\n",
       "      <th>created_at</th>\n",
       "      <th>updated_at</th>\n",
       "      <th>alt_names</th>\n",
       "      <th>active</th>\n",
       "      <th>inactive_at</th>\n",
       "      <th>inactivated_by_user_id</th>\n",
       "    </tr>\n",
       "  </thead>\n",
       "  <tbody>\n",
       "    <tr>\n",
       "      <th>52</th>\n",
       "      <td>63</td>\n",
       "      <td>49.0</td>\n",
       "      <td>Retrolux</td>\n",
       "      <td>2017-01-23 22:12:07.085703</td>\n",
       "      <td>2017-01-23 22:12:07.085703</td>\n",
       "      <td>---\\n- retrolux\\n- Retrolux\\n- Retrolux\\n- Ret...</td>\n",
       "      <td>t</td>\n",
       "      <td>NaN</td>\n",
       "      <td>NaN</td>\n",
       "    </tr>\n",
       "    <tr>\n",
       "      <th>56</th>\n",
       "      <td>45</td>\n",
       "      <td>36.0</td>\n",
       "      <td>MaxLite</td>\n",
       "      <td>2016-12-05 05:54:51.372657</td>\n",
       "      <td>2017-01-31 05:13:19.966955</td>\n",
       "      <td>---\\n- Max Lite\\n- Maxlite\\n- maxlite\\n</td>\n",
       "      <td>t</td>\n",
       "      <td>NaN</td>\n",
       "      <td>NaN</td>\n",
       "    </tr>\n",
       "    <tr>\n",
       "      <th>61</th>\n",
       "      <td>70</td>\n",
       "      <td>55.0</td>\n",
       "      <td>Shenzhen</td>\n",
       "      <td>2017-02-06 16:08:08.509119</td>\n",
       "      <td>2017-02-08 16:52:30.649067</td>\n",
       "      <td>---\\n- Yaorong\\n- Shenzhen Yaorong\\n</td>\n",
       "      <td>t</td>\n",
       "      <td>NaN</td>\n",
       "      <td>NaN</td>\n",
       "    </tr>\n",
       "    <tr>\n",
       "      <th>62</th>\n",
       "      <td>67</td>\n",
       "      <td>53.0</td>\n",
       "      <td>WareLight</td>\n",
       "      <td>2017-01-31 16:01:46.722177</td>\n",
       "      <td>2017-02-08 16:53:31.488209</td>\n",
       "      <td>---\\n- Warehouse Lighting\\n</td>\n",
       "      <td>t</td>\n",
       "      <td>NaN</td>\n",
       "      <td>NaN</td>\n",
       "    </tr>\n",
       "    <tr>\n",
       "      <th>65</th>\n",
       "      <td>8</td>\n",
       "      <td>8.0</td>\n",
       "      <td>ATG Electronics</td>\n",
       "      <td>2016-10-03 04:35:26.375133</td>\n",
       "      <td>2017-03-20 21:06:47.291597</td>\n",
       "      <td>---\\n- ATG Electronics,Inc.\\n- ATG Electronics...</td>\n",
       "      <td>t</td>\n",
       "      <td>NaN</td>\n",
       "      <td>NaN</td>\n",
       "    </tr>\n",
       "  </tbody>\n",
       "</table>\n",
       "</div>"
      ],
      "text/plain": [
       "    id  manufacturer_id             name                  created_at  \\\n",
       "52  63             49.0         Retrolux  2017-01-23 22:12:07.085703   \n",
       "56  45             36.0          MaxLite  2016-12-05 05:54:51.372657   \n",
       "61  70             55.0         Shenzhen  2017-02-06 16:08:08.509119   \n",
       "62  67             53.0        WareLight  2017-01-31 16:01:46.722177   \n",
       "65   8              8.0  ATG Electronics  2016-10-03 04:35:26.375133   \n",
       "\n",
       "                    updated_at  \\\n",
       "52  2017-01-23 22:12:07.085703   \n",
       "56  2017-01-31 05:13:19.966955   \n",
       "61  2017-02-08 16:52:30.649067   \n",
       "62  2017-02-08 16:53:31.488209   \n",
       "65  2017-03-20 21:06:47.291597   \n",
       "\n",
       "                                            alt_names active  inactive_at  \\\n",
       "52  ---\\n- retrolux\\n- Retrolux\\n- Retrolux\\n- Ret...      t          NaN   \n",
       "56            ---\\n- Max Lite\\n- Maxlite\\n- maxlite\\n      t          NaN   \n",
       "61               ---\\n- Yaorong\\n- Shenzhen Yaorong\\n      t          NaN   \n",
       "62                        ---\\n- Warehouse Lighting\\n      t          NaN   \n",
       "65  ---\\n- ATG Electronics,Inc.\\n- ATG Electronics...      t          NaN   \n",
       "\n",
       "    inactivated_by_user_id  \n",
       "52                     NaN  \n",
       "56                     NaN  \n",
       "61                     NaN  \n",
       "62                     NaN  \n",
       "65                     NaN  "
      ]
     },
     "execution_count": 181,
     "metadata": {},
     "output_type": "execute_result"
    }
   ],
   "source": [
    "print('Number of brands having alternate names available :',len(df[df['alt_names'].notnull()]))\n",
    "df[df['alt_names'].notnull()].head(5)"
   ]
  },
  {
   "cell_type": "markdown",
   "metadata": {},
   "source": [
    "**Dropping the columns with high number of null values**"
   ]
  },
  {
   "cell_type": "code",
   "execution_count": 182,
   "metadata": {},
   "outputs": [],
   "source": [
    "df.drop(['inactive_at','inactivated_by_user_id','alt_names'] ,axis=1, inplace=True)"
   ]
  },
  {
   "cell_type": "code",
   "execution_count": 183,
   "metadata": {},
   "outputs": [
    {
     "data": {
      "text/html": [
       "<div>\n",
       "<style scoped>\n",
       "    .dataframe tbody tr th:only-of-type {\n",
       "        vertical-align: middle;\n",
       "    }\n",
       "\n",
       "    .dataframe tbody tr th {\n",
       "        vertical-align: top;\n",
       "    }\n",
       "\n",
       "    .dataframe thead th {\n",
       "        text-align: right;\n",
       "    }\n",
       "</style>\n",
       "<table border=\"1\" class=\"dataframe\">\n",
       "  <thead>\n",
       "    <tr style=\"text-align: right;\">\n",
       "      <th></th>\n",
       "      <th>id</th>\n",
       "      <th>manufacturer_id</th>\n",
       "      <th>name</th>\n",
       "      <th>created_at</th>\n",
       "      <th>updated_at</th>\n",
       "      <th>active</th>\n",
       "    </tr>\n",
       "  </thead>\n",
       "  <tbody>\n",
       "    <tr>\n",
       "      <th>0</th>\n",
       "      <td>1</td>\n",
       "      <td>1.0</td>\n",
       "      <td>ABB Brand</td>\n",
       "      <td>2016-09-07 02:06:02.495688</td>\n",
       "      <td>2016-09-07 02:06:02.495688</td>\n",
       "      <td>t</td>\n",
       "    </tr>\n",
       "    <tr>\n",
       "      <th>1</th>\n",
       "      <td>2</td>\n",
       "      <td>1.0</td>\n",
       "      <td>ABBLighting</td>\n",
       "      <td>2016-09-07 16:41:26.361125</td>\n",
       "      <td>2016-09-07 16:41:26.361125</td>\n",
       "      <td>t</td>\n",
       "    </tr>\n",
       "    <tr>\n",
       "      <th>2</th>\n",
       "      <td>3</td>\n",
       "      <td>4.0</td>\n",
       "      <td>HiLumz USA</td>\n",
       "      <td>2016-09-27 01:13:53.593774</td>\n",
       "      <td>2016-09-27 01:13:53.593774</td>\n",
       "      <td>t</td>\n",
       "    </tr>\n",
       "    <tr>\n",
       "      <th>3</th>\n",
       "      <td>4</td>\n",
       "      <td>5.0</td>\n",
       "      <td>LED DIRECT SUPPLY</td>\n",
       "      <td>2016-10-03 04:35:26.084827</td>\n",
       "      <td>2016-10-03 04:35:26.084827</td>\n",
       "      <td>t</td>\n",
       "    </tr>\n",
       "    <tr>\n",
       "      <th>4</th>\n",
       "      <td>5</td>\n",
       "      <td>6.0</td>\n",
       "      <td>LitespanLED</td>\n",
       "      <td>2016-10-03 04:35:26.207099</td>\n",
       "      <td>2016-10-03 04:35:26.207099</td>\n",
       "      <td>t</td>\n",
       "    </tr>\n",
       "  </tbody>\n",
       "</table>\n",
       "</div>"
      ],
      "text/plain": [
       "   id  manufacturer_id               name                  created_at  \\\n",
       "0   1              1.0          ABB Brand  2016-09-07 02:06:02.495688   \n",
       "1   2              1.0        ABBLighting  2016-09-07 16:41:26.361125   \n",
       "2   3              4.0         HiLumz USA  2016-09-27 01:13:53.593774   \n",
       "3   4              5.0  LED DIRECT SUPPLY  2016-10-03 04:35:26.084827   \n",
       "4   5              6.0        LitespanLED  2016-10-03 04:35:26.207099   \n",
       "\n",
       "                   updated_at active  \n",
       "0  2016-09-07 02:06:02.495688      t  \n",
       "1  2016-09-07 16:41:26.361125      t  \n",
       "2  2016-09-27 01:13:53.593774      t  \n",
       "3  2016-10-03 04:35:26.084827      t  \n",
       "4  2016-10-03 04:35:26.207099      t  "
      ]
     },
     "execution_count": 183,
     "metadata": {},
     "output_type": "execute_result"
    }
   ],
   "source": [
    "df.head(5)"
   ]
  },
  {
   "cell_type": "markdown",
   "metadata": {},
   "source": [
    "**Converting some columns to datetime**"
   ]
  },
  {
   "cell_type": "code",
   "execution_count": 184,
   "metadata": {},
   "outputs": [
    {
     "data": {
      "text/html": [
       "<div>\n",
       "<style scoped>\n",
       "    .dataframe tbody tr th:only-of-type {\n",
       "        vertical-align: middle;\n",
       "    }\n",
       "\n",
       "    .dataframe tbody tr th {\n",
       "        vertical-align: top;\n",
       "    }\n",
       "\n",
       "    .dataframe thead th {\n",
       "        text-align: right;\n",
       "    }\n",
       "</style>\n",
       "<table border=\"1\" class=\"dataframe\">\n",
       "  <thead>\n",
       "    <tr style=\"text-align: right;\">\n",
       "      <th></th>\n",
       "      <th>id</th>\n",
       "      <th>manufacturer_id</th>\n",
       "      <th>name</th>\n",
       "      <th>created_at</th>\n",
       "      <th>updated_at</th>\n",
       "      <th>active</th>\n",
       "    </tr>\n",
       "  </thead>\n",
       "  <tbody>\n",
       "    <tr>\n",
       "      <th>0</th>\n",
       "      <td>1</td>\n",
       "      <td>1.0</td>\n",
       "      <td>ABB Brand</td>\n",
       "      <td>2016-09-07 02:06:02.495688</td>\n",
       "      <td>2016-09-07 02:06:02.495688</td>\n",
       "      <td>t</td>\n",
       "    </tr>\n",
       "    <tr>\n",
       "      <th>1</th>\n",
       "      <td>2</td>\n",
       "      <td>1.0</td>\n",
       "      <td>ABBLighting</td>\n",
       "      <td>2016-09-07 16:41:26.361125</td>\n",
       "      <td>2016-09-07 16:41:26.361125</td>\n",
       "      <td>t</td>\n",
       "    </tr>\n",
       "    <tr>\n",
       "      <th>2</th>\n",
       "      <td>3</td>\n",
       "      <td>4.0</td>\n",
       "      <td>HiLumz USA</td>\n",
       "      <td>2016-09-27 01:13:53.593774</td>\n",
       "      <td>2016-09-27 01:13:53.593774</td>\n",
       "      <td>t</td>\n",
       "    </tr>\n",
       "    <tr>\n",
       "      <th>3</th>\n",
       "      <td>4</td>\n",
       "      <td>5.0</td>\n",
       "      <td>LED DIRECT SUPPLY</td>\n",
       "      <td>2016-10-03 04:35:26.084827</td>\n",
       "      <td>2016-10-03 04:35:26.084827</td>\n",
       "      <td>t</td>\n",
       "    </tr>\n",
       "    <tr>\n",
       "      <th>4</th>\n",
       "      <td>5</td>\n",
       "      <td>6.0</td>\n",
       "      <td>LitespanLED</td>\n",
       "      <td>2016-10-03 04:35:26.207099</td>\n",
       "      <td>2016-10-03 04:35:26.207099</td>\n",
       "      <td>t</td>\n",
       "    </tr>\n",
       "  </tbody>\n",
       "</table>\n",
       "</div>"
      ],
      "text/plain": [
       "   id  manufacturer_id               name                 created_at  \\\n",
       "0   1              1.0          ABB Brand 2016-09-07 02:06:02.495688   \n",
       "1   2              1.0        ABBLighting 2016-09-07 16:41:26.361125   \n",
       "2   3              4.0         HiLumz USA 2016-09-27 01:13:53.593774   \n",
       "3   4              5.0  LED DIRECT SUPPLY 2016-10-03 04:35:26.084827   \n",
       "4   5              6.0        LitespanLED 2016-10-03 04:35:26.207099   \n",
       "\n",
       "                  updated_at active  \n",
       "0 2016-09-07 02:06:02.495688      t  \n",
       "1 2016-09-07 16:41:26.361125      t  \n",
       "2 2016-09-27 01:13:53.593774      t  \n",
       "3 2016-10-03 04:35:26.084827      t  \n",
       "4 2016-10-03 04:35:26.207099      t  "
      ]
     },
     "execution_count": 184,
     "metadata": {},
     "output_type": "execute_result"
    }
   ],
   "source": [
    "df['created_at'] = pd.to_datetime(df['created_at'], format='%Y-%m-%d %H:%M:%S')\n",
    "df['updated_at'] = pd.to_datetime(df['updated_at'], format='%Y-%m-%d %H:%M:%S')\n",
    "df.head(5)"
   ]
  },
  {
   "cell_type": "markdown",
   "metadata": {},
   "source": [
    "**Question: How many records were updated at the same time of creation?**"
   ]
  },
  {
   "cell_type": "code",
   "execution_count": 185,
   "metadata": {},
   "outputs": [
    {
     "name": "stdout",
     "output_type": "stream",
     "text": [
      "Updated after creation : 41\n",
      "Updated at the same time of creation : 472\n"
     ]
    }
   ],
   "source": [
    "print('Updated after creation :', len(df[df['created_at']< df['updated_at']]))\n",
    "print('Updated at the same time of creation :', len(df[df['created_at'] == df['updated_at']]))\n",
    "\n"
   ]
  },
  {
   "cell_type": "code",
   "execution_count": 214,
   "metadata": {},
   "outputs": [
    {
     "data": {
      "image/png": "[encoded data removed]",
      "text/plain": [
       "<Figure size 1296x576 with 1 Axes>"
      ]
     },
     "metadata": {},
     "output_type": "display_data"
    }
   ],
   "source": [
    "data=[['Updated at the same time', len(df[df['created_at'] == df['updated_at']])], ['Updated after creation',len(df[df['created_at']< df['updated_at']])]]\n",
    "\n",
    "x=pd.DataFrame(data,columns=['Time_of_updation','coun'])\n",
    "fig1, ax1 = plt.subplots()\n",
    "ax1.pie(x['coun'], explode=[.1,.1], labels=x['Time_of_updation'], autopct='%1.1f%%',\n",
    "        shadow=True, startangle=45)\n",
    "ax1.axis('equal')  \n",
    "plt.tight_layout()\n",
    "plt.show()"
   ]
  },
  {
   "cell_type": "markdown",
   "metadata": {},
   "source": [
    "**Question : Average time of updation ?**"
   ]
  },
  {
   "cell_type": "code",
   "execution_count": 187,
   "metadata": {},
   "outputs": [
    {
     "data": {
      "text/plain": [
       "count                            513\n",
       "mean      30 days 19:59:33.199305770\n",
       "std      174 days 09:17:13.348781484\n",
       "min                  0 days 00:00:00\n",
       "25%                  0 days 00:00:00\n",
       "50%                  0 days 00:00:00\n",
       "75%                  0 days 00:00:00\n",
       "max        1570 days 07:43:21.532875\n",
       "dtype: object"
      ]
     },
     "execution_count": 187,
     "metadata": {},
     "output_type": "execute_result"
    }
   ],
   "source": [
    "(df['updated_at'] - df['created_at']).describe()\n"
   ]
  },
  {
   "cell_type": "markdown",
   "metadata": {},
   "source": [
    "> 30 days and 19 hours. "
   ]
  },
  {
   "cell_type": "markdown",
   "metadata": {},
   "source": [
    "**Question:How many brands are active ?**"
   ]
  },
  {
   "cell_type": "code",
   "execution_count": 188,
   "metadata": {},
   "outputs": [
    {
     "name": "stdout",
     "output_type": "stream",
     "text": [
      "Percentage of active brands : 99.80506822612085 %\n"
     ]
    }
   ],
   "source": [
    "print('Percentage of active brands :',(len(df[df['active']=='t'])/ len(df))*100, '%')"
   ]
  },
  {
   "cell_type": "markdown",
   "metadata": {},
   "source": [
    "**Question: Brands having more than 1 Manufacturing id?**"
   ]
  },
  {
   "cell_type": "code",
   "execution_count": 189,
   "metadata": {},
   "outputs": [],
   "source": [
    "x=df.pivot_table(index = ['name'], aggfunc ='size')\n",
    "x=x[x>1]\n",
    "x=x.sort_values()\n"
   ]
  },
  {
   "cell_type": "code",
   "execution_count": 203,
   "metadata": {},
   "outputs": [
    {
     "data": {
      "text/plain": [
       "Text(0.5, 1.0, 'Brands having more than 1 manufacturing id')"
      ]
     },
     "execution_count": 203,
     "metadata": {},
     "output_type": "execute_result"
    },
    {
     "data": {
      "image/png": "[encoded data removed]",
      "text/plain": [
       "<Figure size 1296x576 with 1 Axes>"
      ]
     },
     "metadata": {},
     "output_type": "display_data"
    }
   ],
   "source": [
    "sns.set(rc={'figure.figsize':(18,8)})\n",
    "sns.set_style(style='white')\n",
    "\n",
    "sns.barplot(x=x.index, y = x).set_title('Brands having more than 1 manufacturing id')\n"
   ]
  },
  {
   "cell_type": "markdown",
   "metadata": {},
   "source": [
    "**Question: Unique brand names?**"
   ]
  },
  {
   "cell_type": "code",
   "execution_count": 191,
   "metadata": {},
   "outputs": [
    {
     "name": "stdout",
     "output_type": "stream",
     "text": [
      "Number of Brands having unique names :  496\n"
     ]
    }
   ],
   "source": [
    "print(\"Number of Brands having unique names : \",len(pd.unique(df['name'])))\n"
   ]
  }
 ],
 "metadata": {
  "kernelspec": {
   "display_name": "Python 3",
   "language": "python",
   "name": "python3"
  },
  "language_info": {
   "codemirror_mode": {
    "name": "ipython",
    "version": 3
   },
   "file_extension": ".py",
   "mimetype": "text/x-python",
   "name": "python",
   "nbconvert_exporter": "python",
   "pygments_lexer": "ipython3",
   "version": "3.8.5"
  }
 },
 "nbformat": 4,
 "nbformat_minor": 4
}

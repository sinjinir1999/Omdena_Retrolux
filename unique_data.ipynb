{
  "nbformat": 4,
  "nbformat_minor": 0,
  "metadata": {
    "colab": {
      "name": "unique data.ipynb",
      "provenance": [],
      "collapsed_sections": []
    },
    "kernelspec": {
      "name": "python3",
      "display_name": "Python 3"
    },
    "language_info": {
      "name": "python"
    }
  },
  "cells": [
    {
      "cell_type": "code",
      "metadata": {
        "id": "JThGkvHLacGo"
      },
      "source": [
        "import pandas as pd\n"
      ],
      "execution_count": null,
      "outputs": []
    },
    {
      "cell_type": "code",
      "metadata": {
        "id": "yVc5lSPTgGID"
      },
      "source": [
        "def get_unique_parameters(main_df,file_path,sheetname,column_name,main_column_name):\n",
        "  filename, file_extension = os.path.splitext(file_path)\n",
        "  if file_extension =='.xlsx':\n",
        "    file_xl = pd.read_excel(file_path,sheet_name=sheetname)\n",
        "  elif file_extension =='.csv':\n",
        "    file_xl = pd.read_csv(file_path,sheet_name=sheetname)\n",
        "  else:\n",
        "    print('error')\n",
        "    return \n",
        "  \n",
        "  required_coln = file_xl[column_name]\n",
        "  unique_pd  = pd.DataFrame({main_column_name:required_coln.unique()})\n",
        "  main_df= main_df.append(unique_pd,ignore_index=True).drop_duplicates(subset=main_column_name)\n",
        "  return main_df"
      ],
      "execution_count": null,
      "outputs": []
    }
  ]
}
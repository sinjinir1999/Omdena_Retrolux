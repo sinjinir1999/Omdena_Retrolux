{
 "cells": [
  {
   "cell_type": "code",
   "execution_count": 1,
   "metadata": {
    "id": "IVMA4qiHNNoB",
    "outputId": "b3f32f03-bfa9-4f0d-f4d7-45f207f5f69a"
   },
   "outputs": [
    {
     "name": "stderr",
     "output_type": "stream",
     "text": [
      "\n",
      "Bad key \"text.kerning_factor\" on line 4 in\n",
      "C:\\Users\\revat\\anaconda3\\lib\\site-packages\\matplotlib\\mpl-data\\stylelib\\_classic_test_patch.mplstyle.\n",
      "You probably need to get an updated matplotlibrc file from\n",
      "https://github.com/matplotlib/matplotlib/blob/v3.1.3/matplotlibrc.template\n",
      "or from the matplotlib source distribution\n"
     ]
    },
    {
     "data": {
      "text/html": [
       "<div>\n",
       "<style scoped>\n",
       "    .dataframe tbody tr th:only-of-type {\n",
       "        vertical-align: middle;\n",
       "    }\n",
       "\n",
       "    .dataframe tbody tr th {\n",
       "        vertical-align: top;\n",
       "    }\n",
       "\n",
       "    .dataframe thead th {\n",
       "        text-align: right;\n",
       "    }\n",
       "</style>\n",
       "<table border=\"1\" class=\"dataframe\">\n",
       "  <thead>\n",
       "    <tr style=\"text-align: right;\">\n",
       "      <th></th>\n",
       "      <th>id</th>\n",
       "      <th>project_id</th>\n",
       "      <th>name</th>\n",
       "      <th>active</th>\n",
       "      <th>inactive_at</th>\n",
       "      <th>operating_schedule_id</th>\n",
       "      <th>rate_schedule_id</th>\n",
       "      <th>created_by_user_id</th>\n",
       "      <th>created_at</th>\n",
       "      <th>updated_at</th>\n",
       "      <th>...</th>\n",
       "      <th>incentive_179d</th>\n",
       "      <th>rebates</th>\n",
       "      <th>disable_solution_rebates</th>\n",
       "      <th>finance_discount_rate</th>\n",
       "      <th>finance_term</th>\n",
       "      <th>recycling_cost</th>\n",
       "      <th>assigned_rebates</th>\n",
       "      <th>disable_savings_cooling</th>\n",
       "      <th>disable_savings_heating</th>\n",
       "      <th>disable_savings_maintenance</th>\n",
       "    </tr>\n",
       "  </thead>\n",
       "  <tbody>\n",
       "    <tr>\n",
       "      <th>0</th>\n",
       "      <td>38</td>\n",
       "      <td>75</td>\n",
       "      <td>Effective and Federal Tax Deductions</td>\n",
       "      <td>f</td>\n",
       "      <td>2016-11-16 17:24:48.622473</td>\n",
       "      <td>NaN</td>\n",
       "      <td>NaN</td>\n",
       "      <td>22</td>\n",
       "      <td>2016-11-16 17:23:56.452864</td>\n",
       "      <td>2016-11-16 17:24:48.629105</td>\n",
       "      <td>...</td>\n",
       "      <td>NaN</td>\n",
       "      <td>NaN</td>\n",
       "      <td>f</td>\n",
       "      <td>5.0</td>\n",
       "      <td>10</td>\n",
       "      <td>NaN</td>\n",
       "      <td>t</td>\n",
       "      <td>f</td>\n",
       "      <td>f</td>\n",
       "      <td>f</td>\n",
       "    </tr>\n",
       "    <tr>\n",
       "      <th>1</th>\n",
       "      <td>49</td>\n",
       "      <td>80</td>\n",
       "      <td>TX FL</td>\n",
       "      <td>f</td>\n",
       "      <td>2016-12-01 14:29:08.011833</td>\n",
       "      <td>103.0</td>\n",
       "      <td>56.0</td>\n",
       "      <td>135</td>\n",
       "      <td>2016-11-29 14:19:25.64623</td>\n",
       "      <td>2016-12-01 14:29:08.016893</td>\n",
       "      <td>...</td>\n",
       "      <td>NaN</td>\n",
       "      <td>NaN</td>\n",
       "      <td>f</td>\n",
       "      <td>5.0</td>\n",
       "      <td>10</td>\n",
       "      <td>NaN</td>\n",
       "      <td>t</td>\n",
       "      <td>f</td>\n",
       "      <td>f</td>\n",
       "      <td>f</td>\n",
       "    </tr>\n",
       "    <tr>\n",
       "      <th>2</th>\n",
       "      <td>57</td>\n",
       "      <td>88</td>\n",
       "      <td>Additional Costs</td>\n",
       "      <td>f</td>\n",
       "      <td>2016-12-08 23:23:55.446651</td>\n",
       "      <td>NaN</td>\n",
       "      <td>NaN</td>\n",
       "      <td>85</td>\n",
       "      <td>2016-12-08 23:21:10.486716</td>\n",
       "      <td>2016-12-08 23:23:55.45263</td>\n",
       "      <td>...</td>\n",
       "      <td>NaN</td>\n",
       "      <td>NaN</td>\n",
       "      <td>f</td>\n",
       "      <td>5.0</td>\n",
       "      <td>10</td>\n",
       "      <td>NaN</td>\n",
       "      <td>t</td>\n",
       "      <td>f</td>\n",
       "      <td>f</td>\n",
       "      <td>f</td>\n",
       "    </tr>\n",
       "    <tr>\n",
       "      <th>3</th>\n",
       "      <td>71</td>\n",
       "      <td>108</td>\n",
       "      <td>Test Calculations Options</td>\n",
       "      <td>f</td>\n",
       "      <td>2016-12-29 19:18:05.693808</td>\n",
       "      <td>NaN</td>\n",
       "      <td>NaN</td>\n",
       "      <td>22</td>\n",
       "      <td>2016-12-29 18:58:24.199009</td>\n",
       "      <td>2016-12-29 19:18:05.700695</td>\n",
       "      <td>...</td>\n",
       "      <td>NaN</td>\n",
       "      <td>NaN</td>\n",
       "      <td>f</td>\n",
       "      <td>5.0</td>\n",
       "      <td>10</td>\n",
       "      <td>NaN</td>\n",
       "      <td>t</td>\n",
       "      <td>f</td>\n",
       "      <td>f</td>\n",
       "      <td>f</td>\n",
       "    </tr>\n",
       "    <tr>\n",
       "      <th>4</th>\n",
       "      <td>518</td>\n",
       "      <td>472</td>\n",
       "      <td>Exterior - East</td>\n",
       "      <td>f</td>\n",
       "      <td>2017-04-27 18:32:34.25472</td>\n",
       "      <td>NaN</td>\n",
       "      <td>NaN</td>\n",
       "      <td>22</td>\n",
       "      <td>2017-04-27 18:30:45.11902</td>\n",
       "      <td>2017-05-13 16:20:27.522327</td>\n",
       "      <td>...</td>\n",
       "      <td>NaN</td>\n",
       "      <td>NaN</td>\n",
       "      <td>f</td>\n",
       "      <td>5.0</td>\n",
       "      <td>10</td>\n",
       "      <td>NaN</td>\n",
       "      <td>t</td>\n",
       "      <td>f</td>\n",
       "      <td>f</td>\n",
       "      <td>f</td>\n",
       "    </tr>\n",
       "  </tbody>\n",
       "</table>\n",
       "<p>5 rows × 29 columns</p>\n",
       "</div>"
      ],
      "text/plain": [
       "    id  project_id                                  name active  \\\n",
       "0   38          75  Effective and Federal Tax Deductions      f   \n",
       "1   49          80                                 TX FL      f   \n",
       "2   57          88                      Additional Costs      f   \n",
       "3   71         108             Test Calculations Options      f   \n",
       "4  518         472                       Exterior - East      f   \n",
       "\n",
       "                  inactive_at  operating_schedule_id  rate_schedule_id  \\\n",
       "0  2016-11-16 17:24:48.622473                    NaN               NaN   \n",
       "1  2016-12-01 14:29:08.011833                  103.0              56.0   \n",
       "2  2016-12-08 23:23:55.446651                    NaN               NaN   \n",
       "3  2016-12-29 19:18:05.693808                    NaN               NaN   \n",
       "4   2017-04-27 18:32:34.25472                    NaN               NaN   \n",
       "\n",
       "   created_by_user_id                  created_at                  updated_at  \\\n",
       "0                  22  2016-11-16 17:23:56.452864  2016-11-16 17:24:48.629105   \n",
       "1                 135   2016-11-29 14:19:25.64623  2016-12-01 14:29:08.016893   \n",
       "2                  85  2016-12-08 23:21:10.486716   2016-12-08 23:23:55.45263   \n",
       "3                  22  2016-12-29 18:58:24.199009  2016-12-29 19:18:05.700695   \n",
       "4                  22   2017-04-27 18:30:45.11902  2017-05-13 16:20:27.522327   \n",
       "\n",
       "   ...  incentive_179d  rebates  disable_solution_rebates  \\\n",
       "0  ...             NaN      NaN                         f   \n",
       "1  ...             NaN      NaN                         f   \n",
       "2  ...             NaN      NaN                         f   \n",
       "3  ...             NaN      NaN                         f   \n",
       "4  ...             NaN      NaN                         f   \n",
       "\n",
       "   finance_discount_rate  finance_term recycling_cost  assigned_rebates  \\\n",
       "0                    5.0            10            NaN                 t   \n",
       "1                    5.0            10            NaN                 t   \n",
       "2                    5.0            10            NaN                 t   \n",
       "3                    5.0            10            NaN                 t   \n",
       "4                    5.0            10            NaN                 t   \n",
       "\n",
       "   disable_savings_cooling  disable_savings_heating  \\\n",
       "0                        f                        f   \n",
       "1                        f                        f   \n",
       "2                        f                        f   \n",
       "3                        f                        f   \n",
       "4                        f                        f   \n",
       "\n",
       "   disable_savings_maintenance  \n",
       "0                            f  \n",
       "1                            f  \n",
       "2                            f  \n",
       "3                            f  \n",
       "4                            f  \n",
       "\n",
       "[5 rows x 29 columns]"
      ]
     },
     "execution_count": 1,
     "metadata": {},
     "output_type": "execute_result"
    }
   ],
   "source": [
    "import pandas as pd\n",
    "import matplotlib.pyplot as plt\n",
    "import seaborn as sns\n",
    "\n",
    "options=pd.read_csv(r'options.csv')\n",
    "options.head()"
   ]
  },
  {
   "cell_type": "code",
   "execution_count": 2,
   "metadata": {
    "id": "nI4l-XmaNNoC",
    "outputId": "3d4483ae-ddbd-4f09-846c-d1066ad5785d"
   },
   "outputs": [
    {
     "data": {
      "text/plain": [
       "Index(['id', 'project_id', 'name', 'active', 'inactive_at',\n",
       "       'operating_schedule_id', 'rate_schedule_id', 'created_by_user_id',\n",
       "       'created_at', 'updated_at', 'installation_labor_rate', 'markup',\n",
       "       'labor_cost', 'shipping_cost', 'misc_cost', 'all_solutions',\n",
       "       'financing_debt_percentage', 'financing_interest_rate',\n",
       "       'financing_loan_months', 'incentive_179d', 'rebates',\n",
       "       'disable_solution_rebates', 'finance_discount_rate', 'finance_term',\n",
       "       'recycling_cost', 'assigned_rebates', 'disable_savings_cooling',\n",
       "       'disable_savings_heating', 'disable_savings_maintenance'],\n",
       "      dtype='object')"
      ]
     },
     "execution_count": 2,
     "metadata": {},
     "output_type": "execute_result"
    }
   ],
   "source": [
    "options.columns"
   ]
  },
  {
   "cell_type": "code",
   "execution_count": 3,
   "metadata": {
    "id": "OKgtdTdxNNoD",
    "outputId": "2ea2fd0a-43d7-419e-ef67-bc6900666cce"
   },
   "outputs": [
    {
     "data": {
      "text/plain": [
       "Index(['option_id', 'project_id', 'name', 'active', 'inactive_at',\n",
       "       'operating_schedule_id', 'rate_schedule_id', 'created_by_user_id',\n",
       "       'created_at', 'updated_at', 'installation_labor_rate', 'markup',\n",
       "       'labor_cost', 'shipping_cost', 'misc_cost', 'all_solutions',\n",
       "       'financing_debt_percentage', 'financing_interest_rate',\n",
       "       'financing_loan_months', 'incentive_179d', 'rebates',\n",
       "       'disable_solution_rebates', 'finance_discount_rate', 'finance_term',\n",
       "       'recycling_cost', 'assigned_rebates', 'disable_savings_cooling',\n",
       "       'disable_savings_heating', 'disable_savings_maintenance'],\n",
       "      dtype='object')"
      ]
     },
     "execution_count": 3,
     "metadata": {},
     "output_type": "execute_result"
    }
   ],
   "source": [
    "options.rename(columns = {'id':'option_id'}, inplace = True)\n",
    "options.columns"
   ]
  },
  {
   "cell_type": "code",
   "execution_count": 4,
   "metadata": {
    "id": "5Jd_mH8FNNoD",
    "outputId": "2eee2813-6dc9-454b-f248-523c9d7a85be"
   },
   "outputs": [
    {
     "name": "stdout",
     "output_type": "stream",
     "text": [
      "Removing null values \n",
      "\n",
      "name : 93.61295513981091 %\n",
      "inactive_at : 89.72037819352244 %\n",
      "operating_schedule_id : 99.52725809696238 %\n",
      "rate_schedule_id : 99.5976664654999 %\n",
      "installation_labor_rate : 93.06980486823578 %\n",
      "markup : 84.4196338764836 %\n",
      "labor_cost : 83.45403339368337 %\n",
      "shipping_cost : 94.86018909676122 %\n",
      "misc_cost : 85.70710118688393 %\n",
      "all_solutions : 94.92053912693623 %\n",
      "financing_debt_percentage : 93.6028968014484 %\n",
      "financing_interest_rate : 93.52243009454838 %\n",
      "financing_loan_months : 93.53248843291088 %\n",
      "incentive_179d : 97.54576543954938 %\n",
      "rebates : 82.65942466304567 %\n",
      "recycling_cost : 100.0 %\n"
     ]
    }
   ],
   "source": [
    "print(\"Removing null values \")\n",
    "print()\n",
    "for i in options.columns:\n",
    "    if (options[i].isnull().sum()/len(options))*100 >= 30:\n",
    "        print(i,\":\", options[i].isnull().sum()/len(options)*100, \"%\")\n",
    "        if i== 'payback':\n",
    "            continue\n",
    "        else:\n",
    "            options.drop(i, axis=1,inplace=True)"
   ]
  },
  {
   "cell_type": "code",
   "execution_count": 5,
   "metadata": {
    "id": "26fGqqaBNNoE",
    "outputId": "bfbad3d3-b7e4-4d5c-928d-992f8f427a7c"
   },
   "outputs": [
    {
     "data": {
      "text/plain": [
       "Index(['option_id', 'project_id', 'active', 'created_by_user_id', 'created_at',\n",
       "       'updated_at', 'disable_solution_rebates', 'finance_discount_rate',\n",
       "       'finance_term', 'assigned_rebates', 'disable_savings_cooling',\n",
       "       'disable_savings_heating', 'disable_savings_maintenance'],\n",
       "      dtype='object')"
      ]
     },
     "execution_count": 5,
     "metadata": {},
     "output_type": "execute_result"
    }
   ],
   "source": [
    "options.columns"
   ]
  },
  {
   "cell_type": "code",
   "execution_count": 6,
   "metadata": {
    "id": "uYHtBzinNNoE"
   },
   "outputs": [],
   "source": [
    "drop_columns = ['active', 'created_by_user_id',\n",
    "       'created_at', 'updated_at', 'disable_solution_rebates',\n",
    "       'finance_discount_rate', 'finance_term', 'assigned_rebates',\n",
    "       'disable_savings_cooling', 'disable_savings_heating',\n",
    "       'disable_savings_maintenance']"
   ]
  },
  {
   "cell_type": "code",
   "execution_count": 7,
   "metadata": {
    "id": "mtVVmnnPNNoF",
    "outputId": "38e7091f-505f-485c-fd20-45d50adeb58c"
   },
   "outputs": [
    {
     "name": "stdout",
     "output_type": "stream",
     "text": [
      "Dropping columns other than options_id and project_id \n",
      "\n"
     ]
    },
    {
     "data": {
      "text/html": [
       "<div>\n",
       "<style scoped>\n",
       "    .dataframe tbody tr th:only-of-type {\n",
       "        vertical-align: middle;\n",
       "    }\n",
       "\n",
       "    .dataframe tbody tr th {\n",
       "        vertical-align: top;\n",
       "    }\n",
       "\n",
       "    .dataframe thead th {\n",
       "        text-align: right;\n",
       "    }\n",
       "</style>\n",
       "<table border=\"1\" class=\"dataframe\">\n",
       "  <thead>\n",
       "    <tr style=\"text-align: right;\">\n",
       "      <th></th>\n",
       "      <th>option_id</th>\n",
       "      <th>project_id</th>\n",
       "    </tr>\n",
       "  </thead>\n",
       "  <tbody>\n",
       "    <tr>\n",
       "      <th>0</th>\n",
       "      <td>38</td>\n",
       "      <td>75</td>\n",
       "    </tr>\n",
       "    <tr>\n",
       "      <th>1</th>\n",
       "      <td>49</td>\n",
       "      <td>80</td>\n",
       "    </tr>\n",
       "    <tr>\n",
       "      <th>2</th>\n",
       "      <td>57</td>\n",
       "      <td>88</td>\n",
       "    </tr>\n",
       "    <tr>\n",
       "      <th>3</th>\n",
       "      <td>71</td>\n",
       "      <td>108</td>\n",
       "    </tr>\n",
       "    <tr>\n",
       "      <th>4</th>\n",
       "      <td>518</td>\n",
       "      <td>472</td>\n",
       "    </tr>\n",
       "    <tr>\n",
       "      <th>...</th>\n",
       "      <td>...</td>\n",
       "      <td>...</td>\n",
       "    </tr>\n",
       "    <tr>\n",
       "      <th>9937</th>\n",
       "      <td>4185</td>\n",
       "      <td>4386</td>\n",
       "    </tr>\n",
       "    <tr>\n",
       "      <th>9938</th>\n",
       "      <td>2808</td>\n",
       "      <td>2451</td>\n",
       "    </tr>\n",
       "    <tr>\n",
       "      <th>9939</th>\n",
       "      <td>4381</td>\n",
       "      <td>4574</td>\n",
       "    </tr>\n",
       "    <tr>\n",
       "      <th>9940</th>\n",
       "      <td>4233</td>\n",
       "      <td>4489</td>\n",
       "    </tr>\n",
       "    <tr>\n",
       "      <th>9941</th>\n",
       "      <td>4327</td>\n",
       "      <td>4617</td>\n",
       "    </tr>\n",
       "  </tbody>\n",
       "</table>\n",
       "<p>9942 rows × 2 columns</p>\n",
       "</div>"
      ],
      "text/plain": [
       "      option_id  project_id\n",
       "0            38          75\n",
       "1            49          80\n",
       "2            57          88\n",
       "3            71         108\n",
       "4           518         472\n",
       "...         ...         ...\n",
       "9937       4185        4386\n",
       "9938       2808        2451\n",
       "9939       4381        4574\n",
       "9940       4233        4489\n",
       "9941       4327        4617\n",
       "\n",
       "[9942 rows x 2 columns]"
      ]
     },
     "execution_count": 7,
     "metadata": {},
     "output_type": "execute_result"
    }
   ],
   "source": [
    "print(\"Dropping columns other than options_id and project_id \")\n",
    "print()\n",
    "for i in drop_columns:\n",
    "        options.drop(i, axis=1,inplace=True)\n",
    "options"
   ]
  },
  {
   "cell_type": "code",
   "execution_count": 8,
   "metadata": {
    "id": "retbEinOOu-k"
   },
   "outputs": [],
   "source": [
    "def Drop_Null(column_name_df):\n",
    "  print(\"Columns with null values \")\n",
    "  print()\n",
    "  for i in column_name_df.columns:\n",
    "    if (column_name_df[i].isnull().sum()/len(column_name_df))*100 >= 30:\n",
    "        print(i,\":\", column_name_df[i].isnull().sum()/len(column_name_df)*100,\"%\")\n",
    "        column_name_df.drop(i, axis=1,inplace=True)\n"
   ]
  },
  {
   "cell_type": "code",
   "execution_count": 9,
   "metadata": {
    "id": "e86F2jxvNNoF"
   },
   "outputs": [],
   "source": [
    "def Drop_Zeroes(column_name_df):\n",
    "    print()\n",
    "    print(\" columns which have mostly zero's \")\n",
    "    print()\n",
    "    for i in column_name_df.columns:\n",
    "        if len(column_name_df[column_name_df[i]==0])/len(column_name_df)*100 >=85:\n",
    "            print(i,\":\", len(column_name_df[column_name_df[i]==0])/len(column_name_df)*100,\"%\")\n",
    "            column_name_df.drop(i, axis=1,inplace=True)\n",
    "\n"
   ]
  },
  {
   "cell_type": "code",
   "execution_count": 10,
   "metadata": {
    "id": "9ipDDZ2SNNoF",
    "outputId": "8c882ece-173b-4f04-cceb-99790d0f7403"
   },
   "outputs": [
    {
     "data": {
      "text/html": [
       "<div>\n",
       "<style scoped>\n",
       "    .dataframe tbody tr th:only-of-type {\n",
       "        vertical-align: middle;\n",
       "    }\n",
       "\n",
       "    .dataframe tbody tr th {\n",
       "        vertical-align: top;\n",
       "    }\n",
       "\n",
       "    .dataframe thead th {\n",
       "        text-align: right;\n",
       "    }\n",
       "</style>\n",
       "<table border=\"1\" class=\"dataframe\">\n",
       "  <thead>\n",
       "    <tr style=\"text-align: right;\">\n",
       "      <th></th>\n",
       "      <th>id</th>\n",
       "      <th>project_id</th>\n",
       "      <th>name</th>\n",
       "      <th>existing_lighting_id</th>\n",
       "      <th>existing_count</th>\n",
       "      <th>use_existing</th>\n",
       "      <th>created_at</th>\n",
       "      <th>updated_at</th>\n",
       "      <th>internal_notes</th>\n",
       "      <th>notes</th>\n",
       "      <th>...</th>\n",
       "      <th>created_by_user_id</th>\n",
       "      <th>incentive_type</th>\n",
       "      <th>incentive_amount</th>\n",
       "      <th>incentive_maximum</th>\n",
       "      <th>incentive_max_type</th>\n",
       "      <th>copied_from_id</th>\n",
       "      <th>total_wattage</th>\n",
       "      <th>total_lifetime</th>\n",
       "      <th>product_count</th>\n",
       "      <th>option_id</th>\n",
       "    </tr>\n",
       "  </thead>\n",
       "  <tbody>\n",
       "    <tr>\n",
       "      <th>0</th>\n",
       "      <td>15710</td>\n",
       "      <td>1276.0</td>\n",
       "      <td>Solution 60</td>\n",
       "      <td>36.0</td>\n",
       "      <td>1</td>\n",
       "      <td>NaN</td>\n",
       "      <td>2018-02-25 17:09:41.398732</td>\n",
       "      <td>2018-02-26 20:57:15.471466</td>\n",
       "      <td>NaN</td>\n",
       "      <td>NaN</td>\n",
       "      <td>...</td>\n",
       "      <td>361</td>\n",
       "      <td>5.0</td>\n",
       "      <td>4.0</td>\n",
       "      <td>50.0</td>\n",
       "      <td>3.0</td>\n",
       "      <td>NaN</td>\n",
       "      <td>NaN</td>\n",
       "      <td>NaN</td>\n",
       "      <td>1</td>\n",
       "      <td>1809.0</td>\n",
       "    </tr>\n",
       "    <tr>\n",
       "      <th>1</th>\n",
       "      <td>61</td>\n",
       "      <td>60.0</td>\n",
       "      <td>Solution 3</td>\n",
       "      <td>300.0</td>\n",
       "      <td>1</td>\n",
       "      <td>NaN</td>\n",
       "      <td>2016-10-26 13:44:10.304464</td>\n",
       "      <td>2017-05-09 21:33:03.333625</td>\n",
       "      <td>NaN</td>\n",
       "      <td>NaN</td>\n",
       "      <td>...</td>\n",
       "      <td>4</td>\n",
       "      <td>2.0</td>\n",
       "      <td>NaN</td>\n",
       "      <td>NaN</td>\n",
       "      <td>NaN</td>\n",
       "      <td>NaN</td>\n",
       "      <td>NaN</td>\n",
       "      <td>NaN</td>\n",
       "      <td>1</td>\n",
       "      <td>25.0</td>\n",
       "    </tr>\n",
       "    <tr>\n",
       "      <th>2</th>\n",
       "      <td>158</td>\n",
       "      <td>60.0</td>\n",
       "      <td>Solution 10</td>\n",
       "      <td>359.0</td>\n",
       "      <td>1</td>\n",
       "      <td>NaN</td>\n",
       "      <td>2016-11-16 20:11:43.164953</td>\n",
       "      <td>2017-05-31 21:08:28.522553</td>\n",
       "      <td>NaN</td>\n",
       "      <td>NaN</td>\n",
       "      <td>...</td>\n",
       "      <td>19</td>\n",
       "      <td>5.0</td>\n",
       "      <td>2.0</td>\n",
       "      <td>NaN</td>\n",
       "      <td>NaN</td>\n",
       "      <td>NaN</td>\n",
       "      <td>NaN</td>\n",
       "      <td>NaN</td>\n",
       "      <td>1</td>\n",
       "      <td>25.0</td>\n",
       "    </tr>\n",
       "    <tr>\n",
       "      <th>3</th>\n",
       "      <td>386</td>\n",
       "      <td>30.0</td>\n",
       "      <td>Solution 1</td>\n",
       "      <td>8930.0</td>\n",
       "      <td>1</td>\n",
       "      <td>NaN</td>\n",
       "      <td>2017-01-05 19:32:08.598052</td>\n",
       "      <td>2017-01-05 19:32:08.598052</td>\n",
       "      <td>NaN</td>\n",
       "      <td>NaN</td>\n",
       "      <td>...</td>\n",
       "      <td>59</td>\n",
       "      <td>2.0</td>\n",
       "      <td>NaN</td>\n",
       "      <td>NaN</td>\n",
       "      <td>NaN</td>\n",
       "      <td>NaN</td>\n",
       "      <td>NaN</td>\n",
       "      <td>NaN</td>\n",
       "      <td>1</td>\n",
       "      <td>79.0</td>\n",
       "    </tr>\n",
       "    <tr>\n",
       "      <th>4</th>\n",
       "      <td>435</td>\n",
       "      <td>124.0</td>\n",
       "      <td>Solution 1</td>\n",
       "      <td>9257.0</td>\n",
       "      <td>1</td>\n",
       "      <td>NaN</td>\n",
       "      <td>2017-01-11 06:28:29.467181</td>\n",
       "      <td>2017-01-11 06:28:29.467181</td>\n",
       "      <td>NaN</td>\n",
       "      <td>NaN</td>\n",
       "      <td>...</td>\n",
       "      <td>22</td>\n",
       "      <td>2.0</td>\n",
       "      <td>NaN</td>\n",
       "      <td>NaN</td>\n",
       "      <td>NaN</td>\n",
       "      <td>NaN</td>\n",
       "      <td>NaN</td>\n",
       "      <td>NaN</td>\n",
       "      <td>1</td>\n",
       "      <td>88.0</td>\n",
       "    </tr>\n",
       "  </tbody>\n",
       "</table>\n",
       "<p>5 rows × 22 columns</p>\n",
       "</div>"
      ],
      "text/plain": [
       "      id  project_id         name  existing_lighting_id  existing_count  \\\n",
       "0  15710      1276.0  Solution 60                  36.0               1   \n",
       "1     61        60.0   Solution 3                 300.0               1   \n",
       "2    158        60.0  Solution 10                 359.0               1   \n",
       "3    386        30.0   Solution 1                8930.0               1   \n",
       "4    435       124.0   Solution 1                9257.0               1   \n",
       "\n",
       "  use_existing                  created_at                  updated_at  \\\n",
       "0          NaN  2018-02-25 17:09:41.398732  2018-02-26 20:57:15.471466   \n",
       "1          NaN  2016-10-26 13:44:10.304464  2017-05-09 21:33:03.333625   \n",
       "2          NaN  2016-11-16 20:11:43.164953  2017-05-31 21:08:28.522553   \n",
       "3          NaN  2017-01-05 19:32:08.598052  2017-01-05 19:32:08.598052   \n",
       "4          NaN  2017-01-11 06:28:29.467181  2017-01-11 06:28:29.467181   \n",
       "\n",
       "  internal_notes notes  ... created_by_user_id incentive_type  \\\n",
       "0            NaN   NaN  ...                361            5.0   \n",
       "1            NaN   NaN  ...                  4            2.0   \n",
       "2            NaN   NaN  ...                 19            5.0   \n",
       "3            NaN   NaN  ...                 59            2.0   \n",
       "4            NaN   NaN  ...                 22            2.0   \n",
       "\n",
       "   incentive_amount  incentive_maximum  incentive_max_type  copied_from_id  \\\n",
       "0               4.0               50.0                 3.0             NaN   \n",
       "1               NaN                NaN                 NaN             NaN   \n",
       "2               2.0                NaN                 NaN             NaN   \n",
       "3               NaN                NaN                 NaN             NaN   \n",
       "4               NaN                NaN                 NaN             NaN   \n",
       "\n",
       "   total_wattage  total_lifetime  product_count  option_id  \n",
       "0            NaN             NaN              1     1809.0  \n",
       "1            NaN             NaN              1       25.0  \n",
       "2            NaN             NaN              1       25.0  \n",
       "3            NaN             NaN              1       79.0  \n",
       "4            NaN             NaN              1       88.0  \n",
       "\n",
       "[5 rows x 22 columns]"
      ]
     },
     "execution_count": 10,
     "metadata": {},
     "output_type": "execute_result"
    }
   ],
   "source": [
    "solutions=pd.read_csv(r'solutions.csv')\n",
    "solutions.head()"
   ]
  },
  {
   "cell_type": "code",
   "execution_count": 11,
   "metadata": {},
   "outputs": [],
   "source": [
    "elid = solutions['existing_lighting_id']"
   ]
  },
  {
   "cell_type": "code",
   "execution_count": 12,
   "metadata": {
    "id": "QLnpGN25NNoG",
    "outputId": "1eb31833-db62-4d4e-ca6c-5fea24c6c9d2"
   },
   "outputs": [
    {
     "data": {
      "text/plain": [
       "Index(['id', 'project_id', 'name', 'existing_lighting_id', 'existing_count',\n",
       "       'use_existing', 'created_at', 'updated_at', 'internal_notes', 'notes',\n",
       "       'active', 'inactive_at', 'created_by_user_id', 'incentive_type',\n",
       "       'incentive_amount', 'incentive_maximum', 'incentive_max_type',\n",
       "       'copied_from_id', 'total_wattage', 'total_lifetime', 'product_count',\n",
       "       'option_id'],\n",
       "      dtype='object')"
      ]
     },
     "execution_count": 12,
     "metadata": {},
     "output_type": "execute_result"
    }
   ],
   "source": [
    "solutions.columns"
   ]
  },
  {
   "cell_type": "code",
   "execution_count": 13,
   "metadata": {
    "id": "hdtsjFHSNNoG",
    "outputId": "84fb5365-ef24-47c6-83b2-2653168f9f4a"
   },
   "outputs": [
    {
     "data": {
      "text/plain": [
       "Index(['solution_id', 'project_id', 'name', 'existing_lighting_id',\n",
       "       'existing_count', 'use_existing', 'created_at', 'updated_at',\n",
       "       'internal_notes', 'notes', 'active', 'inactive_at',\n",
       "       'created_by_user_id', 'incentive_type', 'incentive_amount',\n",
       "       'incentive_maximum', 'incentive_max_type', 'copied_from_id',\n",
       "       'total_wattage', 'total_lifetime', 'product_count', 'option_id'],\n",
       "      dtype='object')"
      ]
     },
     "execution_count": 13,
     "metadata": {},
     "output_type": "execute_result"
    }
   ],
   "source": [
    "solutions.rename(columns = {'id':'solution_id'}, inplace = True)\n",
    "solutions.columns"
   ]
  },
  {
   "cell_type": "code",
   "execution_count": 14,
   "metadata": {
    "id": "bxVE644sOEB1"
   },
   "outputs": [
    {
     "name": "stdout",
     "output_type": "stream",
     "text": [
      "\n",
      " columns which have mostly zero's \n",
      "\n"
     ]
    }
   ],
   "source": [
    "Drop_Zeroes(solutions)"
   ]
  },
  {
   "cell_type": "code",
   "execution_count": 15,
   "metadata": {
    "id": "NdgC392qOJ9s"
   },
   "outputs": [
    {
     "name": "stdout",
     "output_type": "stream",
     "text": [
      "Columns with null values \n",
      "\n",
      "existing_lighting_id : 37.8049794009047 %\n",
      "use_existing : 99.70318306481295 %\n",
      "internal_notes : 99.13210728151304 %\n",
      "notes : 99.3968679876999 %\n",
      "inactive_at : 84.89676706994194 %\n",
      "incentive_amount : 55.533261305757065 %\n",
      "incentive_maximum : 93.13284338751232 %\n",
      "incentive_max_type : 79.37834661094423 %\n",
      "copied_from_id : 76.62032364918613 %\n",
      "total_wattage : 99.01219323969748 %\n",
      "total_lifetime : 99.46929131988554 %\n"
     ]
    }
   ],
   "source": [
    "Drop_Null(solutions)"
   ]
  },
  {
   "cell_type": "code",
   "execution_count": 16,
   "metadata": {},
   "outputs": [],
   "source": [
    "solutions = pd.concat([solutions, elid], axis=1)"
   ]
  },
  {
   "cell_type": "code",
   "execution_count": 17,
   "metadata": {
    "id": "-DqwmPloNNoG"
   },
   "outputs": [
    {
     "name": "stdout",
     "output_type": "stream",
     "text": [
      "Merging both dataframes on column option_id\n"
     ]
    }
   ],
   "source": [
    "print(\"Merging both dataframes on column option_id\")\n",
    "df=(pd.merge(options,solutions, on = 'option_id',how='left'))\n"
   ]
  },
  {
   "cell_type": "code",
   "execution_count": 18,
   "metadata": {},
   "outputs": [
    {
     "data": {
      "text/html": [
       "<div>\n",
       "<style scoped>\n",
       "    .dataframe tbody tr th:only-of-type {\n",
       "        vertical-align: middle;\n",
       "    }\n",
       "\n",
       "    .dataframe tbody tr th {\n",
       "        vertical-align: top;\n",
       "    }\n",
       "\n",
       "    .dataframe thead th {\n",
       "        text-align: right;\n",
       "    }\n",
       "</style>\n",
       "<table border=\"1\" class=\"dataframe\">\n",
       "  <thead>\n",
       "    <tr style=\"text-align: right;\">\n",
       "      <th></th>\n",
       "      <th>id</th>\n",
       "      <th>proposal_id</th>\n",
       "      <th>option_id</th>\n",
       "      <th>created_by_user_id</th>\n",
       "      <th>active</th>\n",
       "      <th>inactive_at</th>\n",
       "      <th>inactivated_by_user_id</th>\n",
       "      <th>created_at</th>\n",
       "      <th>updated_at</th>\n",
       "    </tr>\n",
       "  </thead>\n",
       "  <tbody>\n",
       "    <tr>\n",
       "      <th>0</th>\n",
       "      <td>1</td>\n",
       "      <td>6</td>\n",
       "      <td>2</td>\n",
       "      <td>47</td>\n",
       "      <td>t</td>\n",
       "      <td>NaN</td>\n",
       "      <td>NaN</td>\n",
       "      <td>2016-09-17 15:51:17.28914</td>\n",
       "      <td>2016-09-17 15:51:17.28914</td>\n",
       "    </tr>\n",
       "    <tr>\n",
       "      <th>1</th>\n",
       "      <td>2</td>\n",
       "      <td>7</td>\n",
       "      <td>3</td>\n",
       "      <td>50</td>\n",
       "      <td>t</td>\n",
       "      <td>NaN</td>\n",
       "      <td>NaN</td>\n",
       "      <td>2016-09-23 15:06:05.940608</td>\n",
       "      <td>2016-09-23 15:06:05.940608</td>\n",
       "    </tr>\n",
       "    <tr>\n",
       "      <th>2</th>\n",
       "      <td>3</td>\n",
       "      <td>8</td>\n",
       "      <td>4</td>\n",
       "      <td>4</td>\n",
       "      <td>t</td>\n",
       "      <td>NaN</td>\n",
       "      <td>NaN</td>\n",
       "      <td>2016-09-23 21:54:35.467673</td>\n",
       "      <td>2016-09-23 21:54:35.467673</td>\n",
       "    </tr>\n",
       "    <tr>\n",
       "      <th>3</th>\n",
       "      <td>4</td>\n",
       "      <td>9</td>\n",
       "      <td>5</td>\n",
       "      <td>22</td>\n",
       "      <td>t</td>\n",
       "      <td>NaN</td>\n",
       "      <td>NaN</td>\n",
       "      <td>2016-09-26 15:45:50.02597</td>\n",
       "      <td>2016-09-26 15:45:50.02597</td>\n",
       "    </tr>\n",
       "    <tr>\n",
       "      <th>4</th>\n",
       "      <td>5</td>\n",
       "      <td>10</td>\n",
       "      <td>7</td>\n",
       "      <td>4</td>\n",
       "      <td>t</td>\n",
       "      <td>NaN</td>\n",
       "      <td>NaN</td>\n",
       "      <td>2016-09-26 22:43:18.111199</td>\n",
       "      <td>2016-09-26 22:43:18.111199</td>\n",
       "    </tr>\n",
       "  </tbody>\n",
       "</table>\n",
       "</div>"
      ],
      "text/plain": [
       "   id  proposal_id  option_id  created_by_user_id active inactive_at  \\\n",
       "0   1            6          2                  47      t         NaN   \n",
       "1   2            7          3                  50      t         NaN   \n",
       "2   3            8          4                   4      t         NaN   \n",
       "3   4            9          5                  22      t         NaN   \n",
       "4   5           10          7                   4      t         NaN   \n",
       "\n",
       "   inactivated_by_user_id                  created_at  \\\n",
       "0                     NaN   2016-09-17 15:51:17.28914   \n",
       "1                     NaN  2016-09-23 15:06:05.940608   \n",
       "2                     NaN  2016-09-23 21:54:35.467673   \n",
       "3                     NaN   2016-09-26 15:45:50.02597   \n",
       "4                     NaN  2016-09-26 22:43:18.111199   \n",
       "\n",
       "                   updated_at  \n",
       "0   2016-09-17 15:51:17.28914  \n",
       "1  2016-09-23 15:06:05.940608  \n",
       "2  2016-09-23 21:54:35.467673  \n",
       "3   2016-09-26 15:45:50.02597  \n",
       "4  2016-09-26 22:43:18.111199  "
      ]
     },
     "execution_count": 18,
     "metadata": {},
     "output_type": "execute_result"
    }
   ],
   "source": [
    "prop_options=pd.read_csv(r'proposal_options.csv')\n",
    "prop_options.head()"
   ]
  },
  {
   "cell_type": "code",
   "execution_count": 19,
   "metadata": {},
   "outputs": [],
   "source": [
    "prop_options.rename(columns = {'id':'proposal_options_id'}, inplace = True)"
   ]
  },
  {
   "cell_type": "code",
   "execution_count": 20,
   "metadata": {
    "id": "KoTBzOxCQZFU"
   },
   "outputs": [
    {
     "name": "stdout",
     "output_type": "stream",
     "text": [
      "\n",
      " columns which have mostly zero's \n",
      "\n"
     ]
    }
   ],
   "source": [
    "Drop_Zeroes(prop_options)"
   ]
  },
  {
   "cell_type": "code",
   "execution_count": 21,
   "metadata": {},
   "outputs": [
    {
     "name": "stdout",
     "output_type": "stream",
     "text": [
      "Columns with null values \n",
      "\n",
      "inactive_at : 93.31467972419306 %\n",
      "inactivated_by_user_id : 100.0 %\n"
     ]
    }
   ],
   "source": [
    "Drop_Null(prop_options)"
   ]
  },
  {
   "cell_type": "code",
   "execution_count": 22,
   "metadata": {},
   "outputs": [
    {
     "name": "stdout",
     "output_type": "stream",
     "text": [
      "Merging both dataframes on column option_id\n"
     ]
    },
    {
     "data": {
      "text/plain": [
       "(85076, 19)"
      ]
     },
     "execution_count": 22,
     "metadata": {},
     "output_type": "execute_result"
    }
   ],
   "source": [
    "print(\"Merging both dataframes on column option_id\")\n",
    "df=(pd.merge(df,prop_options, on = 'option_id',how='left'))\n",
    "df.shape"
   ]
  },
  {
   "cell_type": "code",
   "execution_count": 23,
   "metadata": {},
   "outputs": [
    {
     "name": "stderr",
     "output_type": "stream",
     "text": [
      "C:\\Users\\revat\\anaconda3\\lib\\site-packages\\IPython\\core\\interactiveshell.py:3063: DtypeWarning: Columns (0,1,2,3,8,9,10,13,14,17,20) have mixed types.Specify dtype option on import or set low_memory=False.\n",
      "  interactivity=interactivity, compiler=compiler, result=result)\n"
     ]
    }
   ],
   "source": [
    "ex_fixt = pd.read_csv('existing_fixtures_tab.csv',sep='\\t', error_bad_lines=False)\n"
   ]
  },
  {
   "cell_type": "code",
   "execution_count": 24,
   "metadata": {},
   "outputs": [
    {
     "data": {
      "text/plain": [
       "(190876, 27)"
      ]
     },
     "execution_count": 24,
     "metadata": {},
     "output_type": "execute_result"
    }
   ],
   "source": [
    "ex_fixt.shape"
   ]
  },
  {
   "cell_type": "code",
   "execution_count": 25,
   "metadata": {},
   "outputs": [
    {
     "data": {
      "text/html": [
       "<div>\n",
       "<style scoped>\n",
       "    .dataframe tbody tr th:only-of-type {\n",
       "        vertical-align: middle;\n",
       "    }\n",
       "\n",
       "    .dataframe tbody tr th {\n",
       "        vertical-align: top;\n",
       "    }\n",
       "\n",
       "    .dataframe thead th {\n",
       "        text-align: right;\n",
       "    }\n",
       "</style>\n",
       "<table border=\"1\" class=\"dataframe\">\n",
       "  <thead>\n",
       "    <tr style=\"text-align: right;\">\n",
       "      <th></th>\n",
       "      <th>id</th>\n",
       "      <th>area_id</th>\n",
       "      <th>created_by_user_id</th>\n",
       "      <th>operating_schedule_id</th>\n",
       "      <th>active</th>\n",
       "      <th>inactive_at</th>\n",
       "      <th>name</th>\n",
       "      <th>description</th>\n",
       "      <th>existing_count</th>\n",
       "      <th>working_fixtures_count</th>\n",
       "      <th>...</th>\n",
       "      <th>existing_lighting_id</th>\n",
       "      <th>internal_notes</th>\n",
       "      <th>notes</th>\n",
       "      <th>add_after</th>\n",
       "      <th>uuid</th>\n",
       "      <th>custom_attributes</th>\n",
       "      <th>calc_ready</th>\n",
       "      <th>audit_complete</th>\n",
       "      <th>status</th>\n",
       "      <th>copied_from_id</th>\n",
       "    </tr>\n",
       "  </thead>\n",
       "  <tbody>\n",
       "    <tr>\n",
       "      <th>0</th>\n",
       "      <td>19411</td>\n",
       "      <td>11972</td>\n",
       "      <td>495</td>\n",
       "      <td>NaN</td>\n",
       "      <td>t</td>\n",
       "      <td>NaN</td>\n",
       "      <td>NaN</td>\n",
       "      <td>NaN</td>\n",
       "      <td>1</td>\n",
       "      <td>NaN</td>\n",
       "      <td>...</td>\n",
       "      <td>7</td>\n",
       "      <td>NaN</td>\n",
       "      <td>NaN</td>\n",
       "      <td>0</td>\n",
       "      <td>1EFD3EED-AFE1-4C7F-B94E-E0C1A0F806F2</td>\n",
       "      <td>{}</td>\n",
       "      <td>NaN</td>\n",
       "      <td>NaN</td>\n",
       "      <td>NaN</td>\n",
       "      <td>NaN</td>\n",
       "    </tr>\n",
       "    <tr>\n",
       "      <th>1</th>\n",
       "      <td>24115</td>\n",
       "      <td>15700</td>\n",
       "      <td>776</td>\n",
       "      <td>NaN</td>\n",
       "      <td>t</td>\n",
       "      <td>NaN</td>\n",
       "      <td>NaN</td>\n",
       "      <td>4ft-Strip-3L-F32T8-IS-BF.85-.95-Cage</td>\n",
       "      <td>7</td>\n",
       "      <td>NaN</td>\n",
       "      <td>...</td>\n",
       "      <td>16527</td>\n",
       "      <td>NaN</td>\n",
       "      <td>NaN</td>\n",
       "      <td>0</td>\n",
       "      <td>848E85E2-BE1F-495F-A39F-F122F81B6C94</td>\n",
       "      <td>{'location'\": '\"'\", '\"conditions'\": '\"'\", '\"de...</td>\n",
       "      <td>NaN</td>\n",
       "      <td>t</td>\n",
       "      <td>NaN</td>\n",
       "      <td>NaN</td>\n",
       "    </tr>\n",
       "    <tr>\n",
       "      <th>2</th>\n",
       "      <td>45426</td>\n",
       "      <td>29871</td>\n",
       "      <td>484</td>\n",
       "      <td>4576</td>\n",
       "      <td>t</td>\n",
       "      <td>NaN</td>\n",
       "      <td>NaN</td>\n",
       "      <td>NaN</td>\n",
       "      <td>2</td>\n",
       "      <td>NaN</td>\n",
       "      <td>...</td>\n",
       "      <td>22590</td>\n",
       "      <td>2LT8 4' Wall</td>\n",
       "      <td>NaN</td>\n",
       "      <td>0</td>\n",
       "      <td>ac11e405-7313-41f2-80c3-890395d7c2dd</td>\n",
       "      <td>{'location'\": '\"'\", '\"conditions'\": '\"'\", '\"de...</td>\n",
       "      <td>NaN</td>\n",
       "      <td>t</td>\n",
       "      <td>NaN</td>\n",
       "      <td>NaN</td>\n",
       "    </tr>\n",
       "    <tr>\n",
       "      <th>3</th>\n",
       "      <td>26350</td>\n",
       "      <td>16991</td>\n",
       "      <td>361</td>\n",
       "      <td>3008</td>\n",
       "      <td>t</td>\n",
       "      <td>NaN</td>\n",
       "      <td>NaN</td>\n",
       "      <td>NaN</td>\n",
       "      <td>18</td>\n",
       "      <td>NaN</td>\n",
       "      <td>...</td>\n",
       "      <td>977</td>\n",
       "      <td>NaN</td>\n",
       "      <td>NaN</td>\n",
       "      <td>0</td>\n",
       "      <td>1603de9b-3406-4559-b3cb-2f084cd73ba5</td>\n",
       "      <td>{}</td>\n",
       "      <td>NaN</td>\n",
       "      <td>NaN</td>\n",
       "      <td>NaN</td>\n",
       "      <td>NaN</td>\n",
       "    </tr>\n",
       "    <tr>\n",
       "      <th>4</th>\n",
       "      <td>30533</td>\n",
       "      <td>19777</td>\n",
       "      <td>763</td>\n",
       "      <td>3330</td>\n",
       "      <td>f</td>\n",
       "      <td>2019-01-14 16:38:09.239264</td>\n",
       "      <td>NaN</td>\n",
       "      <td>Recess Lights</td>\n",
       "      <td>43</td>\n",
       "      <td>NaN</td>\n",
       "      <td>...</td>\n",
       "      <td>2060</td>\n",
       "      <td>NaN</td>\n",
       "      <td>NaN</td>\n",
       "      <td>0</td>\n",
       "      <td>9f35b018-cd78-4a2b-af4f-d749984351d7</td>\n",
       "      <td>{}</td>\n",
       "      <td>NaN</td>\n",
       "      <td>NaN</td>\n",
       "      <td>NaN</td>\n",
       "      <td>NaN</td>\n",
       "    </tr>\n",
       "  </tbody>\n",
       "</table>\n",
       "<p>5 rows × 27 columns</p>\n",
       "</div>"
      ],
      "text/plain": [
       "      id area_id created_by_user_id operating_schedule_id active  \\\n",
       "0  19411   11972                495                   NaN      t   \n",
       "1  24115   15700                776                   NaN      t   \n",
       "2  45426   29871                484                  4576      t   \n",
       "3  26350   16991                361                  3008      t   \n",
       "4  30533   19777                763                  3330      f   \n",
       "\n",
       "                  inactive_at name                           description  \\\n",
       "0                         NaN  NaN                                   NaN   \n",
       "1                         NaN  NaN  4ft-Strip-3L-F32T8-IS-BF.85-.95-Cage   \n",
       "2                         NaN  NaN                                   NaN   \n",
       "3                         NaN  NaN                                   NaN   \n",
       "4  2019-01-14 16:38:09.239264  NaN                         Recess Lights   \n",
       "\n",
       "  existing_count working_fixtures_count  ... existing_lighting_id  \\\n",
       "0              1                    NaN  ...                    7   \n",
       "1              7                    NaN  ...                16527   \n",
       "2              2                    NaN  ...                22590   \n",
       "3             18                    NaN  ...                  977   \n",
       "4             43                    NaN  ...                 2060   \n",
       "\n",
       "  internal_notes  notes add_after                                  uuid  \\\n",
       "0            NaN    NaN         0  1EFD3EED-AFE1-4C7F-B94E-E0C1A0F806F2   \n",
       "1            NaN    NaN         0  848E85E2-BE1F-495F-A39F-F122F81B6C94   \n",
       "2   2LT8 4' Wall    NaN         0  ac11e405-7313-41f2-80c3-890395d7c2dd   \n",
       "3            NaN    NaN         0  1603de9b-3406-4559-b3cb-2f084cd73ba5   \n",
       "4            NaN    NaN         0  9f35b018-cd78-4a2b-af4f-d749984351d7   \n",
       "\n",
       "                                   custom_attributes calc_ready  \\\n",
       "0                                                 {}        NaN   \n",
       "1  {'location'\": '\"'\", '\"conditions'\": '\"'\", '\"de...        NaN   \n",
       "2  {'location'\": '\"'\", '\"conditions'\": '\"'\", '\"de...        NaN   \n",
       "3                                                 {}        NaN   \n",
       "4                                                 {}        NaN   \n",
       "\n",
       "  audit_complete status copied_from_id  \n",
       "0            NaN    NaN            NaN  \n",
       "1              t    NaN            NaN  \n",
       "2              t    NaN            NaN  \n",
       "3            NaN    NaN            NaN  \n",
       "4            NaN    NaN            NaN  \n",
       "\n",
       "[5 rows x 27 columns]"
      ]
     },
     "execution_count": 25,
     "metadata": {},
     "output_type": "execute_result"
    }
   ],
   "source": [
    "ex_fixt.head()"
   ]
  },
  {
   "cell_type": "code",
   "execution_count": 26,
   "metadata": {},
   "outputs": [
    {
     "data": {
      "text/plain": [
       "Index(['id', 'area_id', 'created_by_user_id', 'operating_schedule_id',\n",
       "       'active', 'inactive_at', 'name', 'description', 'existing_count',\n",
       "       'working_fixtures_count', 'existing_control', 'conditions',\n",
       "       'year_installed', 'lighting_satisfaction', 'mounting_height',\n",
       "       'created_at', 'updated_at', 'existing_lighting_id', 'internal_notes',\n",
       "       'notes', 'add_after', 'uuid', 'custom_attributes', 'calc_ready',\n",
       "       'audit_complete', 'status', 'copied_from_id'],\n",
       "      dtype='object')"
      ]
     },
     "execution_count": 26,
     "metadata": {},
     "output_type": "execute_result"
    }
   ],
   "source": [
    "ex_fixt.columns"
   ]
  },
  {
   "cell_type": "code",
   "execution_count": 27,
   "metadata": {},
   "outputs": [
    {
     "data": {
      "text/plain": [
       "Index(['exfixt_id', 'area_id', 'created_by_user_id', 'operating_schedule_id',\n",
       "       'active', 'inactive_at', 'name', 'description', 'existing_count',\n",
       "       'working_fixtures_count', 'existing_control', 'conditions',\n",
       "       'year_installed', 'lighting_satisfaction', 'mounting_height',\n",
       "       'created_at', 'updated_at', 'existing_lighting_id', 'internal_notes',\n",
       "       'notes', 'add_after', 'uuid', 'custom_attributes', 'calc_ready',\n",
       "       'audit_complete', 'status', 'copied_from_id'],\n",
       "      dtype='object')"
      ]
     },
     "execution_count": 27,
     "metadata": {},
     "output_type": "execute_result"
    }
   ],
   "source": [
    "ex_fixt.rename(columns = {'id':'exfixt_id'}, inplace = True)\n",
    "ex_fixt.columns"
   ]
  },
  {
   "cell_type": "code",
   "execution_count": 28,
   "metadata": {},
   "outputs": [
    {
     "name": "stdout",
     "output_type": "stream",
     "text": [
      "\n",
      " columns which have mostly zero's \n",
      "\n"
     ]
    }
   ],
   "source": [
    "Drop_Zeroes(ex_fixt)"
   ]
  },
  {
   "cell_type": "code",
   "execution_count": 29,
   "metadata": {},
   "outputs": [
    {
     "name": "stdout",
     "output_type": "stream",
     "text": [
      "Columns with null values \n",
      "\n",
      "operating_schedule_id : 95.43839979882227 %\n",
      "inactive_at : 94.16008298581278 %\n",
      "name : 99.12351474255537 %\n",
      "description : 89.4711750036673 %\n",
      "working_fixtures_count : 99.93398855801672 %\n",
      "existing_control : 98.82960665562983 %\n",
      "conditions : 98.5398897713699 %\n",
      "year_installed : 99.59764454410193 %\n",
      "lighting_satisfaction : 99.61912445776315 %\n",
      "mounting_height : 97.79385569689222 %\n",
      "internal_notes : 98.16477713279825 %\n",
      "notes : 97.16831869905069 %\n",
      "calc_ready : 100.0 %\n",
      "status : 99.8307801923762 %\n",
      "copied_from_id : 92.75341059116914 %\n"
     ]
    }
   ],
   "source": [
    "Drop_Null(ex_fixt)"
   ]
  },
  {
   "cell_type": "code",
   "execution_count": 30,
   "metadata": {},
   "outputs": [
    {
     "name": "stdout",
     "output_type": "stream",
     "text": [
      "<class 'pandas.core.frame.DataFrame'>\n",
      "RangeIndex: 190876 entries, 0 to 190875\n",
      "Data columns (total 12 columns):\n",
      " #   Column                Non-Null Count   Dtype \n",
      "---  ------                --------------   ----- \n",
      " 0   exfixt_id             190876 non-null  object\n",
      " 1   area_id               190854 non-null  object\n",
      " 2   created_by_user_id    190843 non-null  object\n",
      " 3   active                190833 non-null  object\n",
      " 4   existing_count        190811 non-null  object\n",
      " 5   created_at            190814 non-null  object\n",
      " 6   updated_at            190796 non-null  object\n",
      " 7   existing_lighting_id  190805 non-null  object\n",
      " 8   add_after             190791 non-null  object\n",
      " 9   uuid                  190784 non-null  object\n",
      " 10  custom_attributes     190789 non-null  object\n",
      " 11  audit_complete        185119 non-null  object\n",
      "dtypes: object(12)\n",
      "memory usage: 17.5+ MB\n"
     ]
    }
   ],
   "source": [
    "ex_fixt.info()"
   ]
  },
  {
   "cell_type": "code",
   "execution_count": 31,
   "metadata": {},
   "outputs": [
    {
     "data": {
      "text/plain": [
       "exfixt_id               190870\n",
       "area_id                 112814\n",
       "created_by_user_id         644\n",
       "active                       5\n",
       "existing_count            1156\n",
       "created_at              190134\n",
       "updated_at              190773\n",
       "existing_lighting_id     59890\n",
       "add_after                    6\n",
       "uuid                    190734\n",
       "custom_attributes        14888\n",
       "audit_complete               2\n",
       "dtype: int64"
      ]
     },
     "execution_count": 31,
     "metadata": {},
     "output_type": "execute_result"
    }
   ],
   "source": [
    "ex_fixt.nunique()"
   ]
  },
  {
   "cell_type": "code",
   "execution_count": 32,
   "metadata": {},
   "outputs": [],
   "source": [
    "areaid_count = ex_fixt.groupby(\"existing_lighting_id\")[\"area_id\"].count()"
   ]
  },
  {
   "cell_type": "code",
   "execution_count": 33,
   "metadata": {},
   "outputs": [],
   "source": [
    "ex_count = ex_fixt.groupby(\"existing_lighting_id\")[\"existing_count\"].sum()"
   ]
  },
  {
   "cell_type": "code",
   "execution_count": 34,
   "metadata": {},
   "outputs": [],
   "source": [
    "ex_fixt_new = (pd.merge(areaid_count,ex_count, on = 'existing_lighting_id',how='left'))"
   ]
  },
  {
   "cell_type": "code",
   "execution_count": 35,
   "metadata": {},
   "outputs": [
    {
     "data": {
      "text/plain": [
       "(59890, 2)"
      ]
     },
     "execution_count": 35,
     "metadata": {},
     "output_type": "execute_result"
    }
   ],
   "source": [
    "ex_fixt_new.shape"
   ]
  },
  {
   "cell_type": "code",
   "execution_count": 36,
   "metadata": {},
   "outputs": [
    {
     "data": {
      "text/plain": [
       "Index(['area_id', 'existing_count'], dtype='object')"
      ]
     },
     "execution_count": 36,
     "metadata": {},
     "output_type": "execute_result"
    }
   ],
   "source": [
    "ex_fixt_new.columns"
   ]
  },
  {
   "cell_type": "code",
   "execution_count": 37,
   "metadata": {},
   "outputs": [
    {
     "data": {
      "text/plain": [
       "(85076, 19)"
      ]
     },
     "execution_count": 37,
     "metadata": {},
     "output_type": "execute_result"
    }
   ],
   "source": [
    "df.shape"
   ]
  },
  {
   "cell_type": "code",
   "execution_count": 38,
   "metadata": {},
   "outputs": [
    {
     "data": {
      "text/plain": [
       "Index(['option_id', 'project_id_x', 'solution_id', 'project_id_y', 'name',\n",
       "       'existing_count', 'created_at_x', 'updated_at_x', 'active_x',\n",
       "       'created_by_user_id_x', 'incentive_type', 'product_count',\n",
       "       'existing_lighting_id', 'proposal_options_id', 'proposal_id',\n",
       "       'created_by_user_id_y', 'active_y', 'created_at_y', 'updated_at_y'],\n",
       "      dtype='object')"
      ]
     },
     "execution_count": 38,
     "metadata": {},
     "output_type": "execute_result"
    }
   ],
   "source": [
    "df.columns"
   ]
  },
  {
   "cell_type": "code",
   "execution_count": 39,
   "metadata": {},
   "outputs": [
    {
     "name": "stdout",
     "output_type": "stream",
     "text": [
      "Merging both dataframes on column option_id\n"
     ]
    },
    {
     "data": {
      "text/plain": [
       "(85076, 21)"
      ]
     },
     "execution_count": 39,
     "metadata": {},
     "output_type": "execute_result"
    }
   ],
   "source": [
    "print(\"Merging both dataframes on column option_id\")\n",
    "df=(pd.merge(df,ex_fixt_new, on = 'existing_lighting_id',how='left'))\n",
    "df.shape"
   ]
  },
  {
   "cell_type": "code",
   "execution_count": 40,
   "metadata": {},
   "outputs": [
    {
     "data": {
      "text/plain": [
       "Index(['option_id', 'project_id_x', 'solution_id', 'project_id_y', 'name',\n",
       "       'existing_count_x', 'created_at_x', 'updated_at_x', 'active_x',\n",
       "       'created_by_user_id_x', 'incentive_type', 'product_count',\n",
       "       'existing_lighting_id', 'proposal_options_id', 'proposal_id',\n",
       "       'created_by_user_id_y', 'active_y', 'created_at_y', 'updated_at_y',\n",
       "       'area_id', 'existing_count_y'],\n",
       "      dtype='object')"
      ]
     },
     "execution_count": 40,
     "metadata": {},
     "output_type": "execute_result"
    }
   ],
   "source": [
    "df.columns"
   ]
  },
  {
   "cell_type": "code",
   "execution_count": 41,
   "metadata": {},
   "outputs": [
    {
     "data": {
      "text/html": [
       "<div>\n",
       "<style scoped>\n",
       "    .dataframe tbody tr th:only-of-type {\n",
       "        vertical-align: middle;\n",
       "    }\n",
       "\n",
       "    .dataframe tbody tr th {\n",
       "        vertical-align: top;\n",
       "    }\n",
       "\n",
       "    .dataframe thead th {\n",
       "        text-align: right;\n",
       "    }\n",
       "</style>\n",
       "<table border=\"1\" class=\"dataframe\">\n",
       "  <thead>\n",
       "    <tr style=\"text-align: right;\">\n",
       "      <th></th>\n",
       "      <th>option_id</th>\n",
       "      <th>project_id_x</th>\n",
       "      <th>solution_id</th>\n",
       "      <th>project_id_y</th>\n",
       "      <th>name</th>\n",
       "      <th>existing_count_x</th>\n",
       "      <th>created_at_x</th>\n",
       "      <th>updated_at_x</th>\n",
       "      <th>active_x</th>\n",
       "      <th>created_by_user_id_x</th>\n",
       "      <th>...</th>\n",
       "      <th>product_count</th>\n",
       "      <th>existing_lighting_id</th>\n",
       "      <th>proposal_options_id</th>\n",
       "      <th>proposal_id</th>\n",
       "      <th>created_by_user_id_y</th>\n",
       "      <th>active_y</th>\n",
       "      <th>created_at_y</th>\n",
       "      <th>updated_at_y</th>\n",
       "      <th>area_id</th>\n",
       "      <th>existing_count_y</th>\n",
       "    </tr>\n",
       "  </thead>\n",
       "  <tbody>\n",
       "    <tr>\n",
       "      <th>0</th>\n",
       "      <td>38</td>\n",
       "      <td>75</td>\n",
       "      <td>NaN</td>\n",
       "      <td>NaN</td>\n",
       "      <td>NaN</td>\n",
       "      <td>NaN</td>\n",
       "      <td>NaN</td>\n",
       "      <td>NaN</td>\n",
       "      <td>NaN</td>\n",
       "      <td>NaN</td>\n",
       "      <td>...</td>\n",
       "      <td>NaN</td>\n",
       "      <td>NaN</td>\n",
       "      <td>NaN</td>\n",
       "      <td>NaN</td>\n",
       "      <td>NaN</td>\n",
       "      <td>NaN</td>\n",
       "      <td>NaN</td>\n",
       "      <td>NaN</td>\n",
       "      <td>NaN</td>\n",
       "      <td>NaN</td>\n",
       "    </tr>\n",
       "    <tr>\n",
       "      <th>1</th>\n",
       "      <td>49</td>\n",
       "      <td>80</td>\n",
       "      <td>NaN</td>\n",
       "      <td>NaN</td>\n",
       "      <td>NaN</td>\n",
       "      <td>NaN</td>\n",
       "      <td>NaN</td>\n",
       "      <td>NaN</td>\n",
       "      <td>NaN</td>\n",
       "      <td>NaN</td>\n",
       "      <td>...</td>\n",
       "      <td>NaN</td>\n",
       "      <td>NaN</td>\n",
       "      <td>NaN</td>\n",
       "      <td>NaN</td>\n",
       "      <td>NaN</td>\n",
       "      <td>NaN</td>\n",
       "      <td>NaN</td>\n",
       "      <td>NaN</td>\n",
       "      <td>NaN</td>\n",
       "      <td>NaN</td>\n",
       "    </tr>\n",
       "    <tr>\n",
       "      <th>2</th>\n",
       "      <td>57</td>\n",
       "      <td>88</td>\n",
       "      <td>209.0</td>\n",
       "      <td>88.0</td>\n",
       "      <td>South Side Solution</td>\n",
       "      <td>1.0</td>\n",
       "      <td>2016-12-08 02:18:02.037158</td>\n",
       "      <td>2016-12-28 00:39:45.596628</td>\n",
       "      <td>f</td>\n",
       "      <td>85.0</td>\n",
       "      <td>...</td>\n",
       "      <td>1.0</td>\n",
       "      <td>74.0</td>\n",
       "      <td>NaN</td>\n",
       "      <td>NaN</td>\n",
       "      <td>NaN</td>\n",
       "      <td>NaN</td>\n",
       "      <td>NaN</td>\n",
       "      <td>NaN</td>\n",
       "      <td>NaN</td>\n",
       "      <td>NaN</td>\n",
       "    </tr>\n",
       "    <tr>\n",
       "      <th>3</th>\n",
       "      <td>71</td>\n",
       "      <td>108</td>\n",
       "      <td>NaN</td>\n",
       "      <td>NaN</td>\n",
       "      <td>NaN</td>\n",
       "      <td>NaN</td>\n",
       "      <td>NaN</td>\n",
       "      <td>NaN</td>\n",
       "      <td>NaN</td>\n",
       "      <td>NaN</td>\n",
       "      <td>...</td>\n",
       "      <td>NaN</td>\n",
       "      <td>NaN</td>\n",
       "      <td>NaN</td>\n",
       "      <td>NaN</td>\n",
       "      <td>NaN</td>\n",
       "      <td>NaN</td>\n",
       "      <td>NaN</td>\n",
       "      <td>NaN</td>\n",
       "      <td>NaN</td>\n",
       "      <td>NaN</td>\n",
       "    </tr>\n",
       "    <tr>\n",
       "      <th>4</th>\n",
       "      <td>518</td>\n",
       "      <td>472</td>\n",
       "      <td>NaN</td>\n",
       "      <td>NaN</td>\n",
       "      <td>NaN</td>\n",
       "      <td>NaN</td>\n",
       "      <td>NaN</td>\n",
       "      <td>NaN</td>\n",
       "      <td>NaN</td>\n",
       "      <td>NaN</td>\n",
       "      <td>...</td>\n",
       "      <td>NaN</td>\n",
       "      <td>NaN</td>\n",
       "      <td>NaN</td>\n",
       "      <td>NaN</td>\n",
       "      <td>NaN</td>\n",
       "      <td>NaN</td>\n",
       "      <td>NaN</td>\n",
       "      <td>NaN</td>\n",
       "      <td>NaN</td>\n",
       "      <td>NaN</td>\n",
       "    </tr>\n",
       "  </tbody>\n",
       "</table>\n",
       "<p>5 rows × 21 columns</p>\n",
       "</div>"
      ],
      "text/plain": [
       "   option_id  project_id_x  solution_id  project_id_y                 name  \\\n",
       "0         38            75          NaN           NaN                  NaN   \n",
       "1         49            80          NaN           NaN                  NaN   \n",
       "2         57            88        209.0          88.0  South Side Solution   \n",
       "3         71           108          NaN           NaN                  NaN   \n",
       "4        518           472          NaN           NaN                  NaN   \n",
       "\n",
       "   existing_count_x                created_at_x                updated_at_x  \\\n",
       "0               NaN                         NaN                         NaN   \n",
       "1               NaN                         NaN                         NaN   \n",
       "2               1.0  2016-12-08 02:18:02.037158  2016-12-28 00:39:45.596628   \n",
       "3               NaN                         NaN                         NaN   \n",
       "4               NaN                         NaN                         NaN   \n",
       "\n",
       "  active_x  created_by_user_id_x  ...  product_count  existing_lighting_id  \\\n",
       "0      NaN                   NaN  ...            NaN                   NaN   \n",
       "1      NaN                   NaN  ...            NaN                   NaN   \n",
       "2        f                  85.0  ...            1.0                  74.0   \n",
       "3      NaN                   NaN  ...            NaN                   NaN   \n",
       "4      NaN                   NaN  ...            NaN                   NaN   \n",
       "\n",
       "  proposal_options_id  proposal_id  created_by_user_id_y  active_y  \\\n",
       "0                 NaN          NaN                   NaN       NaN   \n",
       "1                 NaN          NaN                   NaN       NaN   \n",
       "2                 NaN          NaN                   NaN       NaN   \n",
       "3                 NaN          NaN                   NaN       NaN   \n",
       "4                 NaN          NaN                   NaN       NaN   \n",
       "\n",
       "  created_at_y updated_at_y area_id  existing_count_y  \n",
       "0          NaN          NaN     NaN               NaN  \n",
       "1          NaN          NaN     NaN               NaN  \n",
       "2          NaN          NaN     NaN               NaN  \n",
       "3          NaN          NaN     NaN               NaN  \n",
       "4          NaN          NaN     NaN               NaN  \n",
       "\n",
       "[5 rows x 21 columns]"
      ]
     },
     "execution_count": 41,
     "metadata": {},
     "output_type": "execute_result"
    }
   ],
   "source": [
    "df.head()"
   ]
  },
  {
   "cell_type": "code",
   "execution_count": 42,
   "metadata": {},
   "outputs": [],
   "source": [
    "df.rename(columns = {'existing_count_x':'existing_count_solutions'}, inplace = True)"
   ]
  },
  {
   "cell_type": "code",
   "execution_count": 43,
   "metadata": {},
   "outputs": [],
   "source": [
    "df.rename(columns = {'existing_count_y':'existing_count_exlight'}, inplace = True)"
   ]
  },
  {
   "cell_type": "code",
   "execution_count": 44,
   "metadata": {},
   "outputs": [
    {
     "name": "stderr",
     "output_type": "stream",
     "text": [
      "b'Skipping line 92: expected 64 fields, saw 66\\nSkipping line 224: expected 64 fields, saw 68\\nSkipping line 3152: expected 64 fields, saw 67\\nSkipping line 3153: expected 64 fields, saw 67\\nSkipping line 3164: expected 64 fields, saw 67\\nSkipping line 3169: expected 64 fields, saw 67\\nSkipping line 3180: expected 64 fields, saw 67\\nSkipping line 3216: expected 64 fields, saw 67\\nSkipping line 3256: expected 64 fields, saw 67\\nSkipping line 3285: expected 64 fields, saw 67\\nSkipping line 3340: expected 64 fields, saw 67\\nSkipping line 3372: expected 64 fields, saw 67\\nSkipping line 3391: expected 64 fields, saw 67\\nSkipping line 3392: expected 64 fields, saw 67\\nSkipping line 3396: expected 64 fields, saw 67\\nSkipping line 3401: expected 64 fields, saw 67\\nSkipping line 3408: expected 64 fields, saw 67\\nSkipping line 3409: expected 64 fields, saw 67\\nSkipping line 3411: expected 64 fields, saw 67\\nSkipping line 5538: expected 64 fields, saw 65\\nSkipping line 6258: expected 64 fields, saw 74\\nSkipping line 6261: expected 64 fields, saw 74\\nSkipping line 7550: expected 64 fields, saw 68\\nSkipping line 7562: expected 64 fields, saw 65\\nSkipping line 7590: expected 64 fields, saw 68\\nSkipping line 7627: expected 64 fields, saw 66\\nSkipping line 7654: expected 64 fields, saw 68\\nSkipping line 7679: expected 64 fields, saw 67\\nSkipping line 7719: expected 64 fields, saw 68\\nSkipping line 7724: expected 64 fields, saw 66\\nSkipping line 7767: expected 64 fields, saw 67\\nSkipping line 7814: expected 64 fields, saw 67\\nSkipping line 7870: expected 64 fields, saw 65\\nSkipping line 7888: expected 64 fields, saw 68\\n'\n",
      "b'Skipping line 8701: expected 64 fields, saw 72\\nSkipping line 9669: expected 64 fields, saw 65\\nSkipping line 10852: expected 64 fields, saw 75\\nSkipping line 12231: expected 64 fields, saw 67\\nSkipping line 15476: expected 64 fields, saw 69\\nSkipping line 15545: expected 64 fields, saw 68\\n'\n",
      "b'Skipping line 18315: expected 64 fields, saw 65\\nSkipping line 19506: expected 64 fields, saw 66\\nSkipping line 20488: expected 64 fields, saw 67\\nSkipping line 20507: expected 64 fields, saw 65\\nSkipping line 20519: expected 64 fields, saw 65\\nSkipping line 20521: expected 64 fields, saw 65\\nSkipping line 20575: expected 64 fields, saw 65\\nSkipping line 20580: expected 64 fields, saw 65\\nSkipping line 20599: expected 64 fields, saw 65\\nSkipping line 20601: expected 64 fields, saw 65\\nSkipping line 20603: expected 64 fields, saw 65\\nSkipping line 20619: expected 64 fields, saw 65\\nSkipping line 20631: expected 64 fields, saw 65\\nSkipping line 20643: expected 64 fields, saw 65\\nSkipping line 20718: expected 64 fields, saw 66\\nSkipping line 20720: expected 64 fields, saw 66\\nSkipping line 20821: expected 64 fields, saw 65\\nSkipping line 20828: expected 64 fields, saw 65\\nSkipping line 20834: expected 64 fields, saw 65\\nSkipping line 20841: expected 64 fields, saw 65\\nSkipping line 20843: expected 64 fields, saw 65\\nSkipping line 20858: expected 64 fields, saw 65\\nSkipping line 20864: expected 64 fields, saw 65\\nSkipping line 20874: expected 64 fields, saw 65\\nSkipping line 20877: expected 64 fields, saw 65\\nSkipping line 20879: expected 64 fields, saw 65\\nSkipping line 20881: expected 64 fields, saw 65\\nSkipping line 22205: expected 64 fields, saw 68\\nSkipping line 22207: expected 64 fields, saw 68\\nSkipping line 24218: expected 64 fields, saw 66\\nSkipping line 24488: expected 64 fields, saw 67\\nSkipping line 24615: expected 64 fields, saw 65\\n'\n",
      "b'Skipping line 25236: expected 64 fields, saw 65\\nSkipping line 25239: expected 64 fields, saw 65\\nSkipping line 25288: expected 64 fields, saw 65\\nSkipping line 25290: expected 64 fields, saw 65\\nSkipping line 25298: expected 64 fields, saw 65\\nSkipping line 31695: expected 64 fields, saw 78\\n'\n",
      "b'Skipping line 35550: expected 64 fields, saw 66\\nSkipping line 40825: expected 64 fields, saw 67\\n'\n",
      "b'Skipping line 41221: expected 64 fields, saw 67\\nSkipping line 41224: expected 64 fields, saw 67\\nSkipping line 41240: expected 64 fields, saw 67\\nSkipping line 41259: expected 64 fields, saw 67\\nSkipping line 41261: expected 64 fields, saw 67\\nSkipping line 41277: expected 64 fields, saw 67\\nSkipping line 44150: expected 64 fields, saw 65\\nSkipping line 44176: expected 64 fields, saw 65\\nSkipping line 45977: expected 64 fields, saw 65\\nSkipping line 46168: expected 64 fields, saw 65\\nSkipping line 46988: expected 64 fields, saw 66\\nSkipping line 48741: expected 64 fields, saw 66\\n'\n",
      "b'Skipping line 53126: expected 64 fields, saw 65\\nSkipping line 53127: expected 64 fields, saw 65\\nSkipping line 53596: expected 64 fields, saw 66\\nSkipping line 53608: expected 64 fields, saw 66\\n'\n",
      "b'Skipping line 61917: expected 64 fields, saw 65\\nSkipping line 62369: expected 64 fields, saw 66\\nSkipping line 64898: expected 64 fields, saw 67\\n'\n",
      "b'Skipping line 66799: expected 64 fields, saw 66\\nSkipping line 67017: expected 64 fields, saw 66\\nSkipping line 67617: expected 64 fields, saw 67\\nSkipping line 68116: expected 64 fields, saw 65\\nSkipping line 68125: expected 64 fields, saw 65\\nSkipping line 68148: expected 64 fields, saw 68\\nSkipping line 68188: expected 64 fields, saw 66\\nSkipping line 68190: expected 64 fields, saw 66\\nSkipping line 68207: expected 64 fields, saw 65\\nSkipping line 68251: expected 64 fields, saw 65\\nSkipping line 68360: expected 64 fields, saw 67\\nSkipping line 68362: expected 64 fields, saw 65\\nSkipping line 68366: expected 64 fields, saw 65\\nSkipping line 68485: expected 64 fields, saw 65\\nSkipping line 68551: expected 64 fields, saw 65\\nSkipping line 68623: expected 64 fields, saw 67\\nSkipping line 68633: expected 64 fields, saw 66\\nSkipping line 68640: expected 64 fields, saw 67\\nSkipping line 68652: expected 64 fields, saw 65\\nSkipping line 68685: expected 64 fields, saw 65\\nSkipping line 68689: expected 64 fields, saw 65\\nSkipping line 68768: expected 64 fields, saw 65\\nSkipping line 68889: expected 64 fields, saw 67\\nSkipping line 70444: expected 64 fields, saw 66\\nSkipping line 70464: expected 64 fields, saw 67\\nSkipping line 70519: expected 64 fields, saw 66\\nSkipping line 70828: expected 64 fields, saw 66\\nSkipping line 71640: expected 64 fields, saw 65\\nSkipping line 71673: expected 64 fields, saw 65\\n'\n",
      "b'Skipping line 74278: expected 64 fields, saw 65\\nSkipping line 74294: expected 64 fields, saw 65\\nSkipping line 74304: expected 64 fields, saw 65\\nSkipping line 74322: expected 64 fields, saw 65\\nSkipping line 74337: expected 64 fields, saw 65\\nSkipping line 74363: expected 64 fields, saw 65\\nSkipping line 74396: expected 64 fields, saw 65\\nSkipping line 74404: expected 64 fields, saw 65\\nSkipping line 74444: expected 64 fields, saw 65\\nSkipping line 74450: expected 64 fields, saw 65\\nSkipping line 77949: expected 64 fields, saw 67\\nSkipping line 79853: expected 64 fields, saw 65\\nSkipping line 79866: expected 64 fields, saw 65\\nSkipping line 80297: expected 64 fields, saw 66\\nSkipping line 81119: expected 64 fields, saw 65\\nSkipping line 81178: expected 64 fields, saw 65\\nSkipping line 81226: expected 64 fields, saw 65\\nSkipping line 81236: expected 64 fields, saw 65\\nSkipping line 81249: expected 64 fields, saw 65\\nSkipping line 81262: expected 64 fields, saw 65\\n'\n",
      "b'Skipping line 83034: expected 64 fields, saw 66\\nSkipping line 84222: expected 64 fields, saw 65\\nSkipping line 87574: expected 64 fields, saw 65\\nSkipping line 87589: expected 64 fields, saw 65\\nSkipping line 87605: expected 64 fields, saw 65\\nSkipping line 89139: expected 64 fields, saw 66\\n'\n",
      "b'Skipping line 91120: expected 64 fields, saw 67\\nSkipping line 91286: expected 64 fields, saw 65\\nSkipping line 91309: expected 64 fields, saw 65\\nSkipping line 91317: expected 64 fields, saw 65\\nSkipping line 91473: expected 64 fields, saw 65\\nSkipping line 94661: expected 64 fields, saw 65\\nSkipping line 94662: expected 64 fields, saw 65\\nSkipping line 96380: expected 64 fields, saw 65\\n'\n",
      "b'Skipping line 99051: expected 64 fields, saw 66\\nSkipping line 105773: expected 64 fields, saw 67\\n'\n",
      "b'Skipping line 106809: expected 64 fields, saw 66\\nSkipping line 106813: expected 64 fields, saw 65\\nSkipping line 107151: expected 64 fields, saw 66\\nSkipping line 107378: expected 64 fields, saw 65\\nSkipping line 107449: expected 64 fields, saw 65\\nSkipping line 107516: expected 64 fields, saw 65\\nSkipping line 107557: expected 64 fields, saw 65\\nSkipping line 107621: expected 64 fields, saw 65\\nSkipping line 108097: expected 64 fields, saw 66\\nSkipping line 108445: expected 64 fields, saw 65\\nSkipping line 108446: expected 64 fields, saw 65\\nSkipping line 108447: expected 64 fields, saw 65\\nSkipping line 108448: expected 64 fields, saw 65\\nSkipping line 108461: expected 64 fields, saw 65\\nSkipping line 108462: expected 64 fields, saw 65\\nSkipping line 108463: expected 64 fields, saw 65\\nSkipping line 109476: expected 64 fields, saw 65\\nSkipping line 109477: expected 64 fields, saw 65\\nSkipping line 109479: expected 64 fields, saw 65\\nSkipping line 110176: expected 64 fields, saw 65\\nSkipping line 110189: expected 64 fields, saw 65\\nSkipping line 110190: expected 64 fields, saw 65\\n'\n",
      "b'Skipping line 115202: expected 64 fields, saw 67\\nSkipping line 115232: expected 64 fields, saw 67\\nSkipping line 118714: expected 64 fields, saw 65\\nSkipping line 118715: expected 64 fields, saw 65\\nSkipping line 120363: expected 64 fields, saw 65\\n'\n",
      "b'Skipping line 125737: expected 64 fields, saw 66\\nSkipping line 127933: expected 64 fields, saw 66\\nSkipping line 128048: expected 64 fields, saw 66\\nSkipping line 129780: expected 64 fields, saw 70\\n'\n"
     ]
    },
    {
     "name": "stderr",
     "output_type": "stream",
     "text": [
      "b'Skipping line 131698: expected 64 fields, saw 67\\nSkipping line 131844: expected 64 fields, saw 67\\nSkipping line 132048: expected 64 fields, saw 65\\nSkipping line 132053: expected 64 fields, saw 65\\nSkipping line 132105: expected 64 fields, saw 65\\nSkipping line 132135: expected 64 fields, saw 65\\nSkipping line 132173: expected 64 fields, saw 65\\nSkipping line 132228: expected 64 fields, saw 65\\nSkipping line 132229: expected 64 fields, saw 65\\nSkipping line 132260: expected 64 fields, saw 65\\nSkipping line 132312: expected 64 fields, saw 65\\nSkipping line 132392: expected 64 fields, saw 65\\nSkipping line 132430: expected 64 fields, saw 65\\nSkipping line 132449: expected 64 fields, saw 65\\nSkipping line 132547: expected 64 fields, saw 65\\nSkipping line 132605: expected 64 fields, saw 65\\nSkipping line 133756: expected 64 fields, saw 65\\nSkipping line 133759: expected 64 fields, saw 65\\nSkipping line 133835: expected 64 fields, saw 65\\nSkipping line 133850: expected 64 fields, saw 65\\nSkipping line 134381: expected 64 fields, saw 66\\nSkipping line 134399: expected 64 fields, saw 66\\nSkipping line 134451: expected 64 fields, saw 66\\nSkipping line 134457: expected 64 fields, saw 66\\nSkipping line 134460: expected 64 fields, saw 66\\nSkipping line 134462: expected 64 fields, saw 66\\nSkipping line 134472: expected 64 fields, saw 66\\nSkipping line 134476: expected 64 fields, saw 66\\nSkipping line 134479: expected 64 fields, saw 66\\nSkipping line 134505: expected 64 fields, saw 66\\nSkipping line 134533: expected 64 fields, saw 65\\nSkipping line 134535: expected 64 fields, saw 66\\nSkipping line 134556: expected 64 fields, saw 66\\nSkipping line 134566: expected 64 fields, saw 67\\nSkipping line 134568: expected 64 fields, saw 67\\nSkipping line 134569: expected 64 fields, saw 67\\nSkipping line 134570: expected 64 fields, saw 67\\nSkipping line 134572: expected 64 fields, saw 67\\nSkipping line 134573: expected 64 fields, saw 67\\nSkipping line 134574: expected 64 fields, saw 67\\nSkipping line 134578: expected 64 fields, saw 67\\nSkipping line 134581: expected 64 fields, saw 67\\nSkipping line 134585: expected 64 fields, saw 67\\nSkipping line 134589: expected 64 fields, saw 67\\nSkipping line 134591: expected 64 fields, saw 67\\nSkipping line 134595: expected 64 fields, saw 67\\nSkipping line 134596: expected 64 fields, saw 67\\nSkipping line 134601: expected 64 fields, saw 67\\nSkipping line 134608: expected 64 fields, saw 67\\nSkipping line 134624: expected 64 fields, saw 65\\nSkipping line 134629: expected 64 fields, saw 67\\nSkipping line 134634: expected 64 fields, saw 65\\nSkipping line 134635: expected 64 fields, saw 65\\nSkipping line 134636: expected 64 fields, saw 65\\nSkipping line 134638: expected 64 fields, saw 65\\nSkipping line 134666: expected 64 fields, saw 65\\nSkipping line 134709: expected 64 fields, saw 65\\nSkipping line 134713: expected 64 fields, saw 65\\nSkipping line 134727: expected 64 fields, saw 65\\nSkipping line 134728: expected 64 fields, saw 65\\nSkipping line 134735: expected 64 fields, saw 65\\nSkipping line 134736: expected 64 fields, saw 65\\nSkipping line 134743: expected 64 fields, saw 65\\nSkipping line 134839: expected 64 fields, saw 66\\nSkipping line 134847: expected 64 fields, saw 67\\nSkipping line 136095: expected 64 fields, saw 65\\nSkipping line 136107: expected 64 fields, saw 65\\nSkipping line 136120: expected 64 fields, saw 65\\nSkipping line 136123: expected 64 fields, saw 65\\nSkipping line 136212: expected 64 fields, saw 65\\nSkipping line 136382: expected 64 fields, saw 65\\nSkipping line 136627: expected 64 fields, saw 65\\nSkipping line 136743: expected 64 fields, saw 65\\nSkipping line 136784: expected 64 fields, saw 65\\nSkipping line 136851: expected 64 fields, saw 65\\nSkipping line 136963: expected 64 fields, saw 65\\nSkipping line 137013: expected 64 fields, saw 65\\nSkipping line 137055: expected 64 fields, saw 65\\nSkipping line 137106: expected 64 fields, saw 65\\nSkipping line 137114: expected 64 fields, saw 65\\nSkipping line 137165: expected 64 fields, saw 67\\nSkipping line 138364: expected 64 fields, saw 66\\nSkipping line 138709: expected 64 fields, saw 68\\nSkipping line 138799: expected 64 fields, saw 66\\nSkipping line 138971: expected 64 fields, saw 66\\nSkipping line 138982: expected 64 fields, saw 66\\nSkipping line 138992: expected 64 fields, saw 66\\nSkipping line 139001: expected 64 fields, saw 66\\nSkipping line 139324: expected 64 fields, saw 66\\n'\n",
      "b'Skipping line 141425: expected 64 fields, saw 65\\nSkipping line 141426: expected 64 fields, saw 65\\nSkipping line 141427: expected 64 fields, saw 65\\nSkipping line 141459: expected 64 fields, saw 65\\nSkipping line 141526: expected 64 fields, saw 65\\nSkipping line 141541: expected 64 fields, saw 65\\nSkipping line 141780: expected 64 fields, saw 67\\nSkipping line 141783: expected 64 fields, saw 67\\nSkipping line 142459: expected 64 fields, saw 66\\nSkipping line 142461: expected 64 fields, saw 66\\nSkipping line 142466: expected 64 fields, saw 66\\nSkipping line 142474: expected 64 fields, saw 66\\nSkipping line 142611: expected 64 fields, saw 66\\nSkipping line 143918: expected 64 fields, saw 65\\nSkipping line 144049: expected 64 fields, saw 65\\n'\n",
      "b'Skipping line 149587: expected 64 fields, saw 65\\nSkipping line 149794: expected 64 fields, saw 67\\nSkipping line 151151: expected 64 fields, saw 65\\nSkipping line 151371: expected 64 fields, saw 65\\nSkipping line 152039: expected 64 fields, saw 68\\nSkipping line 152041: expected 64 fields, saw 68\\nSkipping line 152052: expected 64 fields, saw 68\\nSkipping line 152053: expected 64 fields, saw 68\\nSkipping line 152070: expected 64 fields, saw 68\\nSkipping line 152084: expected 64 fields, saw 68\\nSkipping line 152145: expected 64 fields, saw 66\\nSkipping line 152806: expected 64 fields, saw 65\\nSkipping line 152952: expected 64 fields, saw 66\\nSkipping line 153005: expected 64 fields, saw 65\\nSkipping line 153033: expected 64 fields, saw 66\\nSkipping line 155609: expected 64 fields, saw 65\\n'\n",
      "b'Skipping line 158201: expected 64 fields, saw 65\\nSkipping line 163839: expected 64 fields, saw 66\\n'\n",
      "b'Skipping line 167353: expected 64 fields, saw 67\\nSkipping line 167398: expected 64 fields, saw 67\\nSkipping line 167429: expected 64 fields, saw 67\\nSkipping line 167430: expected 64 fields, saw 67\\nSkipping line 167444: expected 64 fields, saw 67\\nSkipping line 167460: expected 64 fields, saw 67\\nSkipping line 167476: expected 64 fields, saw 67\\nSkipping line 167564: expected 64 fields, saw 66\\nSkipping line 171730: expected 64 fields, saw 66\\n'\n",
      "b'Skipping line 176257: expected 64 fields, saw 65\\nSkipping line 177874: expected 64 fields, saw 67\\nSkipping line 178526: expected 64 fields, saw 67\\nSkipping line 178580: expected 64 fields, saw 67\\n'\n",
      "b'Skipping line 180982: expected 64 fields, saw 67\\nSkipping line 181530: expected 64 fields, saw 65\\nSkipping line 181581: expected 64 fields, saw 66\\nSkipping line 181593: expected 64 fields, saw 66\\nSkipping line 182423: expected 64 fields, saw 66\\nSkipping line 186277: expected 64 fields, saw 65\\n'\n",
      "b'Skipping line 189908: expected 64 fields, saw 67\\nSkipping line 189923: expected 64 fields, saw 67\\nSkipping line 189934: expected 64 fields, saw 67\\nSkipping line 189936: expected 64 fields, saw 67\\nSkipping line 190006: expected 64 fields, saw 67\\nSkipping line 190049: expected 64 fields, saw 67\\nSkipping line 191522: expected 64 fields, saw 67\\nSkipping line 192217: expected 64 fields, saw 67\\nSkipping line 192232: expected 64 fields, saw 67\\nSkipping line 192300: expected 64 fields, saw 67\\nSkipping line 192585: expected 64 fields, saw 67\\nSkipping line 192594: expected 64 fields, saw 67\\nSkipping line 193094: expected 64 fields, saw 67\\nSkipping line 193121: expected 64 fields, saw 67\\nSkipping line 193145: expected 64 fields, saw 67\\nSkipping line 193200: expected 64 fields, saw 67\\nSkipping line 193206: expected 64 fields, saw 67\\nSkipping line 193210: expected 64 fields, saw 67\\nSkipping line 193287: expected 64 fields, saw 67\\nSkipping line 193297: expected 64 fields, saw 67\\nSkipping line 193686: expected 64 fields, saw 67\\nSkipping line 193687: expected 64 fields, saw 67\\nSkipping line 193751: expected 64 fields, saw 67\\nSkipping line 193761: expected 64 fields, saw 67\\nSkipping line 193762: expected 64 fields, saw 67\\nSkipping line 193788: expected 64 fields, saw 67\\nSkipping line 193807: expected 64 fields, saw 67\\nSkipping line 193927: expected 64 fields, saw 67\\nSkipping line 194252: expected 64 fields, saw 67\\nSkipping line 194554: expected 64 fields, saw 71\\nSkipping line 194714: expected 64 fields, saw 67\\nSkipping line 194737: expected 64 fields, saw 67\\nSkipping line 194834: expected 64 fields, saw 67\\nSkipping line 194926: expected 64 fields, saw 67\\nSkipping line 194927: expected 64 fields, saw 67\\nSkipping line 194939: expected 64 fields, saw 67\\nSkipping line 194941: expected 64 fields, saw 67\\nSkipping line 195594: expected 64 fields, saw 67\\nSkipping line 195860: expected 64 fields, saw 67\\nSkipping line 196060: expected 64 fields, saw 67\\nSkipping line 196071: expected 64 fields, saw 67\\nSkipping line 196715: expected 64 fields, saw 67\\nSkipping line 196728: expected 64 fields, saw 67\\nSkipping line 196776: expected 64 fields, saw 67\\nSkipping line 196795: expected 64 fields, saw 67\\n'\n",
      "b'Skipping line 197213: expected 64 fields, saw 65\\nSkipping line 197215: expected 64 fields, saw 67\\nSkipping line 197238: expected 64 fields, saw 67\\nSkipping line 198305: expected 64 fields, saw 67\\nSkipping line 198334: expected 64 fields, saw 67\\nSkipping line 198349: expected 64 fields, saw 67\\nSkipping line 198394: expected 64 fields, saw 65\\nSkipping line 198410: expected 64 fields, saw 67\\nSkipping line 198420: expected 64 fields, saw 65\\nSkipping line 198426: expected 64 fields, saw 67\\nSkipping line 198710: expected 64 fields, saw 67\\nSkipping line 198819: expected 64 fields, saw 67\\nSkipping line 198851: expected 64 fields, saw 67\\nSkipping line 199160: expected 64 fields, saw 66\\nSkipping line 199812: expected 64 fields, saw 67\\nSkipping line 200475: expected 64 fields, saw 67\\nSkipping line 201088: expected 64 fields, saw 67\\nSkipping line 201117: expected 64 fields, saw 67\\nSkipping line 201121: expected 64 fields, saw 67\\nSkipping line 201133: expected 64 fields, saw 67\\nSkipping line 201135: expected 64 fields, saw 67\\nSkipping line 201146: expected 64 fields, saw 67\\nSkipping line 201534: expected 64 fields, saw 67\\nSkipping line 201908: expected 64 fields, saw 67\\nSkipping line 202381: expected 64 fields, saw 67\\nSkipping line 202639: expected 64 fields, saw 65\\nSkipping line 202640: expected 64 fields, saw 65\\nSkipping line 202838: expected 64 fields, saw 65\\nSkipping line 202869: expected 64 fields, saw 67\\nSkipping line 202923: expected 64 fields, saw 67\\nSkipping line 203281: expected 64 fields, saw 65\\nSkipping line 203764: expected 64 fields, saw 66\\nSkipping line 203921: expected 64 fields, saw 65\\nSkipping line 204454: expected 64 fields, saw 65\\nSkipping line 204479: expected 64 fields, saw 65\\nSkipping line 204480: expected 64 fields, saw 65\\nSkipping line 204830: expected 64 fields, saw 67\\nSkipping line 204861: expected 64 fields, saw 67\\nSkipping line 204879: expected 64 fields, saw 67\\nSkipping line 205047: expected 64 fields, saw 67\\nSkipping line 205144: expected 64 fields, saw 67\\nSkipping line 205220: expected 64 fields, saw 67\\n'\n",
      "b'Skipping line 205331: expected 64 fields, saw 65\\nSkipping line 205334: expected 64 fields, saw 65\\nSkipping line 205338: expected 64 fields, saw 65\\nSkipping line 205344: expected 64 fields, saw 65\\nSkipping line 205346: expected 64 fields, saw 65\\nSkipping line 205350: expected 64 fields, saw 65\\nSkipping line 205354: expected 64 fields, saw 65\\nSkipping line 205360: expected 64 fields, saw 65\\nSkipping line 205372: expected 64 fields, saw 65\\nSkipping line 205378: expected 64 fields, saw 65\\nSkipping line 205380: expected 64 fields, saw 65\\nSkipping line 205388: expected 64 fields, saw 65\\nSkipping line 205399: expected 64 fields, saw 65\\nSkipping line 205400: expected 64 fields, saw 65\\nSkipping line 205706: expected 64 fields, saw 67\\nSkipping line 205956: expected 64 fields, saw 65\\nSkipping line 205959: expected 64 fields, saw 65\\nSkipping line 205963: expected 64 fields, saw 65\\nSkipping line 205986: expected 64 fields, saw 65\\nSkipping line 205988: expected 64 fields, saw 65\\nSkipping line 205995: expected 64 fields, saw 65\\nSkipping line 205999: expected 64 fields, saw 65\\nSkipping line 206009: expected 64 fields, saw 65\\nSkipping line 206017: expected 64 fields, saw 65\\nSkipping line 206025: expected 64 fields, saw 65\\nSkipping line 206027: expected 64 fields, saw 65\\nSkipping line 206031: expected 64 fields, saw 65\\nSkipping line 206040: expected 64 fields, saw 65\\nSkipping line 206041: expected 64 fields, saw 65\\nSkipping line 206997: expected 64 fields, saw 67\\nSkipping line 211289: expected 64 fields, saw 66\\nSkipping line 211534: expected 64 fields, saw 67\\nSkipping line 211537: expected 64 fields, saw 67\\n'\n"
     ]
    },
    {
     "name": "stderr",
     "output_type": "stream",
     "text": [
      "b'Skipping line 214120: expected 64 fields, saw 68\\nSkipping line 214122: expected 64 fields, saw 68\\nSkipping line 214123: expected 64 fields, saw 68\\nSkipping line 214127: expected 64 fields, saw 68\\nSkipping line 214133: expected 64 fields, saw 68\\nSkipping line 214146: expected 64 fields, saw 68\\nSkipping line 214154: expected 64 fields, saw 68\\nSkipping line 214170: expected 64 fields, saw 68\\nSkipping line 214172: expected 64 fields, saw 68\\nSkipping line 214229: expected 64 fields, saw 68\\nSkipping line 214230: expected 64 fields, saw 68\\nSkipping line 215113: expected 64 fields, saw 65\\nSkipping line 215562: expected 64 fields, saw 65\\nSkipping line 215969: expected 64 fields, saw 68\\nSkipping line 215972: expected 64 fields, saw 68\\nSkipping line 217063: expected 64 fields, saw 65\\nSkipping line 218966: expected 64 fields, saw 67\\nSkipping line 220136: expected 64 fields, saw 66\\nSkipping line 220556: expected 64 fields, saw 65\\nSkipping line 221457: expected 64 fields, saw 65\\n'\n",
      "b'Skipping line 225432: expected 64 fields, saw 65\\nSkipping line 225614: expected 64 fields, saw 66\\nSkipping line 226608: expected 64 fields, saw 67\\n'\n",
      "b'Skipping line 230650: expected 64 fields, saw 65\\n'\n",
      "b'Skipping line 242893: expected 64 fields, saw 65\\nSkipping line 243536: expected 64 fields, saw 65\\nSkipping line 243537: expected 64 fields, saw 65\\nSkipping line 244093: expected 64 fields, saw 65\\nSkipping line 244094: expected 64 fields, saw 65\\nSkipping line 244632: expected 64 fields, saw 66\\n'\n",
      "b'Skipping line 248100: expected 64 fields, saw 68\\nSkipping line 248104: expected 64 fields, saw 68\\nSkipping line 248105: expected 64 fields, saw 68\\nSkipping line 248107: expected 64 fields, saw 68\\nSkipping line 248110: expected 64 fields, saw 68\\nSkipping line 251003: expected 64 fields, saw 67\\nSkipping line 253509: expected 64 fields, saw 65\\nSkipping line 253693: expected 64 fields, saw 65\\nSkipping line 254411: expected 64 fields, saw 65\\nSkipping line 254413: expected 64 fields, saw 65\\n'\n",
      "b'Skipping line 255102: expected 64 fields, saw 67\\nSkipping line 256333: expected 64 fields, saw 67\\nSkipping line 256334: expected 64 fields, saw 67\\nSkipping line 256336: expected 64 fields, saw 67\\nSkipping line 256337: expected 64 fields, saw 67\\nSkipping line 256339: expected 64 fields, saw 67\\nSkipping line 256340: expected 64 fields, saw 67\\nSkipping line 256341: expected 64 fields, saw 67\\nSkipping line 256342: expected 64 fields, saw 67\\nSkipping line 256343: expected 64 fields, saw 67\\nSkipping line 256345: expected 64 fields, saw 67\\nSkipping line 256346: expected 64 fields, saw 67\\nSkipping line 256347: expected 64 fields, saw 67\\nSkipping line 256348: expected 64 fields, saw 67\\nSkipping line 256349: expected 64 fields, saw 67\\nSkipping line 256350: expected 64 fields, saw 67\\nSkipping line 256351: expected 64 fields, saw 67\\nSkipping line 256352: expected 64 fields, saw 67\\nSkipping line 256355: expected 64 fields, saw 67\\nSkipping line 256356: expected 64 fields, saw 67\\nSkipping line 256357: expected 64 fields, saw 67\\nSkipping line 256358: expected 64 fields, saw 67\\nSkipping line 256359: expected 64 fields, saw 67\\nSkipping line 256360: expected 64 fields, saw 67\\nSkipping line 256362: expected 64 fields, saw 67\\nSkipping line 256363: expected 64 fields, saw 67\\nSkipping line 256364: expected 64 fields, saw 67\\nSkipping line 256369: expected 64 fields, saw 67\\nSkipping line 256370: expected 64 fields, saw 67\\nSkipping line 256372: expected 64 fields, saw 67\\nSkipping line 256373: expected 64 fields, saw 67\\nSkipping line 256375: expected 64 fields, saw 67\\nSkipping line 256446: expected 64 fields, saw 67\\nSkipping line 256447: expected 64 fields, saw 67\\nSkipping line 256448: expected 64 fields, saw 67\\nSkipping line 256456: expected 64 fields, saw 67\\nSkipping line 256457: expected 64 fields, saw 67\\nSkipping line 256458: expected 64 fields, saw 67\\nSkipping line 256460: expected 64 fields, saw 67\\nSkipping line 256461: expected 64 fields, saw 67\\nSkipping line 256462: expected 64 fields, saw 67\\nSkipping line 258291: expected 64 fields, saw 66\\nSkipping line 258477: expected 64 fields, saw 67\\nSkipping line 259050: expected 64 fields, saw 66\\n'\n",
      "b'Skipping line 266082: expected 64 fields, saw 67\\nSkipping line 266218: expected 64 fields, saw 66\\nSkipping line 268311: expected 64 fields, saw 67\\nSkipping line 268505: expected 64 fields, saw 67\\nSkipping line 268625: expected 64 fields, saw 67\\n'\n",
      "b'Skipping line 271221: expected 64 fields, saw 65\\nSkipping line 278193: expected 64 fields, saw 67\\nSkipping line 278236: expected 64 fields, saw 67\\n'\n",
      "b'Skipping line 283321: expected 64 fields, saw 66\\nSkipping line 283324: expected 64 fields, saw 66\\nSkipping line 283326: expected 64 fields, saw 66\\nSkipping line 283327: expected 64 fields, saw 66\\nSkipping line 283328: expected 64 fields, saw 66\\nSkipping line 283329: expected 64 fields, saw 66\\nSkipping line 283331: expected 64 fields, saw 66\\nSkipping line 283333: expected 64 fields, saw 66\\nSkipping line 283334: expected 64 fields, saw 66\\nSkipping line 283335: expected 64 fields, saw 66\\nSkipping line 283352: expected 64 fields, saw 66\\nSkipping line 283359: expected 64 fields, saw 66\\nSkipping line 283387: expected 64 fields, saw 66\\nSkipping line 283393: expected 64 fields, saw 66\\nSkipping line 283400: expected 64 fields, saw 66\\nSkipping line 283409: expected 64 fields, saw 66\\nSkipping line 283417: expected 64 fields, saw 66\\nSkipping line 283422: expected 64 fields, saw 66\\nSkipping line 283423: expected 64 fields, saw 66\\nSkipping line 283436: expected 64 fields, saw 66\\nSkipping line 283439: expected 64 fields, saw 66\\nSkipping line 283451: expected 64 fields, saw 66\\nSkipping line 283469: expected 64 fields, saw 66\\nSkipping line 283497: expected 64 fields, saw 66\\nSkipping line 283511: expected 64 fields, saw 66\\nSkipping line 283512: expected 64 fields, saw 66\\nSkipping line 283513: expected 64 fields, saw 66\\nSkipping line 283539: expected 64 fields, saw 66\\nSkipping line 283540: expected 64 fields, saw 66\\nSkipping line 283541: expected 64 fields, saw 66\\nSkipping line 283555: expected 64 fields, saw 66\\nSkipping line 283556: expected 64 fields, saw 66\\nSkipping line 283559: expected 64 fields, saw 66\\nSkipping line 283561: expected 64 fields, saw 66\\nSkipping line 283562: expected 64 fields, saw 66\\nSkipping line 283601: expected 64 fields, saw 66\\nSkipping line 283603: expected 64 fields, saw 66\\nSkipping line 283616: expected 64 fields, saw 66\\nSkipping line 283617: expected 64 fields, saw 66\\nSkipping line 283624: expected 64 fields, saw 66\\nSkipping line 283626: expected 64 fields, saw 66\\nSkipping line 283627: expected 64 fields, saw 66\\nSkipping line 283628: expected 64 fields, saw 66\\nSkipping line 283638: expected 64 fields, saw 66\\nSkipping line 283646: expected 64 fields, saw 66\\nSkipping line 283647: expected 64 fields, saw 66\\nSkipping line 283677: expected 64 fields, saw 66\\nSkipping line 283678: expected 64 fields, saw 66\\nSkipping line 283680: expected 64 fields, saw 66\\nSkipping line 283687: expected 64 fields, saw 66\\nSkipping line 283688: expected 64 fields, saw 66\\nSkipping line 283691: expected 64 fields, saw 66\\nSkipping line 283699: expected 64 fields, saw 66\\nSkipping line 283965: expected 64 fields, saw 66\\n'\n",
      "b'Skipping line 289168: expected 64 fields, saw 65\\nSkipping line 290597: expected 64 fields, saw 66\\nSkipping line 290614: expected 64 fields, saw 66\\nSkipping line 290690: expected 64 fields, saw 66\\nSkipping line 290691: expected 64 fields, saw 66\\nSkipping line 290693: expected 64 fields, saw 66\\nSkipping line 290694: expected 64 fields, saw 66\\nSkipping line 290708: expected 64 fields, saw 66\\nSkipping line 290736: expected 64 fields, saw 66\\n'\n",
      "b'Skipping line 299615: expected 64 fields, saw 65\\nSkipping line 301642: expected 64 fields, saw 65\\nSkipping line 303250: expected 64 fields, saw 67\\n'\n",
      "b'Skipping line 304634: expected 64 fields, saw 65\\nSkipping line 304649: expected 64 fields, saw 65\\nSkipping line 304651: expected 64 fields, saw 65\\nSkipping line 306881: expected 64 fields, saw 67\\nSkipping line 306883: expected 64 fields, saw 67\\nSkipping line 306887: expected 64 fields, saw 67\\nSkipping line 306889: expected 64 fields, saw 67\\nSkipping line 306891: expected 64 fields, saw 67\\nSkipping line 306901: expected 64 fields, saw 67\\nSkipping line 306908: expected 64 fields, saw 67\\nSkipping line 306916: expected 64 fields, saw 67\\nSkipping line 306927: expected 64 fields, saw 67\\nSkipping line 306937: expected 64 fields, saw 67\\nSkipping line 306945: expected 64 fields, saw 67\\nSkipping line 306946: expected 64 fields, saw 67\\nSkipping line 306949: expected 64 fields, saw 67\\nSkipping line 306950: expected 64 fields, saw 67\\nSkipping line 306953: expected 64 fields, saw 67\\nSkipping line 306958: expected 64 fields, saw 67\\nSkipping line 306963: expected 64 fields, saw 67\\nSkipping line 306965: expected 64 fields, saw 67\\nSkipping line 307781: expected 64 fields, saw 67\\nSkipping line 309089: expected 64 fields, saw 67\\nSkipping line 310493: expected 64 fields, saw 65\\nSkipping line 310494: expected 64 fields, saw 65\\n'\n"
     ]
    },
    {
     "name": "stderr",
     "output_type": "stream",
     "text": [
      "b'Skipping line 314697: expected 64 fields, saw 65\\nSkipping line 315250: expected 64 fields, saw 65\\nSkipping line 318650: expected 64 fields, saw 65\\nSkipping line 318753: expected 64 fields, saw 65\\nSkipping line 319699: expected 64 fields, saw 65\\n'\n",
      "b'Skipping line 322320: expected 64 fields, saw 65\\nSkipping line 322864: expected 64 fields, saw 65\\nSkipping line 324635: expected 64 fields, saw 65\\nSkipping line 324666: expected 64 fields, saw 65\\n'\n",
      "b'Skipping line 329189: expected 64 fields, saw 65\\nSkipping line 329937: expected 64 fields, saw 66\\nSkipping line 329938: expected 64 fields, saw 66\\nSkipping line 330532: expected 64 fields, saw 66\\nSkipping line 330541: expected 64 fields, saw 66\\nSkipping line 330542: expected 64 fields, saw 66\\nSkipping line 330545: expected 64 fields, saw 66\\nSkipping line 330610: expected 64 fields, saw 66\\nSkipping line 331253: expected 64 fields, saw 66\\nSkipping line 331362: expected 64 fields, saw 66\\nSkipping line 331490: expected 64 fields, saw 65\\nSkipping line 331491: expected 64 fields, saw 65\\nSkipping line 332393: expected 64 fields, saw 66\\nSkipping line 332434: expected 64 fields, saw 66\\nSkipping line 332469: expected 64 fields, saw 65\\nSkipping line 332470: expected 64 fields, saw 65\\nSkipping line 332487: expected 64 fields, saw 66\\nSkipping line 332495: expected 64 fields, saw 66\\nSkipping line 332496: expected 64 fields, saw 66\\nSkipping line 332517: expected 64 fields, saw 66\\nSkipping line 332519: expected 64 fields, saw 66\\nSkipping line 332522: expected 64 fields, saw 66\\nSkipping line 332528: expected 64 fields, saw 66\\nSkipping line 332529: expected 64 fields, saw 66\\nSkipping line 332539: expected 64 fields, saw 66\\nSkipping line 332671: expected 64 fields, saw 66\\nSkipping line 332676: expected 64 fields, saw 66\\nSkipping line 333081: expected 64 fields, saw 67\\nSkipping line 333093: expected 64 fields, saw 67\\nSkipping line 333121: expected 64 fields, saw 67\\nSkipping line 333122: expected 64 fields, saw 67\\nSkipping line 333123: expected 64 fields, saw 67\\nSkipping line 333138: expected 64 fields, saw 67\\nSkipping line 333153: expected 64 fields, saw 67\\nSkipping line 333154: expected 64 fields, saw 67\\nSkipping line 333264: expected 64 fields, saw 67\\nSkipping line 333272: expected 64 fields, saw 67\\nSkipping line 333278: expected 64 fields, saw 67\\nSkipping line 333281: expected 64 fields, saw 67\\nSkipping line 333282: expected 64 fields, saw 67\\nSkipping line 333303: expected 64 fields, saw 67\\nSkipping line 333314: expected 64 fields, saw 67\\nSkipping line 333336: expected 64 fields, saw 67\\nSkipping line 333391: expected 64 fields, saw 67\\nSkipping line 333394: expected 64 fields, saw 67\\nSkipping line 333411: expected 64 fields, saw 67\\nSkipping line 333413: expected 64 fields, saw 67\\nSkipping line 333476: expected 64 fields, saw 67\\nSkipping line 333501: expected 64 fields, saw 67\\nSkipping line 333519: expected 64 fields, saw 67\\n'\n",
      "b'Skipping line 337850: expected 64 fields, saw 65\\nSkipping line 337948: expected 64 fields, saw 65\\nSkipping line 338736: expected 64 fields, saw 66\\nSkipping line 338889: expected 64 fields, saw 66\\nSkipping line 338926: expected 64 fields, saw 66\\nSkipping line 338933: expected 64 fields, saw 66\\nSkipping line 339943: expected 64 fields, saw 65\\nSkipping line 342989: expected 64 fields, saw 66\\nSkipping line 344679: expected 64 fields, saw 72\\nSkipping line 344747: expected 64 fields, saw 66\\n'\n",
      "b'Skipping line 344894: expected 64 fields, saw 66\\nSkipping line 346139: expected 64 fields, saw 67\\nSkipping line 346155: expected 64 fields, saw 67\\nSkipping line 348017: expected 64 fields, saw 66\\nSkipping line 348136: expected 64 fields, saw 66\\nSkipping line 350169: expected 64 fields, saw 65\\nSkipping line 350198: expected 64 fields, saw 65\\nSkipping line 350615: expected 64 fields, saw 66\\nSkipping line 351967: expected 64 fields, saw 66\\nSkipping line 351968: expected 64 fields, saw 66\\nSkipping line 352004: expected 64 fields, saw 69\\nSkipping line 352700: expected 64 fields, saw 66\\n'\n",
      "b'Skipping line 353673: expected 64 fields, saw 66\\nSkipping line 353699: expected 64 fields, saw 66\\n'\n",
      "b'Skipping line 362095: expected 64 fields, saw 66\\nSkipping line 364253: expected 64 fields, saw 67\\nSkipping line 364263: expected 64 fields, saw 67\\nSkipping line 364276: expected 64 fields, saw 67\\nSkipping line 366917: expected 64 fields, saw 65\\nSkipping line 367790: expected 64 fields, saw 67\\nSkipping line 367896: expected 64 fields, saw 67\\nSkipping line 367900: expected 64 fields, saw 67\\nSkipping line 367901: expected 64 fields, saw 67\\nSkipping line 367905: expected 64 fields, saw 67\\nSkipping line 367908: expected 64 fields, saw 67\\nSkipping line 367912: expected 64 fields, saw 67\\nSkipping line 367914: expected 64 fields, saw 67\\nSkipping line 367915: expected 64 fields, saw 67\\nSkipping line 367921: expected 64 fields, saw 67\\nSkipping line 367935: expected 64 fields, saw 67\\nSkipping line 367943: expected 64 fields, saw 67\\nSkipping line 367949: expected 64 fields, saw 67\\nSkipping line 367963: expected 64 fields, saw 67\\nSkipping line 367965: expected 64 fields, saw 67\\nSkipping line 367966: expected 64 fields, saw 67\\nSkipping line 367971: expected 64 fields, saw 67\\nSkipping line 367973: expected 64 fields, saw 67\\nSkipping line 367977: expected 64 fields, saw 67\\nSkipping line 367981: expected 64 fields, saw 67\\nSkipping line 367983: expected 64 fields, saw 67\\nSkipping line 367987: expected 64 fields, saw 67\\nSkipping line 367991: expected 64 fields, saw 67\\nSkipping line 367995: expected 64 fields, saw 67\\nSkipping line 368001: expected 64 fields, saw 67\\nSkipping line 368011: expected 64 fields, saw 67\\nSkipping line 368012: expected 64 fields, saw 67\\nSkipping line 368021: expected 64 fields, saw 67\\nSkipping line 368024: expected 64 fields, saw 67\\nSkipping line 368030: expected 64 fields, saw 67\\nSkipping line 368032: expected 64 fields, saw 67\\nSkipping line 368041: expected 64 fields, saw 67\\nSkipping line 368044: expected 64 fields, saw 67\\nSkipping line 368051: expected 64 fields, saw 67\\nSkipping line 368054: expected 64 fields, saw 67\\nSkipping line 368055: expected 64 fields, saw 67\\nSkipping line 368057: expected 64 fields, saw 67\\nSkipping line 368072: expected 64 fields, saw 67\\nSkipping line 368080: expected 64 fields, saw 67\\nSkipping line 368083: expected 64 fields, saw 67\\nSkipping line 368090: expected 64 fields, saw 67\\nSkipping line 368091: expected 64 fields, saw 67\\nSkipping line 368092: expected 64 fields, saw 67\\nSkipping line 368106: expected 64 fields, saw 67\\nSkipping line 368121: expected 64 fields, saw 67\\nSkipping line 368125: expected 64 fields, saw 67\\nSkipping line 368129: expected 64 fields, saw 67\\nSkipping line 368133: expected 64 fields, saw 67\\nSkipping line 368141: expected 64 fields, saw 67\\nSkipping line 368147: expected 64 fields, saw 67\\nSkipping line 368150: expected 64 fields, saw 67\\nSkipping line 368154: expected 64 fields, saw 67\\nSkipping line 368155: expected 64 fields, saw 67\\nSkipping line 368158: expected 64 fields, saw 67\\nSkipping line 368159: expected 64 fields, saw 67\\nSkipping line 368160: expected 64 fields, saw 67\\nSkipping line 368164: expected 64 fields, saw 67\\nSkipping line 368169: expected 64 fields, saw 67\\nSkipping line 368178: expected 64 fields, saw 67\\nSkipping line 368191: expected 64 fields, saw 67\\nSkipping line 368197: expected 64 fields, saw 67\\nSkipping line 368199: expected 64 fields, saw 67\\nSkipping line 368201: expected 64 fields, saw 67\\nSkipping line 368205: expected 64 fields, saw 67\\nSkipping line 368206: expected 64 fields, saw 67\\n'\n",
      "b'Skipping line 370958: expected 64 fields, saw 65\\nSkipping line 370959: expected 64 fields, saw 65\\nSkipping line 370961: expected 64 fields, saw 65\\nSkipping line 370962: expected 64 fields, saw 65\\nSkipping line 370963: expected 64 fields, saw 65\\nSkipping line 370964: expected 64 fields, saw 65\\nSkipping line 370970: expected 64 fields, saw 65\\nSkipping line 370971: expected 64 fields, saw 65\\nSkipping line 370978: expected 64 fields, saw 65\\nSkipping line 370980: expected 64 fields, saw 65\\nSkipping line 371393: expected 64 fields, saw 65\\nSkipping line 371394: expected 64 fields, saw 71\\nSkipping line 375513: expected 64 fields, saw 65\\nSkipping line 375514: expected 64 fields, saw 65\\nSkipping line 376429: expected 64 fields, saw 65\\nSkipping line 376430: expected 64 fields, saw 65\\nSkipping line 376431: expected 64 fields, saw 67\\n'\n",
      "b'Skipping line 377713: expected 64 fields, saw 65\\nSkipping line 379185: expected 64 fields, saw 66\\nSkipping line 379189: expected 64 fields, saw 66\\nSkipping line 379197: expected 64 fields, saw 66\\nSkipping line 379210: expected 64 fields, saw 66\\nSkipping line 379218: expected 64 fields, saw 66\\nSkipping line 379221: expected 64 fields, saw 66\\nSkipping line 380015: expected 64 fields, saw 65\\nSkipping line 382219: expected 64 fields, saw 67\\nSkipping line 382256: expected 64 fields, saw 67\\nSkipping line 382272: expected 64 fields, saw 67\\nSkipping line 382351: expected 64 fields, saw 67\\nSkipping line 382362: expected 64 fields, saw 67\\nSkipping line 382621: expected 64 fields, saw 67\\nSkipping line 382622: expected 64 fields, saw 67\\nSkipping line 382623: expected 64 fields, saw 67\\nSkipping line 382760: expected 64 fields, saw 67\\nSkipping line 382797: expected 64 fields, saw 67\\nSkipping line 382813: expected 64 fields, saw 67\\nSkipping line 382893: expected 64 fields, saw 67\\nSkipping line 382904: expected 64 fields, saw 67\\nSkipping line 383210: expected 64 fields, saw 67\\nSkipping line 383211: expected 64 fields, saw 67\\nSkipping line 383212: expected 64 fields, saw 67\\nSkipping line 383213: expected 64 fields, saw 67\\nSkipping line 383217: expected 64 fields, saw 65\\nSkipping line 383218: expected 64 fields, saw 65\\nSkipping line 383219: expected 64 fields, saw 65\\nSkipping line 383400: expected 64 fields, saw 65\\nSkipping line 384171: expected 64 fields, saw 65\\n'\n",
      "b'Skipping line 387216: expected 64 fields, saw 65\\nSkipping line 387294: expected 64 fields, saw 65\\nSkipping line 387307: expected 64 fields, saw 65\\nSkipping line 387308: expected 64 fields, saw 65\\nSkipping line 387309: expected 64 fields, saw 65\\nSkipping line 387311: expected 64 fields, saw 65\\nSkipping line 387312: expected 64 fields, saw 65\\nSkipping line 387313: expected 64 fields, saw 65\\nSkipping line 387314: expected 64 fields, saw 65\\nSkipping line 387315: expected 64 fields, saw 65\\nSkipping line 388434: expected 64 fields, saw 65\\nSkipping line 388960: expected 64 fields, saw 65\\nSkipping line 389117: expected 64 fields, saw 65\\nSkipping line 389292: expected 64 fields, saw 65\\n'\n"
     ]
    },
    {
     "name": "stderr",
     "output_type": "stream",
     "text": [
      "b'Skipping line 394150: expected 64 fields, saw 65\\nSkipping line 394583: expected 64 fields, saw 65\\nSkipping line 394585: expected 64 fields, saw 65\\nSkipping line 394587: expected 64 fields, saw 65\\nSkipping line 394972: expected 64 fields, saw 65\\nSkipping line 394973: expected 64 fields, saw 65\\nSkipping line 394974: expected 64 fields, saw 65\\nSkipping line 395126: expected 64 fields, saw 65\\nSkipping line 395149: expected 64 fields, saw 65\\nSkipping line 395151: expected 64 fields, saw 65\\nSkipping line 395183: expected 64 fields, saw 65\\nSkipping line 395184: expected 64 fields, saw 65\\nSkipping line 395267: expected 64 fields, saw 65\\nSkipping line 398602: expected 64 fields, saw 65\\nSkipping line 398603: expected 64 fields, saw 65\\nSkipping line 398604: expected 64 fields, saw 65\\nSkipping line 400387: expected 64 fields, saw 67\\nSkipping line 400848: expected 64 fields, saw 65\\nSkipping line 401543: expected 64 fields, saw 65\\nSkipping line 401544: expected 64 fields, saw 65\\nSkipping line 401813: expected 64 fields, saw 65\\nSkipping line 401814: expected 64 fields, saw 65\\nSkipping line 401815: expected 64 fields, saw 65\\nSkipping line 401968: expected 64 fields, saw 65\\nSkipping line 402000: expected 64 fields, saw 65\\nSkipping line 402003: expected 64 fields, saw 65\\nSkipping line 402004: expected 64 fields, saw 65\\nSkipping line 402005: expected 64 fields, saw 65\\nSkipping line 402198: expected 64 fields, saw 65\\n'\n",
      "b'Skipping line 402343: expected 64 fields, saw 65\\nSkipping line 402428: expected 64 fields, saw 65\\nSkipping line 402429: expected 64 fields, saw 65\\nSkipping line 402677: expected 64 fields, saw 65\\nSkipping line 402678: expected 64 fields, saw 65\\nSkipping line 404260: expected 64 fields, saw 65\\nSkipping line 404262: expected 64 fields, saw 65\\nSkipping line 404263: expected 64 fields, saw 65\\nSkipping line 404284: expected 64 fields, saw 65\\nSkipping line 404286: expected 64 fields, saw 65\\nSkipping line 404287: expected 64 fields, saw 65\\nSkipping line 404466: expected 64 fields, saw 65\\n'\n",
      "C:\\Users\\revat\\anaconda3\\lib\\site-packages\\IPython\\core\\interactiveshell.py:3063: DtypeWarning: Columns (42,43,44,45,55,56,57,58,59,60,62) have mixed types.Specify dtype option on import or set low_memory=False.\n",
      "  interactivity=interactivity, compiler=compiler, result=result)\n"
     ]
    },
    {
     "data": {
      "text/html": [
       "<div>\n",
       "<style scoped>\n",
       "    .dataframe tbody tr th:only-of-type {\n",
       "        vertical-align: middle;\n",
       "    }\n",
       "\n",
       "    .dataframe tbody tr th {\n",
       "        vertical-align: top;\n",
       "    }\n",
       "\n",
       "    .dataframe thead th {\n",
       "        text-align: right;\n",
       "    }\n",
       "</style>\n",
       "<table border=\"1\" class=\"dataframe\">\n",
       "  <thead>\n",
       "    <tr style=\"text-align: right;\">\n",
       "      <th></th>\n",
       "      <th>id</th>\n",
       "      <th>option_calculation_id</th>\n",
       "      <th>existing_fixture_id</th>\n",
       "      <th>started_at</th>\n",
       "      <th>finished_at</th>\n",
       "      <th>product_id</th>\n",
       "      <th>product_type</th>\n",
       "      <th>operating_schedule_id</th>\n",
       "      <th>rate_schedule_id</th>\n",
       "      <th>heating_id</th>\n",
       "      <th>...</th>\n",
       "      <th>demand_cost_savings</th>\n",
       "      <th>heating_cost_savings</th>\n",
       "      <th>cooling_cost_savings</th>\n",
       "      <th>maintenance_cost_savings</th>\n",
       "      <th>energy_savings</th>\n",
       "      <th>energy_cost_savings</th>\n",
       "      <th>energy_charge</th>\n",
       "      <th>active</th>\n",
       "      <th>inactive_at</th>\n",
       "      <th>exception</th>\n",
       "    </tr>\n",
       "  </thead>\n",
       "  <tbody>\n",
       "    <tr>\n",
       "      <th>0</th>\n",
       "      <td>69895</td>\n",
       "      <td>NaN</td>\n",
       "      <td>28778</td>\n",
       "      <td>2020-03-22 00:44:34.65824</td>\n",
       "      <td>2020-03-22 00:44:34.689515</td>\n",
       "      <td>18102.0</td>\n",
       "      <td>ExistingLighting</td>\n",
       "      <td>3289.0</td>\n",
       "      <td>1942.0</td>\n",
       "      <td>NaN</td>\n",
       "      <td>...</td>\n",
       "      <td>NaN</td>\n",
       "      <td>NaN</td>\n",
       "      <td>NaN</td>\n",
       "      <td>NaN</td>\n",
       "      <td>NaN</td>\n",
       "      <td>NaN</td>\n",
       "      <td>104.8320</td>\n",
       "      <td>t</td>\n",
       "      <td>NaN</td>\n",
       "      <td>f</td>\n",
       "    </tr>\n",
       "    <tr>\n",
       "      <th>1</th>\n",
       "      <td>21225</td>\n",
       "      <td>NaN</td>\n",
       "      <td>23687</td>\n",
       "      <td>2020-03-22 01:19:03.823485</td>\n",
       "      <td>2020-03-22 01:19:03.886402</td>\n",
       "      <td>16492.0</td>\n",
       "      <td>ExistingLighting</td>\n",
       "      <td>2800.0</td>\n",
       "      <td>1914.0</td>\n",
       "      <td>NaN</td>\n",
       "      <td>...</td>\n",
       "      <td>NaN</td>\n",
       "      <td>NaN</td>\n",
       "      <td>NaN</td>\n",
       "      <td>NaN</td>\n",
       "      <td>NaN</td>\n",
       "      <td>NaN</td>\n",
       "      <td>96.3600</td>\n",
       "      <td>t</td>\n",
       "      <td>NaN</td>\n",
       "      <td>f</td>\n",
       "    </tr>\n",
       "    <tr>\n",
       "      <th>2</th>\n",
       "      <td>22989</td>\n",
       "      <td>NaN</td>\n",
       "      <td>14169</td>\n",
       "      <td>2020-09-22 19:49:25.511339</td>\n",
       "      <td>2020-09-22 19:49:25.545165</td>\n",
       "      <td>13761.0</td>\n",
       "      <td>ExistingLighting</td>\n",
       "      <td>1807.0</td>\n",
       "      <td>1170.0</td>\n",
       "      <td>NaN</td>\n",
       "      <td>...</td>\n",
       "      <td>NaN</td>\n",
       "      <td>NaN</td>\n",
       "      <td>NaN</td>\n",
       "      <td>NaN</td>\n",
       "      <td>NaN</td>\n",
       "      <td>NaN</td>\n",
       "      <td>2362.1598</td>\n",
       "      <td>t</td>\n",
       "      <td>NaN</td>\n",
       "      <td>f</td>\n",
       "    </tr>\n",
       "    <tr>\n",
       "      <th>3</th>\n",
       "      <td>23041</td>\n",
       "      <td>NaN</td>\n",
       "      <td>14916</td>\n",
       "      <td>2020-09-22 19:49:15.037929</td>\n",
       "      <td>2020-09-22 19:49:15.062265</td>\n",
       "      <td>13761.0</td>\n",
       "      <td>ExistingLighting</td>\n",
       "      <td>1807.0</td>\n",
       "      <td>1170.0</td>\n",
       "      <td>NaN</td>\n",
       "      <td>...</td>\n",
       "      <td>NaN</td>\n",
       "      <td>NaN</td>\n",
       "      <td>NaN</td>\n",
       "      <td>NaN</td>\n",
       "      <td>NaN</td>\n",
       "      <td>NaN</td>\n",
       "      <td>994.5936</td>\n",
       "      <td>t</td>\n",
       "      <td>NaN</td>\n",
       "      <td>f</td>\n",
       "    </tr>\n",
       "    <tr>\n",
       "      <th>4</th>\n",
       "      <td>22963</td>\n",
       "      <td>NaN</td>\n",
       "      <td>15828</td>\n",
       "      <td>2020-09-22 19:49:22.472129</td>\n",
       "      <td>2020-09-22 19:49:22.499019</td>\n",
       "      <td>13769.0</td>\n",
       "      <td>ExistingLighting</td>\n",
       "      <td>1807.0</td>\n",
       "      <td>1170.0</td>\n",
       "      <td>NaN</td>\n",
       "      <td>...</td>\n",
       "      <td>NaN</td>\n",
       "      <td>NaN</td>\n",
       "      <td>NaN</td>\n",
       "      <td>NaN</td>\n",
       "      <td>NaN</td>\n",
       "      <td>NaN</td>\n",
       "      <td>1024.7328</td>\n",
       "      <td>t</td>\n",
       "      <td>NaN</td>\n",
       "      <td>f</td>\n",
       "    </tr>\n",
       "  </tbody>\n",
       "</table>\n",
       "<p>5 rows × 64 columns</p>\n",
       "</div>"
      ],
      "text/plain": [
       "      id  option_calculation_id  existing_fixture_id  \\\n",
       "0  69895                    NaN                28778   \n",
       "1  21225                    NaN                23687   \n",
       "2  22989                    NaN                14169   \n",
       "3  23041                    NaN                14916   \n",
       "4  22963                    NaN                15828   \n",
       "\n",
       "                   started_at                 finished_at  product_id  \\\n",
       "0   2020-03-22 00:44:34.65824  2020-03-22 00:44:34.689515     18102.0   \n",
       "1  2020-03-22 01:19:03.823485  2020-03-22 01:19:03.886402     16492.0   \n",
       "2  2020-09-22 19:49:25.511339  2020-09-22 19:49:25.545165     13761.0   \n",
       "3  2020-09-22 19:49:15.037929  2020-09-22 19:49:15.062265     13761.0   \n",
       "4  2020-09-22 19:49:22.472129  2020-09-22 19:49:22.499019     13769.0   \n",
       "\n",
       "       product_type  operating_schedule_id  rate_schedule_id  heating_id  ...  \\\n",
       "0  ExistingLighting                 3289.0            1942.0         NaN  ...   \n",
       "1  ExistingLighting                 2800.0            1914.0         NaN  ...   \n",
       "2  ExistingLighting                 1807.0            1170.0         NaN  ...   \n",
       "3  ExistingLighting                 1807.0            1170.0         NaN  ...   \n",
       "4  ExistingLighting                 1807.0            1170.0         NaN  ...   \n",
       "\n",
       "   demand_cost_savings  heating_cost_savings  cooling_cost_savings  \\\n",
       "0                  NaN                   NaN                   NaN   \n",
       "1                  NaN                   NaN                   NaN   \n",
       "2                  NaN                   NaN                   NaN   \n",
       "3                  NaN                   NaN                   NaN   \n",
       "4                  NaN                   NaN                   NaN   \n",
       "\n",
       "   maintenance_cost_savings  energy_savings  energy_cost_savings  \\\n",
       "0                       NaN             NaN                  NaN   \n",
       "1                       NaN             NaN                  NaN   \n",
       "2                       NaN             NaN                  NaN   \n",
       "3                       NaN             NaN                  NaN   \n",
       "4                       NaN             NaN                  NaN   \n",
       "\n",
       "   energy_charge  active  inactive_at  exception  \n",
       "0       104.8320       t          NaN          f  \n",
       "1        96.3600       t          NaN          f  \n",
       "2      2362.1598       t          NaN          f  \n",
       "3       994.5936       t          NaN          f  \n",
       "4      1024.7328       t          NaN          f  \n",
       "\n",
       "[5 rows x 64 columns]"
      ]
     },
     "execution_count": 44,
     "metadata": {},
     "output_type": "execute_result"
    }
   ],
   "source": [
    "op_calc_fixt=pd.read_csv(r'option_calc_fixtures.csv', error_bad_lines=False)\n",
    "op_calc_fixt.head()"
   ]
  },
  {
   "cell_type": "code",
   "execution_count": 45,
   "metadata": {},
   "outputs": [
    {
     "data": {
      "text/plain": [
       "(409780, 64)"
      ]
     },
     "execution_count": 45,
     "metadata": {},
     "output_type": "execute_result"
    }
   ],
   "source": [
    "op_calc_fixt.shape"
   ]
  },
  {
   "cell_type": "code",
   "execution_count": 46,
   "metadata": {},
   "outputs": [
    {
     "data": {
      "text/plain": [
       "Index(['id', 'option_calculation_id', 'existing_fixture_id', 'started_at',\n",
       "       'finished_at', 'product_id', 'product_type', 'operating_schedule_id',\n",
       "       'rate_schedule_id', 'heating_id', 'cooling_id', 'replacement_count',\n",
       "       'markup', 'markup_type', 'incentive_savings', 'fixture_item_cost',\n",
       "       'fixture_item_cost_no_markup', 'fixture_labor_cost',\n",
       "       'fixture_shipping_cost', 'fixture_misc_cost', 'fixture_tax_cost',\n",
       "       'fixture_total_cost', 'watts_per_product', 'electrical_cost',\n",
       "       'maintenance_cost', 'heating_cost', 'cooling_cost',\n",
       "       'total_cost_per_year', 'total_savings', 'created_at', 'updated_at',\n",
       "       'item_watt_hours_consumed', 'replacement_fixture_cost',\n",
       "       'replacement_fixture_cost_no_markup', 'replacement_labor_cost',\n",
       "       'replacement_shipping_cost', 'replacement_misc_cost',\n",
       "       'replacement_tax_cost', 'total_replacement_cost',\n",
       "       'total_savings_per_lamp_life', 'life_years', 'area_full_name',\n",
       "       'option_calc_fixture_id', 'solution_id', 'item_watts',\n",
       "       'net_replacement_cost', 'simple_payback', 'product_name',\n",
       "       'existing_product_name', 'use', 'fixture_recycling_cost',\n",
       "       'replacement_recycling_cost', 'demand_savings', 'demand_charge',\n",
       "       'demand_cost_savings', 'heating_cost_savings', 'cooling_cost_savings',\n",
       "       'maintenance_cost_savings', 'energy_savings', 'energy_cost_savings',\n",
       "       'energy_charge', 'active', 'inactive_at', 'exception'],\n",
       "      dtype='object')"
      ]
     },
     "execution_count": 46,
     "metadata": {},
     "output_type": "execute_result"
    }
   ],
   "source": [
    "op_calc_fixt.columns"
   ]
  },
  {
   "cell_type": "code",
   "execution_count": 47,
   "metadata": {},
   "outputs": [],
   "source": [
    "sol_id = op_calc_fixt['solution_id']"
   ]
  },
  {
   "cell_type": "code",
   "execution_count": 48,
   "metadata": {},
   "outputs": [
    {
     "name": "stdout",
     "output_type": "stream",
     "text": [
      "\n",
      " columns which have mostly zero's \n",
      "\n",
      "fixture_shipping_cost : 99.18858899897506 %\n",
      "fixture_misc_cost : 98.13094831372932 %\n",
      "fixture_tax_cost : 87.55576162819074 %\n",
      "maintenance_cost : 88.30665235004147 %\n",
      "heating_cost : 97.22802479379179 %\n",
      "cooling_cost : 91.77729513397432 %\n",
      "replacement_shipping_cost : 99.19444580018546 %\n",
      "replacement_misc_cost : 98.14168578261506 %\n",
      "replacement_tax_cost : 87.61018107277076 %\n",
      "fixture_recycling_cost : 93.22099663233931 %\n",
      "replacement_recycling_cost : 93.20830689638343 %\n",
      "demand_charge : 94.94289618819855 %\n"
     ]
    }
   ],
   "source": [
    "Drop_Zeroes(op_calc_fixt)"
   ]
  },
  {
   "cell_type": "code",
   "execution_count": 49,
   "metadata": {},
   "outputs": [
    {
     "name": "stdout",
     "output_type": "stream",
     "text": [
      "Columns with null values \n",
      "\n",
      "option_calculation_id : 34.26887598223437 %\n",
      "heating_id : 97.04621992288544 %\n",
      "cooling_id : 90.8057982331983 %\n",
      "markup : 32.29293767387379 %\n",
      "markup_type : 38.48601688711016 %\n",
      "incentive_savings : 59.65249646151594 %\n",
      "total_savings : 34.27400068329348 %\n",
      "total_savings_per_lamp_life : 34.27400068329348 %\n",
      "option_calc_fixture_id : 34.273268583142176 %\n",
      "solution_id : 59.6476157938406 %\n",
      "simple_payback : 63.42647274147103 %\n",
      "demand_savings : 37.000341646737276 %\n",
      "demand_cost_savings : 37.0201083508224 %\n",
      "heating_cost_savings : 37.0201083508224 %\n",
      "cooling_cost_savings : 37.02059641758992 %\n",
      "maintenance_cost_savings : 37.02035238420616 %\n",
      "energy_savings : 37.020840450973694 %\n",
      "energy_cost_savings : 37.00058568012104 %\n",
      "inactive_at : 98.0101517887647 %\n"
     ]
    }
   ],
   "source": [
    "Drop_Null(op_calc_fixt)"
   ]
  },
  {
   "cell_type": "code",
   "execution_count": 50,
   "metadata": {},
   "outputs": [],
   "source": [
    "op_calc_fixt = pd.concat([op_calc_fixt, sol_id], axis=1)"
   ]
  },
  {
   "cell_type": "code",
   "execution_count": 51,
   "metadata": {},
   "outputs": [
    {
     "data": {
      "text/plain": [
       "Index(['id', 'existing_fixture_id', 'started_at', 'finished_at', 'product_id',\n",
       "       'product_type', 'operating_schedule_id', 'rate_schedule_id',\n",
       "       'replacement_count', 'fixture_item_cost', 'fixture_item_cost_no_markup',\n",
       "       'fixture_labor_cost', 'fixture_total_cost', 'watts_per_product',\n",
       "       'electrical_cost', 'total_cost_per_year', 'created_at', 'updated_at',\n",
       "       'item_watt_hours_consumed', 'replacement_fixture_cost',\n",
       "       'replacement_fixture_cost_no_markup', 'replacement_labor_cost',\n",
       "       'total_replacement_cost', 'life_years', 'area_full_name', 'item_watts',\n",
       "       'net_replacement_cost', 'product_name', 'existing_product_name', 'use',\n",
       "       'energy_charge', 'active', 'exception', 'solution_id'],\n",
       "      dtype='object')"
      ]
     },
     "execution_count": 51,
     "metadata": {},
     "output_type": "execute_result"
    }
   ],
   "source": [
    "op_calc_fixt.columns"
   ]
  },
  {
   "cell_type": "code",
   "execution_count": 52,
   "metadata": {},
   "outputs": [],
   "source": [
    "op_calc_fixt.rename(columns = {'id':'option_calc_fixt_id'}, inplace = True)"
   ]
  },
  {
   "cell_type": "code",
   "execution_count": 53,
   "metadata": {},
   "outputs": [
    {
     "data": {
      "text/plain": [
       "Index(['product_id', 'replacement_count', 'watts_per_product',\n",
       "       'item_watt_hours_consumed', 'life_years', 'item_watts', 'product_name',\n",
       "       'existing_product_name', 'use', 'exception', 'solution_id'],\n",
       "      dtype='object')"
      ]
     },
     "execution_count": 53,
     "metadata": {},
     "output_type": "execute_result"
    }
   ],
   "source": [
    "op_calc_fixt = op_calc_fixt[['product_id', 'replacement_count', 'watts_per_product', 'item_watt_hours_consumed','life_years','item_watts','product_name', 'existing_product_name', 'use',\n",
    "       'exception', 'solution_id']]\n",
    "op_calc_fixt.columns"
   ]
  },
  {
   "cell_type": "code",
   "execution_count": 54,
   "metadata": {},
   "outputs": [
    {
     "name": "stderr",
     "output_type": "stream",
     "text": [
      "C:\\Users\\revat\\anaconda3\\lib\\site-packages\\ipykernel_launcher.py:1: FutureWarning: Indexing with multiple keys (implicitly converted to a tuple of keys) will be deprecated, use a list instead.\n",
      "  \"\"\"Entry point for launching an IPython kernel.\n"
     ]
    }
   ],
   "source": [
    "option_calc_fixt_new = op_calc_fixt.groupby(['solution_id'])['replacement_count', 'watts_per_product', 'item_watts'].sum().reset_index()"
   ]
  },
  {
   "cell_type": "code",
   "execution_count": 55,
   "metadata": {},
   "outputs": [
    {
     "data": {
      "text/html": [
       "<div>\n",
       "<style scoped>\n",
       "    .dataframe tbody tr th:only-of-type {\n",
       "        vertical-align: middle;\n",
       "    }\n",
       "\n",
       "    .dataframe tbody tr th {\n",
       "        vertical-align: top;\n",
       "    }\n",
       "\n",
       "    .dataframe thead th {\n",
       "        text-align: right;\n",
       "    }\n",
       "</style>\n",
       "<table border=\"1\" class=\"dataframe\">\n",
       "  <thead>\n",
       "    <tr style=\"text-align: right;\">\n",
       "      <th></th>\n",
       "      <th>solution_id</th>\n",
       "      <th>replacement_count</th>\n",
       "      <th>watts_per_product</th>\n",
       "    </tr>\n",
       "  </thead>\n",
       "  <tbody>\n",
       "    <tr>\n",
       "      <th>0</th>\n",
       "      <td>7.0</td>\n",
       "      <td>312</td>\n",
       "      <td>0.0</td>\n",
       "    </tr>\n",
       "    <tr>\n",
       "      <th>1</th>\n",
       "      <td>10.0</td>\n",
       "      <td>88</td>\n",
       "      <td>0.0</td>\n",
       "    </tr>\n",
       "    <tr>\n",
       "      <th>2</th>\n",
       "      <td>12.0</td>\n",
       "      <td>18</td>\n",
       "      <td>0.0</td>\n",
       "    </tr>\n",
       "    <tr>\n",
       "      <th>3</th>\n",
       "      <td>13.0</td>\n",
       "      <td>968</td>\n",
       "      <td>0.0</td>\n",
       "    </tr>\n",
       "    <tr>\n",
       "      <th>4</th>\n",
       "      <td>15.0</td>\n",
       "      <td>2858</td>\n",
       "      <td>0.0</td>\n",
       "    </tr>\n",
       "  </tbody>\n",
       "</table>\n",
       "</div>"
      ],
      "text/plain": [
       "  solution_id  replacement_count  watts_per_product\n",
       "0         7.0                312                0.0\n",
       "1        10.0                 88                0.0\n",
       "2        12.0                 18                0.0\n",
       "3        13.0                968                0.0\n",
       "4        15.0               2858                0.0"
      ]
     },
     "execution_count": 55,
     "metadata": {},
     "output_type": "execute_result"
    }
   ],
   "source": [
    "option_calc_fixt_new.head()"
   ]
  },
  {
   "cell_type": "code",
   "execution_count": 56,
   "metadata": {},
   "outputs": [],
   "source": [
    "option_calc_fixt_new[\"solution_id\"] = pd.to_numeric(option_calc_fixt_new[\"solution_id\"], errors=\"coerce\")"
   ]
  },
  {
   "cell_type": "code",
   "execution_count": 57,
   "metadata": {},
   "outputs": [
    {
     "name": "stdout",
     "output_type": "stream",
     "text": [
      "Merging both dataframes on column solution_id\n"
     ]
    },
    {
     "data": {
      "text/plain": [
       "(88549, 23)"
      ]
     },
     "execution_count": 57,
     "metadata": {},
     "output_type": "execute_result"
    }
   ],
   "source": [
    "print(\"Merging both dataframes on column solution_id\")\n",
    "df=(pd.merge(df,option_calc_fixt_new, on = 'solution_id',how='left'))\n",
    "df.shape"
   ]
  },
  {
   "cell_type": "code",
   "execution_count": 58,
   "metadata": {},
   "outputs": [
    {
     "data": {
      "text/html": [
       "<div>\n",
       "<style scoped>\n",
       "    .dataframe tbody tr th:only-of-type {\n",
       "        vertical-align: middle;\n",
       "    }\n",
       "\n",
       "    .dataframe tbody tr th {\n",
       "        vertical-align: top;\n",
       "    }\n",
       "\n",
       "    .dataframe thead th {\n",
       "        text-align: right;\n",
       "    }\n",
       "</style>\n",
       "<table border=\"1\" class=\"dataframe\">\n",
       "  <thead>\n",
       "    <tr style=\"text-align: right;\">\n",
       "      <th></th>\n",
       "      <th>id</th>\n",
       "      <th>option_calculation_id</th>\n",
       "      <th>existing_lighting_id</th>\n",
       "      <th>solution_id</th>\n",
       "      <th>use</th>\n",
       "      <th>started_at</th>\n",
       "      <th>finished_at</th>\n",
       "      <th>existing_quantity</th>\n",
       "      <th>proposed_quantity</th>\n",
       "    </tr>\n",
       "  </thead>\n",
       "  <tbody>\n",
       "    <tr>\n",
       "      <th>0</th>\n",
       "      <td>41272</td>\n",
       "      <td>5545</td>\n",
       "      <td>39580</td>\n",
       "      <td>NaN</td>\n",
       "      <td>t</td>\n",
       "      <td>2020-09-22 19:26:41.59626</td>\n",
       "      <td>2020-09-22 19:26:41.602818</td>\n",
       "      <td>0</td>\n",
       "      <td>0</td>\n",
       "    </tr>\n",
       "    <tr>\n",
       "      <th>1</th>\n",
       "      <td>4</td>\n",
       "      <td>1</td>\n",
       "      <td>15701</td>\n",
       "      <td>NaN</td>\n",
       "      <td>t</td>\n",
       "      <td>2020-03-21 19:09:11.43746</td>\n",
       "      <td>2020-03-21 19:09:11.444008</td>\n",
       "      <td>188</td>\n",
       "      <td>0</td>\n",
       "    </tr>\n",
       "    <tr>\n",
       "      <th>2</th>\n",
       "      <td>5</td>\n",
       "      <td>1</td>\n",
       "      <td>15700</td>\n",
       "      <td>17556.0</td>\n",
       "      <td>t</td>\n",
       "      <td>2020-03-21 19:09:11.466992</td>\n",
       "      <td>2020-03-21 19:09:11.478303</td>\n",
       "      <td>2</td>\n",
       "      <td>2</td>\n",
       "    </tr>\n",
       "    <tr>\n",
       "      <th>3</th>\n",
       "      <td>32</td>\n",
       "      <td>1</td>\n",
       "      <td>15673</td>\n",
       "      <td>17403.0</td>\n",
       "      <td>t</td>\n",
       "      <td>2020-03-21 19:09:12.453801</td>\n",
       "      <td>2020-03-21 19:09:12.47004</td>\n",
       "      <td>14</td>\n",
       "      <td>14</td>\n",
       "    </tr>\n",
       "    <tr>\n",
       "      <th>4</th>\n",
       "      <td>34</td>\n",
       "      <td>1</td>\n",
       "      <td>15671</td>\n",
       "      <td>NaN</td>\n",
       "      <td>t</td>\n",
       "      <td>2020-03-21 19:09:12.545806</td>\n",
       "      <td>2020-03-21 19:09:12.55322</td>\n",
       "      <td>66</td>\n",
       "      <td>0</td>\n",
       "    </tr>\n",
       "  </tbody>\n",
       "</table>\n",
       "</div>"
      ],
      "text/plain": [
       "      id  option_calculation_id  existing_lighting_id  solution_id use  \\\n",
       "0  41272                   5545                 39580          NaN   t   \n",
       "1      4                      1                 15701          NaN   t   \n",
       "2      5                      1                 15700      17556.0   t   \n",
       "3     32                      1                 15673      17403.0   t   \n",
       "4     34                      1                 15671          NaN   t   \n",
       "\n",
       "                   started_at                 finished_at  existing_quantity  \\\n",
       "0   2020-09-22 19:26:41.59626  2020-09-22 19:26:41.602818                  0   \n",
       "1   2020-03-21 19:09:11.43746  2020-03-21 19:09:11.444008                188   \n",
       "2  2020-03-21 19:09:11.466992  2020-03-21 19:09:11.478303                  2   \n",
       "3  2020-03-21 19:09:12.453801   2020-03-21 19:09:12.47004                 14   \n",
       "4  2020-03-21 19:09:12.545806   2020-03-21 19:09:12.55322                 66   \n",
       "\n",
       "   proposed_quantity  \n",
       "0                  0  \n",
       "1                  0  \n",
       "2                  2  \n",
       "3                 14  \n",
       "4                  0  "
      ]
     },
     "execution_count": 58,
     "metadata": {},
     "output_type": "execute_result"
    }
   ],
   "source": [
    "op_calc_light =pd.read_csv(r'option_calc_lightings.csv')\n",
    "op_calc_light.head()"
   ]
  },
  {
   "cell_type": "code",
   "execution_count": 59,
   "metadata": {},
   "outputs": [],
   "source": [
    "op_calc_light.rename(columns = {'id':'option_calc_light_id'}, inplace = True)"
   ]
  },
  {
   "cell_type": "code",
   "execution_count": 60,
   "metadata": {},
   "outputs": [
    {
     "data": {
      "text/plain": [
       "Index(['option_calc_light_id', 'option_calculation_id', 'existing_lighting_id',\n",
       "       'solution_id', 'use', 'started_at', 'finished_at', 'existing_quantity',\n",
       "       'proposed_quantity'],\n",
       "      dtype='object')"
      ]
     },
     "execution_count": 60,
     "metadata": {},
     "output_type": "execute_result"
    }
   ],
   "source": [
    "op_calc_light.columns"
   ]
  },
  {
   "cell_type": "code",
   "execution_count": 61,
   "metadata": {},
   "outputs": [],
   "source": [
    "op_calc_light = op_calc_light[['option_calc_light_id', 'option_calculation_id', 'existing_lighting_id',\n",
    "       'solution_id','existing_quantity',\n",
    "       'proposed_quantity']]"
   ]
  },
  {
   "cell_type": "code",
   "execution_count": 62,
   "metadata": {},
   "outputs": [
    {
     "name": "stdout",
     "output_type": "stream",
     "text": [
      "<class 'pandas.core.frame.DataFrame'>\n",
      "RangeIndex: 88076 entries, 0 to 88075\n",
      "Data columns (total 6 columns):\n",
      " #   Column                 Non-Null Count  Dtype  \n",
      "---  ------                 --------------  -----  \n",
      " 0   option_calc_light_id   88076 non-null  int64  \n",
      " 1   option_calculation_id  88076 non-null  int64  \n",
      " 2   existing_lighting_id   88076 non-null  int64  \n",
      " 3   solution_id            41207 non-null  float64\n",
      " 4   existing_quantity      88076 non-null  int64  \n",
      " 5   proposed_quantity      88076 non-null  int64  \n",
      "dtypes: float64(1), int64(5)\n",
      "memory usage: 4.0 MB\n"
     ]
    }
   ],
   "source": [
    "op_calc_light.info()"
   ]
  },
  {
   "cell_type": "code",
   "execution_count": 63,
   "metadata": {},
   "outputs": [
    {
     "name": "stderr",
     "output_type": "stream",
     "text": [
      "C:\\Users\\revat\\anaconda3\\lib\\site-packages\\ipykernel_launcher.py:1: FutureWarning: Indexing with multiple keys (implicitly converted to a tuple of keys) will be deprecated, use a list instead.\n",
      "  \"\"\"Entry point for launching an IPython kernel.\n"
     ]
    }
   ],
   "source": [
    "op_calc_light_new = op_calc_light.groupby(['solution_id','option_calc_light_id','existing_lighting_id'])['existing_quantity','proposed_quantity'].sum().reset_index()"
   ]
  },
  {
   "cell_type": "code",
   "execution_count": 64,
   "metadata": {},
   "outputs": [
    {
     "data": {
      "text/html": [
       "<div>\n",
       "<style scoped>\n",
       "    .dataframe tbody tr th:only-of-type {\n",
       "        vertical-align: middle;\n",
       "    }\n",
       "\n",
       "    .dataframe tbody tr th {\n",
       "        vertical-align: top;\n",
       "    }\n",
       "\n",
       "    .dataframe thead th {\n",
       "        text-align: right;\n",
       "    }\n",
       "</style>\n",
       "<table border=\"1\" class=\"dataframe\">\n",
       "  <thead>\n",
       "    <tr style=\"text-align: right;\">\n",
       "      <th></th>\n",
       "      <th>solution_id</th>\n",
       "      <th>option_calc_light_id</th>\n",
       "      <th>existing_lighting_id</th>\n",
       "      <th>existing_quantity</th>\n",
       "      <th>proposed_quantity</th>\n",
       "    </tr>\n",
       "  </thead>\n",
       "  <tbody>\n",
       "    <tr>\n",
       "      <th>0</th>\n",
       "      <td>2.0</td>\n",
       "      <td>9242</td>\n",
       "      <td>8905</td>\n",
       "      <td>20</td>\n",
       "      <td>20</td>\n",
       "    </tr>\n",
       "    <tr>\n",
       "      <th>1</th>\n",
       "      <td>3.0</td>\n",
       "      <td>9217</td>\n",
       "      <td>8919</td>\n",
       "      <td>60</td>\n",
       "      <td>60</td>\n",
       "    </tr>\n",
       "    <tr>\n",
       "      <th>2</th>\n",
       "      <td>4.0</td>\n",
       "      <td>9218</td>\n",
       "      <td>8918</td>\n",
       "      <td>10</td>\n",
       "      <td>10</td>\n",
       "    </tr>\n",
       "    <tr>\n",
       "      <th>3</th>\n",
       "      <td>5.0</td>\n",
       "      <td>9273</td>\n",
       "      <td>8907</td>\n",
       "      <td>0</td>\n",
       "      <td>0</td>\n",
       "    </tr>\n",
       "    <tr>\n",
       "      <th>4</th>\n",
       "      <td>6.0</td>\n",
       "      <td>9271</td>\n",
       "      <td>8909</td>\n",
       "      <td>0</td>\n",
       "      <td>0</td>\n",
       "    </tr>\n",
       "  </tbody>\n",
       "</table>\n",
       "</div>"
      ],
      "text/plain": [
       "   solution_id  option_calc_light_id  existing_lighting_id  existing_quantity  \\\n",
       "0          2.0                  9242                  8905                 20   \n",
       "1          3.0                  9217                  8919                 60   \n",
       "2          4.0                  9218                  8918                 10   \n",
       "3          5.0                  9273                  8907                  0   \n",
       "4          6.0                  9271                  8909                  0   \n",
       "\n",
       "   proposed_quantity  \n",
       "0                 20  \n",
       "1                 60  \n",
       "2                 10  \n",
       "3                  0  \n",
       "4                  0  "
      ]
     },
     "execution_count": 64,
     "metadata": {},
     "output_type": "execute_result"
    }
   ],
   "source": [
    "op_calc_light_new.head()"
   ]
  },
  {
   "cell_type": "code",
   "execution_count": 65,
   "metadata": {},
   "outputs": [
    {
     "name": "stdout",
     "output_type": "stream",
     "text": [
      "Merging both dataframes on column solution_id\n"
     ]
    },
    {
     "data": {
      "text/plain": [
       "(93967, 27)"
      ]
     },
     "execution_count": 65,
     "metadata": {},
     "output_type": "execute_result"
    }
   ],
   "source": [
    "print(\"Merging both dataframes on column solution_id\")\n",
    "df=(pd.merge(df,op_calc_light_new, on = 'solution_id',how='left'))\n",
    "df.shape"
   ]
  },
  {
   "cell_type": "code",
   "execution_count": 66,
   "metadata": {},
   "outputs": [
    {
     "data": {
      "text/html": [
       "<div>\n",
       "<style scoped>\n",
       "    .dataframe tbody tr th:only-of-type {\n",
       "        vertical-align: middle;\n",
       "    }\n",
       "\n",
       "    .dataframe tbody tr th {\n",
       "        vertical-align: top;\n",
       "    }\n",
       "\n",
       "    .dataframe thead th {\n",
       "        text-align: right;\n",
       "    }\n",
       "</style>\n",
       "<table border=\"1\" class=\"dataframe\">\n",
       "  <thead>\n",
       "    <tr style=\"text-align: right;\">\n",
       "      <th></th>\n",
       "      <th>option_id</th>\n",
       "      <th>project_id_x</th>\n",
       "      <th>solution_id</th>\n",
       "      <th>project_id_y</th>\n",
       "      <th>name</th>\n",
       "      <th>existing_count_solutions</th>\n",
       "      <th>created_at_x</th>\n",
       "      <th>updated_at_x</th>\n",
       "      <th>active_x</th>\n",
       "      <th>created_by_user_id_x</th>\n",
       "      <th>...</th>\n",
       "      <th>created_at_y</th>\n",
       "      <th>updated_at_y</th>\n",
       "      <th>area_id</th>\n",
       "      <th>existing_count_exlight</th>\n",
       "      <th>replacement_count</th>\n",
       "      <th>watts_per_product</th>\n",
       "      <th>option_calc_light_id</th>\n",
       "      <th>existing_lighting_id_y</th>\n",
       "      <th>existing_quantity</th>\n",
       "      <th>proposed_quantity</th>\n",
       "    </tr>\n",
       "  </thead>\n",
       "  <tbody>\n",
       "    <tr>\n",
       "      <th>0</th>\n",
       "      <td>38</td>\n",
       "      <td>75</td>\n",
       "      <td>NaN</td>\n",
       "      <td>NaN</td>\n",
       "      <td>NaN</td>\n",
       "      <td>NaN</td>\n",
       "      <td>NaN</td>\n",
       "      <td>NaN</td>\n",
       "      <td>NaN</td>\n",
       "      <td>NaN</td>\n",
       "      <td>...</td>\n",
       "      <td>NaN</td>\n",
       "      <td>NaN</td>\n",
       "      <td>NaN</td>\n",
       "      <td>NaN</td>\n",
       "      <td>8.0</td>\n",
       "      <td>150.0</td>\n",
       "      <td>NaN</td>\n",
       "      <td>NaN</td>\n",
       "      <td>NaN</td>\n",
       "      <td>NaN</td>\n",
       "    </tr>\n",
       "    <tr>\n",
       "      <th>1</th>\n",
       "      <td>38</td>\n",
       "      <td>75</td>\n",
       "      <td>NaN</td>\n",
       "      <td>NaN</td>\n",
       "      <td>NaN</td>\n",
       "      <td>NaN</td>\n",
       "      <td>NaN</td>\n",
       "      <td>NaN</td>\n",
       "      <td>NaN</td>\n",
       "      <td>NaN</td>\n",
       "      <td>...</td>\n",
       "      <td>NaN</td>\n",
       "      <td>NaN</td>\n",
       "      <td>NaN</td>\n",
       "      <td>NaN</td>\n",
       "      <td>1.0</td>\n",
       "      <td>18.7</td>\n",
       "      <td>NaN</td>\n",
       "      <td>NaN</td>\n",
       "      <td>NaN</td>\n",
       "      <td>NaN</td>\n",
       "    </tr>\n",
       "    <tr>\n",
       "      <th>2</th>\n",
       "      <td>38</td>\n",
       "      <td>75</td>\n",
       "      <td>NaN</td>\n",
       "      <td>NaN</td>\n",
       "      <td>NaN</td>\n",
       "      <td>NaN</td>\n",
       "      <td>NaN</td>\n",
       "      <td>NaN</td>\n",
       "      <td>NaN</td>\n",
       "      <td>NaN</td>\n",
       "      <td>...</td>\n",
       "      <td>NaN</td>\n",
       "      <td>NaN</td>\n",
       "      <td>NaN</td>\n",
       "      <td>NaN</td>\n",
       "      <td>1.0</td>\n",
       "      <td>18.7</td>\n",
       "      <td>NaN</td>\n",
       "      <td>NaN</td>\n",
       "      <td>NaN</td>\n",
       "      <td>NaN</td>\n",
       "    </tr>\n",
       "    <tr>\n",
       "      <th>3</th>\n",
       "      <td>38</td>\n",
       "      <td>75</td>\n",
       "      <td>NaN</td>\n",
       "      <td>NaN</td>\n",
       "      <td>NaN</td>\n",
       "      <td>NaN</td>\n",
       "      <td>NaN</td>\n",
       "      <td>NaN</td>\n",
       "      <td>NaN</td>\n",
       "      <td>NaN</td>\n",
       "      <td>...</td>\n",
       "      <td>NaN</td>\n",
       "      <td>NaN</td>\n",
       "      <td>NaN</td>\n",
       "      <td>NaN</td>\n",
       "      <td>10.0</td>\n",
       "      <td>72.0</td>\n",
       "      <td>NaN</td>\n",
       "      <td>NaN</td>\n",
       "      <td>NaN</td>\n",
       "      <td>NaN</td>\n",
       "    </tr>\n",
       "    <tr>\n",
       "      <th>4</th>\n",
       "      <td>49</td>\n",
       "      <td>80</td>\n",
       "      <td>NaN</td>\n",
       "      <td>NaN</td>\n",
       "      <td>NaN</td>\n",
       "      <td>NaN</td>\n",
       "      <td>NaN</td>\n",
       "      <td>NaN</td>\n",
       "      <td>NaN</td>\n",
       "      <td>NaN</td>\n",
       "      <td>...</td>\n",
       "      <td>NaN</td>\n",
       "      <td>NaN</td>\n",
       "      <td>NaN</td>\n",
       "      <td>NaN</td>\n",
       "      <td>8.0</td>\n",
       "      <td>150.0</td>\n",
       "      <td>NaN</td>\n",
       "      <td>NaN</td>\n",
       "      <td>NaN</td>\n",
       "      <td>NaN</td>\n",
       "    </tr>\n",
       "  </tbody>\n",
       "</table>\n",
       "<p>5 rows × 27 columns</p>\n",
       "</div>"
      ],
      "text/plain": [
       "   option_id  project_id_x  solution_id  project_id_y name  \\\n",
       "0         38            75          NaN           NaN  NaN   \n",
       "1         38            75          NaN           NaN  NaN   \n",
       "2         38            75          NaN           NaN  NaN   \n",
       "3         38            75          NaN           NaN  NaN   \n",
       "4         49            80          NaN           NaN  NaN   \n",
       "\n",
       "   existing_count_solutions created_at_x updated_at_x active_x  \\\n",
       "0                       NaN          NaN          NaN      NaN   \n",
       "1                       NaN          NaN          NaN      NaN   \n",
       "2                       NaN          NaN          NaN      NaN   \n",
       "3                       NaN          NaN          NaN      NaN   \n",
       "4                       NaN          NaN          NaN      NaN   \n",
       "\n",
       "   created_by_user_id_x  ...  created_at_y  updated_at_y area_id  \\\n",
       "0                   NaN  ...           NaN           NaN     NaN   \n",
       "1                   NaN  ...           NaN           NaN     NaN   \n",
       "2                   NaN  ...           NaN           NaN     NaN   \n",
       "3                   NaN  ...           NaN           NaN     NaN   \n",
       "4                   NaN  ...           NaN           NaN     NaN   \n",
       "\n",
       "   existing_count_exlight  replacement_count  watts_per_product  \\\n",
       "0                     NaN                8.0              150.0   \n",
       "1                     NaN                1.0               18.7   \n",
       "2                     NaN                1.0               18.7   \n",
       "3                     NaN               10.0               72.0   \n",
       "4                     NaN                8.0              150.0   \n",
       "\n",
       "  option_calc_light_id existing_lighting_id_y existing_quantity  \\\n",
       "0                  NaN                    NaN               NaN   \n",
       "1                  NaN                    NaN               NaN   \n",
       "2                  NaN                    NaN               NaN   \n",
       "3                  NaN                    NaN               NaN   \n",
       "4                  NaN                    NaN               NaN   \n",
       "\n",
       "   proposed_quantity  \n",
       "0                NaN  \n",
       "1                NaN  \n",
       "2                NaN  \n",
       "3                NaN  \n",
       "4                NaN  \n",
       "\n",
       "[5 rows x 27 columns]"
      ]
     },
     "execution_count": 66,
     "metadata": {},
     "output_type": "execute_result"
    }
   ],
   "source": [
    "df.head()"
   ]
  },
  {
   "cell_type": "code",
   "execution_count": 67,
   "metadata": {},
   "outputs": [
    {
     "data": {
      "text/plain": [
       "Index(['option_id', 'project_id_x', 'solution_id', 'project_id_y', 'name',\n",
       "       'existing_count_solutions', 'created_at_x', 'updated_at_x', 'active_x',\n",
       "       'created_by_user_id_x', 'incentive_type', 'product_count',\n",
       "       'existing_lighting_id_x', 'proposal_options_id', 'proposal_id',\n",
       "       'created_by_user_id_y', 'active_y', 'created_at_y', 'updated_at_y',\n",
       "       'area_id', 'existing_count_exlight', 'replacement_count',\n",
       "       'watts_per_product', 'option_calc_light_id', 'existing_lighting_id_y',\n",
       "       'existing_quantity', 'proposed_quantity'],\n",
       "      dtype='object')"
      ]
     },
     "execution_count": 67,
     "metadata": {},
     "output_type": "execute_result"
    }
   ],
   "source": [
    "df.columns"
   ]
  },
  {
   "cell_type": "code",
   "execution_count": 68,
   "metadata": {},
   "outputs": [],
   "source": [
    "df = df[['option_id', 'project_id_x', 'solution_id','name','existing_count_solutions','active_x',\n",
    "         'created_by_user_id_x', 'incentive_type', 'product_count',\n",
    "         'existing_lighting_id_x', 'proposal_options_id', 'proposal_id',\n",
    "         'area_id', 'existing_count_exlight', 'replacement_count','watts_per_product', 'option_calc_light_id',\n",
    "         'existing_quantity', 'proposed_quantity']]"
   ]
  },
  {
   "cell_type": "code",
   "execution_count": 69,
   "metadata": {},
   "outputs": [],
   "source": [
    "df.rename(columns = {'project_id_x':'project_id','active_x':'active','created_by_user_id_x':'created_by_user_id',\n",
    "                     'existing_lighting_id_x':'existing_lighting_id'}, inplace = True)"
   ]
  },
  {
   "cell_type": "code",
   "execution_count": 71,
   "metadata": {},
   "outputs": [
    {
     "data": {
      "text/html": [
       "<div>\n",
       "<style scoped>\n",
       "    .dataframe tbody tr th:only-of-type {\n",
       "        vertical-align: middle;\n",
       "    }\n",
       "\n",
       "    .dataframe tbody tr th {\n",
       "        vertical-align: top;\n",
       "    }\n",
       "\n",
       "    .dataframe thead th {\n",
       "        text-align: right;\n",
       "    }\n",
       "</style>\n",
       "<table border=\"1\" class=\"dataframe\">\n",
       "  <thead>\n",
       "    <tr style=\"text-align: right;\">\n",
       "      <th></th>\n",
       "      <th>option_id</th>\n",
       "      <th>project_id</th>\n",
       "      <th>solution_id</th>\n",
       "      <th>name</th>\n",
       "      <th>existing_count_solutions</th>\n",
       "      <th>active</th>\n",
       "      <th>created_by_user_id</th>\n",
       "      <th>incentive_type</th>\n",
       "      <th>product_count</th>\n",
       "      <th>existing_lighting_id</th>\n",
       "      <th>proposal_options_id</th>\n",
       "      <th>proposal_id</th>\n",
       "      <th>area_id</th>\n",
       "      <th>existing_count_exlight</th>\n",
       "      <th>replacement_count</th>\n",
       "      <th>watts_per_product</th>\n",
       "      <th>option_calc_light_id</th>\n",
       "      <th>existing_quantity</th>\n",
       "      <th>proposed_quantity</th>\n",
       "    </tr>\n",
       "  </thead>\n",
       "  <tbody>\n",
       "    <tr>\n",
       "      <th>0</th>\n",
       "      <td>38</td>\n",
       "      <td>75</td>\n",
       "      <td>NaN</td>\n",
       "      <td>NaN</td>\n",
       "      <td>NaN</td>\n",
       "      <td>NaN</td>\n",
       "      <td>NaN</td>\n",
       "      <td>NaN</td>\n",
       "      <td>NaN</td>\n",
       "      <td>NaN</td>\n",
       "      <td>NaN</td>\n",
       "      <td>NaN</td>\n",
       "      <td>NaN</td>\n",
       "      <td>NaN</td>\n",
       "      <td>8.0</td>\n",
       "      <td>150.0</td>\n",
       "      <td>NaN</td>\n",
       "      <td>NaN</td>\n",
       "      <td>NaN</td>\n",
       "    </tr>\n",
       "    <tr>\n",
       "      <th>1</th>\n",
       "      <td>38</td>\n",
       "      <td>75</td>\n",
       "      <td>NaN</td>\n",
       "      <td>NaN</td>\n",
       "      <td>NaN</td>\n",
       "      <td>NaN</td>\n",
       "      <td>NaN</td>\n",
       "      <td>NaN</td>\n",
       "      <td>NaN</td>\n",
       "      <td>NaN</td>\n",
       "      <td>NaN</td>\n",
       "      <td>NaN</td>\n",
       "      <td>NaN</td>\n",
       "      <td>NaN</td>\n",
       "      <td>1.0</td>\n",
       "      <td>18.7</td>\n",
       "      <td>NaN</td>\n",
       "      <td>NaN</td>\n",
       "      <td>NaN</td>\n",
       "    </tr>\n",
       "    <tr>\n",
       "      <th>2</th>\n",
       "      <td>38</td>\n",
       "      <td>75</td>\n",
       "      <td>NaN</td>\n",
       "      <td>NaN</td>\n",
       "      <td>NaN</td>\n",
       "      <td>NaN</td>\n",
       "      <td>NaN</td>\n",
       "      <td>NaN</td>\n",
       "      <td>NaN</td>\n",
       "      <td>NaN</td>\n",
       "      <td>NaN</td>\n",
       "      <td>NaN</td>\n",
       "      <td>NaN</td>\n",
       "      <td>NaN</td>\n",
       "      <td>1.0</td>\n",
       "      <td>18.7</td>\n",
       "      <td>NaN</td>\n",
       "      <td>NaN</td>\n",
       "      <td>NaN</td>\n",
       "    </tr>\n",
       "    <tr>\n",
       "      <th>3</th>\n",
       "      <td>38</td>\n",
       "      <td>75</td>\n",
       "      <td>NaN</td>\n",
       "      <td>NaN</td>\n",
       "      <td>NaN</td>\n",
       "      <td>NaN</td>\n",
       "      <td>NaN</td>\n",
       "      <td>NaN</td>\n",
       "      <td>NaN</td>\n",
       "      <td>NaN</td>\n",
       "      <td>NaN</td>\n",
       "      <td>NaN</td>\n",
       "      <td>NaN</td>\n",
       "      <td>NaN</td>\n",
       "      <td>10.0</td>\n",
       "      <td>72.0</td>\n",
       "      <td>NaN</td>\n",
       "      <td>NaN</td>\n",
       "      <td>NaN</td>\n",
       "    </tr>\n",
       "    <tr>\n",
       "      <th>4</th>\n",
       "      <td>49</td>\n",
       "      <td>80</td>\n",
       "      <td>NaN</td>\n",
       "      <td>NaN</td>\n",
       "      <td>NaN</td>\n",
       "      <td>NaN</td>\n",
       "      <td>NaN</td>\n",
       "      <td>NaN</td>\n",
       "      <td>NaN</td>\n",
       "      <td>NaN</td>\n",
       "      <td>NaN</td>\n",
       "      <td>NaN</td>\n",
       "      <td>NaN</td>\n",
       "      <td>NaN</td>\n",
       "      <td>8.0</td>\n",
       "      <td>150.0</td>\n",
       "      <td>NaN</td>\n",
       "      <td>NaN</td>\n",
       "      <td>NaN</td>\n",
       "    </tr>\n",
       "    <tr>\n",
       "      <th>...</th>\n",
       "      <td>...</td>\n",
       "      <td>...</td>\n",
       "      <td>...</td>\n",
       "      <td>...</td>\n",
       "      <td>...</td>\n",
       "      <td>...</td>\n",
       "      <td>...</td>\n",
       "      <td>...</td>\n",
       "      <td>...</td>\n",
       "      <td>...</td>\n",
       "      <td>...</td>\n",
       "      <td>...</td>\n",
       "      <td>...</td>\n",
       "      <td>...</td>\n",
       "      <td>...</td>\n",
       "      <td>...</td>\n",
       "      <td>...</td>\n",
       "      <td>...</td>\n",
       "      <td>...</td>\n",
       "    </tr>\n",
       "    <tr>\n",
       "      <th>195</th>\n",
       "      <td>2183</td>\n",
       "      <td>1903</td>\n",
       "      <td>19402.0</td>\n",
       "      <td>ASD 55W CANOPY</td>\n",
       "      <td>1.0</td>\n",
       "      <td>f</td>\n",
       "      <td>484.0</td>\n",
       "      <td>2.0</td>\n",
       "      <td>1.0</td>\n",
       "      <td>1018.0</td>\n",
       "      <td>2275.0</td>\n",
       "      <td>2183.0</td>\n",
       "      <td>NaN</td>\n",
       "      <td>NaN</td>\n",
       "      <td>NaN</td>\n",
       "      <td>NaN</td>\n",
       "      <td>NaN</td>\n",
       "      <td>NaN</td>\n",
       "      <td>NaN</td>\n",
       "    </tr>\n",
       "    <tr>\n",
       "      <th>196</th>\n",
       "      <td>2129</td>\n",
       "      <td>1901</td>\n",
       "      <td>NaN</td>\n",
       "      <td>NaN</td>\n",
       "      <td>NaN</td>\n",
       "      <td>NaN</td>\n",
       "      <td>NaN</td>\n",
       "      <td>NaN</td>\n",
       "      <td>NaN</td>\n",
       "      <td>NaN</td>\n",
       "      <td>2221.0</td>\n",
       "      <td>2129.0</td>\n",
       "      <td>NaN</td>\n",
       "      <td>NaN</td>\n",
       "      <td>8.0</td>\n",
       "      <td>150.0</td>\n",
       "      <td>NaN</td>\n",
       "      <td>NaN</td>\n",
       "      <td>NaN</td>\n",
       "    </tr>\n",
       "    <tr>\n",
       "      <th>197</th>\n",
       "      <td>2129</td>\n",
       "      <td>1901</td>\n",
       "      <td>NaN</td>\n",
       "      <td>NaN</td>\n",
       "      <td>NaN</td>\n",
       "      <td>NaN</td>\n",
       "      <td>NaN</td>\n",
       "      <td>NaN</td>\n",
       "      <td>NaN</td>\n",
       "      <td>NaN</td>\n",
       "      <td>2221.0</td>\n",
       "      <td>2129.0</td>\n",
       "      <td>NaN</td>\n",
       "      <td>NaN</td>\n",
       "      <td>1.0</td>\n",
       "      <td>18.7</td>\n",
       "      <td>NaN</td>\n",
       "      <td>NaN</td>\n",
       "      <td>NaN</td>\n",
       "    </tr>\n",
       "    <tr>\n",
       "      <th>198</th>\n",
       "      <td>2129</td>\n",
       "      <td>1901</td>\n",
       "      <td>NaN</td>\n",
       "      <td>NaN</td>\n",
       "      <td>NaN</td>\n",
       "      <td>NaN</td>\n",
       "      <td>NaN</td>\n",
       "      <td>NaN</td>\n",
       "      <td>NaN</td>\n",
       "      <td>NaN</td>\n",
       "      <td>2221.0</td>\n",
       "      <td>2129.0</td>\n",
       "      <td>NaN</td>\n",
       "      <td>NaN</td>\n",
       "      <td>1.0</td>\n",
       "      <td>18.7</td>\n",
       "      <td>NaN</td>\n",
       "      <td>NaN</td>\n",
       "      <td>NaN</td>\n",
       "    </tr>\n",
       "    <tr>\n",
       "      <th>199</th>\n",
       "      <td>2129</td>\n",
       "      <td>1901</td>\n",
       "      <td>NaN</td>\n",
       "      <td>NaN</td>\n",
       "      <td>NaN</td>\n",
       "      <td>NaN</td>\n",
       "      <td>NaN</td>\n",
       "      <td>NaN</td>\n",
       "      <td>NaN</td>\n",
       "      <td>NaN</td>\n",
       "      <td>2221.0</td>\n",
       "      <td>2129.0</td>\n",
       "      <td>NaN</td>\n",
       "      <td>NaN</td>\n",
       "      <td>10.0</td>\n",
       "      <td>72.0</td>\n",
       "      <td>NaN</td>\n",
       "      <td>NaN</td>\n",
       "      <td>NaN</td>\n",
       "    </tr>\n",
       "  </tbody>\n",
       "</table>\n",
       "<p>200 rows × 19 columns</p>\n",
       "</div>"
      ],
      "text/plain": [
       "     option_id  project_id  solution_id            name  \\\n",
       "0           38          75          NaN             NaN   \n",
       "1           38          75          NaN             NaN   \n",
       "2           38          75          NaN             NaN   \n",
       "3           38          75          NaN             NaN   \n",
       "4           49          80          NaN             NaN   \n",
       "..         ...         ...          ...             ...   \n",
       "195       2183        1903      19402.0  ASD 55W CANOPY   \n",
       "196       2129        1901          NaN             NaN   \n",
       "197       2129        1901          NaN             NaN   \n",
       "198       2129        1901          NaN             NaN   \n",
       "199       2129        1901          NaN             NaN   \n",
       "\n",
       "     existing_count_solutions active  created_by_user_id  incentive_type  \\\n",
       "0                         NaN    NaN                 NaN             NaN   \n",
       "1                         NaN    NaN                 NaN             NaN   \n",
       "2                         NaN    NaN                 NaN             NaN   \n",
       "3                         NaN    NaN                 NaN             NaN   \n",
       "4                         NaN    NaN                 NaN             NaN   \n",
       "..                        ...    ...                 ...             ...   \n",
       "195                       1.0      f               484.0             2.0   \n",
       "196                       NaN    NaN                 NaN             NaN   \n",
       "197                       NaN    NaN                 NaN             NaN   \n",
       "198                       NaN    NaN                 NaN             NaN   \n",
       "199                       NaN    NaN                 NaN             NaN   \n",
       "\n",
       "     product_count existing_lighting_id  proposal_options_id  proposal_id  \\\n",
       "0              NaN                  NaN                  NaN          NaN   \n",
       "1              NaN                  NaN                  NaN          NaN   \n",
       "2              NaN                  NaN                  NaN          NaN   \n",
       "3              NaN                  NaN                  NaN          NaN   \n",
       "4              NaN                  NaN                  NaN          NaN   \n",
       "..             ...                  ...                  ...          ...   \n",
       "195            1.0               1018.0               2275.0       2183.0   \n",
       "196            NaN                  NaN               2221.0       2129.0   \n",
       "197            NaN                  NaN               2221.0       2129.0   \n",
       "198            NaN                  NaN               2221.0       2129.0   \n",
       "199            NaN                  NaN               2221.0       2129.0   \n",
       "\n",
       "     area_id existing_count_exlight  replacement_count  watts_per_product  \\\n",
       "0        NaN                    NaN                8.0              150.0   \n",
       "1        NaN                    NaN                1.0               18.7   \n",
       "2        NaN                    NaN                1.0               18.7   \n",
       "3        NaN                    NaN               10.0               72.0   \n",
       "4        NaN                    NaN                8.0              150.0   \n",
       "..       ...                    ...                ...                ...   \n",
       "195      NaN                    NaN                NaN                NaN   \n",
       "196      NaN                    NaN                8.0              150.0   \n",
       "197      NaN                    NaN                1.0               18.7   \n",
       "198      NaN                    NaN                1.0               18.7   \n",
       "199      NaN                    NaN               10.0               72.0   \n",
       "\n",
       "     option_calc_light_id  existing_quantity  proposed_quantity  \n",
       "0                     NaN                NaN                NaN  \n",
       "1                     NaN                NaN                NaN  \n",
       "2                     NaN                NaN                NaN  \n",
       "3                     NaN                NaN                NaN  \n",
       "4                     NaN                NaN                NaN  \n",
       "..                    ...                ...                ...  \n",
       "195                   NaN                NaN                NaN  \n",
       "196                   NaN                NaN                NaN  \n",
       "197                   NaN                NaN                NaN  \n",
       "198                   NaN                NaN                NaN  \n",
       "199                   NaN                NaN                NaN  \n",
       "\n",
       "[200 rows x 19 columns]"
      ]
     },
     "execution_count": 71,
     "metadata": {},
     "output_type": "execute_result"
    }
   ],
   "source": [
    "df.head(200)"
   ]
  },
  {
   "cell_type": "code",
   "execution_count": 73,
   "metadata": {},
   "outputs": [],
   "source": [
    "df.to_csv(r'C:\\Users\\revat\\OneDrive\\Desktop\\Omdena\\features_02.csv',index=False)"
   ]
  },
  {
   "cell_type": "code",
   "execution_count": null,
   "metadata": {},
   "outputs": [],
   "source": []
  }
 ],
 "metadata": {
  "colab": {
   "name": "Features_options_etc.ipynb",
   "provenance": []
  },
  "kernelspec": {
   "display_name": "Python 3",
   "language": "python",
   "name": "python3"
  },
  "language_info": {
   "codemirror_mode": {
    "name": "ipython",
    "version": 3
   },
   "file_extension": ".py",
   "mimetype": "text/x-python",
   "name": "python",
   "nbconvert_exporter": "python",
   "pygments_lexer": "ipython3",
   "version": "3.7.6"
  }
 },
 "nbformat": 4,
 "nbformat_minor": 1
}

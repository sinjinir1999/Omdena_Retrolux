{
  "nbformat": 4,
  "nbformat_minor": 0,
  "metadata": {
    "colab": {
      "name": "interpolative_function.ipynb",
      "provenance": [],
      "collapsed_sections": []
    },
    "kernelspec": {
      "name": "python3",
      "display_name": "Python 3"
    },
    "language_info": {
      "name": "python"
    }
  },
  "cells": [
    {
      "cell_type": "markdown",
      "metadata": {
        "id": "kx_Dw-MKs1Jl"
      },
      "source": [
        "Find missing values in tables"
      ]
    },
    {
      "cell_type": "code",
      "metadata": {
        "id": "o9EexH5o13dQ"
      },
      "source": [
        "import pandas as pd"
      ],
      "execution_count": 6,
      "outputs": []
    },
    {
      "cell_type": "code",
      "metadata": {
        "id": "VuEwLEf44lwp"
      },
      "source": [
        "column_name = ' '  # write the colum name\n",
        "\n",
        "dframe = dframe.sort_values(column_name)\n",
        "\n",
        "index = 0    # write required index of missing value after sorting\n",
        "\n",
        "\n",
        "dframe"
      ],
      "execution_count": 64,
      "outputs": []
    },
    {
      "cell_type": "code",
      "metadata": {
        "id": "oVA_LVrF4DRJ"
      },
      "source": [
        "def interpolation(dframe,col1,col2, index):\n",
        "  if index == 0:\n",
        "    pass\n",
        "  \n",
        "\n",
        "  elif index == len(dframe - 1):\n",
        "    pass\n",
        "\n",
        "  \n",
        "  else:\n",
        "    y2  = col2[index +1]\n",
        "    y1  = col2[index -1]\n",
        "    \n",
        "    x2 = col1[index +1]\n",
        "    x1 = col1[index -1 ]\n",
        "    \n",
        "    xm = col1[index]\n",
        "    \n",
        "\n",
        "    y_diff = y2 - y1\n",
        "    x_diff = x2 - x1 \n",
        "    x_req_diff = x2 - xm\n",
        "\n",
        "    ym = y2 - (y_diff * x_req_diff) / x_diff\n",
        "    \n",
        "    print(y2,y1,x2,x1,ym,xm)\n",
        "\n",
        "    return ym\n"
      ],
      "execution_count": 58,
      "outputs": []
    },
    {
      "cell_type": "code",
      "metadata": {
        "colab": {
          "base_uri": "https://localhost:8080/",
          "height": 173
        },
        "id": "cF1TZHJhHLoJ",
        "outputId": "447ecc09-86dd-4e9a-d8ce-f9424b465994"
      },
      "source": [
        "values = [{'a': 1, 'b': 5},\n",
        "          {'a': 2, 'b': 10},\n",
        "          {'a': 3},\n",
        "          {'a': 4, 'b': 20}]\n",
        "\n",
        "my_df = pd.DataFrame(values)\n",
        "my_df"
      ],
      "execution_count": 9,
      "outputs": [
        {
          "output_type": "execute_result",
          "data": {
            "text/html": [
              "<div>\n",
              "<style scoped>\n",
              "    .dataframe tbody tr th:only-of-type {\n",
              "        vertical-align: middle;\n",
              "    }\n",
              "\n",
              "    .dataframe tbody tr th {\n",
              "        vertical-align: top;\n",
              "    }\n",
              "\n",
              "    .dataframe thead th {\n",
              "        text-align: right;\n",
              "    }\n",
              "</style>\n",
              "<table border=\"1\" class=\"dataframe\">\n",
              "  <thead>\n",
              "    <tr style=\"text-align: right;\">\n",
              "      <th></th>\n",
              "      <th>a</th>\n",
              "      <th>b</th>\n",
              "    </tr>\n",
              "  </thead>\n",
              "  <tbody>\n",
              "    <tr>\n",
              "      <th>0</th>\n",
              "      <td>1</td>\n",
              "      <td>5.0</td>\n",
              "    </tr>\n",
              "    <tr>\n",
              "      <th>1</th>\n",
              "      <td>2</td>\n",
              "      <td>10.0</td>\n",
              "    </tr>\n",
              "    <tr>\n",
              "      <th>2</th>\n",
              "      <td>3</td>\n",
              "      <td>NaN</td>\n",
              "    </tr>\n",
              "    <tr>\n",
              "      <th>3</th>\n",
              "      <td>4</td>\n",
              "      <td>20.0</td>\n",
              "    </tr>\n",
              "  </tbody>\n",
              "</table>\n",
              "</div>"
            ],
            "text/plain": [
              "   a     b\n",
              "0  1   5.0\n",
              "1  2  10.0\n",
              "2  3   NaN\n",
              "3  4  20.0"
            ]
          },
          "metadata": {
            "tags": []
          },
          "execution_count": 9
        }
      ]
    },
    {
      "cell_type": "code",
      "metadata": {
        "id": "MezV689cHlNk"
      },
      "source": [
        "column_name = 'b'  # write the colum name\n",
        "\n",
        "my_df = my_df.sort_values(column_name)\n",
        "\n",
        "index =  2 # write required index of missing value after sorting\n",
        "\n",
        "row_index = 2 # write required value of row \n",
        "\n"
      ],
      "execution_count": 55,
      "outputs": []
    },
    {
      "cell_type": "code",
      "metadata": {
        "colab": {
          "base_uri": "https://localhost:8080/"
        },
        "id": "i_rvjPdxIU2Y",
        "outputId": "e6461579-c20e-47ae-cd02-d75a5e55c355"
      },
      "source": [
        "req_value = interpolation(my_df,my_df['a'],my_df['b'], index) \n"
      ],
      "execution_count": 63,
      "outputs": [
        {
          "output_type": "stream",
          "text": [
            "20.0 10.0 4 2 15.0 3\n"
          ],
          "name": "stdout"
        }
      ]
    },
    {
      "cell_type": "code",
      "metadata": {
        "colab": {
          "base_uri": "https://localhost:8080/"
        },
        "id": "EK1s1FMzIcrl",
        "outputId": "0c07b131-529d-420d-949b-dec62a084d8e"
      },
      "source": [
        "req_value\n",
        "\n",
        "\n"
      ],
      "execution_count": 62,
      "outputs": [
        {
          "output_type": "execute_result",
          "data": {
            "text/plain": [
              "15.0"
            ]
          },
          "metadata": {
            "tags": []
          },
          "execution_count": 62
        }
      ]
    },
    {
      "cell_type": "code",
      "metadata": {
        "id": "IXosZ_o0p04o"
      },
      "source": [
        ""
      ],
      "execution_count": null,
      "outputs": []
    }
  ]
}
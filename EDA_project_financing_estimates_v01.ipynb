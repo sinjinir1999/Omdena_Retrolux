{
 "cells": [
  {
   "cell_type": "code",
   "execution_count": 66,
   "metadata": {},
   "outputs": [],
   "source": [
    "import pandas as pd\n",
    "import matplotlib.pyplot as plt\n",
    "pd.set_option('float_format', '{:f}'.format)"
   ]
  },
  {
   "cell_type": "code",
   "execution_count": 67,
   "metadata": {},
   "outputs": [],
   "source": [
    "# Load the project_financing_estimates table\n",
    "full_data = pd.read_csv(\"C:/Users/Acer/Downloads/retrolux data/project_financing_estimates.csv\")"
   ]
  },
  {
   "cell_type": "code",
   "execution_count": 28,
   "metadata": {},
   "outputs": [
    {
     "data": {
      "text/plain": [
       "Index(['id', 'project_id', 'buyer_id', 'financier_id', 'status',\n",
       "       'industry_type', 'client_name', 'current_annual_energy_cost',\n",
       "       'annual_project_savings', 'upfront_project_cost', 'annual_service_cost',\n",
       "       'transaction_fee', 'service_term', 'credit_worthiness',\n",
       "       'deferment_time', 'contractor_payment', 'financier_markup',\n",
       "       'maintenance_revenue', 'monthly_revenue', 'total_markup_percentage',\n",
       "       'financed_amount', 'financier_revenue', 'utility_payment',\n",
       "       'finance_payment', 'client_payment', 'monthly_net_savings',\n",
       "       'cash_flow_neg_adjust', 'notes', 'created_at', 'updated_at',\n",
       "       'annual_service_cost_modifier_percentage', 'client_phone',\n",
       "       'buyer_company_name', 'client_email', 'interest_rate_percentage',\n",
       "       'cumulative_apr_differential', 'active', 'proposal_id',\n",
       "       'client_company_name', 'estimate_name', 'inactive_at',\n",
       "       'created_by_user_id', 'inactivated_by_user_id', 'annual_energy_usage',\n",
       "       'annual_energy_savings', 'view_code', 'signature', 'date_signed_at',\n",
       "       'signed_by_user_id', 'buyer_contact_email', 'project_name',\n",
       "       'equipment_type', 'num_payments_per_year',\n",
       "       'vendor_interest_rate_percentage',\n",
       "       'financier_markup_modifier_percentage', 'financier_payment',\n",
       "       'monthly_transaction_fee', 'discounted_payment',\n",
       "       'max_term_for_discount', 'buyer_contact_name',\n",
       "       'minimum_annual_service_cost', 'financier_company_name', 'locked',\n",
       "       'buyer_contact_phone', 'declined', 'declined_at', 'declined_by_user'],\n",
       "      dtype='object')"
      ]
     },
     "execution_count": 28,
     "metadata": {},
     "output_type": "execute_result"
    }
   ],
   "source": [
    "full_data.columns"
   ]
  },
  {
   "cell_type": "code",
   "execution_count": 29,
   "metadata": {},
   "outputs": [
    {
     "data": {
      "text/html": [
       "<div>\n",
       "<style scoped>\n",
       "    .dataframe tbody tr th:only-of-type {\n",
       "        vertical-align: middle;\n",
       "    }\n",
       "\n",
       "    .dataframe tbody tr th {\n",
       "        vertical-align: top;\n",
       "    }\n",
       "\n",
       "    .dataframe thead th {\n",
       "        text-align: right;\n",
       "    }\n",
       "</style>\n",
       "<table border=\"1\" class=\"dataframe\">\n",
       "  <thead>\n",
       "    <tr style=\"text-align: right;\">\n",
       "      <th></th>\n",
       "      <th>id</th>\n",
       "      <th>project_id</th>\n",
       "      <th>current_annual_energy_cost</th>\n",
       "      <th>annual_project_savings</th>\n",
       "      <th>upfront_project_cost</th>\n",
       "      <th>annual_energy_usage</th>\n",
       "      <th>annual_energy_savings</th>\n",
       "    </tr>\n",
       "  </thead>\n",
       "  <tbody>\n",
       "    <tr>\n",
       "      <th>0</th>\n",
       "      <td>118</td>\n",
       "      <td>nan</td>\n",
       "      <td>17125.000000</td>\n",
       "      <td>12844.000000</td>\n",
       "      <td>20400.000000</td>\n",
       "      <td>nan</td>\n",
       "      <td>nan</td>\n",
       "    </tr>\n",
       "    <tr>\n",
       "      <th>1</th>\n",
       "      <td>6</td>\n",
       "      <td>nan</td>\n",
       "      <td>10000.000000</td>\n",
       "      <td>100.000000</td>\n",
       "      <td>250.000000</td>\n",
       "      <td>nan</td>\n",
       "      <td>nan</td>\n",
       "    </tr>\n",
       "    <tr>\n",
       "      <th>2</th>\n",
       "      <td>53</td>\n",
       "      <td>nan</td>\n",
       "      <td>55000.000000</td>\n",
       "      <td>25242.000000</td>\n",
       "      <td>84200.000000</td>\n",
       "      <td>nan</td>\n",
       "      <td>385150.000000</td>\n",
       "    </tr>\n",
       "    <tr>\n",
       "      <th>3</th>\n",
       "      <td>238</td>\n",
       "      <td>2407.000000</td>\n",
       "      <td>44259.000000</td>\n",
       "      <td>28446.000000</td>\n",
       "      <td>85786.000000</td>\n",
       "      <td>498412.000000</td>\n",
       "      <td>320339.000000</td>\n",
       "    </tr>\n",
       "    <tr>\n",
       "      <th>4</th>\n",
       "      <td>11</td>\n",
       "      <td>nan</td>\n",
       "      <td>127657.000000</td>\n",
       "      <td>75676.310000</td>\n",
       "      <td>431260.290000</td>\n",
       "      <td>1930117.000000</td>\n",
       "      <td>1332001.000000</td>\n",
       "    </tr>\n",
       "    <tr>\n",
       "      <th>...</th>\n",
       "      <td>...</td>\n",
       "      <td>...</td>\n",
       "      <td>...</td>\n",
       "      <td>...</td>\n",
       "      <td>...</td>\n",
       "      <td>...</td>\n",
       "      <td>...</td>\n",
       "    </tr>\n",
       "    <tr>\n",
       "      <th>1863</th>\n",
       "      <td>2148</td>\n",
       "      <td>12034.000000</td>\n",
       "      <td>68973.000000</td>\n",
       "      <td>60941.000000</td>\n",
       "      <td>80900.000000</td>\n",
       "      <td>450061.000000</td>\n",
       "      <td>383123.000000</td>\n",
       "    </tr>\n",
       "    <tr>\n",
       "      <th>1864</th>\n",
       "      <td>2149</td>\n",
       "      <td>12035.000000</td>\n",
       "      <td>58508.000000</td>\n",
       "      <td>51208.000000</td>\n",
       "      <td>59838.520000</td>\n",
       "      <td>381855.000000</td>\n",
       "      <td>321021.000000</td>\n",
       "    </tr>\n",
       "    <tr>\n",
       "      <th>1865</th>\n",
       "      <td>2150</td>\n",
       "      <td>11941.000000</td>\n",
       "      <td>38202.000000</td>\n",
       "      <td>18916.000000</td>\n",
       "      <td>43058.000000</td>\n",
       "      <td>223715.000000</td>\n",
       "      <td>106830.000000</td>\n",
       "    </tr>\n",
       "    <tr>\n",
       "      <th>1866</th>\n",
       "      <td>2151</td>\n",
       "      <td>11941.000000</td>\n",
       "      <td>38202.000000</td>\n",
       "      <td>18916.000000</td>\n",
       "      <td>43058.000000</td>\n",
       "      <td>223715.000000</td>\n",
       "      <td>106830.000000</td>\n",
       "    </tr>\n",
       "    <tr>\n",
       "      <th>1867</th>\n",
       "      <td>2152</td>\n",
       "      <td>9955.000000</td>\n",
       "      <td>19962.000000</td>\n",
       "      <td>17059.000000</td>\n",
       "      <td>29406.000000</td>\n",
       "      <td>159408.000000</td>\n",
       "      <td>114758.000000</td>\n",
       "    </tr>\n",
       "  </tbody>\n",
       "</table>\n",
       "<p>1868 rows × 7 columns</p>\n",
       "</div>"
      ],
      "text/plain": [
       "        id   project_id  current_annual_energy_cost  annual_project_savings  \\\n",
       "0      118          nan                17125.000000            12844.000000   \n",
       "1        6          nan                10000.000000              100.000000   \n",
       "2       53          nan                55000.000000            25242.000000   \n",
       "3      238  2407.000000                44259.000000            28446.000000   \n",
       "4       11          nan               127657.000000            75676.310000   \n",
       "...    ...          ...                         ...                     ...   \n",
       "1863  2148 12034.000000                68973.000000            60941.000000   \n",
       "1864  2149 12035.000000                58508.000000            51208.000000   \n",
       "1865  2150 11941.000000                38202.000000            18916.000000   \n",
       "1866  2151 11941.000000                38202.000000            18916.000000   \n",
       "1867  2152  9955.000000                19962.000000            17059.000000   \n",
       "\n",
       "      upfront_project_cost  annual_energy_usage  annual_energy_savings  \n",
       "0             20400.000000                  nan                    nan  \n",
       "1               250.000000                  nan                    nan  \n",
       "2             84200.000000                  nan          385150.000000  \n",
       "3             85786.000000        498412.000000          320339.000000  \n",
       "4            431260.290000       1930117.000000         1332001.000000  \n",
       "...                    ...                  ...                    ...  \n",
       "1863          80900.000000        450061.000000          383123.000000  \n",
       "1864          59838.520000        381855.000000          321021.000000  \n",
       "1865          43058.000000        223715.000000          106830.000000  \n",
       "1866          43058.000000        223715.000000          106830.000000  \n",
       "1867          29406.000000        159408.000000          114758.000000  \n",
       "\n",
       "[1868 rows x 7 columns]"
      ]
     },
     "execution_count": 29,
     "metadata": {},
     "output_type": "execute_result"
    }
   ],
   "source": [
    "# Important columns are these one\n",
    "data = full_data[['id','project_id','current_annual_energy_cost','annual_project_savings','upfront_project_cost','annual_energy_usage','annual_energy_savings']]\n",
    "data"
   ]
  },
  {
   "cell_type": "code",
   "execution_count": 55,
   "metadata": {},
   "outputs": [
    {
     "data": {
      "text/plain": [
       "count   1868.000000\n",
       "mean       0.461584\n",
       "std        0.414497\n",
       "min        0.000000\n",
       "25%        0.279659\n",
       "50%        0.373994\n",
       "75%        0.532964\n",
       "max        5.555445\n",
       "dtype: float64"
      ]
     },
     "execution_count": 55,
     "metadata": {},
     "output_type": "execute_result"
    }
   ],
   "source": [
    "# Hypothesis: ROI = annual_project_savings / upfront_project_cost (check with Brian/Leif)\n",
    "# Estimate ROI \n",
    "roi = data['annual_project_savings']/data['upfront_project_cost']\n",
    "roi.describe()"
   ]
  },
  {
   "cell_type": "code",
   "execution_count": 56,
   "metadata": {},
   "outputs": [
    {
     "data": {
      "text/plain": [
       "Text(0.5, 1.0, 'ROI projects histogram')"
      ]
     },
     "execution_count": 56,
     "metadata": {},
     "output_type": "execute_result"
    },
    {
     "data": {
      "image/png": "[encoded data removed]",
      "text/plain": [
       "<Figure size 432x288 with 1 Axes>"
      ]
     },
     "metadata": {
      "needs_background": "light"
     },
     "output_type": "display_data"
    }
   ],
   "source": [
    "# Little histogram on the ROI\n",
    "plt.hist(roi, bins = [i/10 for i in range(15)])\n",
    "plt.title(\"ROI projects histogram\")"
   ]
  },
  {
   "cell_type": "code",
   "execution_count": 57,
   "metadata": {},
   "outputs": [
    {
     "data": {
      "text/plain": [
       "count       1868.000000\n",
       "mean      133984.451907\n",
       "std      1394062.855126\n",
       "min            0.000000\n",
       "25%        14929.000000\n",
       "50%        32966.500000\n",
       "75%        69868.000000\n",
       "max     30000900.000000\n",
       "Name: current_annual_energy_cost, dtype: float64"
      ]
     },
     "execution_count": 57,
     "metadata": {},
     "output_type": "execute_result"
    }
   ],
   "source": [
    "# Describe current annual energy cost (check units, is this USD?)\n",
    "data['current_annual_energy_cost'].describe()"
   ]
  },
  {
   "cell_type": "code",
   "execution_count": 58,
   "metadata": {},
   "outputs": [
    {
     "data": {
      "text/plain": [
       "Text(0.5, 1.0, \"Project's current annual energy cost histogram\")"
      ]
     },
     "execution_count": 58,
     "metadata": {},
     "output_type": "execute_result"
    },
    {
     "data": {
      "image/png": "[encoded data removed]",
      "text/plain": [
       "<Figure size 432x288 with 1 Axes>"
      ]
     },
     "metadata": {
      "needs_background": "light"
     },
     "output_type": "display_data"
    }
   ],
   "source": [
    "# Little histogram on the current_annual_energy_cost\n",
    "plt.hist(data['current_annual_energy_cost'], bins = [10000*i for i in range(15)])\n",
    "plt.title(\"Project's current annual energy cost histogram\")"
   ]
  },
  {
   "cell_type": "code",
   "execution_count": 79,
   "metadata": {},
   "outputs": [
    {
     "data": {
      "text/plain": [
       "count   1676.000000\n",
       "mean            inf\n",
       "std             nan\n",
       "min        0.017933\n",
       "25%        0.551010\n",
       "50%        0.629012\n",
       "75%        0.714211\n",
       "max             inf\n",
       "dtype: float64"
      ]
     },
     "execution_count": 79,
     "metadata": {},
     "output_type": "execute_result"
    }
   ],
   "source": [
    "# Regarding the energy savings, let's compute the savings in percentage\n",
    "energy_savings_percentage = data['annual_energy_savings']/data['annual_energy_usage']\n",
    "energy_savings_percentage.describe()"
   ]
  },
  {
   "cell_type": "code",
   "execution_count": 80,
   "metadata": {},
   "outputs": [
    {
     "data": {
      "text/plain": [
       "Text(0.5, 1.0, 'Energy savings [%] of projects')"
      ]
     },
     "execution_count": 80,
     "metadata": {},
     "output_type": "execute_result"
    },
    {
     "data": {
      "image/png": "[encoded data removed]",
      "text/plain": [
       "<Figure size 432x288 with 1 Axes>"
      ]
     },
     "metadata": {
      "needs_background": "light"
     },
     "output_type": "display_data"
    }
   ],
   "source": [
    "# Little histogram on the energy savings percentage\n",
    "plt.hist(energy_savings_percentage, bins = [i/10 for i in range(10)])\n",
    "plt.title(\"Energy savings [%] of projects\")"
   ]
  },
  {
   "cell_type": "code",
   "execution_count": null,
   "metadata": {},
   "outputs": [],
   "source": []
  },
  {
   "cell_type": "code",
   "execution_count": null,
   "metadata": {},
   "outputs": [],
   "source": []
  }
 ],
 "metadata": {
  "kernelspec": {
   "display_name": "Python 3",
   "language": "python",
   "name": "python3"
  },
  "language_info": {
   "codemirror_mode": {
    "name": "ipython",
    "version": 3
   },
   "file_extension": ".py",
   "mimetype": "text/x-python",
   "name": "python",
   "nbconvert_exporter": "python",
   "pygments_lexer": "ipython3",
   "version": "3.8.5"
  }
 },
 "nbformat": 4,
 "nbformat_minor": 4
}

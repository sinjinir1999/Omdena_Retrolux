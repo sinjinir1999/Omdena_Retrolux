{
  "nbformat": 4,
  "nbformat_minor": 0,
  "metadata": {
    "colab": {
      "name": "EDA_retrolux_option_calculations.ipynb",
      "provenance": [],
      "collapsed_sections": []
    },
    "kernelspec": {
      "name": "python3",
      "display_name": "Python 3"
    },
    "language_info": {
      "name": "python"
    }
  },
  "cells": [
    {
      "cell_type": "code",
      "metadata": {
        "id": "ECj83YlKEyq1"
      },
      "source": [
        "import numpy as np\n",
        "import pandas as pd\n",
        "import seaborn as sns\n",
        "import matplotlib.pyplot as plt\n",
        "\n",
        "import warnings\n",
        "warnings.simplefilter(\"ignore\")"
      ],
      "execution_count": 243,
      "outputs": []
    },
    {
      "cell_type": "code",
      "metadata": {
        "id": "njbf5oAwZedO"
      },
      "source": [
        "import pandas as pd\n",
        "pd.options.display.float_format = '{:.2f}'.format"
      ],
      "execution_count": 244,
      "outputs": []
    },
    {
      "cell_type": "code",
      "metadata": {
        "id": "udUGLOeHFFo6"
      },
      "source": [
        "df = pd.read_csv(\"/content/retrolux_option_calculations.csv\")"
      ],
      "execution_count": 245,
      "outputs": []
    },
    {
      "cell_type": "code",
      "metadata": {
        "colab": {
          "base_uri": "https://localhost:8080/",
          "height": 309
        },
        "id": "0NgCl1lNFMpW",
        "outputId": "e47ce149-79b8-4eff-e2c5-2ec223051803"
      },
      "source": [
        "df.head()"
      ],
      "execution_count": 246,
      "outputs": [
        {
          "output_type": "execute_result",
          "data": {
            "text/html": [
              "<div>\n",
              "<style scoped>\n",
              "    .dataframe tbody tr th:only-of-type {\n",
              "        vertical-align: middle;\n",
              "    }\n",
              "\n",
              "    .dataframe tbody tr th {\n",
              "        vertical-align: top;\n",
              "    }\n",
              "\n",
              "    .dataframe thead th {\n",
              "        text-align: right;\n",
              "    }\n",
              "</style>\n",
              "<table border=\"1\" class=\"dataframe\">\n",
              "  <thead>\n",
              "    <tr style=\"text-align: right;\">\n",
              "      <th></th>\n",
              "      <th>id</th>\n",
              "      <th>option_id</th>\n",
              "      <th>started_at</th>\n",
              "      <th>finished_at</th>\n",
              "      <th>total_fixture_cost</th>\n",
              "      <th>total_replacement_cost</th>\n",
              "      <th>total_incentives</th>\n",
              "      <th>net_replacement_cost</th>\n",
              "      <th>total_fixture_cost_no_markup</th>\n",
              "      <th>created_at</th>\n",
              "      <th>updated_at</th>\n",
              "      <th>existing_kwh</th>\n",
              "      <th>proposed_kwh</th>\n",
              "      <th>kwh_proposed_annual_savings</th>\n",
              "      <th>original_cost_per_year</th>\n",
              "      <th>replacement_cost_per_year</th>\n",
              "      <th>total_savings_per_year</th>\n",
              "      <th>total_encentiv_savings</th>\n",
              "      <th>total_incentive_179d</th>\n",
              "      <th>total_labor_cost</th>\n",
              "      <th>total_shipping_cost</th>\n",
              "      <th>total_misc_cost</th>\n",
              "      <th>total_tax_cost</th>\n",
              "      <th>total_cogs</th>\n",
              "      <th>total_savings_per_lamp_life</th>\n",
              "      <th>loan_payment</th>\n",
              "      <th>loan_duration</th>\n",
              "      <th>loan_principal</th>\n",
              "      <th>started_at_all</th>\n",
              "      <th>started_at_option</th>\n",
              "      <th>original_energy_cost_per_year</th>\n",
              "      <th>original_maintenance_cost_per_year</th>\n",
              "      <th>original_heating_cost_per_year</th>\n",
              "      <th>original_cooling_cost_per_year</th>\n",
              "      <th>replacement_energy_cost_per_year</th>\n",
              "      <th>replacement_maintenance_cost_per_year</th>\n",
              "      <th>replacement_heating_cost_per_year</th>\n",
              "      <th>replacement_cooling_cost_per_year</th>\n",
              "      <th>energy_savings_per_year</th>\n",
              "      <th>maintenance_savings_per_year</th>\n",
              "      <th>heating_savings_per_year</th>\n",
              "      <th>cooling_savings_per_year</th>\n",
              "      <th>total_recycling_cost</th>\n",
              "      <th>existing_kw</th>\n",
              "      <th>proposed_kw</th>\n",
              "      <th>kw_proposed_annual_savings</th>\n",
              "      <th>payback</th>\n",
              "      <th>original_demand_cost_per_year</th>\n",
              "      <th>replacement_demand_cost_per_year</th>\n",
              "      <th>demand_savings_per_year</th>\n",
              "      <th>internal_return</th>\n",
              "      <th>loan_payment_without_tax</th>\n",
              "      <th>total_replacement_cost_post_financing</th>\n",
              "      <th>net_replacement_cost_post_financing</th>\n",
              "    </tr>\n",
              "  </thead>\n",
              "  <tbody>\n",
              "    <tr>\n",
              "      <th>0</th>\n",
              "      <td>1779</td>\n",
              "      <td>1</td>\n",
              "      <td>2020-03-22 1:55:47</td>\n",
              "      <td>2020-03-22 1:55:53</td>\n",
              "      <td>0</td>\n",
              "      <td>281.52</td>\n",
              "      <td>0.00</td>\n",
              "      <td>281.52</td>\n",
              "      <td>0.00</td>\n",
              "      <td>2018-05-08 7:04:57</td>\n",
              "      <td>2020-03-22 1:55:53</td>\n",
              "      <td>25788.86</td>\n",
              "      <td>25788.86</td>\n",
              "      <td>0.00</td>\n",
              "      <td>2080.15</td>\n",
              "      <td>2080.15</td>\n",
              "      <td>0.00</td>\n",
              "      <td>0.00</td>\n",
              "      <td>0.00</td>\n",
              "      <td>0.00</td>\n",
              "      <td>0.00</td>\n",
              "      <td>0.00</td>\n",
              "      <td>11.52</td>\n",
              "      <td>11.52</td>\n",
              "      <td>0.00</td>\n",
              "      <td>nan</td>\n",
              "      <td>nan</td>\n",
              "      <td>nan</td>\n",
              "      <td>2020-03-22 1:55:47</td>\n",
              "      <td>2020-03-22 1:55:47</td>\n",
              "      <td>2002.15</td>\n",
              "      <td>78.00</td>\n",
              "      <td>0.00</td>\n",
              "      <td>0.00</td>\n",
              "      <td>2002.15</td>\n",
              "      <td>78.00</td>\n",
              "      <td>0.00</td>\n",
              "      <td>0.00</td>\n",
              "      <td>0.00</td>\n",
              "      <td>0.00</td>\n",
              "      <td>0.00</td>\n",
              "      <td>0.00</td>\n",
              "      <td>0.00</td>\n",
              "      <td>14.10</td>\n",
              "      <td>14.10</td>\n",
              "      <td>0.00</td>\n",
              "      <td>nan</td>\n",
              "      <td>0.00</td>\n",
              "      <td>0.00</td>\n",
              "      <td>0.00</td>\n",
              "      <td>0.00</td>\n",
              "      <td>nan</td>\n",
              "      <td>281.52</td>\n",
              "      <td>281.52</td>\n",
              "    </tr>\n",
              "    <tr>\n",
              "      <th>1</th>\n",
              "      <td>1224</td>\n",
              "      <td>2</td>\n",
              "      <td>2020-03-22 5:35:15</td>\n",
              "      <td>2020-03-22 5:35:17</td>\n",
              "      <td>0</td>\n",
              "      <td>0.00</td>\n",
              "      <td>0.00</td>\n",
              "      <td>0.00</td>\n",
              "      <td>0.00</td>\n",
              "      <td>2018-05-08 6:04:13</td>\n",
              "      <td>2020-03-22 5:35:17</td>\n",
              "      <td>1000.00</td>\n",
              "      <td>1000.00</td>\n",
              "      <td>0.00</td>\n",
              "      <td>123.22</td>\n",
              "      <td>123.22</td>\n",
              "      <td>0.00</td>\n",
              "      <td>0.00</td>\n",
              "      <td>0.00</td>\n",
              "      <td>0.00</td>\n",
              "      <td>0.00</td>\n",
              "      <td>0.00</td>\n",
              "      <td>0.00</td>\n",
              "      <td>0.00</td>\n",
              "      <td>0.00</td>\n",
              "      <td>nan</td>\n",
              "      <td>nan</td>\n",
              "      <td>nan</td>\n",
              "      <td>2020-03-22 5:35:15</td>\n",
              "      <td>2020-03-22 5:35:15</td>\n",
              "      <td>120.00</td>\n",
              "      <td>29.17</td>\n",
              "      <td>-42.66</td>\n",
              "      <td>16.71</td>\n",
              "      <td>120.00</td>\n",
              "      <td>29.17</td>\n",
              "      <td>-42.66</td>\n",
              "      <td>16.71</td>\n",
              "      <td>0.00</td>\n",
              "      <td>0.00</td>\n",
              "      <td>0.00</td>\n",
              "      <td>0.00</td>\n",
              "      <td>0.00</td>\n",
              "      <td>1.00</td>\n",
              "      <td>1.00</td>\n",
              "      <td>0.00</td>\n",
              "      <td>nan</td>\n",
              "      <td>0.00</td>\n",
              "      <td>0.00</td>\n",
              "      <td>0.00</td>\n",
              "      <td>0.00</td>\n",
              "      <td>nan</td>\n",
              "      <td>0.00</td>\n",
              "      <td>0.00</td>\n",
              "    </tr>\n",
              "    <tr>\n",
              "      <th>2</th>\n",
              "      <td>1242</td>\n",
              "      <td>3</td>\n",
              "      <td>2020-03-22 5:34:38</td>\n",
              "      <td>2020-03-22 5:34:40</td>\n",
              "      <td>3000</td>\n",
              "      <td>3740.00</td>\n",
              "      <td>0.00</td>\n",
              "      <td>3740.00</td>\n",
              "      <td>2000.00</td>\n",
              "      <td>2018-05-08 6:04:22</td>\n",
              "      <td>2020-03-22 5:34:40</td>\n",
              "      <td>21900.00</td>\n",
              "      <td>1900.00</td>\n",
              "      <td>20000.00</td>\n",
              "      <td>1850.88</td>\n",
              "      <td>254.95</td>\n",
              "      <td>1595.94</td>\n",
              "      <td>0.00</td>\n",
              "      <td>0.00</td>\n",
              "      <td>0.00</td>\n",
              "      <td>200.00</td>\n",
              "      <td>200.00</td>\n",
              "      <td>340.00</td>\n",
              "      <td>2740.00</td>\n",
              "      <td>-0.00</td>\n",
              "      <td>nan</td>\n",
              "      <td>nan</td>\n",
              "      <td>nan</td>\n",
              "      <td>2020-03-22 5:34:38</td>\n",
              "      <td>2020-03-22 5:34:38</td>\n",
              "      <td>2190.00</td>\n",
              "      <td>103.33</td>\n",
              "      <td>-747.44</td>\n",
              "      <td>304.99</td>\n",
              "      <td>190.00</td>\n",
              "      <td>103.33</td>\n",
              "      <td>-64.85</td>\n",
              "      <td>26.46</td>\n",
              "      <td>2000.00</td>\n",
              "      <td>-0.00</td>\n",
              "      <td>-682.59</td>\n",
              "      <td>278.53</td>\n",
              "      <td>0.00</td>\n",
              "      <td>21.90</td>\n",
              "      <td>1.90</td>\n",
              "      <td>20.00</td>\n",
              "      <td>nan</td>\n",
              "      <td>0.00</td>\n",
              "      <td>0.00</td>\n",
              "      <td>0.00</td>\n",
              "      <td>0.00</td>\n",
              "      <td>nan</td>\n",
              "      <td>3740.00</td>\n",
              "      <td>3740.00</td>\n",
              "    </tr>\n",
              "    <tr>\n",
              "      <th>3</th>\n",
              "      <td>1229</td>\n",
              "      <td>4</td>\n",
              "      <td>2020-03-22 5:35:08</td>\n",
              "      <td>2020-03-22 5:35:15</td>\n",
              "      <td>4819.5</td>\n",
              "      <td>7727.61</td>\n",
              "      <td>1198.62</td>\n",
              "      <td>6528.99</td>\n",
              "      <td>2639.50</td>\n",
              "      <td>2018-05-08 6:04:15</td>\n",
              "      <td>2020-03-22 5:35:15</td>\n",
              "      <td>325408.40</td>\n",
              "      <td>215703.44</td>\n",
              "      <td>109704.96</td>\n",
              "      <td>39049.01</td>\n",
              "      <td>25884.41</td>\n",
              "      <td>13164.60</td>\n",
              "      <td>1198.62</td>\n",
              "      <td>0.00</td>\n",
              "      <td>2300.00</td>\n",
              "      <td>300.00</td>\n",
              "      <td>0.00</td>\n",
              "      <td>308.12</td>\n",
              "      <td>5547.61</td>\n",
              "      <td>58521.00</td>\n",
              "      <td>nan</td>\n",
              "      <td>nan</td>\n",
              "      <td>nan</td>\n",
              "      <td>2020-03-22 5:35:08</td>\n",
              "      <td>2020-03-22 5:35:08</td>\n",
              "      <td>39049.01</td>\n",
              "      <td>0.00</td>\n",
              "      <td>0.00</td>\n",
              "      <td>0.00</td>\n",
              "      <td>25884.41</td>\n",
              "      <td>0.00</td>\n",
              "      <td>0.00</td>\n",
              "      <td>0.00</td>\n",
              "      <td>13164.60</td>\n",
              "      <td>0.00</td>\n",
              "      <td>0.00</td>\n",
              "      <td>0.00</td>\n",
              "      <td>0.00</td>\n",
              "      <td>76.03</td>\n",
              "      <td>50.40</td>\n",
              "      <td>25.63</td>\n",
              "      <td>1.32</td>\n",
              "      <td>0.00</td>\n",
              "      <td>0.00</td>\n",
              "      <td>0.00</td>\n",
              "      <td>75.00</td>\n",
              "      <td>nan</td>\n",
              "      <td>7727.61</td>\n",
              "      <td>6528.99</td>\n",
              "    </tr>\n",
              "    <tr>\n",
              "      <th>4</th>\n",
              "      <td>1245</td>\n",
              "      <td>5</td>\n",
              "      <td>2020-03-22 5:33:12</td>\n",
              "      <td>2020-03-22 5:33:44</td>\n",
              "      <td>145243.504</td>\n",
              "      <td>216562.11</td>\n",
              "      <td>0.00</td>\n",
              "      <td>216562.11</td>\n",
              "      <td>103745.36</td>\n",
              "      <td>2018-05-08 6:04:27</td>\n",
              "      <td>2020-03-22 5:33:44</td>\n",
              "      <td>1217075.76</td>\n",
              "      <td>549512.46</td>\n",
              "      <td>667563.30</td>\n",
              "      <td>60853.79</td>\n",
              "      <td>27475.62</td>\n",
              "      <td>33378.17</td>\n",
              "      <td>0.00</td>\n",
              "      <td>0.00</td>\n",
              "      <td>62604.00</td>\n",
              "      <td>0.00</td>\n",
              "      <td>0.00</td>\n",
              "      <td>8714.61</td>\n",
              "      <td>175063.97</td>\n",
              "      <td>43.34</td>\n",
              "      <td>4667.26</td>\n",
              "      <td>48.00</td>\n",
              "      <td>194905.90</td>\n",
              "      <td>2020-03-22 5:33:12</td>\n",
              "      <td>2020-03-22 5:33:12</td>\n",
              "      <td>60853.79</td>\n",
              "      <td>0.00</td>\n",
              "      <td>0.00</td>\n",
              "      <td>0.00</td>\n",
              "      <td>27475.62</td>\n",
              "      <td>0.00</td>\n",
              "      <td>0.00</td>\n",
              "      <td>0.00</td>\n",
              "      <td>33378.17</td>\n",
              "      <td>0.00</td>\n",
              "      <td>0.00</td>\n",
              "      <td>0.00</td>\n",
              "      <td>0.00</td>\n",
              "      <td>317.69</td>\n",
              "      <td>139.03</td>\n",
              "      <td>178.66</td>\n",
              "      <td>nan</td>\n",
              "      <td>0.00</td>\n",
              "      <td>0.00</td>\n",
              "      <td>0.00</td>\n",
              "      <td>-64.00</td>\n",
              "      <td>nan</td>\n",
              "      <td>216562.11</td>\n",
              "      <td>216562.11</td>\n",
              "    </tr>\n",
              "  </tbody>\n",
              "</table>\n",
              "</div>"
            ],
            "text/plain": [
              "     id  ...  net_replacement_cost_post_financing\n",
              "0  1779  ...                               281.52\n",
              "1  1224  ...                                 0.00\n",
              "2  1242  ...                              3740.00\n",
              "3  1229  ...                              6528.99\n",
              "4  1245  ...                            216562.11\n",
              "\n",
              "[5 rows x 54 columns]"
            ]
          },
          "metadata": {
            "tags": []
          },
          "execution_count": 246
        }
      ]
    },
    {
      "cell_type": "markdown",
      "metadata": {
        "id": "uEehrNnRFf8c"
      },
      "source": [
        "**Investigate all date-time variables**"
      ]
    },
    {
      "cell_type": "code",
      "metadata": {
        "id": "Ho96ecRYJWRz"
      },
      "source": [
        "cols = ['started_at', 'finished_at', 'created_at', 'updated_at', 'started_at_all', 'started_at_option']\n",
        "for col in cols:  \n",
        "  df[col] = pd.to_datetime(df[col], format='%Y-%m-%d %H:%M:%S')"
      ],
      "execution_count": 247,
      "outputs": []
    },
    {
      "cell_type": "code",
      "metadata": {
        "colab": {
          "base_uri": "https://localhost:8080/",
          "height": 359
        },
        "id": "jLspd-NxFjMD",
        "outputId": "fad54c1b-a5b3-41aa-d9c4-ceb13ec81ccc"
      },
      "source": [
        "df_datetime = df[['id', 'option_id','started_at', 'finished_at', 'created_at', 'updated_at', 'started_at_all', 'started_at_option']]\n",
        "df_datetime.head(10)"
      ],
      "execution_count": 248,
      "outputs": [
        {
          "output_type": "execute_result",
          "data": {
            "text/html": [
              "<div>\n",
              "<style scoped>\n",
              "    .dataframe tbody tr th:only-of-type {\n",
              "        vertical-align: middle;\n",
              "    }\n",
              "\n",
              "    .dataframe tbody tr th {\n",
              "        vertical-align: top;\n",
              "    }\n",
              "\n",
              "    .dataframe thead th {\n",
              "        text-align: right;\n",
              "    }\n",
              "</style>\n",
              "<table border=\"1\" class=\"dataframe\">\n",
              "  <thead>\n",
              "    <tr style=\"text-align: right;\">\n",
              "      <th></th>\n",
              "      <th>id</th>\n",
              "      <th>option_id</th>\n",
              "      <th>started_at</th>\n",
              "      <th>finished_at</th>\n",
              "      <th>created_at</th>\n",
              "      <th>updated_at</th>\n",
              "      <th>started_at_all</th>\n",
              "      <th>started_at_option</th>\n",
              "    </tr>\n",
              "  </thead>\n",
              "  <tbody>\n",
              "    <tr>\n",
              "      <th>0</th>\n",
              "      <td>1779</td>\n",
              "      <td>1</td>\n",
              "      <td>2020-03-22 01:55:47</td>\n",
              "      <td>2020-03-22 01:55:53</td>\n",
              "      <td>2018-05-08 07:04:57</td>\n",
              "      <td>2020-03-22 01:55:53</td>\n",
              "      <td>2020-03-22 01:55:47</td>\n",
              "      <td>2020-03-22 01:55:47</td>\n",
              "    </tr>\n",
              "    <tr>\n",
              "      <th>1</th>\n",
              "      <td>1224</td>\n",
              "      <td>2</td>\n",
              "      <td>2020-03-22 05:35:15</td>\n",
              "      <td>2020-03-22 05:35:17</td>\n",
              "      <td>2018-05-08 06:04:13</td>\n",
              "      <td>2020-03-22 05:35:17</td>\n",
              "      <td>2020-03-22 05:35:15</td>\n",
              "      <td>2020-03-22 05:35:15</td>\n",
              "    </tr>\n",
              "    <tr>\n",
              "      <th>2</th>\n",
              "      <td>1242</td>\n",
              "      <td>3</td>\n",
              "      <td>2020-03-22 05:34:38</td>\n",
              "      <td>2020-03-22 05:34:40</td>\n",
              "      <td>2018-05-08 06:04:22</td>\n",
              "      <td>2020-03-22 05:34:40</td>\n",
              "      <td>2020-03-22 05:34:38</td>\n",
              "      <td>2020-03-22 05:34:38</td>\n",
              "    </tr>\n",
              "    <tr>\n",
              "      <th>3</th>\n",
              "      <td>1229</td>\n",
              "      <td>4</td>\n",
              "      <td>2020-03-22 05:35:08</td>\n",
              "      <td>2020-03-22 05:35:15</td>\n",
              "      <td>2018-05-08 06:04:15</td>\n",
              "      <td>2020-03-22 05:35:15</td>\n",
              "      <td>2020-03-22 05:35:08</td>\n",
              "      <td>2020-03-22 05:35:08</td>\n",
              "    </tr>\n",
              "    <tr>\n",
              "      <th>4</th>\n",
              "      <td>1245</td>\n",
              "      <td>5</td>\n",
              "      <td>2020-03-22 05:33:12</td>\n",
              "      <td>2020-03-22 05:33:44</td>\n",
              "      <td>2018-05-08 06:04:27</td>\n",
              "      <td>2020-03-22 05:33:44</td>\n",
              "      <td>2020-03-22 05:33:12</td>\n",
              "      <td>2020-03-22 05:33:12</td>\n",
              "    </tr>\n",
              "    <tr>\n",
              "      <th>5</th>\n",
              "      <td>1243</td>\n",
              "      <td>6</td>\n",
              "      <td>2020-03-22 05:34:01</td>\n",
              "      <td>2020-03-22 05:34:22</td>\n",
              "      <td>2018-05-08 06:04:22</td>\n",
              "      <td>2020-03-22 05:34:22</td>\n",
              "      <td>2020-03-22 05:34:01</td>\n",
              "      <td>2020-03-22 05:34:01</td>\n",
              "    </tr>\n",
              "    <tr>\n",
              "      <th>6</th>\n",
              "      <td>1262</td>\n",
              "      <td>7</td>\n",
              "      <td>2020-03-22 01:28:09</td>\n",
              "      <td>2020-03-22 01:28:11</td>\n",
              "      <td>2018-05-08 06:04:47</td>\n",
              "      <td>2020-03-22 01:28:11</td>\n",
              "      <td>2020-03-22 01:28:09</td>\n",
              "      <td>2020-03-22 01:28:09</td>\n",
              "    </tr>\n",
              "    <tr>\n",
              "      <th>7</th>\n",
              "      <td>1235</td>\n",
              "      <td>8</td>\n",
              "      <td>2020-03-22 05:34:45</td>\n",
              "      <td>2020-03-22 05:34:47</td>\n",
              "      <td>2018-05-08 06:04:18</td>\n",
              "      <td>2020-03-22 05:34:47</td>\n",
              "      <td>2020-03-22 05:34:45</td>\n",
              "      <td>2020-03-22 05:34:45</td>\n",
              "    </tr>\n",
              "    <tr>\n",
              "      <th>8</th>\n",
              "      <td>1236</td>\n",
              "      <td>9</td>\n",
              "      <td>2020-03-22 05:34:43</td>\n",
              "      <td>2020-03-22 05:34:45</td>\n",
              "      <td>2018-05-08 06:04:19</td>\n",
              "      <td>2020-03-22 05:34:45</td>\n",
              "      <td>2020-03-22 05:34:43</td>\n",
              "      <td>2020-03-22 05:34:43</td>\n",
              "    </tr>\n",
              "    <tr>\n",
              "      <th>9</th>\n",
              "      <td>1230</td>\n",
              "      <td>10</td>\n",
              "      <td>2020-03-22 05:34:53</td>\n",
              "      <td>2020-03-22 05:34:54</td>\n",
              "      <td>2018-05-08 06:04:17</td>\n",
              "      <td>2020-03-22 05:34:54</td>\n",
              "      <td>2020-03-22 05:34:53</td>\n",
              "      <td>2020-03-22 05:34:53</td>\n",
              "    </tr>\n",
              "  </tbody>\n",
              "</table>\n",
              "</div>"
            ],
            "text/plain": [
              "     id  option_id  ...      started_at_all   started_at_option\n",
              "0  1779          1  ... 2020-03-22 01:55:47 2020-03-22 01:55:47\n",
              "1  1224          2  ... 2020-03-22 05:35:15 2020-03-22 05:35:15\n",
              "2  1242          3  ... 2020-03-22 05:34:38 2020-03-22 05:34:38\n",
              "3  1229          4  ... 2020-03-22 05:35:08 2020-03-22 05:35:08\n",
              "4  1245          5  ... 2020-03-22 05:33:12 2020-03-22 05:33:12\n",
              "5  1243          6  ... 2020-03-22 05:34:01 2020-03-22 05:34:01\n",
              "6  1262          7  ... 2020-03-22 01:28:09 2020-03-22 01:28:09\n",
              "7  1235          8  ... 2020-03-22 05:34:45 2020-03-22 05:34:45\n",
              "8  1236          9  ... 2020-03-22 05:34:43 2020-03-22 05:34:43\n",
              "9  1230         10  ... 2020-03-22 05:34:53 2020-03-22 05:34:53\n",
              "\n",
              "[10 rows x 8 columns]"
            ]
          },
          "metadata": {
            "tags": []
          },
          "execution_count": 248
        }
      ]
    },
    {
      "cell_type": "markdown",
      "metadata": {
        "id": "tnv0S5HQLK5G"
      },
      "source": [
        "### Question: Does `started_at_all` date is same with `started_at_option` date?\n",
        "\n",
        "Summary:\n",
        "- Only 80% is same (Why?)\n",
        "- Excluding identical `started_at_all` and `started_at_option`, the average difference is 236 days (+- 221 days)."
      ]
    },
    {
      "cell_type": "code",
      "metadata": {
        "colab": {
          "base_uri": "https://localhost:8080/"
        },
        "id": "sS27R8BKFzGW",
        "outputId": "35a74725-5570-4687-a11d-75dd88392419"
      },
      "source": [
        "# Only 80% is same\n",
        "sum(df['started_at_all'] == df['started_at_option'])/len(df)*100"
      ],
      "execution_count": 249,
      "outputs": [
        {
          "output_type": "execute_result",
          "data": {
            "text/plain": [
              "80.26765948883076"
            ]
          },
          "metadata": {
            "tags": []
          },
          "execution_count": 249
        }
      ]
    },
    {
      "cell_type": "code",
      "metadata": {
        "colab": {
          "base_uri": "https://localhost:8080/"
        },
        "id": "_V2auIuYF0EL",
        "outputId": "33d533df-234a-4cfa-bf67-694c2140f10f"
      },
      "source": [
        "df['delta'] = df['started_at_option'] - df['started_at_all']\n",
        "df['delta'].astype('timedelta64[D]')[df['delta'].astype('timedelta64[D]') > 0].describe()"
      ],
      "execution_count": 250,
      "outputs": [
        {
          "output_type": "execute_result",
          "data": {
            "text/plain": [
              "count    822.00\n",
              "mean     236.68\n",
              "std      221.99\n",
              "min        1.00\n",
              "25%       14.00\n",
              "50%      268.50\n",
              "75%      402.00\n",
              "max     1015.00\n",
              "Name: delta, dtype: float64"
            ]
          },
          "metadata": {
            "tags": []
          },
          "execution_count": 250
        }
      ]
    },
    {
      "cell_type": "code",
      "metadata": {
        "colab": {
          "base_uri": "https://localhost:8080/",
          "height": 265
        },
        "id": "E_7wvXdHKLRD",
        "outputId": "ba821c9b-c6f4-4f7f-ab7c-f7e87bc40601"
      },
      "source": [
        "df['delta'].astype('timedelta64[D]')[df['delta'].astype('timedelta64[D]') > 0].plot.hist();"
      ],
      "execution_count": 251,
      "outputs": [
        {
          "output_type": "display_data",
          "data": {
            "image/png": "[encoded data removed]",
            "text/plain": [
              "<Figure size 432x288 with 1 Axes>"
            ]
          },
          "metadata": {
            "tags": [],
            "needs_background": "light"
          }
        }
      ]
    },
    {
      "cell_type": "markdown",
      "metadata": {
        "id": "OYeTkUU7L54z"
      },
      "source": [
        "### Question: What is the average differences between `finished_at` and `started_at`?\n",
        "\n",
        "Summary:\n",
        "- The average difference is only 12 seconds (+- 1 minuted 40 seconds). What does it mean?"
      ]
    },
    {
      "cell_type": "code",
      "metadata": {
        "colab": {
          "base_uri": "https://localhost:8080/"
        },
        "id": "qyjkzJVML7uT",
        "outputId": "1e545ef0-8ffd-4523-aea1-647d4fe9d535"
      },
      "source": [
        "df['delta2'] = df['finished_at'] - df['started_at']\n",
        "df['delta2'].describe()"
      ],
      "execution_count": 252,
      "outputs": [
        {
          "output_type": "execute_result",
          "data": {
            "text/plain": [
              "count                         9937\n",
              "mean     0 days 00:00:12.389654825\n",
              "std      0 days 00:01:40.896195149\n",
              "min                0 days 00:00:00\n",
              "25%                0 days 00:00:02\n",
              "50%                0 days 00:00:04\n",
              "75%                0 days 00:00:08\n",
              "max                0 days 01:23:57\n",
              "Name: delta2, dtype: object"
            ]
          },
          "metadata": {
            "tags": []
          },
          "execution_count": 252
        }
      ]
    },
    {
      "cell_type": "markdown",
      "metadata": {
        "id": "VUnfNqjbM1ol"
      },
      "source": [
        "### Question: What is the average differences between `created_at` and `updated_at`?\n",
        "\n",
        "Summary:\n",
        "- The average difference is only 306 days (+- 287 days). What does it mean?"
      ]
    },
    {
      "cell_type": "code",
      "metadata": {
        "colab": {
          "base_uri": "https://localhost:8080/"
        },
        "id": "vkGy9ArHMw3O",
        "outputId": "8d0fefd6-1e23-4643-80f6-7c215ed9db52"
      },
      "source": [
        "df['delta3'] = df['updated_at'] - df['created_at']\n",
        "df['delta3'].describe()"
      ],
      "execution_count": 253,
      "outputs": [
        {
          "output_type": "execute_result",
          "data": {
            "text/plain": [
              "count                           9938\n",
              "mean     306 days 16:11:16.541960140\n",
              "std      287 days 12:43:18.466779532\n",
              "min                  0 days 00:00:00\n",
              "25%          55 days 01:35:05.250000\n",
              "50%                197 days 04:16:47\n",
              "75%                599 days 00:15:33\n",
              "max               1089 days 15:47:48\n",
              "Name: delta3, dtype: object"
            ]
          },
          "metadata": {
            "tags": []
          },
          "execution_count": 253
        }
      ]
    },
    {
      "cell_type": "code",
      "metadata": {
        "colab": {
          "base_uri": "https://localhost:8080/",
          "height": 265
        },
        "id": "Tw0FQlTrNUyb",
        "outputId": "0ce0917c-9416-4fc6-8fb4-2dace2a54b7e"
      },
      "source": [
        "df['delta3'].astype('timedelta64[D]').plot.hist();"
      ],
      "execution_count": 254,
      "outputs": [
        {
          "output_type": "display_data",
          "data": {
            "image/png": "[encoded data removed]",
            "text/plain": [
              "<Figure size 432x288 with 1 Axes>"
            ]
          },
          "metadata": {
            "tags": [],
            "needs_background": "light"
          }
        }
      ]
    },
    {
      "cell_type": "markdown",
      "metadata": {
        "id": "OcYOR6tlVGlH"
      },
      "source": [
        "### Proportion of `total_incentives` with 'net_replacement_cost`\n",
        "\n",
        "Summary:\n",
        "  - `total_replacement_cost` is the sum of `net_replacement_cost` and `total_incentives`"
      ]
    },
    {
      "cell_type": "code",
      "metadata": {
        "colab": {
          "base_uri": "https://localhost:8080/",
          "height": 117
        },
        "id": "nx2oU8YqVQlM",
        "outputId": "d8b4a0ef-e16b-4e13-f92a-06de05f427bc"
      },
      "source": [
        "df[round(df['total_replacement_cost'] - df['net_replacement_cost'] - df['total_incentives']) != 0]"
      ],
      "execution_count": 255,
      "outputs": [
        {
          "output_type": "execute_result",
          "data": {
            "text/html": [
              "<div>\n",
              "<style scoped>\n",
              "    .dataframe tbody tr th:only-of-type {\n",
              "        vertical-align: middle;\n",
              "    }\n",
              "\n",
              "    .dataframe tbody tr th {\n",
              "        vertical-align: top;\n",
              "    }\n",
              "\n",
              "    .dataframe thead th {\n",
              "        text-align: right;\n",
              "    }\n",
              "</style>\n",
              "<table border=\"1\" class=\"dataframe\">\n",
              "  <thead>\n",
              "    <tr style=\"text-align: right;\">\n",
              "      <th></th>\n",
              "      <th>id</th>\n",
              "      <th>option_id</th>\n",
              "      <th>started_at</th>\n",
              "      <th>finished_at</th>\n",
              "      <th>total_fixture_cost</th>\n",
              "      <th>total_replacement_cost</th>\n",
              "      <th>total_incentives</th>\n",
              "      <th>net_replacement_cost</th>\n",
              "      <th>total_fixture_cost_no_markup</th>\n",
              "      <th>created_at</th>\n",
              "      <th>updated_at</th>\n",
              "      <th>existing_kwh</th>\n",
              "      <th>proposed_kwh</th>\n",
              "      <th>kwh_proposed_annual_savings</th>\n",
              "      <th>original_cost_per_year</th>\n",
              "      <th>replacement_cost_per_year</th>\n",
              "      <th>total_savings_per_year</th>\n",
              "      <th>total_encentiv_savings</th>\n",
              "      <th>total_incentive_179d</th>\n",
              "      <th>total_labor_cost</th>\n",
              "      <th>total_shipping_cost</th>\n",
              "      <th>total_misc_cost</th>\n",
              "      <th>total_tax_cost</th>\n",
              "      <th>total_cogs</th>\n",
              "      <th>total_savings_per_lamp_life</th>\n",
              "      <th>loan_payment</th>\n",
              "      <th>loan_duration</th>\n",
              "      <th>loan_principal</th>\n",
              "      <th>started_at_all</th>\n",
              "      <th>started_at_option</th>\n",
              "      <th>original_energy_cost_per_year</th>\n",
              "      <th>original_maintenance_cost_per_year</th>\n",
              "      <th>original_heating_cost_per_year</th>\n",
              "      <th>original_cooling_cost_per_year</th>\n",
              "      <th>replacement_energy_cost_per_year</th>\n",
              "      <th>replacement_maintenance_cost_per_year</th>\n",
              "      <th>replacement_heating_cost_per_year</th>\n",
              "      <th>replacement_cooling_cost_per_year</th>\n",
              "      <th>energy_savings_per_year</th>\n",
              "      <th>maintenance_savings_per_year</th>\n",
              "      <th>heating_savings_per_year</th>\n",
              "      <th>cooling_savings_per_year</th>\n",
              "      <th>total_recycling_cost</th>\n",
              "      <th>existing_kw</th>\n",
              "      <th>proposed_kw</th>\n",
              "      <th>kw_proposed_annual_savings</th>\n",
              "      <th>payback</th>\n",
              "      <th>original_demand_cost_per_year</th>\n",
              "      <th>replacement_demand_cost_per_year</th>\n",
              "      <th>demand_savings_per_year</th>\n",
              "      <th>internal_return</th>\n",
              "      <th>loan_payment_without_tax</th>\n",
              "      <th>total_replacement_cost_post_financing</th>\n",
              "      <th>net_replacement_cost_post_financing</th>\n",
              "      <th>delta</th>\n",
              "      <th>delta2</th>\n",
              "      <th>delta3</th>\n",
              "    </tr>\n",
              "  </thead>\n",
              "  <tbody>\n",
              "    <tr>\n",
              "      <th>9389</th>\n",
              "      <td>9677</td>\n",
              "      <td>9681</td>\n",
              "      <td>NaT</td>\n",
              "      <td>NaT</td>\n",
              "      <td>NaN</td>\n",
              "      <td>nan</td>\n",
              "      <td>nan</td>\n",
              "      <td>nan</td>\n",
              "      <td>nan</td>\n",
              "      <td>2021-02-10 17:27:05</td>\n",
              "      <td>2021-02-10 17:27:05</td>\n",
              "      <td>nan</td>\n",
              "      <td>nan</td>\n",
              "      <td>nan</td>\n",
              "      <td>nan</td>\n",
              "      <td>nan</td>\n",
              "      <td>nan</td>\n",
              "      <td>nan</td>\n",
              "      <td>nan</td>\n",
              "      <td>nan</td>\n",
              "      <td>nan</td>\n",
              "      <td>nan</td>\n",
              "      <td>nan</td>\n",
              "      <td>nan</td>\n",
              "      <td>nan</td>\n",
              "      <td>nan</td>\n",
              "      <td>nan</td>\n",
              "      <td>nan</td>\n",
              "      <td>NaT</td>\n",
              "      <td>NaT</td>\n",
              "      <td>nan</td>\n",
              "      <td>nan</td>\n",
              "      <td>nan</td>\n",
              "      <td>nan</td>\n",
              "      <td>nan</td>\n",
              "      <td>nan</td>\n",
              "      <td>nan</td>\n",
              "      <td>nan</td>\n",
              "      <td>nan</td>\n",
              "      <td>nan</td>\n",
              "      <td>nan</td>\n",
              "      <td>nan</td>\n",
              "      <td>nan</td>\n",
              "      <td>nan</td>\n",
              "      <td>nan</td>\n",
              "      <td>nan</td>\n",
              "      <td>nan</td>\n",
              "      <td>nan</td>\n",
              "      <td>nan</td>\n",
              "      <td>nan</td>\n",
              "      <td>nan</td>\n",
              "      <td>nan</td>\n",
              "      <td>nan</td>\n",
              "      <td>nan</td>\n",
              "      <td>NaT</td>\n",
              "      <td>NaT</td>\n",
              "      <td>0 days</td>\n",
              "    </tr>\n",
              "  </tbody>\n",
              "</table>\n",
              "</div>"
            ],
            "text/plain": [
              "        id  option_id started_at  ... delta delta2  delta3\n",
              "9389  9677       9681        NaT  ...   NaT    NaT  0 days\n",
              "\n",
              "[1 rows x 57 columns]"
            ]
          },
          "metadata": {
            "tags": []
          },
          "execution_count": 255
        }
      ]
    },
    {
      "cell_type": "markdown",
      "metadata": {
        "id": "QG-ITmFRYEtp"
      },
      "source": [
        "### total_savings_per_year\n",
        "\n",
        "Summary:\n",
        "  - The value is range is extremely huge, I think we need to connect it with another file so we can identify and categorize them accordingly."
      ]
    },
    {
      "cell_type": "code",
      "metadata": {
        "colab": {
          "base_uri": "https://localhost:8080/"
        },
        "id": "D1uKaCTTYLQP",
        "outputId": "1a3cecb2-9f4a-47b5-9ca0-d99787eac07b"
      },
      "source": [
        "df['total_savings_per_year'].describe()"
      ],
      "execution_count": 256,
      "outputs": [
        {
          "output_type": "execute_result",
          "data": {
            "text/plain": [
              "count          9937.00\n",
              "mean        4673734.48\n",
              "std       460485638.47\n",
              "min        -2223105.17\n",
              "25%             163.07\n",
              "50%            2889.49\n",
              "75%           10677.79\n",
              "max     45902400000.00\n",
              "Name: total_savings_per_year, dtype: float64"
            ]
          },
          "metadata": {
            "tags": []
          },
          "execution_count": 256
        }
      ]
    },
    {
      "cell_type": "markdown",
      "metadata": {
        "id": "cOKcOx76Z5zx"
      },
      "source": [
        "### Features Correlation"
      ]
    },
    {
      "cell_type": "code",
      "metadata": {
        "colab": {
          "base_uri": "https://localhost:8080/",
          "height": 538
        },
        "id": "rLPSsiKrZ7cy",
        "outputId": "2d7776a8-1b4d-4079-dfe8-c6d0e53137ab"
      },
      "source": [
        "plt.figure(figsize=(8,5))\n",
        "df_corr = df.drop(['id','option_id'], axis=1).corr()\n",
        "sns.heatmap(df_corr, cmap=\"YlGnBu\")"
      ],
      "execution_count": 257,
      "outputs": [
        {
          "output_type": "execute_result",
          "data": {
            "text/plain": [
              "<matplotlib.axes._subplots.AxesSubplot at 0x7f90e381bcd0>"
            ]
          },
          "metadata": {
            "tags": []
          },
          "execution_count": 257
        },
        {
          "output_type": "display_data",
          "data": {
            "image/png": "[encoded data removed]",
            "text/plain": [
              "<Figure size 576x360 with 2 Axes>"
            ]
          },
          "metadata": {
            "tags": [],
            "needs_background": "light"
          }
        }
      ]
    },
    {
      "cell_type": "code",
      "metadata": {
        "colab": {
          "base_uri": "https://localhost:8080/"
        },
        "id": "MbubkssRb2uY",
        "outputId": "904b425a-b50d-4e4c-a16a-85e7db236203"
      },
      "source": [
        "high_correlation = set()\n",
        "\n",
        "for i in range(len(df_corr.columns)):\n",
        "    for j in range(i):\n",
        "        if abs(df_corr.iloc[i, j]) >= 0.99:\n",
        "            high_correlation.add(df_corr.columns[i])\n",
        "\n",
        "correlated_features"
      ],
      "execution_count": 258,
      "outputs": [
        {
          "output_type": "execute_result",
          "data": {
            "text/plain": [
              "{'energy_savings_per_year',\n",
              " 'existing_kw',\n",
              " 'existing_kwh',\n",
              " 'kw_proposed_annual_savings',\n",
              " 'kwh_proposed_annual_savings',\n",
              " 'loan_payment_without_tax',\n",
              " 'loan_principal',\n",
              " 'maintenance_savings_per_year',\n",
              " 'net_replacement_cost',\n",
              " 'net_replacement_cost_post_financing',\n",
              " 'original_cost_per_year',\n",
              " 'original_energy_cost_per_year',\n",
              " 'proposed_kw',\n",
              " 'proposed_kwh',\n",
              " 'replacement_cost_per_year',\n",
              " 'replacement_energy_cost_per_year',\n",
              " 'replacement_maintenance_cost_per_year',\n",
              " 'total_cogs',\n",
              " 'total_fixture_cost_no_markup',\n",
              " 'total_replacement_cost_post_financing',\n",
              " 'total_savings_per_lamp_life',\n",
              " 'total_savings_per_year'}"
            ]
          },
          "metadata": {
            "tags": []
          },
          "execution_count": 258
        }
      ]
    }
  ]
}
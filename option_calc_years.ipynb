{
 "cells": [
  {
   "cell_type": "code",
   "execution_count": 1,
   "metadata": {},
   "outputs": [
    {
     "data": {
      "text/html": [
       "<div>\n",
       "<style scoped>\n",
       "    .dataframe tbody tr th:only-of-type {\n",
       "        vertical-align: middle;\n",
       "    }\n",
       "\n",
       "    .dataframe tbody tr th {\n",
       "        vertical-align: top;\n",
       "    }\n",
       "\n",
       "    .dataframe thead th {\n",
       "        text-align: right;\n",
       "    }\n",
       "</style>\n",
       "<table border=\"1\" class=\"dataframe\">\n",
       "  <thead>\n",
       "    <tr style=\"text-align: right;\">\n",
       "      <th></th>\n",
       "      <th>id</th>\n",
       "      <th>option_calculation_id</th>\n",
       "      <th>year</th>\n",
       "      <th>total_savings</th>\n",
       "      <th>cumulative_cash_flow</th>\n",
       "      <th>created_at</th>\n",
       "      <th>updated_at</th>\n",
       "      <th>energy_cost</th>\n",
       "      <th>maintenance_cost</th>\n",
       "      <th>energy_savings</th>\n",
       "      <th>maintenance_savings</th>\n",
       "      <th>cooling_cost</th>\n",
       "      <th>cooling_savings</th>\n",
       "      <th>heating_cost</th>\n",
       "      <th>heating_savings</th>\n",
       "      <th>customer_cost</th>\n",
       "      <th>customer_savings</th>\n",
       "      <th>demand_cost</th>\n",
       "      <th>demand_savings</th>\n",
       "    </tr>\n",
       "  </thead>\n",
       "  <tbody>\n",
       "    <tr>\n",
       "      <th>0</th>\n",
       "      <td>30130</td>\n",
       "      <td>2242</td>\n",
       "      <td>1</td>\n",
       "      <td>9168.65</td>\n",
       "      <td>-17836.190</td>\n",
       "      <td>2018-07-17 15:15:41.453302</td>\n",
       "      <td>2020-03-22 02:39:49.055518</td>\n",
       "      <td>4120.27</td>\n",
       "      <td>0.0</td>\n",
       "      <td>9168.65</td>\n",
       "      <td>0.0</td>\n",
       "      <td>0.0</td>\n",
       "      <td>0.0</td>\n",
       "      <td>0.0</td>\n",
       "      <td>0.0</td>\n",
       "      <td>NaN</td>\n",
       "      <td>NaN</td>\n",
       "      <td>0.0</td>\n",
       "      <td>0.0</td>\n",
       "    </tr>\n",
       "    <tr>\n",
       "      <th>1</th>\n",
       "      <td>30134</td>\n",
       "      <td>2242</td>\n",
       "      <td>5</td>\n",
       "      <td>9168.65</td>\n",
       "      <td>18838.410</td>\n",
       "      <td>2018-07-17 15:15:41.550995</td>\n",
       "      <td>2020-03-22 02:39:49.41579</td>\n",
       "      <td>4120.27</td>\n",
       "      <td>0.0</td>\n",
       "      <td>9168.65</td>\n",
       "      <td>0.0</td>\n",
       "      <td>0.0</td>\n",
       "      <td>0.0</td>\n",
       "      <td>0.0</td>\n",
       "      <td>0.0</td>\n",
       "      <td>NaN</td>\n",
       "      <td>NaN</td>\n",
       "      <td>0.0</td>\n",
       "      <td>0.0</td>\n",
       "    </tr>\n",
       "    <tr>\n",
       "      <th>2</th>\n",
       "      <td>91118</td>\n",
       "      <td>5626</td>\n",
       "      <td>3</td>\n",
       "      <td>90037.45</td>\n",
       "      <td>125490.359</td>\n",
       "      <td>2019-10-27 09:47:03.354877</td>\n",
       "      <td>2020-09-22 19:55:28.427968</td>\n",
       "      <td>22757.04</td>\n",
       "      <td>0.0</td>\n",
       "      <td>55427.45</td>\n",
       "      <td>34610.0</td>\n",
       "      <td>0.0</td>\n",
       "      <td>0.0</td>\n",
       "      <td>0.0</td>\n",
       "      <td>0.0</td>\n",
       "      <td>NaN</td>\n",
       "      <td>NaN</td>\n",
       "      <td>0.0</td>\n",
       "      <td>0.0</td>\n",
       "    </tr>\n",
       "    <tr>\n",
       "      <th>3</th>\n",
       "      <td>30118</td>\n",
       "      <td>2045</td>\n",
       "      <td>1</td>\n",
       "      <td>10522.51</td>\n",
       "      <td>-8336.690</td>\n",
       "      <td>2018-07-17 15:15:40.112278</td>\n",
       "      <td>2020-03-22 03:03:29.979977</td>\n",
       "      <td>5124.60</td>\n",
       "      <td>0.0</td>\n",
       "      <td>10522.51</td>\n",
       "      <td>0.0</td>\n",
       "      <td>0.0</td>\n",
       "      <td>0.0</td>\n",
       "      <td>0.0</td>\n",
       "      <td>0.0</td>\n",
       "      <td>NaN</td>\n",
       "      <td>NaN</td>\n",
       "      <td>0.0</td>\n",
       "      <td>0.0</td>\n",
       "    </tr>\n",
       "    <tr>\n",
       "      <th>4</th>\n",
       "      <td>30122</td>\n",
       "      <td>2045</td>\n",
       "      <td>5</td>\n",
       "      <td>10522.51</td>\n",
       "      <td>33753.350</td>\n",
       "      <td>2018-07-17 15:15:40.174785</td>\n",
       "      <td>2020-03-22 03:03:30.126708</td>\n",
       "      <td>5124.60</td>\n",
       "      <td>0.0</td>\n",
       "      <td>10522.51</td>\n",
       "      <td>0.0</td>\n",
       "      <td>0.0</td>\n",
       "      <td>0.0</td>\n",
       "      <td>0.0</td>\n",
       "      <td>0.0</td>\n",
       "      <td>NaN</td>\n",
       "      <td>NaN</td>\n",
       "      <td>0.0</td>\n",
       "      <td>0.0</td>\n",
       "    </tr>\n",
       "  </tbody>\n",
       "</table>\n",
       "</div>"
      ],
      "text/plain": [
       "      id  option_calculation_id  year  total_savings  cumulative_cash_flow  \\\n",
       "0  30130                   2242     1        9168.65            -17836.190   \n",
       "1  30134                   2242     5        9168.65             18838.410   \n",
       "2  91118                   5626     3       90037.45            125490.359   \n",
       "3  30118                   2045     1       10522.51             -8336.690   \n",
       "4  30122                   2045     5       10522.51             33753.350   \n",
       "\n",
       "                   created_at                  updated_at  energy_cost  \\\n",
       "0  2018-07-17 15:15:41.453302  2020-03-22 02:39:49.055518      4120.27   \n",
       "1  2018-07-17 15:15:41.550995   2020-03-22 02:39:49.41579      4120.27   \n",
       "2  2019-10-27 09:47:03.354877  2020-09-22 19:55:28.427968     22757.04   \n",
       "3  2018-07-17 15:15:40.112278  2020-03-22 03:03:29.979977      5124.60   \n",
       "4  2018-07-17 15:15:40.174785  2020-03-22 03:03:30.126708      5124.60   \n",
       "\n",
       "   maintenance_cost  energy_savings  maintenance_savings  cooling_cost  \\\n",
       "0               0.0         9168.65                  0.0           0.0   \n",
       "1               0.0         9168.65                  0.0           0.0   \n",
       "2               0.0        55427.45              34610.0           0.0   \n",
       "3               0.0        10522.51                  0.0           0.0   \n",
       "4               0.0        10522.51                  0.0           0.0   \n",
       "\n",
       "   cooling_savings  heating_cost  heating_savings  customer_cost  \\\n",
       "0              0.0           0.0              0.0            NaN   \n",
       "1              0.0           0.0              0.0            NaN   \n",
       "2              0.0           0.0              0.0            NaN   \n",
       "3              0.0           0.0              0.0            NaN   \n",
       "4              0.0           0.0              0.0            NaN   \n",
       "\n",
       "   customer_savings  demand_cost  demand_savings  \n",
       "0               NaN          0.0             0.0  \n",
       "1               NaN          0.0             0.0  \n",
       "2               NaN          0.0             0.0  \n",
       "3               NaN          0.0             0.0  \n",
       "4               NaN          0.0             0.0  "
      ]
     },
     "execution_count": 1,
     "metadata": {},
     "output_type": "execute_result"
    }
   ],
   "source": [
    "import pandas as pd\n",
    "df=pd.read_csv(r\"option_calc_years.csv\")\n",
    "df.head()"
   ]
  },
  {
   "cell_type": "code",
   "execution_count": 4,
   "metadata": {},
   "outputs": [
    {
     "name": "stdout",
     "output_type": "stream",
     "text": [
      "removing null values\n",
      " \n",
      "customer_cost : 43.25578042866042 %\n",
      "customer_savings : 43.25578042866042 %\n"
     ]
    }
   ],
   "source": [
    "print(\"removing null values\")\n",
    "print(\" \")\n",
    "for i in df.columns:\n",
    "     if (df[i].isnull().sum()/len(df))*100 >= 30:\n",
    "        print(i,\":\", df[i].isnull().sum()/len(df)*100, \"%\")\n",
    "        \n",
    "    \n"
   ]
  },
  {
   "cell_type": "code",
   "execution_count": 14,
   "metadata": {},
   "outputs": [
    {
     "name": "stdout",
     "output_type": "stream",
     "text": [
      "Dropping columns which have mostly zero's \n",
      "\n",
      "maintenance_cost : 87.66893370333568 %\n",
      "maintenance_savings : 74.2880972852193 %\n",
      "cooling_cost : 91.21776423161873 %\n",
      "cooling_savings : 93.12114831156396 %\n",
      "heating_cost : 95.25415351665268 %\n",
      "heating_savings : 96.05061961664599 %\n",
      "demand_cost : 95.93477936293009 %\n",
      "demand_savings : 96.29723064566782 %\n"
     ]
    },
    {
     "data": {
      "text/html": [
       "<div>\n",
       "<style scoped>\n",
       "    .dataframe tbody tr th:only-of-type {\n",
       "        vertical-align: middle;\n",
       "    }\n",
       "\n",
       "    .dataframe tbody tr th {\n",
       "        vertical-align: top;\n",
       "    }\n",
       "\n",
       "    .dataframe thead th {\n",
       "        text-align: right;\n",
       "    }\n",
       "</style>\n",
       "<table border=\"1\" class=\"dataframe\">\n",
       "  <thead>\n",
       "    <tr style=\"text-align: right;\">\n",
       "      <th></th>\n",
       "      <th>id</th>\n",
       "      <th>option_calculation_id</th>\n",
       "      <th>year</th>\n",
       "      <th>total_savings</th>\n",
       "      <th>cumulative_cash_flow</th>\n",
       "      <th>created_at</th>\n",
       "      <th>updated_at</th>\n",
       "      <th>energy_cost</th>\n",
       "      <th>energy_savings</th>\n",
       "      <th>customer_cost</th>\n",
       "      <th>customer_savings</th>\n",
       "    </tr>\n",
       "  </thead>\n",
       "  <tbody>\n",
       "    <tr>\n",
       "      <th>0</th>\n",
       "      <td>30130</td>\n",
       "      <td>2242</td>\n",
       "      <td>1</td>\n",
       "      <td>9168.65</td>\n",
       "      <td>-17836.190</td>\n",
       "      <td>2018-07-17 15:15:41.453302</td>\n",
       "      <td>2020-03-22 02:39:49.055518</td>\n",
       "      <td>4120.27</td>\n",
       "      <td>9168.65</td>\n",
       "      <td>NaN</td>\n",
       "      <td>NaN</td>\n",
       "    </tr>\n",
       "    <tr>\n",
       "      <th>1</th>\n",
       "      <td>30134</td>\n",
       "      <td>2242</td>\n",
       "      <td>5</td>\n",
       "      <td>9168.65</td>\n",
       "      <td>18838.410</td>\n",
       "      <td>2018-07-17 15:15:41.550995</td>\n",
       "      <td>2020-03-22 02:39:49.41579</td>\n",
       "      <td>4120.27</td>\n",
       "      <td>9168.65</td>\n",
       "      <td>NaN</td>\n",
       "      <td>NaN</td>\n",
       "    </tr>\n",
       "    <tr>\n",
       "      <th>2</th>\n",
       "      <td>91118</td>\n",
       "      <td>5626</td>\n",
       "      <td>3</td>\n",
       "      <td>90037.45</td>\n",
       "      <td>125490.359</td>\n",
       "      <td>2019-10-27 09:47:03.354877</td>\n",
       "      <td>2020-09-22 19:55:28.427968</td>\n",
       "      <td>22757.04</td>\n",
       "      <td>55427.45</td>\n",
       "      <td>NaN</td>\n",
       "      <td>NaN</td>\n",
       "    </tr>\n",
       "    <tr>\n",
       "      <th>3</th>\n",
       "      <td>30118</td>\n",
       "      <td>2045</td>\n",
       "      <td>1</td>\n",
       "      <td>10522.51</td>\n",
       "      <td>-8336.690</td>\n",
       "      <td>2018-07-17 15:15:40.112278</td>\n",
       "      <td>2020-03-22 03:03:29.979977</td>\n",
       "      <td>5124.60</td>\n",
       "      <td>10522.51</td>\n",
       "      <td>NaN</td>\n",
       "      <td>NaN</td>\n",
       "    </tr>\n",
       "    <tr>\n",
       "      <th>4</th>\n",
       "      <td>30122</td>\n",
       "      <td>2045</td>\n",
       "      <td>5</td>\n",
       "      <td>10522.51</td>\n",
       "      <td>33753.350</td>\n",
       "      <td>2018-07-17 15:15:40.174785</td>\n",
       "      <td>2020-03-22 03:03:30.126708</td>\n",
       "      <td>5124.60</td>\n",
       "      <td>10522.51</td>\n",
       "      <td>NaN</td>\n",
       "      <td>NaN</td>\n",
       "    </tr>\n",
       "    <tr>\n",
       "      <th>...</th>\n",
       "      <td>...</td>\n",
       "      <td>...</td>\n",
       "      <td>...</td>\n",
       "      <td>...</td>\n",
       "      <td>...</td>\n",
       "      <td>...</td>\n",
       "      <td>...</td>\n",
       "      <td>...</td>\n",
       "      <td>...</td>\n",
       "      <td>...</td>\n",
       "      <td>...</td>\n",
       "    </tr>\n",
       "    <tr>\n",
       "      <th>194228</th>\n",
       "      <td>66403</td>\n",
       "      <td>4171</td>\n",
       "      <td>4</td>\n",
       "      <td>0.00</td>\n",
       "      <td>-700.000</td>\n",
       "      <td>2019-06-03 04:16:52.229867</td>\n",
       "      <td>2021-04-28 22:04:03.366324</td>\n",
       "      <td>3848.64</td>\n",
       "      <td>0.00</td>\n",
       "      <td>NaN</td>\n",
       "      <td>NaN</td>\n",
       "    </tr>\n",
       "    <tr>\n",
       "      <th>194229</th>\n",
       "      <td>67039</td>\n",
       "      <td>4198</td>\n",
       "      <td>1</td>\n",
       "      <td>0.00</td>\n",
       "      <td>0.000</td>\n",
       "      <td>2019-06-07 21:44:59.362262</td>\n",
       "      <td>2021-04-28 22:04:06.077854</td>\n",
       "      <td>0.00</td>\n",
       "      <td>0.00</td>\n",
       "      <td>NaN</td>\n",
       "      <td>NaN</td>\n",
       "    </tr>\n",
       "    <tr>\n",
       "      <th>194230</th>\n",
       "      <td>67040</td>\n",
       "      <td>4198</td>\n",
       "      <td>2</td>\n",
       "      <td>0.00</td>\n",
       "      <td>0.000</td>\n",
       "      <td>2019-06-07 21:44:59.373951</td>\n",
       "      <td>2021-04-28 22:04:06.128918</td>\n",
       "      <td>0.00</td>\n",
       "      <td>0.00</td>\n",
       "      <td>NaN</td>\n",
       "      <td>NaN</td>\n",
       "    </tr>\n",
       "    <tr>\n",
       "      <th>194231</th>\n",
       "      <td>67041</td>\n",
       "      <td>4198</td>\n",
       "      <td>3</td>\n",
       "      <td>0.00</td>\n",
       "      <td>0.000</td>\n",
       "      <td>2019-06-07 21:44:59.385012</td>\n",
       "      <td>2021-04-28 22:04:06.18736</td>\n",
       "      <td>0.00</td>\n",
       "      <td>0.00</td>\n",
       "      <td>NaN</td>\n",
       "      <td>NaN</td>\n",
       "    </tr>\n",
       "    <tr>\n",
       "      <th>194232</th>\n",
       "      <td>67055</td>\n",
       "      <td>4198</td>\n",
       "      <td>17</td>\n",
       "      <td>0.00</td>\n",
       "      <td>0.000</td>\n",
       "      <td>2019-06-07 21:44:59.548254</td>\n",
       "      <td>2021-04-28 22:04:06.902974</td>\n",
       "      <td>0.00</td>\n",
       "      <td>0.00</td>\n",
       "      <td>NaN</td>\n",
       "      <td>NaN</td>\n",
       "    </tr>\n",
       "  </tbody>\n",
       "</table>\n",
       "<p>194233 rows × 11 columns</p>\n",
       "</div>"
      ],
      "text/plain": [
       "           id  option_calculation_id  year  total_savings  \\\n",
       "0       30130                   2242     1        9168.65   \n",
       "1       30134                   2242     5        9168.65   \n",
       "2       91118                   5626     3       90037.45   \n",
       "3       30118                   2045     1       10522.51   \n",
       "4       30122                   2045     5       10522.51   \n",
       "...       ...                    ...   ...            ...   \n",
       "194228  66403                   4171     4           0.00   \n",
       "194229  67039                   4198     1           0.00   \n",
       "194230  67040                   4198     2           0.00   \n",
       "194231  67041                   4198     3           0.00   \n",
       "194232  67055                   4198    17           0.00   \n",
       "\n",
       "        cumulative_cash_flow                  created_at  \\\n",
       "0                 -17836.190  2018-07-17 15:15:41.453302   \n",
       "1                  18838.410  2018-07-17 15:15:41.550995   \n",
       "2                 125490.359  2019-10-27 09:47:03.354877   \n",
       "3                  -8336.690  2018-07-17 15:15:40.112278   \n",
       "4                  33753.350  2018-07-17 15:15:40.174785   \n",
       "...                      ...                         ...   \n",
       "194228              -700.000  2019-06-03 04:16:52.229867   \n",
       "194229                 0.000  2019-06-07 21:44:59.362262   \n",
       "194230                 0.000  2019-06-07 21:44:59.373951   \n",
       "194231                 0.000  2019-06-07 21:44:59.385012   \n",
       "194232                 0.000  2019-06-07 21:44:59.548254   \n",
       "\n",
       "                        updated_at  energy_cost  energy_savings  \\\n",
       "0       2020-03-22 02:39:49.055518      4120.27         9168.65   \n",
       "1        2020-03-22 02:39:49.41579      4120.27         9168.65   \n",
       "2       2020-09-22 19:55:28.427968     22757.04        55427.45   \n",
       "3       2020-03-22 03:03:29.979977      5124.60        10522.51   \n",
       "4       2020-03-22 03:03:30.126708      5124.60        10522.51   \n",
       "...                            ...          ...             ...   \n",
       "194228  2021-04-28 22:04:03.366324      3848.64            0.00   \n",
       "194229  2021-04-28 22:04:06.077854         0.00            0.00   \n",
       "194230  2021-04-28 22:04:06.128918         0.00            0.00   \n",
       "194231   2021-04-28 22:04:06.18736         0.00            0.00   \n",
       "194232  2021-04-28 22:04:06.902974         0.00            0.00   \n",
       "\n",
       "        customer_cost  customer_savings  \n",
       "0                 NaN               NaN  \n",
       "1                 NaN               NaN  \n",
       "2                 NaN               NaN  \n",
       "3                 NaN               NaN  \n",
       "4                 NaN               NaN  \n",
       "...               ...               ...  \n",
       "194228            NaN               NaN  \n",
       "194229            NaN               NaN  \n",
       "194230            NaN               NaN  \n",
       "194231            NaN               NaN  \n",
       "194232            NaN               NaN  \n",
       "\n",
       "[194233 rows x 11 columns]"
      ]
     },
     "execution_count": 14,
     "metadata": {},
     "output_type": "execute_result"
    }
   ],
   "source": [
    "print(\"Dropping columns which have mostly zero's \")\n",
    "print()\n",
    "for i in df.columns:\n",
    "    if len(df[df[i]==0])/len(df)*100 >=70:\n",
    "        print(i,\":\",len(df[df[i]==0])/len(df)*100,\"%\")\n",
    "        df.drop(i, axis=1,inplace=True)\n",
    "df"
   ]
  },
  {
   "cell_type": "code",
   "execution_count": 26,
   "metadata": {},
   "outputs": [
    {
     "data": {
      "text/plain": [
       "Index(['id', 'option_calculation_id', 'year', 'total_savings',\n",
       "       'cumulative_cash_flow', 'updated_at', 'energy_cost', 'energy_savings',\n",
       "       'customer_cost', 'customer_savings'],\n",
       "      dtype='object')"
      ]
     },
     "execution_count": 26,
     "metadata": {},
     "output_type": "execute_result"
    }
   ],
   "source": [
    "df.columns\n"
   ]
  },
  {
   "cell_type": "code",
   "execution_count": 49,
   "metadata": {},
   "outputs": [
    {
     "data": {
      "text/plain": [
       "194233"
      ]
     },
     "execution_count": 49,
     "metadata": {},
     "output_type": "execute_result"
    }
   ],
   "source": [
    "len(df['id'].unique())"
   ]
  },
  {
   "cell_type": "code",
   "execution_count": 50,
   "metadata": {},
   "outputs": [
    {
     "data": {
      "text/plain": [
       "2"
      ]
     },
     "execution_count": 50,
     "metadata": {},
     "output_type": "execute_result"
    }
   ],
   "source": [
    "len(df['customer_cost'].unique())"
   ]
  },
  {
   "cell_type": "code",
   "execution_count": 51,
   "metadata": {},
   "outputs": [
    {
     "data": {
      "text/plain": [
       "2"
      ]
     },
     "execution_count": 51,
     "metadata": {},
     "output_type": "execute_result"
    }
   ],
   "source": [
    "len(df['customer_savings'].unique())"
   ]
  },
  {
   "cell_type": "markdown",
   "metadata": {},
   "source": []
  },
  {
   "cell_type": "code",
   "execution_count": 36,
   "metadata": {},
   "outputs": [
    {
     "data": {
      "text/plain": [
       "Index(['id', 'option_calculation_id', 'year', 'total_savings',\n",
       "       'cumulative_cash_flow', 'energy_cost', 'energy_savings',\n",
       "       'customer_cost', 'customer_savings'],\n",
       "      dtype='object')"
      ]
     },
     "execution_count": 36,
     "metadata": {},
     "output_type": "execute_result"
    }
   ],
   "source": [
    "\n",
    "# df.drop(['updated_at'], axis=1, inplace=True)\n",
    "df.columns\n"
   ]
  },
  {
   "cell_type": "code",
   "execution_count": 54,
   "metadata": {},
   "outputs": [
    {
     "data": {
      "text/plain": [
       "Index(['id', 'option_calculation_id', 'year', 'total_savings',\n",
       "       'cumulative_cash_flow', 'energy_cost', 'energy_savings',\n",
       "       'customer_savings'],\n",
       "      dtype='object')"
      ]
     },
     "execution_count": 54,
     "metadata": {},
     "output_type": "execute_result"
    }
   ],
   "source": [
    "# df.drop(['customer_cost','customer_savings'],axis=1,inplace=True)\n",
    "df.columns"
   ]
  },
  {
   "cell_type": "code",
   "execution_count": 57,
   "metadata": {
    "scrolled": true
   },
   "outputs": [],
   "source": [
    "df.drop(['customer_savings'],axis=1,inplace=True)"
   ]
  },
  {
   "cell_type": "code",
   "execution_count": 58,
   "metadata": {},
   "outputs": [
    {
     "data": {
      "text/plain": [
       "<AxesSubplot:>"
      ]
     },
     "execution_count": 58,
     "metadata": {},
     "output_type": "execute_result"
    },
    {
     "data": {
      "image/png": "[encoded data removed]",
      "text/plain": [
       "<Figure size 2160x1440 with 2 Axes>"
      ]
     },
     "metadata": {
      "needs_background": "light"
     },
     "output_type": "display_data"
    }
   ],
   "source": [
    "import matplotlib.pyplot as plt\n",
    "import seaborn as sns\n",
    "\n",
    "df_new=df[df.columns]\n",
    "plt.figure(figsize=(30,20))\n",
    "\n",
    "sns.light_palette(\"seagreen\", as_cmap=True)\n",
    "sns.heatmap(df_new.corr(), annot=True)"
   ]
  }
 ],
 "metadata": {
  "kernelspec": {
   "display_name": "Python 3",
   "language": "python",
   "name": "python3"
  },
  "language_info": {
   "codemirror_mode": {
    "name": "ipython",
    "version": 3
   },
   "file_extension": ".py",
   "mimetype": "text/x-python",
   "name": "python",
   "nbconvert_exporter": "python",
   "pygments_lexer": "ipython3",
   "version": "3.8.5"
  }
 },
 "nbformat": 4,
 "nbformat_minor": 4
}

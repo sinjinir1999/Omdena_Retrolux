{
 "cells": [
  {
   "cell_type": "code",
   "execution_count": 2,
   "metadata": {},
   "outputs": [],
   "source": [
    "import pandas as pd\n",
    "exp_sav=pd.read_csv(r'Expenditure_savings.csv')\n",
    "features=pd.read_csv(r'features_merge_final.csv')"
   ]
  },
  {
   "cell_type": "code",
   "execution_count": 3,
   "metadata": {},
   "outputs": [
    {
     "data": {
      "text/plain": [
       "(12729, 38)"
      ]
     },
     "execution_count": 3,
     "metadata": {},
     "output_type": "execute_result"
    }
   ],
   "source": [
    "features.shape"
   ]
  },
  {
   "cell_type": "code",
   "execution_count": 4,
   "metadata": {},
   "outputs": [
    {
     "data": {
      "text/plain": [
       "(6513850, 51)"
      ]
     },
     "execution_count": 4,
     "metadata": {},
     "output_type": "execute_result"
    }
   ],
   "source": [
    "exp_sav.shape"
   ]
  },
  {
   "cell_type": "code",
   "execution_count": 14,
   "metadata": {},
   "outputs": [
    {
     "data": {
      "text/plain": [
       "Index(['project_id', 'option_id', 'option_calc_id', 'company_id',\n",
       "       'projects_name', 'facility_type_id', 'facility_type', 'tax_rate_source',\n",
       "       'finance_discount_rate', 'tax_exempt', 'active', 'area_count',\n",
       "       'area_count_sum', 'ave_annual_hours', 'monday_ave_daily_hours',\n",
       "       'tuesday_ave_daily_hours', 'wednesday_ave_daily_hours',\n",
       "       'thursday_ave_daily_hours', 'friday_ave_daily_hours',\n",
       "       'saturday_ave_daily_hours', 'sunday_ave_daily_hours',\n",
       "       'ave_weeks_per_year', 'hour_type', 'max_kwh_cost',\n",
       "       'max_kwh_cost_simple', 'existing_lighting_count',\n",
       "       'total_watts_per_product', 'ave_lm70', 'total_solution_count',\n",
       "       'total_existing_quantity', 'total_proposed_quantity',\n",
       "       'total_replacement_count', 'total_fixture_watts',\n",
       "       'total_fixture_watt_hours', 'total_fixture_life_years',\n",
       "       'total_item_watts', 'sol_total_existing_count', 'total_product_count'],\n",
       "      dtype='object')"
      ]
     },
     "execution_count": 14,
     "metadata": {},
     "output_type": "execute_result"
    }
   ],
   "source": [
    "features.columns"
   ]
  },
  {
   "cell_type": "code",
   "execution_count": 13,
   "metadata": {},
   "outputs": [],
   "source": [
    "features.rename(columns = {'option_calculation_id':'option_calc_id'}, inplace =True)"
   ]
  },
  {
   "cell_type": "code",
   "execution_count": 8,
   "metadata": {},
   "outputs": [
    {
     "data": {
      "text/plain": [
       "Index(['Unnamed: 0', 'option_id', 'option_calc_id', 'project_id', 'company_id',\n",
       "       'existing_lighting_id', 'industry_type_id', 'solution_id',\n",
       "       'default_lighting_template_id', 'operating_schedule_id',\n",
       "       'rate_schedule_id', 'rebates', 'name', 'existing_kw', 'proposed_kw',\n",
       "       'existing_kwh', 'proposed_kwh', 'annual_hours', 'existing_quantity',\n",
       "       'proposed_quantity', 'kwh_proposed_annual_savings',\n",
       "       'kw_proposed_annual_savings', 'energy_savings_per_year',\n",
       "       'net_replacement_cost', 'total_incentives', 'total_cogs',\n",
       "       'replacement_cost_per_year', 'total_fixture_cost',\n",
       "       'original_cost_per_year', 'total_labor_cost', 'total_misc_cost',\n",
       "       'total_tax_cost', 'original_energy_cost_per_year',\n",
       "       'original_maintenance_cost_per_year',\n",
       "       'replacement_energy_cost_per_year', 'energy_cost', 'maintenance_cost',\n",
       "       'demand_cost', 'kwh_cost', 'fixture_item_cost', 'fixture_labor_cost',\n",
       "       'fixture_tax_cost', 'fixture_total_cost', 'replacement_fixture_cost',\n",
       "       'replacement_labor_cost', 'replacement_tax_cost',\n",
       "       'maintenance_savings_per_year', 'total_savings_per_year',\n",
       "       'internal_return', 'payback', 'simple_payback'],\n",
       "      dtype='object')"
      ]
     },
     "execution_count": 8,
     "metadata": {},
     "output_type": "execute_result"
    }
   ],
   "source": [
    "exp_sav.columns"
   ]
  },
  {
   "cell_type": "code",
   "execution_count": 11,
   "metadata": {},
   "outputs": [],
   "source": [
    "exp_sav.drop(columns='Unnamed: 0', inplace=True)"
   ]
  },
  {
   "cell_type": "code",
   "execution_count": 15,
   "metadata": {
    "scrolled": false
   },
   "outputs": [],
   "source": [
    "Final=features.merge(exp_sav,on=['option_id','option_calc_id','project_id','company_id'],how='inner')"
   ]
  },
  {
   "cell_type": "code",
   "execution_count": 16,
   "metadata": {},
   "outputs": [
    {
     "data": {
      "text/plain": [
       "(6057190, 84)"
      ]
     },
     "execution_count": 16,
     "metadata": {},
     "output_type": "execute_result"
    }
   ],
   "source": [
    "Final.shape"
   ]
  },
  {
   "cell_type": "code",
   "execution_count": 17,
   "metadata": {},
   "outputs": [
    {
     "data": {
      "text/html": [
       "<div>\n",
       "<style scoped>\n",
       "    .dataframe tbody tr th:only-of-type {\n",
       "        vertical-align: middle;\n",
       "    }\n",
       "\n",
       "    .dataframe tbody tr th {\n",
       "        vertical-align: top;\n",
       "    }\n",
       "\n",
       "    .dataframe thead th {\n",
       "        text-align: right;\n",
       "    }\n",
       "</style>\n",
       "<table border=\"1\" class=\"dataframe\">\n",
       "  <thead>\n",
       "    <tr style=\"text-align: right;\">\n",
       "      <th></th>\n",
       "      <th>project_id</th>\n",
       "      <th>option_id</th>\n",
       "      <th>option_calc_id</th>\n",
       "      <th>company_id</th>\n",
       "      <th>projects_name</th>\n",
       "      <th>facility_type_id</th>\n",
       "      <th>facility_type</th>\n",
       "      <th>tax_rate_source</th>\n",
       "      <th>finance_discount_rate</th>\n",
       "      <th>tax_exempt</th>\n",
       "      <th>...</th>\n",
       "      <th>fixture_tax_cost</th>\n",
       "      <th>fixture_total_cost</th>\n",
       "      <th>replacement_fixture_cost</th>\n",
       "      <th>replacement_labor_cost</th>\n",
       "      <th>replacement_tax_cost</th>\n",
       "      <th>maintenance_savings_per_year</th>\n",
       "      <th>total_savings_per_year</th>\n",
       "      <th>internal_return</th>\n",
       "      <th>payback</th>\n",
       "      <th>simple_payback</th>\n",
       "    </tr>\n",
       "  </thead>\n",
       "  <tbody>\n",
       "    <tr>\n",
       "      <th>0</th>\n",
       "      <td>2866</td>\n",
       "      <td>7923.0</td>\n",
       "      <td>7919.0</td>\n",
       "      <td>211</td>\n",
       "      <td>Quality Fabricated Solutions</td>\n",
       "      <td>34.0</td>\n",
       "      <td>Manufacturing Facility</td>\n",
       "      <td>2.0</td>\n",
       "      <td>5</td>\n",
       "      <td>False</td>\n",
       "      <td>...</td>\n",
       "      <td>0.0</td>\n",
       "      <td>180.0375</td>\n",
       "      <td>540.2250</td>\n",
       "      <td>540.0</td>\n",
       "      <td>0.0</td>\n",
       "      <td>100.295</td>\n",
       "      <td>3101.495246</td>\n",
       "      <td>25.0</td>\n",
       "      <td>3.77</td>\n",
       "      <td>3.492288</td>\n",
       "    </tr>\n",
       "    <tr>\n",
       "      <th>1</th>\n",
       "      <td>2866</td>\n",
       "      <td>7923.0</td>\n",
       "      <td>7919.0</td>\n",
       "      <td>211</td>\n",
       "      <td>Quality Fabricated Solutions</td>\n",
       "      <td>34.0</td>\n",
       "      <td>Manufacturing Facility</td>\n",
       "      <td>2.0</td>\n",
       "      <td>5</td>\n",
       "      <td>False</td>\n",
       "      <td>...</td>\n",
       "      <td>0.0</td>\n",
       "      <td>213.6250</td>\n",
       "      <td>494.5000</td>\n",
       "      <td>360.0</td>\n",
       "      <td>0.0</td>\n",
       "      <td>100.295</td>\n",
       "      <td>3101.495246</td>\n",
       "      <td>25.0</td>\n",
       "      <td>3.77</td>\n",
       "      <td>3.926662</td>\n",
       "    </tr>\n",
       "    <tr>\n",
       "      <th>2</th>\n",
       "      <td>2866</td>\n",
       "      <td>7923.0</td>\n",
       "      <td>7919.0</td>\n",
       "      <td>211</td>\n",
       "      <td>Quality Fabricated Solutions</td>\n",
       "      <td>34.0</td>\n",
       "      <td>Manufacturing Facility</td>\n",
       "      <td>2.0</td>\n",
       "      <td>5</td>\n",
       "      <td>False</td>\n",
       "      <td>...</td>\n",
       "      <td>0.0</td>\n",
       "      <td>213.6250</td>\n",
       "      <td>5563.1250</td>\n",
       "      <td>4050.0</td>\n",
       "      <td>0.0</td>\n",
       "      <td>100.295</td>\n",
       "      <td>3101.495246</td>\n",
       "      <td>25.0</td>\n",
       "      <td>3.77</td>\n",
       "      <td>3.926662</td>\n",
       "    </tr>\n",
       "    <tr>\n",
       "      <th>3</th>\n",
       "      <td>2866</td>\n",
       "      <td>7923.0</td>\n",
       "      <td>7919.0</td>\n",
       "      <td>211</td>\n",
       "      <td>Quality Fabricated Solutions</td>\n",
       "      <td>34.0</td>\n",
       "      <td>Manufacturing Facility</td>\n",
       "      <td>2.0</td>\n",
       "      <td>5</td>\n",
       "      <td>False</td>\n",
       "      <td>...</td>\n",
       "      <td>0.0</td>\n",
       "      <td>93.1875</td>\n",
       "      <td>201.5625</td>\n",
       "      <td>78.0</td>\n",
       "      <td>0.0</td>\n",
       "      <td>100.295</td>\n",
       "      <td>3101.495246</td>\n",
       "      <td>25.0</td>\n",
       "      <td>3.77</td>\n",
       "      <td>1.849686</td>\n",
       "    </tr>\n",
       "    <tr>\n",
       "      <th>4</th>\n",
       "      <td>2866</td>\n",
       "      <td>7923.0</td>\n",
       "      <td>7919.0</td>\n",
       "      <td>211</td>\n",
       "      <td>Quality Fabricated Solutions</td>\n",
       "      <td>34.0</td>\n",
       "      <td>Manufacturing Facility</td>\n",
       "      <td>2.0</td>\n",
       "      <td>5</td>\n",
       "      <td>False</td>\n",
       "      <td>...</td>\n",
       "      <td>0.0</td>\n",
       "      <td>132.3375</td>\n",
       "      <td>87.3375</td>\n",
       "      <td>45.0</td>\n",
       "      <td>0.0</td>\n",
       "      <td>100.295</td>\n",
       "      <td>3101.495246</td>\n",
       "      <td>25.0</td>\n",
       "      <td>3.77</td>\n",
       "      <td>3.130319</td>\n",
       "    </tr>\n",
       "  </tbody>\n",
       "</table>\n",
       "<p>5 rows × 84 columns</p>\n",
       "</div>"
      ],
      "text/plain": [
       "   project_id  option_id  option_calc_id  company_id  \\\n",
       "0        2866     7923.0          7919.0         211   \n",
       "1        2866     7923.0          7919.0         211   \n",
       "2        2866     7923.0          7919.0         211   \n",
       "3        2866     7923.0          7919.0         211   \n",
       "4        2866     7923.0          7919.0         211   \n",
       "\n",
       "                  projects_name  facility_type_id           facility_type  \\\n",
       "0  Quality Fabricated Solutions              34.0  Manufacturing Facility   \n",
       "1  Quality Fabricated Solutions              34.0  Manufacturing Facility   \n",
       "2  Quality Fabricated Solutions              34.0  Manufacturing Facility   \n",
       "3  Quality Fabricated Solutions              34.0  Manufacturing Facility   \n",
       "4  Quality Fabricated Solutions              34.0  Manufacturing Facility   \n",
       "\n",
       "   tax_rate_source  finance_discount_rate tax_exempt  ...  fixture_tax_cost  \\\n",
       "0              2.0                      5      False  ...               0.0   \n",
       "1              2.0                      5      False  ...               0.0   \n",
       "2              2.0                      5      False  ...               0.0   \n",
       "3              2.0                      5      False  ...               0.0   \n",
       "4              2.0                      5      False  ...               0.0   \n",
       "\n",
       "   fixture_total_cost  replacement_fixture_cost  replacement_labor_cost  \\\n",
       "0            180.0375                  540.2250                   540.0   \n",
       "1            213.6250                  494.5000                   360.0   \n",
       "2            213.6250                 5563.1250                  4050.0   \n",
       "3             93.1875                  201.5625                    78.0   \n",
       "4            132.3375                   87.3375                    45.0   \n",
       "\n",
       "   replacement_tax_cost  maintenance_savings_per_year  total_savings_per_year  \\\n",
       "0                   0.0                       100.295             3101.495246   \n",
       "1                   0.0                       100.295             3101.495246   \n",
       "2                   0.0                       100.295             3101.495246   \n",
       "3                   0.0                       100.295             3101.495246   \n",
       "4                   0.0                       100.295             3101.495246   \n",
       "\n",
       "   internal_return  payback  simple_payback  \n",
       "0             25.0     3.77        3.492288  \n",
       "1             25.0     3.77        3.926662  \n",
       "2             25.0     3.77        3.926662  \n",
       "3             25.0     3.77        1.849686  \n",
       "4             25.0     3.77        3.130319  \n",
       "\n",
       "[5 rows x 84 columns]"
      ]
     },
     "execution_count": 17,
     "metadata": {},
     "output_type": "execute_result"
    }
   ],
   "source": [
    "Final.head()"
   ]
  },
  {
   "cell_type": "code",
   "execution_count": 18,
   "metadata": {},
   "outputs": [
    {
     "data": {
      "text/plain": [
       "Index(['project_id', 'option_id', 'option_calc_id', 'company_id',\n",
       "       'projects_name', 'facility_type_id', 'facility_type', 'tax_rate_source',\n",
       "       'finance_discount_rate', 'tax_exempt', 'active', 'area_count',\n",
       "       'area_count_sum', 'ave_annual_hours', 'monday_ave_daily_hours',\n",
       "       'tuesday_ave_daily_hours', 'wednesday_ave_daily_hours',\n",
       "       'thursday_ave_daily_hours', 'friday_ave_daily_hours',\n",
       "       'saturday_ave_daily_hours', 'sunday_ave_daily_hours',\n",
       "       'ave_weeks_per_year', 'hour_type', 'max_kwh_cost',\n",
       "       'max_kwh_cost_simple', 'existing_lighting_count',\n",
       "       'total_watts_per_product', 'ave_lm70', 'total_solution_count',\n",
       "       'total_existing_quantity', 'total_proposed_quantity',\n",
       "       'total_replacement_count', 'total_fixture_watts',\n",
       "       'total_fixture_watt_hours', 'total_fixture_life_years',\n",
       "       'total_item_watts', 'sol_total_existing_count', 'total_product_count',\n",
       "       'existing_lighting_id', 'industry_type_id', 'solution_id',\n",
       "       'default_lighting_template_id', 'operating_schedule_id',\n",
       "       'rate_schedule_id', 'rebates', 'name', 'existing_kw', 'proposed_kw',\n",
       "       'existing_kwh', 'proposed_kwh', 'annual_hours', 'existing_quantity',\n",
       "       'proposed_quantity', 'kwh_proposed_annual_savings',\n",
       "       'kw_proposed_annual_savings', 'energy_savings_per_year',\n",
       "       'net_replacement_cost', 'total_incentives', 'total_cogs',\n",
       "       'replacement_cost_per_year', 'total_fixture_cost',\n",
       "       'original_cost_per_year', 'total_labor_cost', 'total_misc_cost',\n",
       "       'total_tax_cost', 'original_energy_cost_per_year',\n",
       "       'original_maintenance_cost_per_year',\n",
       "       'replacement_energy_cost_per_year', 'energy_cost', 'maintenance_cost',\n",
       "       'demand_cost', 'kwh_cost', 'fixture_item_cost', 'fixture_labor_cost',\n",
       "       'fixture_tax_cost', 'fixture_total_cost', 'replacement_fixture_cost',\n",
       "       'replacement_labor_cost', 'replacement_tax_cost',\n",
       "       'maintenance_savings_per_year', 'total_savings_per_year',\n",
       "       'internal_return', 'payback', 'simple_payback'],\n",
       "      dtype='object')"
      ]
     },
     "execution_count": 18,
     "metadata": {},
     "output_type": "execute_result"
    }
   ],
   "source": [
    "Final.columns"
   ]
  },
  {
   "cell_type": "code",
   "execution_count": 19,
   "metadata": {},
   "outputs": [],
   "source": [
    "Final=Final[[\n",
    "        #ids\n",
    "        'project_id', 'option_id', 'option_calc_id', 'company_id',\n",
    "       'projects_name', 'facility_type_id','default_lighting_template_id', 'operating_schedule_id',\n",
    "       'rate_schedule_id','existing_lighting_id', 'industry_type_id', 'solution_id', 'facility_type',\n",
    "        \n",
    "        #features\n",
    "        'tax_rate_source','finance_discount_rate', 'tax_exempt', 'active', 'area_count',\n",
    "       'area_count_sum', 'ave_annual_hours', 'monday_ave_daily_hours',\n",
    "       'tuesday_ave_daily_hours', 'wednesday_ave_daily_hours',\n",
    "       'thursday_ave_daily_hours', 'friday_ave_daily_hours',\n",
    "       'saturday_ave_daily_hours', 'sunday_ave_daily_hours',\n",
    "       'ave_weeks_per_year', 'hour_type', 'max_kwh_cost',\n",
    "       'max_kwh_cost_simple', 'existing_lighting_count',\n",
    "       'total_watts_per_product', 'ave_lm70', 'total_solution_count',\n",
    "       'total_existing_quantity', 'total_proposed_quantity',\n",
    "       'total_replacement_count', 'total_fixture_watts',\n",
    "       'total_fixture_watt_hours', 'total_fixture_life_years',\n",
    "       'total_item_watts', 'sol_total_existing_count', 'total_product_count',\n",
    "        \n",
    "        #energy features\n",
    "       'existing_kw', 'proposed_kw',\n",
    "       'existing_kwh', 'proposed_kwh', 'annual_hours', 'existing_quantity',\n",
    "       'proposed_quantity', 'kwh_proposed_annual_savings',\n",
    "       'kw_proposed_annual_savings', 'energy_savings_per_year',\n",
    "       \n",
    "        \n",
    "        #expenditures\n",
    "       'net_replacement_cost', 'total_incentives', 'total_cogs',\n",
    "       'replacement_cost_per_year', 'total_fixture_cost',\n",
    "       'original_cost_per_year', 'total_labor_cost', 'total_misc_cost',\n",
    "       'total_tax_cost', 'original_energy_cost_per_year',\n",
    "       'original_maintenance_cost_per_year',\n",
    "       'replacement_energy_cost_per_year', 'energy_cost', 'maintenance_cost',\n",
    "       'demand_cost', 'kwh_cost', 'fixture_item_cost', 'fixture_labor_cost',\n",
    "       'fixture_tax_cost', 'fixture_total_cost', 'replacement_fixture_cost',\n",
    "       'replacement_labor_cost', 'replacement_tax_cost',\n",
    "    \n",
    "        #savings\n",
    "       'maintenance_savings_per_year', 'total_savings_per_year',\n",
    "       'internal_return', 'payback', 'simple_payback','rebates', 'name']]"
   ]
  },
  {
   "cell_type": "code",
   "execution_count": 20,
   "metadata": {},
   "outputs": [
    {
     "data": {
      "text/plain": [
       "(6057190, 84)"
      ]
     },
     "execution_count": 20,
     "metadata": {},
     "output_type": "execute_result"
    }
   ],
   "source": [
    "Final.shape"
   ]
  },
  {
   "cell_type": "code",
   "execution_count": 26,
   "metadata": {},
   "outputs": [
    {
     "name": "stdout",
     "output_type": "stream",
     "text": [
      "Columns which have mostly zero's \n",
      "tax_exempt : 99.52321125802558 %\n",
      "monday_ave_daily_hours : 88.74593664719119 %\n",
      "tuesday_ave_daily_hours : 89.5089967460159 %\n",
      "wednesday_ave_daily_hours : 89.5089967460159 %\n",
      "thursday_ave_daily_hours : 89.5089967460159 %\n",
      "friday_ave_daily_hours : 89.5089967460159 %\n",
      "saturday_ave_daily_hours : 90.11719955953174 %\n",
      "sunday_ave_daily_hours : 91.685253393075 %\n",
      "ave_weeks_per_year : 88.76178558044242 %\n",
      "total_misc_cost : 73.5768565952199 %\n",
      "total_tax_cost : 86.56934981402267 %\n",
      "original_maintenance_cost_per_year : 66.42172360450968 %\n",
      "maintenance_cost : 94.21480917719272 %\n",
      "demand_cost : 99.4142498419234 %\n",
      "fixture_tax_cost : 87.92674490976839 %\n",
      "replacement_tax_cost : 87.95117868186402 %\n",
      "maintenance_savings_per_year : 66.42799714058829 %\n",
      "\n"
     ]
    }
   ],
   "source": [
    "print(\"Columns which have mostly zero's \")\n",
    "for i in Final.columns:\n",
    "    if len(Final[Final[i]==0])/len(Final)*100 >=30:\n",
    "        print(i,\":\", len(Final[Final[i]==0])/len(Final)*100,\"%\")\n",
    "print()\n"
   ]
  },
  {
   "cell_type": "code",
   "execution_count": 25,
   "metadata": {
    "scrolled": true
   },
   "outputs": [
    {
     "name": "stdout",
     "output_type": "stream",
     "text": [
      "Columns with high null values \n",
      "facility_type_id : 43.503670844071266 %\n",
      "industry_type_id : 63.72228706710538 %\n",
      "facility_type : 43.503670844071266 %\n",
      "max_kwh_cost_simple : 96.45182006838155 %\n",
      "rebates : 75.07392041524204 %\n"
     ]
    }
   ],
   "source": [
    "print(\"Columns with high null values \")\n",
    "for i in Final.columns:\n",
    "    if (Final[i].isnull().sum()/len(Final))*100 >= 30:\n",
    "        print(i,\":\", Final[i].isnull().sum()/len(Final)*100, \"%\")"
   ]
  },
  {
   "cell_type": "code",
   "execution_count": 28,
   "metadata": {},
   "outputs": [
    {
     "data": {
      "text/plain": [
       "0"
      ]
     },
     "execution_count": 28,
     "metadata": {},
     "output_type": "execute_result"
    }
   ],
   "source": [
    "len(Final[Final.duplicated()])"
   ]
  }
 ],
 "metadata": {
  "kernelspec": {
   "display_name": "Python 3",
   "language": "python",
   "name": "python3"
  },
  "language_info": {
   "codemirror_mode": {
    "name": "ipython",
    "version": 3
   },
   "file_extension": ".py",
   "mimetype": "text/x-python",
   "name": "python",
   "nbconvert_exporter": "python",
   "pygments_lexer": "ipython3",
   "version": "3.8.5"
  }
 },
 "nbformat": 4,
 "nbformat_minor": 4
}

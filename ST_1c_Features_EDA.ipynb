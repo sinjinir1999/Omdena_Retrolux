{
  "nbformat": 4,
  "nbformat_minor": 0,
  "metadata": {
    "colab": {
      "name": "ST-1c-Features-EDA.ipynb",
      "provenance": []
    },
    "kernelspec": {
      "name": "python3",
      "display_name": "Python 3"
    },
    "language_info": {
      "name": "python"
    }
  },
  "cells": [
    {
      "cell_type": "code",
      "metadata": {
        "id": "3_ikxus-rFNQ"
      },
      "source": [
        "import pandas as pd\n",
        "import seaborn as sns\n",
        "import numpy as np\n",
        "import matplotlib.pyplot as plt"
      ],
      "execution_count": null,
      "outputs": []
    },
    {
      "cell_type": "code",
      "metadata": {
        "id": "LJnQTG8ft_4f"
      },
      "source": [
        "exist_light = pd.read_csv(\"/content/drive/MyDrive/Data/Retrolux_EDA_Subtask/existing_lightings.csv\")\n",
        "exist_fixture = pd.read_csv(\"/content/drive/MyDrive/Data/Retrolux_EDA_Subtask/existing_fixtures_c.csv\")\n",
        "operating_schedule = pd.read_csv(\"/content/drive/MyDrive/Data/Retrolux_EDA_Subtask/operating_schedules.csv\")\n",
        "rate_schedule = pd.read_csv(\"/content/drive/MyDrive/Data/Retrolux_EDA_Subtask/rate_schedules.csv\")\n",
        "floor_plan = pd.read_csv(\"/content/drive/MyDrive/Data/Retrolux_EDA_Subtask/floor_plans.csv\")\n",
        "option_exist_fixture = pd.read_csv(\"/content/drive/MyDrive/Data/Retrolux_EDA_Subtask/option_existing_fixtures.csv\")\n",
        "option_locations = pd.read_csv(\"/content/drive/MyDrive/Data/Retrolux_EDA_Subtask/option_locations.csv\")\n",
        "areas = pd.read_csv(\"/content/drive/MyDrive/Data/Retrolux_EDA_Subtask/areas_c.csv\")\n",
        "option_calc_lighting = pd.read_csv(\"/content/drive/MyDrive/Data/Retrolux_EDA_Subtask/option_calc_lightings.csv\")\n",
        "solutions = pd.read_csv(\"/content/drive/MyDrive/Data/Retrolux_EDA_Subtask/solutions.csv\")"
      ],
      "execution_count": null,
      "outputs": []
    },
    {
      "cell_type": "code",
      "metadata": {
        "id": "phOhYJnw8CEd"
      },
      "source": [
        "option_calc_fixtures = pd.read_csv(\"/content/drive/MyDrive/Data/Retrolux_EDA_Subtask/option_calc_fixture.csv\", error_bad_lines= False)"
      ],
      "execution_count": null,
      "outputs": []
    },
    {
      "cell_type": "code",
      "metadata": {
        "id": "3nYphRSTtMSN"
      },
      "source": [
        "proopts = pd.read_csv(\"/content/drive/MyDrive/Data/Retrolux_EDA_Subtask/proposal_options.csv\")"
      ],
      "execution_count": null,
      "outputs": []
    },
    {
      "cell_type": "code",
      "metadata": {
        "id": "mavKAQ8OudcD"
      },
      "source": [
        "projects = pd.read_csv(\"/content/drive/MyDrive/Data/Retrolux_EDA_Subtask/projects.csv\")"
      ],
      "execution_count": null,
      "outputs": []
    },
    {
      "cell_type": "markdown",
      "metadata": {
        "id": "cARFS5bsmjwO"
      },
      "source": [
        "# **Existing_lighting Table**"
      ]
    },
    {
      "cell_type": "code",
      "metadata": {
        "colab": {
          "base_uri": "https://localhost:8080/"
        },
        "id": "brRTjVsuL_D-",
        "outputId": "34a1e996-eee7-4b39-8469-958fc13357e5"
      },
      "source": [
        "exist_light.shape"
      ],
      "execution_count": null,
      "outputs": [
        {
          "output_type": "execute_result",
          "data": {
            "text/plain": [
              "(77546, 41)"
            ]
          },
          "metadata": {
            "tags": []
          },
          "execution_count": 5
        }
      ]
    },
    {
      "cell_type": "code",
      "metadata": {
        "colab": {
          "base_uri": "https://localhost:8080/"
        },
        "id": "v6C2D4PomraK",
        "outputId": "e63f163c-0cbe-4b08-a4f3-e585b897644e"
      },
      "source": [
        "print(\"Removing null values \")\n",
        "print()\n",
        "for i in exist_light.columns:\n",
        "    if (exist_light[i].isnull().sum()/len(exist_light))*100 >= 30:\n",
        "        print(i,\":\", exist_light[i].isnull().sum()/len(exist_light)*100, \"%\")\n",
        "        exist_light.drop(i, axis=1,inplace=True)"
      ],
      "execution_count": null,
      "outputs": [
        {
          "output_type": "stream",
          "text": [
            "Removing null values \n",
            "\n",
            "description : 53.110411884558836 %\n",
            "company_id : 79.5024888453305 %\n",
            "existing_lighting_id : 75.07672865138112 %\n",
            "technology_id : 88.55389059397002 %\n",
            "product_type_id : 88.55389059397002 %\n",
            "category_id : 88.87370077115519 %\n",
            "subcategory_id : 93.12150207618703 %\n",
            "inactive_at : 96.87282387228225 %\n",
            "inactivated_by_user_id : 100.0 %\n",
            "ballast_id : 96.66133649704692 %\n",
            "luminaire_category_id : 91.57403347690402 %\n",
            "luminaire_subcategory_id : 98.53506305934542 %\n",
            "base_type_id : 99.99871044283393 %\n",
            "lens_trim_id : 95.33954040182601 %\n",
            "mounting_type_id : 100.0 %\n",
            "product_length : 94.60320326000051 %\n",
            "ballast_factor : 92.05116962834963 %\n",
            "ballast_factor_name : 100.0 %\n",
            "ballast_loss_factor : 100.0 %\n",
            "power_factor : 99.99871044283393 %\n",
            "color_temp : 100.0 %\n",
            "calc_ready : 100.0 %\n",
            "created_by_user_id : 31.846903773244268 %\n",
            "luminaire_size_id : 94.67412890413432 %\n",
            "favorite_company_id : 95.30343280117609 %\n",
            "copied_from_id : 90.79127227710005 %\n"
          ],
          "name": "stdout"
        }
      ]
    },
    {
      "cell_type": "code",
      "metadata": {
        "colab": {
          "base_uri": "https://localhost:8080/"
        },
        "id": "DY13QmCxm9xH",
        "outputId": "20bedc87-73e9-4d1a-add8-1d28bcbedcdd"
      },
      "source": [
        "print(\"Dropping columns which have mostly zero's \")\n",
        "print()\n",
        "for i in exist_light.columns:\n",
        "    if len(exist_light[exist_light[i]==0])/len(exist_light)*100 >=85:\n",
        "        print(i,\":\", len(exist_light[exist_light[i]==0])/len(exist_light)*100,\"%\")\n",
        "        exist_light.drop(i, axis=1,inplace=True)"
      ],
      "execution_count": null,
      "outputs": [
        {
          "output_type": "stream",
          "text": [
            "Dropping columns which have mostly zero's \n",
            "\n"
          ],
          "name": "stdout"
        }
      ]
    },
    {
      "cell_type": "code",
      "metadata": {
        "colab": {
          "base_uri": "https://localhost:8080/"
        },
        "id": "kNCLM5innA-h",
        "outputId": "29b8b748-6322-43b4-dd6c-2fa6aa39b851"
      },
      "source": [
        "exist_light.columns"
      ],
      "execution_count": null,
      "outputs": [
        {
          "output_type": "execute_result",
          "data": {
            "text/plain": [
              "Index(['id', 'name', 'project_id', 'watts_per_product', 'lm70', 'created_at',\n",
              "       'updated_at', 'active', 'shown', 'custom_attributes', 'audit_complete',\n",
              "       'display_order', 'uuid', 'existing_product_type', 'code'],\n",
              "      dtype='object')"
            ]
          },
          "metadata": {
            "tags": []
          },
          "execution_count": 8
        }
      ]
    },
    {
      "cell_type": "code",
      "metadata": {
        "colab": {
          "base_uri": "https://localhost:8080/"
        },
        "id": "v1tZlEJUwGy_",
        "outputId": "332f461a-748a-42b6-e9fb-3ffa0a96638a"
      },
      "source": [
        "exist_light.isnull().sum()"
      ],
      "execution_count": null,
      "outputs": [
        {
          "output_type": "execute_result",
          "data": {
            "text/plain": [
              "id                           0\n",
              "name                         0\n",
              "project_id               12518\n",
              "watts_per_product            0\n",
              "lm70                         0\n",
              "created_at                   0\n",
              "updated_at                   0\n",
              "active                       0\n",
              "shown                        0\n",
              "custom_attributes            0\n",
              "audit_complete           12518\n",
              "display_order             8505\n",
              "uuid                      8505\n",
              "existing_product_type        0\n",
              "code                     11990\n",
              "dtype: int64"
            ]
          },
          "metadata": {
            "tags": []
          },
          "execution_count": 69
        }
      ]
    },
    {
      "cell_type": "code",
      "metadata": {
        "id": "zOsPn59v1Znz"
      },
      "source": [
        "exist_light = exist_light.drop(columns=['created_at', 'updated_at', 'shown', 'custom_attributes', 'audit_complete', 'display_order', 'uuid', 'code'])"
      ],
      "execution_count": null,
      "outputs": []
    },
    {
      "cell_type": "code",
      "metadata": {
        "colab": {
          "base_uri": "https://localhost:8080/"
        },
        "id": "X6nZuW1_2KiN",
        "outputId": "fd109617-fd42-4333-b459-3c4f01fa3084"
      },
      "source": [
        "exist_light.shape"
      ],
      "execution_count": null,
      "outputs": [
        {
          "output_type": "execute_result",
          "data": {
            "text/plain": [
              "(77546, 7)"
            ]
          },
          "metadata": {
            "tags": []
          },
          "execution_count": 95
        }
      ]
    },
    {
      "cell_type": "code",
      "metadata": {
        "colab": {
          "base_uri": "https://localhost:8080/"
        },
        "id": "M-xzj66FO9oK",
        "outputId": "b610e31f-742b-40cd-f95b-0dfd22f97d90"
      },
      "source": [
        "exist_light['active'].value_counts(normalize=True)"
      ],
      "execution_count": null,
      "outputs": [
        {
          "output_type": "execute_result",
          "data": {
            "text/plain": [
              "t    0.967568\n",
              "f    0.032432\n",
              "Name: active, dtype: float64"
            ]
          },
          "metadata": {
            "tags": []
          },
          "execution_count": 158
        }
      ]
    },
    {
      "cell_type": "markdown",
      "metadata": {
        "id": "niXputv1PF-K"
      },
      "source": [
        "3% of existing lightings being inactive"
      ]
    },
    {
      "cell_type": "code",
      "metadata": {
        "id": "tztRWRTGOSDa"
      },
      "source": [
        "df_exist_light = exist_light[exist_light.active =='t']"
      ],
      "execution_count": null,
      "outputs": []
    },
    {
      "cell_type": "code",
      "metadata": {
        "colab": {
          "base_uri": "https://localhost:8080/"
        },
        "id": "vwYLJXIDOqx6",
        "outputId": "adea52b3-55f6-420c-9a9f-2bd1797dcf0d"
      },
      "source": [
        "df_exist_light.shape"
      ],
      "execution_count": null,
      "outputs": [
        {
          "output_type": "execute_result",
          "data": {
            "text/plain": [
              "(75031, 7)"
            ]
          },
          "metadata": {
            "tags": []
          },
          "execution_count": 156
        }
      ]
    },
    {
      "cell_type": "code",
      "metadata": {
        "colab": {
          "base_uri": "https://localhost:8080/"
        },
        "id": "9HlevmeeO0SY",
        "outputId": "96eff9a8-b37a-4613-88ba-6988aa8a55ee"
      },
      "source": [
        "df_exist_light.info()"
      ],
      "execution_count": null,
      "outputs": [
        {
          "output_type": "stream",
          "text": [
            "<class 'pandas.core.frame.DataFrame'>\n",
            "Int64Index: 75031 entries, 0 to 77545\n",
            "Data columns (total 7 columns):\n",
            " #   Column                 Non-Null Count  Dtype  \n",
            "---  ------                 --------------  -----  \n",
            " 0   id                     75031 non-null  int64  \n",
            " 1   name                   75031 non-null  object \n",
            " 2   project_id             63575 non-null  float64\n",
            " 3   watts_per_product      75031 non-null  float64\n",
            " 4   lm70                   75031 non-null  int64  \n",
            " 5   active                 75031 non-null  object \n",
            " 6   existing_product_type  75031 non-null  int64  \n",
            "dtypes: float64(2), int64(3), object(2)\n",
            "memory usage: 4.6+ MB\n"
          ],
          "name": "stdout"
        }
      ]
    },
    {
      "cell_type": "code",
      "metadata": {
        "colab": {
          "base_uri": "https://localhost:8080/",
          "height": 386
        },
        "id": "W-zmKhl6bi5A",
        "outputId": "b0b19f77-8dab-4024-8099-546018f9d693"
      },
      "source": [
        "sns.heatmap(df_exist_light.corr())"
      ],
      "execution_count": null,
      "outputs": [
        {
          "output_type": "execute_result",
          "data": {
            "text/plain": [
              "<matplotlib.axes._subplots.AxesSubplot at 0x7f2d70df53d0>"
            ]
          },
          "metadata": {
            "tags": []
          },
          "execution_count": 194
        },
        {
          "output_type": "display_data",
          "data": {
            "image/png": "[encoded data removed]",
            "text/plain": [
              "<Figure size 432x288 with 2 Axes>"
            ]
          },
          "metadata": {
            "tags": [],
            "needs_background": "light"
          }
        }
      ]
    },
    {
      "cell_type": "markdown",
      "metadata": {
        "id": "6j63oZz3nFdp"
      },
      "source": [
        "# **Existing_fixtures**"
      ]
    },
    {
      "cell_type": "code",
      "metadata": {
        "colab": {
          "base_uri": "https://localhost:8080/"
        },
        "id": "Af78t5sLO73s",
        "outputId": "c8171838-63ca-40ca-9b66-3b2007e5674d"
      },
      "source": [
        "exist_fixture.shape"
      ],
      "execution_count": null,
      "outputs": [
        {
          "output_type": "execute_result",
          "data": {
            "text/plain": [
              "(190876, 99)"
            ]
          },
          "metadata": {
            "tags": []
          },
          "execution_count": 9
        }
      ]
    },
    {
      "cell_type": "code",
      "metadata": {
        "colab": {
          "base_uri": "https://localhost:8080/"
        },
        "id": "VXaPzvCynEjt",
        "outputId": "2b0c4f03-1ba1-4f63-95fb-200b3e11f451"
      },
      "source": [
        "exist_fixture.columns"
      ],
      "execution_count": null,
      "outputs": [
        {
          "output_type": "execute_result",
          "data": {
            "text/plain": [
              "Index(['id', 'area_id', 'created_by_user_id', 'operating_schedule_id',\n",
              "       'active', 'inactive_at', 'name', 'description', 'existing_count',\n",
              "       'working_fixtures_count', 'existing_control', 'conditions',\n",
              "       'year_installed', 'lighting_satisfaction', 'mounting_height',\n",
              "       'created_at', 'updated_at', 'existing_lighting_id', 'internal_notes',\n",
              "       'notes', 'add_after', 'uuid', 'custom_attributes', 'calc_ready',\n",
              "       'audit_complete', 'status', 'copied_from_id', 'Unnamed: 27',\n",
              "       'Unnamed: 28', 'Unnamed: 29', 'Unnamed: 30', 'Unnamed: 31',\n",
              "       'Unnamed: 32', 'Unnamed: 33', 'Unnamed: 34', 'Unnamed: 35',\n",
              "       'Unnamed: 36', 'Unnamed: 37', 'Unnamed: 38', 'Unnamed: 39',\n",
              "       'Unnamed: 40', 'Unnamed: 41', 'Unnamed: 42', 'Unnamed: 43',\n",
              "       'Unnamed: 44', 'Unnamed: 45', 'Unnamed: 46', 'Unnamed: 47',\n",
              "       'Unnamed: 48', 'Unnamed: 49', 'Unnamed: 50', 'Unnamed: 51',\n",
              "       'Unnamed: 52', 'Unnamed: 53', 'Unnamed: 54', 'Unnamed: 55',\n",
              "       'Unnamed: 56', 'Unnamed: 57', 'Unnamed: 58', 'Unnamed: 59',\n",
              "       'Unnamed: 60', 'Unnamed: 61', 'Unnamed: 62', 'Unnamed: 63',\n",
              "       'Unnamed: 64', 'Unnamed: 65', 'Unnamed: 66', 'Unnamed: 67',\n",
              "       'Unnamed: 68', 'Unnamed: 69', 'Unnamed: 70', 'Unnamed: 71',\n",
              "       'Unnamed: 72', 'Unnamed: 73', 'Unnamed: 74', 'Unnamed: 75',\n",
              "       'Unnamed: 76', 'Unnamed: 77', 'Unnamed: 78', 'Unnamed: 79',\n",
              "       'Unnamed: 80', 'Unnamed: 81', 'Unnamed: 82', 'Unnamed: 83',\n",
              "       'Unnamed: 84', 'Unnamed: 85', 'Unnamed: 86', 'Unnamed: 87',\n",
              "       'Unnamed: 88', 'Unnamed: 89', 'Unnamed: 90', 'Unnamed: 91',\n",
              "       'Unnamed: 92', 'Unnamed: 93', 'Unnamed: 94', 'Unnamed: 95',\n",
              "       'Unnamed: 96', 'Unnamed: 97', 'Unnamed: 98'],\n",
              "      dtype='object')"
            ]
          },
          "metadata": {
            "tags": []
          },
          "execution_count": 10
        }
      ]
    },
    {
      "cell_type": "code",
      "metadata": {
        "colab": {
          "base_uri": "https://localhost:8080/"
        },
        "id": "J-lh0c4MnPw6",
        "outputId": "9a596600-edcb-4313-b868-30fc195976bb"
      },
      "source": [
        "print(\"Removing null values \")\n",
        "print()\n",
        "for i in exist_fixture.columns:\n",
        "    if (exist_fixture[i].isnull().sum()/len(exist_fixture))*100 >= 30:\n",
        "        print(i,\":\", exist_fixture[i].isnull().sum()/len(exist_fixture)*100, \"%\")\n",
        "        exist_fixture.drop(i, axis=1,inplace=True)"
      ],
      "execution_count": null,
      "outputs": [
        {
          "output_type": "stream",
          "text": [
            "Removing null values \n",
            "\n",
            "operating_schedule_id : 95.43630419748948 %\n",
            "inactive_at : 94.15798738447998 %\n",
            "name : 99.11984744022297 %\n",
            "description : 89.4659360003353 %\n",
            "working_fixtures_count : 99.89574383369307 %\n",
            "existing_control : 98.8018399379702 %\n",
            "conditions : 98.52679226303988 %\n",
            "year_installed : 99.58978603910393 %\n",
            "lighting_satisfaction : 99.61178985309834 %\n",
            "mounting_height : 97.78599719189421 %\n",
            "internal_notes : 98.12129340514261 %\n",
            "notes : 96.52182568788113 %\n",
            "status : 50.940924998428294 %\n",
            "Unnamed: 27 : 50.99750623441397 %\n",
            "Unnamed: 28 : 56.11653639011715 %\n",
            "Unnamed: 29 : 54.21268257926612 %\n",
            "Unnamed: 30 : 59.731972589534564 %\n",
            "Unnamed: 31 : 57.90303652633123 %\n",
            "Unnamed: 32 : 60.029024078459315 %\n",
            "Unnamed: 33 : 60.07512730778096 %\n",
            "Unnamed: 34 : 83.4688488861879 %\n",
            "Unnamed: 35 : 60.59850374064838 %\n",
            "Unnamed: 36 : 84.04671095370817 %\n",
            "Unnamed: 37 : 83.84134202309352 %\n",
            "Unnamed: 38 : 84.5040759445923 %\n",
            "Unnamed: 39 : 84.41029778494939 %\n",
            "Unnamed: 40 : 85.30354785305644 %\n",
            "Unnamed: 41 : 84.98134914813807 %\n",
            "Unnamed: 42 : 85.621031454976 %\n",
            "Unnamed: 43 : 85.33236237138246 %\n",
            "Unnamed: 44 : 85.5283010959995 %\n",
            "Unnamed: 45 : 91.11517424925081 %\n",
            "Unnamed: 46 : 85.50996458433747 %\n",
            "Unnamed: 47 : 91.20161780422892 %\n",
            "Unnamed: 48 : 91.91936126071376 %\n",
            "Unnamed: 49 : 91.22886062155536 %\n",
            "Unnamed: 50 : 92.20960204530691 %\n",
            "Unnamed: 51 : 92.22217565330372 %\n",
            "Unnamed: 52 : 92.43802259058236 %\n",
            "Unnamed: 53 : 95.8046061317295 %\n",
            "Unnamed: 54 : 92.48517362057042 %\n",
            "Unnamed: 55 : 96.75653303715501 %\n",
            "Unnamed: 56 : 96.01888136800855 %\n",
            "Unnamed: 57 : 96.88803202078836 %\n",
            "Unnamed: 58 : 97.05515622707937 %\n",
            "Unnamed: 59 : 96.9226094427796 %\n",
            "Unnamed: 60 : 97.9520735975188 %\n",
            "Unnamed: 61 : 97.10073555606782 %\n",
            "Unnamed: 62 : 97.98403151784404 %\n",
            "Unnamed: 63 : 97.41926695865378 %\n",
            "Unnamed: 64 : 97.99136612250885 %\n",
            "Unnamed: 65 : 97.98612711917684 %\n",
            "Unnamed: 66 : 97.99765292650726 %\n",
            "Unnamed: 67 : 97.99136612250885 %\n",
            "Unnamed: 68 : 98.00341583017247 %\n",
            "Unnamed: 69 : 97.99765292650726 %\n",
            "Unnamed: 70 : 98.00341583017247 %\n",
            "Unnamed: 71 : 98.00027242817326 %\n",
            "Unnamed: 72 : 98.00341583017247 %\n",
            "Unnamed: 73 : 98.00551143150527 %\n",
            "Unnamed: 74 : 98.44925501372619 %\n",
            "Unnamed: 75 : 98.79502923363859 %\n",
            "Unnamed: 76 : 98.56451308703032 %\n",
            "Unnamed: 77 : 99.1491858588822 %\n",
            "Unnamed: 78 : 99.33412267650202 %\n",
            "Unnamed: 79 : 99.35665039082964 %\n",
            "Unnamed: 80 : 99.35717429116285 %\n",
            "Unnamed: 81 : 99.35717429116285 %\n",
            "Unnamed: 82 : 99.35769819149604 %\n",
            "Unnamed: 83 : 99.35717429116285 %\n",
            "Unnamed: 84 : 99.36136549382846 %\n",
            "Unnamed: 85 : 99.35769819149604 %\n",
            "Unnamed: 86 : 99.38441710848927 %\n",
            "Unnamed: 87 : 99.7474800393973 %\n",
            "Unnamed: 88 : 99.54473061044867 %\n",
            "Unnamed: 89 : 99.77105555439132 %\n",
            "Unnamed: 90 : 99.97485278400637 %\n",
            "Unnamed: 91 : 99.93608415934952 %\n",
            "Unnamed: 92 : 99.97904398667198 %\n",
            "Unnamed: 93 : 99.98480689033718 %\n",
            "Unnamed: 94 : 99.9916175946688 %\n",
            "Unnamed: 95 : 99.98847419266959 %\n",
            "Unnamed: 96 : 99.9994760996668 %\n",
            "Unnamed: 97 : 99.99685659800079 %\n",
            "Unnamed: 98 : 99.9994760996668 %\n"
          ],
          "name": "stdout"
        }
      ]
    },
    {
      "cell_type": "code",
      "metadata": {
        "colab": {
          "base_uri": "https://localhost:8080/"
        },
        "id": "4qRudm7cnbBr",
        "outputId": "fb64dba3-77f1-4e93-eeea-0f73d340628e"
      },
      "source": [
        "print(\"Dropping columns which have mostly zero's \")\n",
        "print()\n",
        "for i in exist_fixture.columns:\n",
        "    if len(exist_fixture[exist_fixture[i]==0])/len(exist_fixture)*100 >=85:\n",
        "        print(i,\":\", len(exist_fixture[exist_fixture[i]==0])/len(exist_fixture)*100,\"%\")\n",
        "        exist_fixture.drop(i, axis=1,inplace=True)"
      ],
      "execution_count": null,
      "outputs": [
        {
          "output_type": "stream",
          "text": [
            "Dropping columns which have mostly zero's \n",
            "\n"
          ],
          "name": "stdout"
        }
      ]
    },
    {
      "cell_type": "code",
      "metadata": {
        "colab": {
          "base_uri": "https://localhost:8080/"
        },
        "id": "0jlmvPU5nrug",
        "outputId": "f008c538-2c8b-40be-fd54-3d7af022b32f"
      },
      "source": [
        "exist_fixture.columns"
      ],
      "execution_count": null,
      "outputs": [
        {
          "output_type": "execute_result",
          "data": {
            "text/plain": [
              "Index(['id', 'area_id', 'created_by_user_id', 'active', 'existing_count',\n",
              "       'created_at', 'updated_at', 'existing_lighting_id', 'add_after', 'uuid',\n",
              "       'custom_attributes', 'calc_ready', 'audit_complete', 'copied_from_id'],\n",
              "      dtype='object')"
            ]
          },
          "metadata": {
            "tags": []
          },
          "execution_count": 13
        }
      ]
    },
    {
      "cell_type": "code",
      "metadata": {
        "id": "bctf5vov2RMN"
      },
      "source": [
        "exist_fixture = exist_fixture.drop(columns=['created_by_user_id', 'created_at', 'updated_at', 'add_after', 'uuid', 'custom_attributes', 'calc_ready',\n",
        "                                            'audit_complete', 'copied_from_id'])"
      ],
      "execution_count": null,
      "outputs": []
    },
    {
      "cell_type": "code",
      "metadata": {
        "colab": {
          "base_uri": "https://localhost:8080/"
        },
        "id": "pgB_SEiv2x7n",
        "outputId": "969ea447-dc2b-4bd1-cb3b-c7f2a41a2af3"
      },
      "source": [
        "exist_fixture.info()"
      ],
      "execution_count": null,
      "outputs": [
        {
          "output_type": "stream",
          "text": [
            "<class 'pandas.core.frame.DataFrame'>\n",
            "RangeIndex: 190876 entries, 0 to 190875\n",
            "Data columns (total 5 columns):\n",
            " #   Column                Non-Null Count   Dtype \n",
            "---  ------                --------------   ----- \n",
            " 0   id                    190876 non-null  object\n",
            " 1   area_id               190858 non-null  object\n",
            " 2   active                190840 non-null  object\n",
            " 3   existing_count        190831 non-null  object\n",
            " 4   existing_lighting_id  190808 non-null  object\n",
            "dtypes: object(5)\n",
            "memory usage: 7.3+ MB\n"
          ],
          "name": "stdout"
        }
      ]
    },
    {
      "cell_type": "code",
      "metadata": {
        "colab": {
          "base_uri": "https://localhost:8080/"
        },
        "id": "buujMMnVnvgu",
        "outputId": "905c1e32-bc21-49d7-e221-b108974eb81e"
      },
      "source": [
        "exist_fixture.shape"
      ],
      "execution_count": null,
      "outputs": [
        {
          "output_type": "execute_result",
          "data": {
            "text/plain": [
              "(190876, 5)"
            ]
          },
          "metadata": {
            "tags": []
          },
          "execution_count": 98
        }
      ]
    },
    {
      "cell_type": "code",
      "metadata": {
        "colab": {
          "base_uri": "https://localhost:8080/"
        },
        "id": "TrYDZ-ifPPWT",
        "outputId": "5628da8c-f9c8-4c53-ca83-564de3806c60"
      },
      "source": [
        "exist_fixture['active'].value_counts(normalize=True)"
      ],
      "execution_count": null,
      "outputs": [
        {
          "output_type": "execute_result",
          "data": {
            "text/plain": [
              "t                            0.924466\n",
              "f                            0.075472\n",
              " '\"year_installed'\": null    0.000021\n",
              " '\"conditions'\": '\"'\"        0.000021\n",
              " '\"product_code'\": null      0.000010\n",
              "{'description'\": '\"'\"        0.000005\n",
              "OK                           0.000005\n",
              "Name: active, dtype: float64"
            ]
          },
          "metadata": {
            "tags": []
          },
          "execution_count": 159
        }
      ]
    },
    {
      "cell_type": "markdown",
      "metadata": {
        "id": "mveZ8RRoPVmC"
      },
      "source": [
        "7.5% of existing fixtures being inactive"
      ]
    },
    {
      "cell_type": "code",
      "metadata": {
        "id": "bxKiiYP-Phou"
      },
      "source": [
        "df_exist_fixture = exist_fixture[exist_fixture.active == 't']"
      ],
      "execution_count": null,
      "outputs": []
    },
    {
      "cell_type": "code",
      "metadata": {
        "colab": {
          "base_uri": "https://localhost:8080/"
        },
        "id": "wSGZ3fyuPv9d",
        "outputId": "f5aaf758-ef76-49cf-cbcb-ea9a72e2875d"
      },
      "source": [
        "df_exist_fixture.shape"
      ],
      "execution_count": null,
      "outputs": [
        {
          "output_type": "execute_result",
          "data": {
            "text/plain": [
              "(176425, 5)"
            ]
          },
          "metadata": {
            "tags": []
          },
          "execution_count": 161
        }
      ]
    },
    {
      "cell_type": "markdown",
      "metadata": {
        "id": "7kqWvA7ZnzLz"
      },
      "source": [
        "# **Operating_schedule**"
      ]
    },
    {
      "cell_type": "code",
      "metadata": {
        "colab": {
          "base_uri": "https://localhost:8080/"
        },
        "id": "mAI86pJ0O_9R",
        "outputId": "f4cf979b-4816-4cd1-f32c-64ce2f847306"
      },
      "source": [
        "operating_schedule.shape"
      ],
      "execution_count": null,
      "outputs": [
        {
          "output_type": "execute_result",
          "data": {
            "text/plain": [
              "(13493, 23)"
            ]
          },
          "metadata": {
            "tags": []
          },
          "execution_count": 15
        }
      ]
    },
    {
      "cell_type": "code",
      "metadata": {
        "colab": {
          "base_uri": "https://localhost:8080/"
        },
        "id": "3IdX4sTen4XY",
        "outputId": "d9e0a23e-a1e2-418c-f166-f183c039d94b"
      },
      "source": [
        "operating_schedule.columns"
      ],
      "execution_count": null,
      "outputs": [
        {
          "output_type": "execute_result",
          "data": {
            "text/plain": [
              "Index(['id', 'created_by_user_id', 'project_id', 'name', 'annual_hours',\n",
              "       'created_at', 'updated_at', 'active', 'inactive_at', 'internal_notes',\n",
              "       'notes', 'uuid', 'copied_from_id', 'monday', 'tuesday', 'wednesday',\n",
              "       'thursday', 'friday', 'saturday', 'sunday', 'weeks_per_year',\n",
              "       'hour_type', 'controls_reduction'],\n",
              "      dtype='object')"
            ]
          },
          "metadata": {
            "tags": []
          },
          "execution_count": 16
        }
      ]
    },
    {
      "cell_type": "code",
      "metadata": {
        "colab": {
          "base_uri": "https://localhost:8080/"
        },
        "id": "bzfkUk8rn8Hu",
        "outputId": "56c566cb-7000-424a-dd56-fb05a5abbefe"
      },
      "source": [
        "print(\"Removing null values \")\n",
        "print()\n",
        "for i in operating_schedule.columns:\n",
        "    if (operating_schedule[i].isnull().sum()/len(operating_schedule))*100 >= 30:\n",
        "        print(i,\":\", operating_schedule[i].isnull().sum()/len(operating_schedule)*100, \"%\")\n",
        "        operating_schedule.drop(i, axis=1,inplace=True)"
      ],
      "execution_count": null,
      "outputs": [
        {
          "output_type": "stream",
          "text": [
            "Removing null values \n",
            "\n",
            "inactive_at : 98.39916993996887 %\n",
            "internal_notes : 97.61357741050915 %\n",
            "notes : 98.90313495886755 %\n",
            "copied_from_id : 90.05410212702884 %\n",
            "controls_reduction : 99.09582746609354 %\n"
          ],
          "name": "stdout"
        }
      ]
    },
    {
      "cell_type": "code",
      "metadata": {
        "colab": {
          "base_uri": "https://localhost:8080/"
        },
        "id": "wtl1m-BjoGeq",
        "outputId": "1c56e371-0ab6-4888-c196-ce4186a190b0"
      },
      "source": [
        "print(\"Dropping columns which have mostly zero's \")\n",
        "print()\n",
        "for i in operating_schedule.columns:\n",
        "    if len(operating_schedule[operating_schedule[i]==0])/len(operating_schedule)*100 >=85:\n",
        "        print(i,\":\", len(operating_schedule[operating_schedule[i]==0])/len(operating_schedule)*100,\"%\")\n",
        "        operating_schedule.drop(i, axis=1,inplace=True)"
      ],
      "execution_count": null,
      "outputs": [
        {
          "output_type": "stream",
          "text": [
            "Dropping columns which have mostly zero's \n",
            "\n",
            "monday : 86.53375824501593 %\n",
            "tuesday : 86.526346994738 %\n",
            "wednesday : 86.49670199362632 %\n",
            "thursday : 86.51152449418217 %\n",
            "friday : 86.54858074557178 %\n",
            "saturday : 88.97947083673016 %\n",
            "sunday : 91.15837841843918 %\n",
            "weeks_per_year : 86.51152449418217 %\n"
          ],
          "name": "stdout"
        }
      ]
    },
    {
      "cell_type": "markdown",
      "metadata": {
        "id": "2DvJrxaYoVW2"
      },
      "source": [
        "These zero could be useful and should not be dropped."
      ]
    },
    {
      "cell_type": "code",
      "metadata": {
        "colab": {
          "base_uri": "https://localhost:8080/"
        },
        "id": "Eo-sUU_o3PPe",
        "outputId": "abc0ed27-b2bb-4f9b-89f4-7377f3c1aef4"
      },
      "source": [
        "operating_schedule.columns"
      ],
      "execution_count": null,
      "outputs": [
        {
          "output_type": "execute_result",
          "data": {
            "text/plain": [
              "Index(['id', 'created_by_user_id', 'project_id', 'name', 'annual_hours',\n",
              "       'created_at', 'updated_at', 'active', 'uuid', 'hour_type'],\n",
              "      dtype='object')"
            ]
          },
          "metadata": {
            "tags": []
          },
          "execution_count": 99
        }
      ]
    },
    {
      "cell_type": "code",
      "metadata": {
        "id": "aro7u_mf3Gva"
      },
      "source": [
        "operating_schedule = operating_schedule.drop(columns=['created_by_user_id', 'created_at', 'updated_at'])"
      ],
      "execution_count": null,
      "outputs": []
    },
    {
      "cell_type": "code",
      "metadata": {
        "colab": {
          "base_uri": "https://localhost:8080/"
        },
        "id": "MBgW3K5O3riZ",
        "outputId": "f69b0697-f7cf-45bd-8581-f75f90c85fd1"
      },
      "source": [
        "operating_schedule.info()"
      ],
      "execution_count": null,
      "outputs": [
        {
          "output_type": "stream",
          "text": [
            "<class 'pandas.core.frame.DataFrame'>\n",
            "RangeIndex: 13493 entries, 0 to 13492\n",
            "Data columns (total 7 columns):\n",
            " #   Column        Non-Null Count  Dtype  \n",
            "---  ------        --------------  -----  \n",
            " 0   id            13493 non-null  int64  \n",
            " 1   project_id    13491 non-null  float64\n",
            " 2   name          13493 non-null  object \n",
            " 3   annual_hours  12530 non-null  float64\n",
            " 4   active        13493 non-null  object \n",
            " 5   uuid          13493 non-null  object \n",
            " 6   hour_type     13486 non-null  float64\n",
            "dtypes: float64(3), int64(1), object(3)\n",
            "memory usage: 738.0+ KB\n"
          ],
          "name": "stdout"
        }
      ]
    },
    {
      "cell_type": "code",
      "metadata": {
        "colab": {
          "base_uri": "https://localhost:8080/"
        },
        "id": "Cv9Qa_5cP4MP",
        "outputId": "7c51112c-016d-467e-f9a9-c441cd5ac6b3"
      },
      "source": [
        "operating_schedule['active'].value_counts(normalize=True)"
      ],
      "execution_count": null,
      "outputs": [
        {
          "output_type": "execute_result",
          "data": {
            "text/plain": [
              "t    0.981175\n",
              "f    0.018825\n",
              "Name: active, dtype: float64"
            ]
          },
          "metadata": {
            "tags": []
          },
          "execution_count": 162
        }
      ]
    },
    {
      "cell_type": "markdown",
      "metadata": {
        "id": "1CaIV3qqQEt4"
      },
      "source": [
        "Almost, 2% is inactive"
      ]
    },
    {
      "cell_type": "code",
      "metadata": {
        "colab": {
          "base_uri": "https://localhost:8080/"
        },
        "id": "Irf5XhiDQPqD",
        "outputId": "07130d2c-bae2-42ce-d0fb-6ecca7e3150f"
      },
      "source": [
        "df_operating_schedule = operating_schedule[operating_schedule.active == 't']\n",
        "df_operating_schedule.shape"
      ],
      "execution_count": null,
      "outputs": [
        {
          "output_type": "execute_result",
          "data": {
            "text/plain": [
              "(13239, 7)"
            ]
          },
          "metadata": {
            "tags": []
          },
          "execution_count": 163
        }
      ]
    },
    {
      "cell_type": "code",
      "metadata": {
        "colab": {
          "base_uri": "https://localhost:8080/",
          "height": 287
        },
        "id": "ZprUJwukcfVw",
        "outputId": "7dd2737b-19d7-4c07-e70b-0b269d920018"
      },
      "source": [
        "sns.heatmap(df_operating_schedule.corr())"
      ],
      "execution_count": null,
      "outputs": [
        {
          "output_type": "execute_result",
          "data": {
            "text/plain": [
              "<matplotlib.axes._subplots.AxesSubplot at 0x7f2d71456550>"
            ]
          },
          "metadata": {
            "tags": []
          },
          "execution_count": 196
        },
        {
          "output_type": "display_data",
          "data": {
            "image/png": "[encoded data removed]",
            "text/plain": [
              "<Figure size 432x288 with 2 Axes>"
            ]
          },
          "metadata": {
            "tags": [],
            "needs_background": "light"
          }
        }
      ]
    },
    {
      "cell_type": "markdown",
      "metadata": {
        "id": "PO0a4N2gofHu"
      },
      "source": [
        "# **Rate_schedule**"
      ]
    },
    {
      "cell_type": "code",
      "metadata": {
        "colab": {
          "base_uri": "https://localhost:8080/"
        },
        "id": "njyG5s1ZPClH",
        "outputId": "8cfd9d58-fcfb-43d5-e764-87c26edf3c8a"
      },
      "source": [
        "rate_schedule.shape"
      ],
      "execution_count": null,
      "outputs": [
        {
          "output_type": "execute_result",
          "data": {
            "text/plain": [
              "(6754, 19)"
            ]
          },
          "metadata": {
            "tags": []
          },
          "execution_count": 19
        }
      ]
    },
    {
      "cell_type": "code",
      "metadata": {
        "colab": {
          "base_uri": "https://localhost:8080/"
        },
        "id": "omESLGJzojV8",
        "outputId": "7c507ec9-d771-459a-9fbf-cc58200f0929"
      },
      "source": [
        "rate_schedule.columns"
      ],
      "execution_count": null,
      "outputs": [
        {
          "output_type": "execute_result",
          "data": {
            "text/plain": [
              "Index(['id', 'created_by_user_id', 'project_id', 'name', 'kwh_cost',\n",
              "       'created_at', 'updated_at', 'active', 'inactive_at', 'internal_notes',\n",
              "       'notes', 'uuid', 'copied_from_id', 'kwh_cost_simple', 'kw_demand_cost',\n",
              "       'demand_utilization', 'rate_escalator', 'rate_customer', 'rate_type'],\n",
              "      dtype='object')"
            ]
          },
          "metadata": {
            "tags": []
          },
          "execution_count": 20
        }
      ]
    },
    {
      "cell_type": "code",
      "metadata": {
        "colab": {
          "base_uri": "https://localhost:8080/"
        },
        "id": "xJDSnpl_onJ2",
        "outputId": "59793113-c391-463f-9281-51d03fd441bc"
      },
      "source": [
        "print(\"Removing null values \")\n",
        "print()\n",
        "for i in rate_schedule.columns:\n",
        "    if (rate_schedule[i].isnull().sum()/len(rate_schedule))*100 >= 30:\n",
        "        print(i,\":\", rate_schedule[i].isnull().sum()/len(rate_schedule)*100, \"%\")\n",
        "        rate_schedule.drop(i, axis=1,inplace=True)"
      ],
      "execution_count": null,
      "outputs": [
        {
          "output_type": "stream",
          "text": [
            "Removing null values \n",
            "\n",
            "inactive_at : 98.0900207284572 %\n",
            "internal_notes : 98.44536570920936 %\n",
            "notes : 98.9191590168789 %\n",
            "copied_from_id : 94.21083802191295 %\n",
            "kwh_cost_simple : 98.8007106899615 %\n",
            "kw_demand_cost : 98.97838318033759 %\n",
            "rate_escalator : 97.15724015398283 %\n"
          ],
          "name": "stdout"
        }
      ]
    },
    {
      "cell_type": "code",
      "metadata": {
        "colab": {
          "base_uri": "https://localhost:8080/"
        },
        "id": "eQuV49Bqopsk",
        "outputId": "4aa1f3bc-2e92-47f3-a83b-00ceddbd6a87"
      },
      "source": [
        "print(\"Dropping columns which have mostly zero's \")\n",
        "print()\n",
        "for i in rate_schedule.columns:\n",
        "    if len(rate_schedule[rate_schedule[i]==0])/len(rate_schedule)*100 >=85:\n",
        "        print(i,\":\", len(rate_schedule[rate_schedule[i]==0])/len(rate_schedule)*100,\"%\")\n",
        "        rate_schedule.drop(i, axis=1,inplace=True)"
      ],
      "execution_count": null,
      "outputs": [
        {
          "output_type": "stream",
          "text": [
            "Dropping columns which have mostly zero's \n",
            "\n",
            "rate_customer : 99.54101273319515 %\n"
          ],
          "name": "stdout"
        }
      ]
    },
    {
      "cell_type": "code",
      "metadata": {
        "colab": {
          "base_uri": "https://localhost:8080/"
        },
        "id": "lilLmR0Bo9-p",
        "outputId": "dd7f48bb-99ae-4b36-8337-7e41b39e000d"
      },
      "source": [
        "rate_schedule.shape"
      ],
      "execution_count": null,
      "outputs": [
        {
          "output_type": "execute_result",
          "data": {
            "text/plain": [
              "(6754, 11)"
            ]
          },
          "metadata": {
            "tags": []
          },
          "execution_count": 24
        }
      ]
    },
    {
      "cell_type": "code",
      "metadata": {
        "colab": {
          "base_uri": "https://localhost:8080/"
        },
        "id": "5W2v7yZpo_3O",
        "outputId": "0b6d6353-15f2-4466-e10e-d424ffcfcfb6"
      },
      "source": [
        "rate_schedule.columns"
      ],
      "execution_count": null,
      "outputs": [
        {
          "output_type": "execute_result",
          "data": {
            "text/plain": [
              "Index(['id', 'created_by_user_id', 'project_id', 'name', 'kwh_cost',\n",
              "       'created_at', 'updated_at', 'active', 'uuid', 'demand_utilization',\n",
              "       'rate_type'],\n",
              "      dtype='object')"
            ]
          },
          "metadata": {
            "tags": []
          },
          "execution_count": 25
        }
      ]
    },
    {
      "cell_type": "code",
      "metadata": {
        "id": "OY9vEX0430ux"
      },
      "source": [
        "rate_schedule = rate_schedule.drop(columns=['created_by_user_id', 'created_at', 'updated_at', 'uuid', 'demand_utilization'])"
      ],
      "execution_count": null,
      "outputs": []
    },
    {
      "cell_type": "code",
      "metadata": {
        "colab": {
          "base_uri": "https://localhost:8080/"
        },
        "id": "e5qmRe879cIG",
        "outputId": "806fb8eb-6bd4-4628-9ebb-9ba0ec6f823e"
      },
      "source": [
        "rate_schedule.info()"
      ],
      "execution_count": null,
      "outputs": [
        {
          "output_type": "stream",
          "text": [
            "<class 'pandas.core.frame.DataFrame'>\n",
            "RangeIndex: 6754 entries, 0 to 6753\n",
            "Data columns (total 6 columns):\n",
            " #   Column      Non-Null Count  Dtype  \n",
            "---  ------      --------------  -----  \n",
            " 0   id          6754 non-null   int64  \n",
            " 1   project_id  6752 non-null   float64\n",
            " 2   name        6754 non-null   object \n",
            " 3   kwh_cost    6717 non-null   float64\n",
            " 4   active      6754 non-null   object \n",
            " 5   rate_type   6753 non-null   object \n",
            "dtypes: float64(2), int64(1), object(3)\n",
            "memory usage: 316.7+ KB\n"
          ],
          "name": "stdout"
        }
      ]
    },
    {
      "cell_type": "code",
      "metadata": {
        "colab": {
          "base_uri": "https://localhost:8080/"
        },
        "id": "0oRAvAHcQfch",
        "outputId": "2cc8c4ce-2ebb-435c-caac-9725c5f7e538"
      },
      "source": [
        "rate_schedule['active'].value_counts(normalize=True)"
      ],
      "execution_count": null,
      "outputs": [
        {
          "output_type": "execute_result",
          "data": {
            "text/plain": [
              "t    0.97942\n",
              "f    0.02058\n",
              "Name: active, dtype: float64"
            ]
          },
          "metadata": {
            "tags": []
          },
          "execution_count": 164
        }
      ]
    },
    {
      "cell_type": "markdown",
      "metadata": {
        "id": "CSxU6_dqQnnF"
      },
      "source": [
        "2% is inactive"
      ]
    },
    {
      "cell_type": "code",
      "metadata": {
        "colab": {
          "base_uri": "https://localhost:8080/"
        },
        "id": "c9YBqRf4Qma2",
        "outputId": "ea4b6889-6832-4277-f066-cb6089ffce02"
      },
      "source": [
        "df_rate_schedule = rate_schedule[rate_schedule.active=='t']\n",
        "df_rate_schedule.shape"
      ],
      "execution_count": null,
      "outputs": [
        {
          "output_type": "execute_result",
          "data": {
            "text/plain": [
              "(6615, 6)"
            ]
          },
          "metadata": {
            "tags": []
          },
          "execution_count": 165
        }
      ]
    },
    {
      "cell_type": "markdown",
      "metadata": {
        "id": "MmKkla0opEUG"
      },
      "source": [
        "# **Floor_plans**"
      ]
    },
    {
      "cell_type": "code",
      "metadata": {
        "colab": {
          "base_uri": "https://localhost:8080/"
        },
        "id": "1y0BLxFcPE8E",
        "outputId": "1b2b2ac8-f936-43b3-90ff-2e7d096b84fa"
      },
      "source": [
        "floor_plan.shape"
      ],
      "execution_count": null,
      "outputs": [
        {
          "output_type": "execute_result",
          "data": {
            "text/plain": [
              "(368, 10)"
            ]
          },
          "metadata": {
            "tags": []
          },
          "execution_count": 26
        }
      ]
    },
    {
      "cell_type": "code",
      "metadata": {
        "colab": {
          "base_uri": "https://localhost:8080/"
        },
        "id": "ktHEsHdNpJG8",
        "outputId": "7433d0e3-528f-429c-eb2e-dc79aba5a9c0"
      },
      "source": [
        "floor_plan.columns"
      ],
      "execution_count": null,
      "outputs": [
        {
          "output_type": "execute_result",
          "data": {
            "text/plain": [
              "Index(['id', 'area_id', 'active', 'height', 'width', 'created_by_user_id',\n",
              "       'created_at', 'updated_at', 'uuid', 'inactive_at'],\n",
              "      dtype='object')"
            ]
          },
          "metadata": {
            "tags": []
          },
          "execution_count": 27
        }
      ]
    },
    {
      "cell_type": "code",
      "metadata": {
        "colab": {
          "base_uri": "https://localhost:8080/"
        },
        "id": "UOxmCyxJpLfi",
        "outputId": "68b879c2-4cf4-47be-a07d-3e9dbf018a70"
      },
      "source": [
        "print(\"Removing null values \")\n",
        "print()\n",
        "for i in floor_plan.columns:\n",
        "    if (floor_plan[i].isnull().sum()/len(floor_plan))*100 >= 30:\n",
        "        print(i,\":\", floor_plan[i].isnull().sum()/len(floor_plan)*100, \"%\")\n",
        "        floor_plan.drop(i, axis=1,inplace=True)"
      ],
      "execution_count": null,
      "outputs": [
        {
          "output_type": "stream",
          "text": [
            "Removing null values \n",
            "\n",
            "inactive_at : 69.02173913043478 %\n"
          ],
          "name": "stdout"
        }
      ]
    },
    {
      "cell_type": "code",
      "metadata": {
        "colab": {
          "base_uri": "https://localhost:8080/"
        },
        "id": "BE2VkZcwpPAO",
        "outputId": "43f3cbe6-5e40-4456-fc16-ec96ffdcb609"
      },
      "source": [
        "print(\"Dropping columns which have mostly zero's \")\n",
        "print()\n",
        "for i in floor_plan.columns:\n",
        "    if len(floor_plan[floor_plan[i]==0])/len(floor_plan)*100 >=85:\n",
        "        print(i,\":\", len(floor_plan[floor_plan[i]==0])/len(floor_plan)*100,\"%\")\n",
        "        floor_plan.drop(i, axis=1,inplace=True)"
      ],
      "execution_count": null,
      "outputs": [
        {
          "output_type": "stream",
          "text": [
            "Dropping columns which have mostly zero's \n",
            "\n"
          ],
          "name": "stdout"
        }
      ]
    },
    {
      "cell_type": "code",
      "metadata": {
        "colab": {
          "base_uri": "https://localhost:8080/"
        },
        "id": "KPFo_bjlpdNy",
        "outputId": "f7341a7f-8843-4eca-9267-37bb5774d13a"
      },
      "source": [
        "floor_plan.shape"
      ],
      "execution_count": null,
      "outputs": [
        {
          "output_type": "execute_result",
          "data": {
            "text/plain": [
              "(368, 9)"
            ]
          },
          "metadata": {
            "tags": []
          },
          "execution_count": 30
        }
      ]
    },
    {
      "cell_type": "code",
      "metadata": {
        "colab": {
          "base_uri": "https://localhost:8080/"
        },
        "id": "jESCQXT3perW",
        "outputId": "cd9ba071-841e-470e-ee6a-f0d9e6255efa"
      },
      "source": [
        "floor_plan.columns"
      ],
      "execution_count": null,
      "outputs": [
        {
          "output_type": "execute_result",
          "data": {
            "text/plain": [
              "Index(['id', 'area_id', 'active', 'height', 'width', 'created_by_user_id',\n",
              "       'created_at', 'updated_at', 'uuid'],\n",
              "      dtype='object')"
            ]
          },
          "metadata": {
            "tags": []
          },
          "execution_count": 31
        }
      ]
    },
    {
      "cell_type": "code",
      "metadata": {
        "id": "fCs7jxlA9jwF"
      },
      "source": [
        "floor_plan = floor_plan.drop(columns=['created_by_user_id', 'created_at', 'updated_at', 'uuid'])"
      ],
      "execution_count": null,
      "outputs": []
    },
    {
      "cell_type": "code",
      "metadata": {
        "colab": {
          "base_uri": "https://localhost:8080/"
        },
        "id": "A-OMxq8L91x4",
        "outputId": "df2b83ba-7c36-41f4-f6c9-c22811558c09"
      },
      "source": [
        "floor_plan.info()"
      ],
      "execution_count": null,
      "outputs": [
        {
          "output_type": "stream",
          "text": [
            "<class 'pandas.core.frame.DataFrame'>\n",
            "RangeIndex: 368 entries, 0 to 367\n",
            "Data columns (total 5 columns):\n",
            " #   Column   Non-Null Count  Dtype  \n",
            "---  ------   --------------  -----  \n",
            " 0   id       368 non-null    int64  \n",
            " 1   area_id  368 non-null    int64  \n",
            " 2   active   368 non-null    object \n",
            " 3   height   366 non-null    float64\n",
            " 4   width    366 non-null    float64\n",
            "dtypes: float64(2), int64(2), object(1)\n",
            "memory usage: 14.5+ KB\n"
          ],
          "name": "stdout"
        }
      ]
    },
    {
      "cell_type": "code",
      "metadata": {
        "colab": {
          "base_uri": "https://localhost:8080/"
        },
        "id": "FhgNpLIfQ2KQ",
        "outputId": "3ce29236-f6d6-4da7-c939-4c6a5d1c916c"
      },
      "source": [
        "floor_plan['active'].value_counts(normalize=True)"
      ],
      "execution_count": null,
      "outputs": [
        {
          "output_type": "execute_result",
          "data": {
            "text/plain": [
              "t    0.690217\n",
              "f    0.309783\n",
              "Name: active, dtype: float64"
            ]
          },
          "metadata": {
            "tags": []
          },
          "execution_count": 166
        }
      ]
    },
    {
      "cell_type": "markdown",
      "metadata": {
        "id": "vjtLXJVXQ8hi"
      },
      "source": [
        "31% is inactive"
      ]
    },
    {
      "cell_type": "code",
      "metadata": {
        "colab": {
          "base_uri": "https://localhost:8080/"
        },
        "id": "215cByzjQ9Dj",
        "outputId": "444acfdf-03dc-4cc7-cea8-c278c5907cf9"
      },
      "source": [
        "df_floor_plan = floor_plan[floor_plan.active == 't']\n",
        "df_floor_plan.shape"
      ],
      "execution_count": null,
      "outputs": [
        {
          "output_type": "execute_result",
          "data": {
            "text/plain": [
              "(254, 5)"
            ]
          },
          "metadata": {
            "tags": []
          },
          "execution_count": 167
        }
      ]
    },
    {
      "cell_type": "markdown",
      "metadata": {
        "id": "rHRdVp7DplUN"
      },
      "source": [
        "# **Areas**"
      ]
    },
    {
      "cell_type": "code",
      "metadata": {
        "colab": {
          "base_uri": "https://localhost:8080/"
        },
        "id": "M05gIKQxqSMI",
        "outputId": "5f571208-4ac3-40a1-b99e-ad5f387805a4"
      },
      "source": [
        "areas.shape"
      ],
      "execution_count": null,
      "outputs": [
        {
          "output_type": "execute_result",
          "data": {
            "text/plain": [
              "(166634, 45)"
            ]
          },
          "metadata": {
            "tags": []
          },
          "execution_count": 144
        }
      ]
    },
    {
      "cell_type": "code",
      "metadata": {
        "colab": {
          "base_uri": "https://localhost:8080/"
        },
        "id": "zBOLRWNlqT6s",
        "outputId": "6ac5f3af-91e1-45d5-fd7f-0554685801ab"
      },
      "source": [
        "areas.columns"
      ],
      "execution_count": null,
      "outputs": [
        {
          "output_type": "execute_result",
          "data": {
            "text/plain": [
              "Index(['id', 'parent_id', 'created_by_user_id', 'name', 'description',\n",
              "       'operating_schedule_id', 'cooling_id', 'heating_id', 'rate_schedule_id',\n",
              "       'sqft', 'avg_illuminace', 'lighting_satisfaction', 'ceiling_height',\n",
              "       'reflectance', 'created_at', 'updated_at', 'active', 'inactive_at',\n",
              "       'project_id', 'internal_notes', 'notes', 'area_count', 'width',\n",
              "       'length', 'floor_plan', 'uuid', 'name_with_parents', 'copied_from_id',\n",
              "       'min_brightness_level', 'existing_controls',\n",
              "       'bi_level_or_occupancy_sensor', 'code', 'first_illuminance',\n",
              "       'second_illuminance', 'third_illuminance', 'fourth_illuminance',\n",
              "       'fifth_illuminance', 'location_id', 'area_type', 'custom_attributes',\n",
              "       'audit_complete', 'Unnamed: 41', 'Unnamed: 42', 'Unnamed: 43',\n",
              "       'Unnamed: 44'],\n",
              "      dtype='object')"
            ]
          },
          "metadata": {
            "tags": []
          },
          "execution_count": 145
        }
      ]
    },
    {
      "cell_type": "code",
      "metadata": {
        "colab": {
          "base_uri": "https://localhost:8080/"
        },
        "id": "MTqUUN4wqVxd",
        "outputId": "50216376-7cc6-44b1-c166-b7fe28d73f62"
      },
      "source": [
        "print(\"Removing null values \")\n",
        "print()\n",
        "for i in areas.columns:\n",
        "    if (areas[i].isnull().sum()/len(areas))*100 >= 30:\n",
        "        print(i,\":\", areas[i].isnull().sum()/len(areas)*100, \"%\")\n",
        "        areas.drop(i, axis=1,inplace=True)"
      ],
      "execution_count": null,
      "outputs": [
        {
          "output_type": "stream",
          "text": [
            "Removing null values \n",
            "\n",
            "parent_id : 48.07062184188101 %\n",
            "description : 93.6771607235018 %\n",
            "operating_schedule_id : 83.3833431352545 %\n",
            "cooling_id : 99.69514024748851 %\n",
            "heating_id : 99.81456365447627 %\n",
            "rate_schedule_id : 96.66814695680354 %\n",
            "sqft : 99.59912142779986 %\n",
            "avg_illuminace : 94.3678961076371 %\n",
            "lighting_satisfaction : 99.8169641249685 %\n",
            "ceiling_height : 99.30986473348776 %\n",
            "reflectance : 99.97599529507784 %\n",
            "inactive_at : 97.13203787942437 %\n",
            "internal_notes : 99.28706026381171 %\n",
            "notes : 96.42930014282798 %\n",
            "width : 99.85717200571312 %\n",
            "length : 99.8757756520278 %\n",
            "floor_plan : 99.85777212333618 %\n",
            "copied_from_id : 70.92070045728963 %\n",
            "min_brightness_level : 78.7702389668375 %\n",
            "existing_controls : 91.58335033666599 %\n",
            "bi_level_or_occupancy_sensor : 92.5459390040448 %\n",
            "first_illuminance : 98.69174358174202 %\n",
            "second_illuminance : 99.38848014210785 %\n",
            "third_illuminance : 99.4808982560582 %\n",
            "fourth_illuminance : 99.56251425279355 %\n",
            "fifth_illuminance : 99.56611495853187 %\n",
            "location_id : 87.44493920808478 %\n",
            "area_type : 100.0 %\n",
            "Unnamed: 41 : 99.39388120071534 %\n",
            "Unnamed: 42 : 99.39748190645366 %\n",
            "Unnamed: 43 : 99.99879976475388 %\n",
            "Unnamed: 44 : 99.99879976475388 %\n"
          ],
          "name": "stdout"
        }
      ]
    },
    {
      "cell_type": "code",
      "metadata": {
        "colab": {
          "base_uri": "https://localhost:8080/"
        },
        "id": "tMf5FcyUqY5M",
        "outputId": "86f8376d-9a3f-4b7b-c6dd-348a264cfe9c"
      },
      "source": [
        "print(\"Dropping columns which have mostly zero's \")\n",
        "print()\n",
        "for i in areas.columns:\n",
        "    if len(areas[areas[i]==0])/len(areas)*100 >=85:\n",
        "        print(i,\":\", len(areas[areas[i]==0])/len(areas)*100,\"%\")\n",
        "        areas.drop(i, axis=1,inplace=True)"
      ],
      "execution_count": null,
      "outputs": [
        {
          "output_type": "stream",
          "text": [
            "Dropping columns which have mostly zero's \n",
            "\n"
          ],
          "name": "stdout"
        }
      ]
    },
    {
      "cell_type": "code",
      "metadata": {
        "colab": {
          "base_uri": "https://localhost:8080/"
        },
        "id": "StC-W5biqcIq",
        "outputId": "f91eb4f6-f806-44cd-a6b6-7ed74d7074a3"
      },
      "source": [
        "areas.shape"
      ],
      "execution_count": null,
      "outputs": [
        {
          "output_type": "execute_result",
          "data": {
            "text/plain": [
              "(166634, 13)"
            ]
          },
          "metadata": {
            "tags": []
          },
          "execution_count": 148
        }
      ]
    },
    {
      "cell_type": "code",
      "metadata": {
        "colab": {
          "base_uri": "https://localhost:8080/"
        },
        "id": "W3mSavISqdyS",
        "outputId": "f6594492-9dc2-4467-88ed-fc7ae1fd0f7c"
      },
      "source": [
        "areas.columns"
      ],
      "execution_count": null,
      "outputs": [
        {
          "output_type": "execute_result",
          "data": {
            "text/plain": [
              "Index(['id', 'created_by_user_id', 'name', 'created_at', 'updated_at',\n",
              "       'active', 'project_id', 'area_count', 'uuid', 'name_with_parents',\n",
              "       'code', 'custom_attributes', 'audit_complete'],\n",
              "      dtype='object')"
            ]
          },
          "metadata": {
            "tags": []
          },
          "execution_count": 149
        }
      ]
    },
    {
      "cell_type": "code",
      "metadata": {
        "id": "XYyDxSMP9_x-"
      },
      "source": [
        "areas = areas.drop(columns=['created_at', 'updated_at', 'area_count', 'uuid', 'custom_attributes', 'audit_complete'])"
      ],
      "execution_count": null,
      "outputs": []
    },
    {
      "cell_type": "code",
      "metadata": {
        "colab": {
          "base_uri": "https://localhost:8080/"
        },
        "id": "-AZMnYeC-o1m",
        "outputId": "8d944020-1e70-4102-e922-ab9226d7d50a"
      },
      "source": [
        "areas.info()"
      ],
      "execution_count": null,
      "outputs": [
        {
          "output_type": "stream",
          "text": [
            "<class 'pandas.core.frame.DataFrame'>\n",
            "RangeIndex: 166634 entries, 0 to 166633\n",
            "Data columns (total 7 columns):\n",
            " #   Column              Non-Null Count   Dtype  \n",
            "---  ------              --------------   -----  \n",
            " 0   id                  166632 non-null  object \n",
            " 1   created_by_user_id  166557 non-null  object \n",
            " 2   name                166556 non-null  object \n",
            " 3   active              166535 non-null  object \n",
            " 4   project_id          166525 non-null  object \n",
            " 5   name_with_parents   165791 non-null  object \n",
            " 6   code                166520 non-null  float64\n",
            "dtypes: float64(1), object(6)\n",
            "memory usage: 8.9+ MB\n"
          ],
          "name": "stdout"
        }
      ]
    },
    {
      "cell_type": "code",
      "metadata": {
        "colab": {
          "base_uri": "https://localhost:8080/"
        },
        "id": "tTGJVNafROIv",
        "outputId": "94084cfd-ee01-4756-d548-d2d12211d835"
      },
      "source": [
        "areas['active'].value_counts(normalize=True)"
      ],
      "execution_count": null,
      "outputs": [
        {
          "output_type": "execute_result",
          "data": {
            "text/plain": [
              "t           0.958429\n",
              "f           0.041499\n",
              "{}          0.000024\n",
              "09:05.6     0.000006\n",
              "57:28.1     0.000006\n",
              "20:02.2     0.000006\n",
              "22:51.0     0.000006\n",
              "54:59.6     0.000006\n",
              "59:32.5     0.000006\n",
              "00:38.3     0.000006\n",
              "'58 HID     0.000006\n",
              "Name: active, dtype: float64"
            ]
          },
          "metadata": {
            "tags": []
          },
          "execution_count": 168
        }
      ]
    },
    {
      "cell_type": "markdown",
      "metadata": {
        "id": "vKFEi9aIRT51"
      },
      "source": [
        "4% is inactive"
      ]
    },
    {
      "cell_type": "code",
      "metadata": {
        "colab": {
          "base_uri": "https://localhost:8080/"
        },
        "id": "x2PNLoufRZKH",
        "outputId": "fa8e140b-4bcc-4e7b-ba75-fc8fafcc7438"
      },
      "source": [
        "df_areas = areas[areas.active == 't']\n",
        "df_areas.shape"
      ],
      "execution_count": null,
      "outputs": [
        {
          "output_type": "execute_result",
          "data": {
            "text/plain": [
              "(159612, 7)"
            ]
          },
          "metadata": {
            "tags": []
          },
          "execution_count": 169
        }
      ]
    },
    {
      "cell_type": "markdown",
      "metadata": {
        "id": "G68Pg8uZqONb"
      },
      "source": [
        "# **Proposal_options**"
      ]
    },
    {
      "cell_type": "code",
      "metadata": {
        "colab": {
          "base_uri": "https://localhost:8080/"
        },
        "id": "5kJ_Pa5xrD-X",
        "outputId": "b0f73e81-8591-4261-fb06-834d65a13157"
      },
      "source": [
        "proopts.shape"
      ],
      "execution_count": null,
      "outputs": [
        {
          "output_type": "execute_result",
          "data": {
            "text/plain": [
              "(10007, 9)"
            ]
          },
          "metadata": {
            "tags": []
          },
          "execution_count": 58
        }
      ]
    },
    {
      "cell_type": "code",
      "metadata": {
        "colab": {
          "base_uri": "https://localhost:8080/"
        },
        "id": "qfKQRVeEteKU",
        "outputId": "dafbe499-8b5b-4c41-a842-9ef262f72933"
      },
      "source": [
        "proopts.columns"
      ],
      "execution_count": null,
      "outputs": [
        {
          "output_type": "execute_result",
          "data": {
            "text/plain": [
              "Index(['id', 'proposal_id', 'option_id', 'created_by_user_id', 'active',\n",
              "       'inactive_at', 'inactivated_by_user_id', 'created_at', 'updated_at'],\n",
              "      dtype='object')"
            ]
          },
          "metadata": {
            "tags": []
          },
          "execution_count": 59
        }
      ]
    },
    {
      "cell_type": "code",
      "metadata": {
        "colab": {
          "base_uri": "https://localhost:8080/"
        },
        "id": "Cvqw1hHGqx__",
        "outputId": "71877e17-0a95-42f9-a2dc-0466f0e1f5b1"
      },
      "source": [
        "print(\"Removing null values \")\n",
        "print()\n",
        "for i in proopts.columns:\n",
        "    if (proopts[i].isnull().sum()/len(proopts))*100 >= 30:\n",
        "        print(i,\":\", proopts[i].isnull().sum()/len(proopts)*100, \"%\")\n",
        "        proopts.drop(i, axis=1,inplace=True)"
      ],
      "execution_count": null,
      "outputs": [
        {
          "output_type": "stream",
          "text": [
            "Removing null values \n",
            "\n",
            "inactive_at : 93.31467972419306 %\n",
            "inactivated_by_user_id : 100.0 %\n"
          ],
          "name": "stdout"
        }
      ]
    },
    {
      "cell_type": "code",
      "metadata": {
        "colab": {
          "base_uri": "https://localhost:8080/"
        },
        "id": "KeNiFyDlq6os",
        "outputId": "f74f4cfd-8011-4add-be00-9f3794782344"
      },
      "source": [
        "print(\"Dropping columns which have mostly zero's \")\n",
        "print()\n",
        "for i in proopts.columns:\n",
        "    if len(proopts[proopts[i]==0])/len(proopts)*100 >=85:\n",
        "        print(i,\":\", len(proopts[proopts[i]==0])/len(proopts)*100,\"%\")\n",
        "        proopts.drop(i, axis=1,inplace=True)"
      ],
      "execution_count": null,
      "outputs": [
        {
          "output_type": "stream",
          "text": [
            "Dropping columns which have mostly zero's \n",
            "\n"
          ],
          "name": "stdout"
        }
      ]
    },
    {
      "cell_type": "code",
      "metadata": {
        "colab": {
          "base_uri": "https://localhost:8080/"
        },
        "id": "Y3y2GMxB-39R",
        "outputId": "b6693473-8f4a-44ed-b2cd-23b5b3c6c6a0"
      },
      "source": [
        "proopts.columns"
      ],
      "execution_count": null,
      "outputs": [
        {
          "output_type": "execute_result",
          "data": {
            "text/plain": [
              "Index(['id', 'proposal_id', 'option_id', 'created_by_user_id', 'active',\n",
              "       'created_at', 'updated_at'],\n",
              "      dtype='object')"
            ]
          },
          "metadata": {
            "tags": []
          },
          "execution_count": 114
        }
      ]
    },
    {
      "cell_type": "code",
      "metadata": {
        "colab": {
          "base_uri": "https://localhost:8080/"
        },
        "id": "YKzJEflPRkKI",
        "outputId": "55062de0-6490-476a-8aaa-0a8a0b57b1a6"
      },
      "source": [
        "proopts['active'].value_counts(normalize=True)"
      ],
      "execution_count": null,
      "outputs": [
        {
          "output_type": "execute_result",
          "data": {
            "text/plain": [
              "t    0.933347\n",
              "f    0.066653\n",
              "Name: active, dtype: float64"
            ]
          },
          "metadata": {
            "tags": []
          },
          "execution_count": 170
        }
      ]
    },
    {
      "cell_type": "markdown",
      "metadata": {
        "id": "Tb4WO1jXRqBO"
      },
      "source": [
        "Approx, 6.7% is inactive"
      ]
    },
    {
      "cell_type": "code",
      "metadata": {
        "colab": {
          "base_uri": "https://localhost:8080/"
        },
        "id": "TtqeTFnGRqld",
        "outputId": "b2ad6f26-f366-48de-88f7-cac92e1bf8a7"
      },
      "source": [
        "df_proopts = proopts[proopts.active == 't']\n",
        "df_proopts.shape"
      ],
      "execution_count": null,
      "outputs": [
        {
          "output_type": "execute_result",
          "data": {
            "text/plain": [
              "(9340, 7)"
            ]
          },
          "metadata": {
            "tags": []
          },
          "execution_count": 171
        }
      ]
    },
    {
      "cell_type": "markdown",
      "metadata": {
        "id": "Go5b_2dUqAOp"
      },
      "source": [
        "# **Solutions**"
      ]
    },
    {
      "cell_type": "code",
      "metadata": {
        "colab": {
          "base_uri": "https://localhost:8080/"
        },
        "id": "NE0-t3PXruW9",
        "outputId": "5752730c-6f10-4fa5-be4d-98c6fda65d32"
      },
      "source": [
        "solutions.shape"
      ],
      "execution_count": null,
      "outputs": [
        {
          "output_type": "execute_result",
          "data": {
            "text/plain": [
              "(84227, 22)"
            ]
          },
          "metadata": {
            "tags": []
          },
          "execution_count": 39
        }
      ]
    },
    {
      "cell_type": "code",
      "metadata": {
        "colab": {
          "base_uri": "https://localhost:8080/"
        },
        "id": "SqsSnIQZrwWs",
        "outputId": "437c45c2-0f6d-4eee-90b2-e302299174d4"
      },
      "source": [
        "solutions.columns"
      ],
      "execution_count": null,
      "outputs": [
        {
          "output_type": "execute_result",
          "data": {
            "text/plain": [
              "Index(['id', 'project_id', 'name', 'existing_lighting_id', 'existing_count',\n",
              "       'use_existing', 'created_at', 'updated_at', 'internal_notes', 'notes',\n",
              "       'active', 'inactive_at', 'created_by_user_id', 'incentive_type',\n",
              "       'incentive_amount', 'incentive_maximum', 'incentive_max_type',\n",
              "       'copied_from_id', 'total_wattage', 'total_lifetime', 'product_count',\n",
              "       'option_id'],\n",
              "      dtype='object')"
            ]
          },
          "metadata": {
            "tags": []
          },
          "execution_count": 41
        }
      ]
    },
    {
      "cell_type": "code",
      "metadata": {
        "colab": {
          "base_uri": "https://localhost:8080/"
        },
        "id": "R7dLuaGIrOol",
        "outputId": "3524a081-2639-4a46-e7cc-3130c0cc850e"
      },
      "source": [
        "print(\"Removing null values \")\n",
        "print()\n",
        "for i in solutions.columns:\n",
        "    if (solutions[i].isnull().sum()/len(solutions))*100 >= 30:\n",
        "        print(i,\":\", solutions[i].isnull().sum()/len(solutions)*100, \"%\")\n",
        "        solutions.drop(i, axis=1,inplace=True)"
      ],
      "execution_count": null,
      "outputs": [
        {
          "output_type": "stream",
          "text": [
            "Removing null values \n",
            "\n",
            "existing_lighting_id : 37.8049794009047 %\n",
            "use_existing : 99.70318306481295 %\n",
            "internal_notes : 99.13210728151304 %\n",
            "notes : 99.3968679876999 %\n",
            "inactive_at : 84.89676706994194 %\n",
            "incentive_amount : 55.533261305757065 %\n",
            "incentive_maximum : 93.13284338751232 %\n",
            "incentive_max_type : 79.37834661094423 %\n",
            "copied_from_id : 76.62032364918613 %\n",
            "total_wattage : 99.01219323969748 %\n",
            "total_lifetime : 99.46929131988554 %\n"
          ],
          "name": "stdout"
        }
      ]
    },
    {
      "cell_type": "code",
      "metadata": {
        "colab": {
          "base_uri": "https://localhost:8080/"
        },
        "id": "eUtABskQrPmO",
        "outputId": "4f4e38e5-adb4-4920-a268-0fbf43c00692"
      },
      "source": [
        "print(\"Dropping columns which have mostly zero's \")\n",
        "print()\n",
        "for i in solutions.columns:\n",
        "    if len(solutions[solutions[i]==0])/len(solutions)*100 >=85:\n",
        "        print(i,\":\", len(solutions[solutions[i]==0])/len(solutions)*100,\"%\")\n",
        "        solutions.drop(i, axis=1,inplace=True)"
      ],
      "execution_count": null,
      "outputs": [
        {
          "output_type": "stream",
          "text": [
            "Dropping columns which have mostly zero's \n",
            "\n"
          ],
          "name": "stdout"
        }
      ]
    },
    {
      "cell_type": "code",
      "metadata": {
        "colab": {
          "base_uri": "https://localhost:8080/"
        },
        "id": "1EDApcO5sC2G",
        "outputId": "fde2356e-2114-43bf-d7f0-07104fe20f4d"
      },
      "source": [
        "solutions.shape"
      ],
      "execution_count": null,
      "outputs": [
        {
          "output_type": "execute_result",
          "data": {
            "text/plain": [
              "(84227, 11)"
            ]
          },
          "metadata": {
            "tags": []
          },
          "execution_count": 45
        }
      ]
    },
    {
      "cell_type": "code",
      "metadata": {
        "colab": {
          "base_uri": "https://localhost:8080/"
        },
        "id": "6qucSMZ8sE0w",
        "outputId": "84cce47a-73fe-461a-ea14-d336c329f532"
      },
      "source": [
        "solutions.columns"
      ],
      "execution_count": null,
      "outputs": [
        {
          "output_type": "execute_result",
          "data": {
            "text/plain": [
              "Index(['id', 'project_id', 'name', 'existing_count', 'created_at',\n",
              "       'updated_at', 'active', 'created_by_user_id', 'incentive_type',\n",
              "       'product_count', 'option_id'],\n",
              "      dtype='object')"
            ]
          },
          "metadata": {
            "tags": []
          },
          "execution_count": 46
        }
      ]
    },
    {
      "cell_type": "code",
      "metadata": {
        "id": "3nJCyrAf_D76"
      },
      "source": [
        "soutions = solutions.drop(columns=['created_by_user_id', 'incentive_type'])"
      ],
      "execution_count": null,
      "outputs": []
    },
    {
      "cell_type": "code",
      "metadata": {
        "colab": {
          "base_uri": "https://localhost:8080/"
        },
        "id": "kknxRsr6_c7g",
        "outputId": "43272062-88fe-470a-f6a4-aa1070e64a35"
      },
      "source": [
        "solutions.info()"
      ],
      "execution_count": null,
      "outputs": [
        {
          "output_type": "stream",
          "text": [
            "<class 'pandas.core.frame.DataFrame'>\n",
            "RangeIndex: 84227 entries, 0 to 84226\n",
            "Data columns (total 11 columns):\n",
            " #   Column              Non-Null Count  Dtype  \n",
            "---  ------              --------------  -----  \n",
            " 0   id                  84227 non-null  int64  \n",
            " 1   project_id          83288 non-null  float64\n",
            " 2   name                84224 non-null  object \n",
            " 3   existing_count      84227 non-null  int64  \n",
            " 4   created_at          84227 non-null  object \n",
            " 5   updated_at          84227 non-null  object \n",
            " 6   active              84227 non-null  object \n",
            " 7   created_by_user_id  84227 non-null  int64  \n",
            " 8   incentive_type      84219 non-null  float64\n",
            " 9   product_count       84227 non-null  int64  \n",
            " 10  option_id           82461 non-null  float64\n",
            "dtypes: float64(3), int64(4), object(4)\n",
            "memory usage: 7.1+ MB\n"
          ],
          "name": "stdout"
        }
      ]
    },
    {
      "cell_type": "code",
      "metadata": {
        "colab": {
          "base_uri": "https://localhost:8080/"
        },
        "id": "wpGx-hDfR-mk",
        "outputId": "71d82bbb-26a0-43f5-c804-178c6d0cfd4e"
      },
      "source": [
        "solutions['active'].value_counts(normalize=True)"
      ],
      "execution_count": null,
      "outputs": [
        {
          "output_type": "execute_result",
          "data": {
            "text/plain": [
              "t    0.789652\n",
              "f    0.210348\n",
              "Name: active, dtype: float64"
            ]
          },
          "metadata": {
            "tags": []
          },
          "execution_count": 172
        }
      ]
    },
    {
      "cell_type": "markdown",
      "metadata": {
        "id": "7ioXiJlfSDGM"
      },
      "source": [
        "21% is inactive"
      ]
    },
    {
      "cell_type": "code",
      "metadata": {
        "colab": {
          "base_uri": "https://localhost:8080/"
        },
        "id": "KJRvhbirSDmJ",
        "outputId": "5c4ca4c8-070e-42ef-8dbf-af361a2ee397"
      },
      "source": [
        "df_solutions = solutions[solutions.active == 't']\n",
        "df_solutions.shape"
      ],
      "execution_count": null,
      "outputs": [
        {
          "output_type": "execute_result",
          "data": {
            "text/plain": [
              "(66510, 11)"
            ]
          },
          "metadata": {
            "tags": []
          },
          "execution_count": 173
        }
      ]
    },
    {
      "cell_type": "code",
      "metadata": {
        "colab": {
          "base_uri": "https://localhost:8080/",
          "height": 373
        },
        "id": "vbwBbXrFdV2W",
        "outputId": "89061fb3-f7ba-40d9-9a26-ced984c73be0"
      },
      "source": [
        "sns.heatmap(df_solutions.corr())"
      ],
      "execution_count": null,
      "outputs": [
        {
          "output_type": "execute_result",
          "data": {
            "text/plain": [
              "<matplotlib.axes._subplots.AxesSubplot at 0x7f2d6e02a510>"
            ]
          },
          "metadata": {
            "tags": []
          },
          "execution_count": 200
        },
        {
          "output_type": "display_data",
          "data": {
            "image/png": "[encoded data removed]",
            "text/plain": [
              "<Figure size 432x288 with 2 Axes>"
            ]
          },
          "metadata": {
            "tags": [],
            "needs_background": "light"
          }
        }
      ]
    },
    {
      "cell_type": "markdown",
      "metadata": {
        "id": "4qZiM2E-qFs_"
      },
      "source": [
        "# **Option_calc_lightings**"
      ]
    },
    {
      "cell_type": "code",
      "metadata": {
        "colab": {
          "base_uri": "https://localhost:8080/"
        },
        "id": "LWibXBu3sLmS",
        "outputId": "e0c604e1-c075-43b8-fce1-ed2cd7684c14"
      },
      "source": [
        "option_calc_lighting.shape"
      ],
      "execution_count": null,
      "outputs": [
        {
          "output_type": "execute_result",
          "data": {
            "text/plain": [
              "(88076, 9)"
            ]
          },
          "metadata": {
            "tags": []
          },
          "execution_count": 47
        }
      ]
    },
    {
      "cell_type": "code",
      "metadata": {
        "colab": {
          "base_uri": "https://localhost:8080/"
        },
        "id": "-SiRpTsIsOTn",
        "outputId": "a0a2b87e-665f-410e-f3f6-8a92988721ef"
      },
      "source": [
        "option_calc_lighting.columns"
      ],
      "execution_count": null,
      "outputs": [
        {
          "output_type": "execute_result",
          "data": {
            "text/plain": [
              "Index(['id', 'option_calculation_id', 'existing_lighting_id', 'solution_id',\n",
              "       'use', 'started_at', 'finished_at', 'existing_quantity',\n",
              "       'proposed_quantity'],\n",
              "      dtype='object')"
            ]
          },
          "metadata": {
            "tags": []
          },
          "execution_count": 48
        }
      ]
    },
    {
      "cell_type": "code",
      "metadata": {
        "colab": {
          "base_uri": "https://localhost:8080/"
        },
        "id": "fhjvk-YCrbvM",
        "outputId": "38cb9494-dbdc-44dc-cfaa-bcdb74ef66b1"
      },
      "source": [
        "print(\"Removing null values \")\n",
        "print()\n",
        "for i in areas.columns:\n",
        "    if (areas[i].isnull().sum()/len(areas))*100 >= 30:\n",
        "        print(i,\":\", areas[i].isnull().sum()/len(areas)*100, \"%\")\n",
        "        areas.drop(i, axis=1,inplace=True)"
      ],
      "execution_count": null,
      "outputs": [
        {
          "output_type": "stream",
          "text": [
            "Removing null values \n",
            "\n"
          ],
          "name": "stdout"
        }
      ]
    },
    {
      "cell_type": "code",
      "metadata": {
        "colab": {
          "base_uri": "https://localhost:8080/"
        },
        "id": "Y8UxrzxsrgBG",
        "outputId": "6e6a7b56-d0f5-4f80-8760-838fd206bb47"
      },
      "source": [
        "print(\"Dropping columns which have mostly zero's \")\n",
        "print()\n",
        "for i in areas.columns:\n",
        "    if len(areas[areas[i]==0])/len(areas)*100 >=85:\n",
        "        print(i,\":\", len(areas[areas[i]==0])/len(areas)*100,\"%\")\n",
        "        areas.drop(i, axis=1,inplace=True)"
      ],
      "execution_count": null,
      "outputs": [
        {
          "output_type": "stream",
          "text": [
            "Dropping columns which have mostly zero's \n",
            "\n"
          ],
          "name": "stdout"
        }
      ]
    },
    {
      "cell_type": "code",
      "metadata": {
        "id": "wdsZGIGqE2Mw"
      },
      "source": [
        "option_calc_lighting = option_calc_lighting[['id', 'option_calculation_id', 'existing_lighting_id', \n",
        "                                             'solution_id', 'use', 'existing_quantity', 'proposed_quantity']]"
      ],
      "execution_count": null,
      "outputs": []
    },
    {
      "cell_type": "code",
      "metadata": {
        "colab": {
          "base_uri": "https://localhost:8080/"
        },
        "id": "FKMw9wI4Ifmv",
        "outputId": "4512da8e-776a-4423-d648-8fcc08fc424a"
      },
      "source": [
        "option_calc_lighting.info()"
      ],
      "execution_count": null,
      "outputs": [
        {
          "output_type": "stream",
          "text": [
            "<class 'pandas.core.frame.DataFrame'>\n",
            "RangeIndex: 88076 entries, 0 to 88075\n",
            "Data columns (total 7 columns):\n",
            " #   Column                 Non-Null Count  Dtype  \n",
            "---  ------                 --------------  -----  \n",
            " 0   id                     88076 non-null  int64  \n",
            " 1   option_calculation_id  88076 non-null  int64  \n",
            " 2   existing_lighting_id   88076 non-null  int64  \n",
            " 3   solution_id            41207 non-null  float64\n",
            " 4   use                    88076 non-null  object \n",
            " 5   existing_quantity      88076 non-null  int64  \n",
            " 6   proposed_quantity      88076 non-null  int64  \n",
            "dtypes: float64(1), int64(5), object(1)\n",
            "memory usage: 4.7+ MB\n"
          ],
          "name": "stdout"
        }
      ]
    },
    {
      "cell_type": "code",
      "metadata": {
        "id": "HogFzxc-pE3S"
      },
      "source": [
        "option_calc_lighting['ratio'] = option_calc_lighting['proposed_quantity']/option_calc_lighting['existing_quantity']"
      ],
      "execution_count": 204,
      "outputs": []
    },
    {
      "cell_type": "code",
      "metadata": {
        "colab": {
          "base_uri": "https://localhost:8080/",
          "height": 195
        },
        "id": "fEmX6ptkpVL_",
        "outputId": "11e163af-cc54-441b-97b1-06cd7a0533f3"
      },
      "source": [
        "option_calc_lighting.head()"
      ],
      "execution_count": 205,
      "outputs": [
        {
          "output_type": "execute_result",
          "data": {
            "text/html": [
              "<div>\n",
              "<style scoped>\n",
              "    .dataframe tbody tr th:only-of-type {\n",
              "        vertical-align: middle;\n",
              "    }\n",
              "\n",
              "    .dataframe tbody tr th {\n",
              "        vertical-align: top;\n",
              "    }\n",
              "\n",
              "    .dataframe thead th {\n",
              "        text-align: right;\n",
              "    }\n",
              "</style>\n",
              "<table border=\"1\" class=\"dataframe\">\n",
              "  <thead>\n",
              "    <tr style=\"text-align: right;\">\n",
              "      <th></th>\n",
              "      <th>id</th>\n",
              "      <th>option_calculation_id</th>\n",
              "      <th>existing_lighting_id</th>\n",
              "      <th>solution_id</th>\n",
              "      <th>use</th>\n",
              "      <th>existing_quantity</th>\n",
              "      <th>proposed_quantity</th>\n",
              "      <th>ratio</th>\n",
              "    </tr>\n",
              "  </thead>\n",
              "  <tbody>\n",
              "    <tr>\n",
              "      <th>0</th>\n",
              "      <td>41272</td>\n",
              "      <td>5545</td>\n",
              "      <td>39580</td>\n",
              "      <td>NaN</td>\n",
              "      <td>t</td>\n",
              "      <td>0</td>\n",
              "      <td>0</td>\n",
              "      <td>NaN</td>\n",
              "    </tr>\n",
              "    <tr>\n",
              "      <th>1</th>\n",
              "      <td>4</td>\n",
              "      <td>1</td>\n",
              "      <td>15701</td>\n",
              "      <td>NaN</td>\n",
              "      <td>t</td>\n",
              "      <td>188</td>\n",
              "      <td>0</td>\n",
              "      <td>0.0</td>\n",
              "    </tr>\n",
              "    <tr>\n",
              "      <th>2</th>\n",
              "      <td>5</td>\n",
              "      <td>1</td>\n",
              "      <td>15700</td>\n",
              "      <td>17556.0</td>\n",
              "      <td>t</td>\n",
              "      <td>2</td>\n",
              "      <td>2</td>\n",
              "      <td>1.0</td>\n",
              "    </tr>\n",
              "    <tr>\n",
              "      <th>3</th>\n",
              "      <td>32</td>\n",
              "      <td>1</td>\n",
              "      <td>15673</td>\n",
              "      <td>17403.0</td>\n",
              "      <td>t</td>\n",
              "      <td>14</td>\n",
              "      <td>14</td>\n",
              "      <td>1.0</td>\n",
              "    </tr>\n",
              "    <tr>\n",
              "      <th>4</th>\n",
              "      <td>34</td>\n",
              "      <td>1</td>\n",
              "      <td>15671</td>\n",
              "      <td>NaN</td>\n",
              "      <td>t</td>\n",
              "      <td>66</td>\n",
              "      <td>0</td>\n",
              "      <td>0.0</td>\n",
              "    </tr>\n",
              "  </tbody>\n",
              "</table>\n",
              "</div>"
            ],
            "text/plain": [
              "      id  option_calculation_id  ...  proposed_quantity  ratio\n",
              "0  41272                   5545  ...                  0    NaN\n",
              "1      4                      1  ...                  0    0.0\n",
              "2      5                      1  ...                  2    1.0\n",
              "3     32                      1  ...                 14    1.0\n",
              "4     34                      1  ...                  0    0.0\n",
              "\n",
              "[5 rows x 8 columns]"
            ]
          },
          "metadata": {
            "tags": []
          },
          "execution_count": 205
        }
      ]
    },
    {
      "cell_type": "code",
      "metadata": {
        "colab": {
          "base_uri": "https://localhost:8080/"
        },
        "id": "3Jkc4yJopb5M",
        "outputId": "a33a850a-cd19-4977-9018-9ba4acca221f"
      },
      "source": [
        "option_calc_lighting['ratio'].value_counts(normalize=True)"
      ],
      "execution_count": 209,
      "outputs": [
        {
          "output_type": "execute_result",
          "data": {
            "text/plain": [
              "1.000000     0.516047\n",
              "0.000000     0.400140\n",
              "2.000000     0.045486\n",
              "4.000000     0.017530\n",
              "3.000000     0.008160\n",
              "               ...   \n",
              "1.022396     0.000019\n",
              "0.991103     0.000019\n",
              "27.000000    0.000019\n",
              "0.642857     0.000019\n",
              "0.529412     0.000019\n",
              "Name: ratio, Length: 200, dtype: float64"
            ]
          },
          "metadata": {
            "tags": []
          },
          "execution_count": 209
        }
      ]
    },
    {
      "cell_type": "code",
      "metadata": {
        "colab": {
          "base_uri": "https://localhost:8080/"
        },
        "id": "bs2b8AsPpkGU",
        "outputId": "e7e0771d-9e8d-48ca-cdba-67c2410c0bcd"
      },
      "source": [
        "option_calc_lighting.isnull().sum()"
      ],
      "execution_count": 208,
      "outputs": [
        {
          "output_type": "execute_result",
          "data": {
            "text/plain": [
              "id                           0\n",
              "option_calculation_id        0\n",
              "existing_lighting_id         0\n",
              "solution_id              46869\n",
              "use                          0\n",
              "existing_quantity            0\n",
              "proposed_quantity            0\n",
              "ratio                    35137\n",
              "dtype: int64"
            ]
          },
          "metadata": {
            "tags": []
          },
          "execution_count": 208
        }
      ]
    },
    {
      "cell_type": "code",
      "metadata": {
        "colab": {
          "base_uri": "https://localhost:8080/"
        },
        "id": "I_e-lMhUTiFZ",
        "outputId": "ee221b0a-6211-4fcd-9317-ebf2e43f98e3"
      },
      "source": [
        "option_calc_lighting['use'].value_counts(normalize=True)"
      ],
      "execution_count": null,
      "outputs": [
        {
          "output_type": "execute_result",
          "data": {
            "text/plain": [
              "t    0.854115\n",
              "f    0.145885\n",
              "Name: use, dtype: float64"
            ]
          },
          "metadata": {
            "tags": []
          },
          "execution_count": 175
        }
      ]
    },
    {
      "cell_type": "markdown",
      "metadata": {
        "id": "PB6rSABAT4VZ"
      },
      "source": [
        "14.5% is not in use"
      ]
    },
    {
      "cell_type": "code",
      "metadata": {
        "colab": {
          "base_uri": "https://localhost:8080/"
        },
        "id": "mjmq_JMzT1Gu",
        "outputId": "7e96bfd9-9c29-42a2-f117-6027a1df10ab"
      },
      "source": [
        "df_option_calc_lighting = option_calc_lighting[option_calc_lighting.use == 't']\n",
        "df_option_calc_lighting.shape"
      ],
      "execution_count": null,
      "outputs": [
        {
          "output_type": "execute_result",
          "data": {
            "text/plain": [
              "(75227, 7)"
            ]
          },
          "metadata": {
            "tags": []
          },
          "execution_count": 176
        }
      ]
    },
    {
      "cell_type": "markdown",
      "metadata": {
        "id": "fFefmLwNqKSz"
      },
      "source": [
        "# **Option_calc_fixtures**"
      ]
    },
    {
      "cell_type": "code",
      "metadata": {
        "colab": {
          "base_uri": "https://localhost:8080/"
        },
        "id": "-l_Wu7l6sVh4",
        "outputId": "031a98b6-fbc1-41e5-f9cc-1ec5c0b3a874"
      },
      "source": [
        "option_calc_fixtures.shape"
      ],
      "execution_count": null,
      "outputs": [
        {
          "output_type": "execute_result",
          "data": {
            "text/plain": [
              "(409780, 64)"
            ]
          },
          "metadata": {
            "tags": []
          },
          "execution_count": 51
        }
      ]
    },
    {
      "cell_type": "code",
      "metadata": {
        "colab": {
          "base_uri": "https://localhost:8080/"
        },
        "id": "6Kae62jbsXpS",
        "outputId": "53d47a6b-b6de-4ec4-ffdb-b2467a80244b"
      },
      "source": [
        "option_calc_fixtures.columns"
      ],
      "execution_count": null,
      "outputs": [
        {
          "output_type": "execute_result",
          "data": {
            "text/plain": [
              "Index(['id', 'option_calculation_id', 'existing_fixture_id', 'started_at',\n",
              "       'finished_at', 'product_id', 'product_type', 'operating_schedule_id',\n",
              "       'rate_schedule_id', 'heating_id', 'cooling_id', 'replacement_count',\n",
              "       'markup', 'markup_type', 'incentive_savings', 'fixture_item_cost',\n",
              "       'fixture_item_cost_no_markup', 'fixture_labor_cost',\n",
              "       'fixture_shipping_cost', 'fixture_misc_cost', 'fixture_tax_cost',\n",
              "       'fixture_total_cost', 'watts_per_product', 'electrical_cost',\n",
              "       'maintenance_cost', 'heating_cost', 'cooling_cost',\n",
              "       'total_cost_per_year', 'total_savings', 'created_at', 'updated_at',\n",
              "       'item_watt_hours_consumed', 'replacement_fixture_cost',\n",
              "       'replacement_fixture_cost_no_markup', 'replacement_labor_cost',\n",
              "       'replacement_shipping_cost', 'replacement_misc_cost',\n",
              "       'replacement_tax_cost', 'total_replacement_cost',\n",
              "       'total_savings_per_lamp_life', 'life_years', 'area_full_name',\n",
              "       'option_calc_fixture_id', 'solution_id', 'item_watts',\n",
              "       'net_replacement_cost', 'simple_payback', 'product_name',\n",
              "       'existing_product_name', 'use', 'fixture_recycling_cost',\n",
              "       'replacement_recycling_cost', 'demand_savings', 'demand_charge',\n",
              "       'demand_cost_savings', 'heating_cost_savings', 'cooling_cost_savings',\n",
              "       'maintenance_cost_savings', 'energy_savings', 'energy_cost_savings',\n",
              "       'energy_charge', 'active', 'inactive_at', 'exception'],\n",
              "      dtype='object')"
            ]
          },
          "metadata": {
            "tags": []
          },
          "execution_count": 52
        }
      ]
    },
    {
      "cell_type": "code",
      "metadata": {
        "colab": {
          "base_uri": "https://localhost:8080/"
        },
        "id": "8E00aiYLrdW4",
        "outputId": "55138553-ab64-4d5f-af37-12f57b79f48d"
      },
      "source": [
        "print(\"Removing null values \")\n",
        "print()\n",
        "for i in areas.columns:\n",
        "    if (areas[i].isnull().sum()/len(areas))*100 >= 30:\n",
        "        print(i,\":\", areas[i].isnull().sum()/len(areas)*100, \"%\")\n",
        "        areas.drop(i, axis=1,inplace=True)"
      ],
      "execution_count": null,
      "outputs": [
        {
          "output_type": "stream",
          "text": [
            "Removing null values \n",
            "\n"
          ],
          "name": "stdout"
        }
      ]
    },
    {
      "cell_type": "code",
      "metadata": {
        "colab": {
          "base_uri": "https://localhost:8080/"
        },
        "id": "xGfIOwlYrWBD",
        "outputId": "d9250160-d276-41a8-9f8d-a7ce0a9fabf0"
      },
      "source": [
        "print(\"Dropping columns which have mostly zero's \")\n",
        "print()\n",
        "for i in areas.columns:\n",
        "    if len(areas[areas[i]==0])/len(areas)*100 >=85:\n",
        "        print(i,\":\", len(areas[areas[i]==0])/len(areas)*100,\"%\")\n",
        "        areas.drop(i, axis=1,inplace=True)"
      ],
      "execution_count": null,
      "outputs": [
        {
          "output_type": "stream",
          "text": [
            "Dropping columns which have mostly zero's \n",
            "\n"
          ],
          "name": "stdout"
        }
      ]
    },
    {
      "cell_type": "code",
      "metadata": {
        "id": "FvspXmdCIkPH"
      },
      "source": [
        "option_calc_fixtures = option_calc_fixtures[['id', 'option_calculation_id', 'existing_fixture_id',\n",
        "                                             'product_id', 'operating_schedule_id', 'rate_schedule_id', 'heating_id', \n",
        "                                             'cooling_id', 'replacement_count', 'watts_per_product',\n",
        "                                             'item_watt_hours_consumed', 'life_years', 'option_calc_fixture_id', 'solution_id',\n",
        "                                             'item_watts', 'simple_payback', 'product_name', 'existing_product_name', 'use',\n",
        "                                             'active', 'exception']]"
      ],
      "execution_count": null,
      "outputs": []
    },
    {
      "cell_type": "code",
      "metadata": {
        "colab": {
          "base_uri": "https://localhost:8080/"
        },
        "id": "LVD4wg1XKYc6",
        "outputId": "15067648-1d39-49d2-d20c-fbda8a80d233"
      },
      "source": [
        "option_calc_fixtures.info()"
      ],
      "execution_count": null,
      "outputs": [
        {
          "output_type": "stream",
          "text": [
            "<class 'pandas.core.frame.DataFrame'>\n",
            "RangeIndex: 409780 entries, 0 to 409779\n",
            "Data columns (total 21 columns):\n",
            " #   Column                    Non-Null Count   Dtype  \n",
            "---  ------                    --------------   -----  \n",
            " 0   id                        409780 non-null  int64  \n",
            " 1   option_calculation_id     269353 non-null  float64\n",
            " 2   existing_fixture_id       409780 non-null  int64  \n",
            " 3   product_id                294354 non-null  float64\n",
            " 4   operating_schedule_id     385583 non-null  float64\n",
            " 5   rate_schedule_id          366052 non-null  float64\n",
            " 6   heating_id                12104 non-null   float64\n",
            " 7   cooling_id                37676 non-null   float64\n",
            " 8   replacement_count         409780 non-null  int64  \n",
            " 9   watts_per_product         409780 non-null  float64\n",
            " 10  item_watt_hours_consumed  409780 non-null  float64\n",
            " 11  life_years                409780 non-null  float64\n",
            " 12  option_calc_fixture_id    269335 non-null  object \n",
            " 13  solution_id               165356 non-null  object \n",
            " 14  item_watts                409780 non-null  object \n",
            " 15  simple_payback            149871 non-null  float64\n",
            " 16  product_name              406257 non-null  object \n",
            " 17  existing_product_name     409776 non-null  object \n",
            " 18  use                       409777 non-null  object \n",
            " 19  active                    409632 non-null  object \n",
            " 20  exception                 409630 non-null  object \n",
            "dtypes: float64(10), int64(3), object(8)\n",
            "memory usage: 65.7+ MB\n"
          ],
          "name": "stdout"
        }
      ]
    },
    {
      "cell_type": "code",
      "metadata": {
        "colab": {
          "base_uri": "https://localhost:8080/"
        },
        "id": "NMKPHHxGULrZ",
        "outputId": "c849cc82-6557-45b8-aa95-f43eec746cca"
      },
      "source": [
        "option_calc_fixtures['active'].value_counts(normalize=True)"
      ],
      "execution_count": null,
      "outputs": [
        {
          "output_type": "execute_result",
          "data": {
            "text/plain": [
              "t                             0.980441\n",
              "f                             0.019554\n",
              "2021-03-02 22:37:57.180609    0.000005\n",
              "Name: active, dtype: float64"
            ]
          },
          "metadata": {
            "tags": []
          },
          "execution_count": 177
        }
      ]
    },
    {
      "cell_type": "markdown",
      "metadata": {
        "id": "gueDpor5UY-2"
      },
      "source": [
        "2% is inactive"
      ]
    },
    {
      "cell_type": "code",
      "metadata": {
        "colab": {
          "base_uri": "https://localhost:8080/"
        },
        "id": "3BJBB6sQURMz",
        "outputId": "7bac870c-3e32-41b2-ecb6-d5eb46d746f1"
      },
      "source": [
        "option_calc_fixtures['use'].value_counts(normalize=True)"
      ],
      "execution_count": null,
      "outputs": [
        {
          "output_type": "execute_result",
          "data": {
            "text/plain": [
              "t       0.951940\n",
              "f       0.047702\n",
              "0       0.000356\n",
              "1.06    0.000002\n",
              "Name: use, dtype: float64"
            ]
          },
          "metadata": {
            "tags": []
          },
          "execution_count": 178
        }
      ]
    },
    {
      "cell_type": "markdown",
      "metadata": {
        "id": "rIU1qNZbUeIV"
      },
      "source": [
        "Almost, 5% is not in use"
      ]
    },
    {
      "cell_type": "code",
      "metadata": {
        "colab": {
          "base_uri": "https://localhost:8080/"
        },
        "id": "g8bx60aAUhth",
        "outputId": "58712f5f-1903-4662-b0ed-76a22e59ba85"
      },
      "source": [
        "df_option_calc_fixtures = option_calc_fixtures[option_calc_fixtures.active == 't']\n",
        "df_option_calc_fixtures = option_calc_fixtures[option_calc_fixtures.use == 't']\n",
        "df_option_calc_fixtures.shape"
      ],
      "execution_count": null,
      "outputs": [
        {
          "output_type": "execute_result",
          "data": {
            "text/plain": [
              "(390083, 21)"
            ]
          },
          "metadata": {
            "tags": []
          },
          "execution_count": 179
        }
      ]
    },
    {
      "cell_type": "code",
      "metadata": {
        "colab": {
          "base_uri": "https://localhost:8080/",
          "height": 416
        },
        "id": "81_aw9T8d5lz",
        "outputId": "bf2a7d23-97d3-4a6b-b173-81338c2fa241"
      },
      "source": [
        "sns.heatmap(df_option_calc_fixtures.corr())"
      ],
      "execution_count": null,
      "outputs": [
        {
          "output_type": "execute_result",
          "data": {
            "text/plain": [
              "<matplotlib.axes._subplots.AxesSubplot at 0x7f2d7e5d1f50>"
            ]
          },
          "metadata": {
            "tags": []
          },
          "execution_count": 202
        },
        {
          "output_type": "display_data",
          "data": {
            "image/png": "[encoded data removed]",
            "text/plain": [
              "<Figure size 432x288 with 2 Axes>"
            ]
          },
          "metadata": {
            "tags": [],
            "needs_background": "light"
          }
        }
      ]
    },
    {
      "cell_type": "markdown",
      "metadata": {
        "id": "LQktGsCmumQ0"
      },
      "source": [
        "# **Projects**"
      ]
    },
    {
      "cell_type": "code",
      "metadata": {
        "colab": {
          "base_uri": "https://localhost:8080/"
        },
        "id": "josjKJ1JuogN",
        "outputId": "036aa81e-930d-426d-9748-253c4d408024"
      },
      "source": [
        "projects.shape"
      ],
      "execution_count": null,
      "outputs": [
        {
          "output_type": "execute_result",
          "data": {
            "text/plain": [
              "(11800, 54)"
            ]
          },
          "metadata": {
            "tags": []
          },
          "execution_count": 125
        }
      ]
    },
    {
      "cell_type": "code",
      "metadata": {
        "colab": {
          "base_uri": "https://localhost:8080/"
        },
        "id": "xRqNE8Wduq8u",
        "outputId": "f527a57d-a7c7-43dc-a7ba-5348864ee2cf"
      },
      "source": [
        "projects.columns"
      ],
      "execution_count": null,
      "outputs": [
        {
          "output_type": "execute_result",
          "data": {
            "text/plain": [
              "Index(['id', 'company_id', 'name', 'created_by_user_id', 'created_at',\n",
              "       'updated_at', 'company_project_status_id', 'client_id', 'contact_id',\n",
              "       'active', 'inactive_at', 'utility_id', 'utility_rate_plan',\n",
              "       'facility_type_id', 'rate_schedule_id', 'operating_schedule_id',\n",
              "       'cooling_id', 'heating_id', 'internal_notes', 'notes',\n",
              "       'prepared_for_user_id', 'prepared_by_user_id', 'maintenance_labor_rate',\n",
              "       'markup', 'apply_tax_on', 'tax_type', 'tax_rate_source', 'tax_rate',\n",
              "       'encentiv_id', 'financing_debt_percentage', 'financing_interest_rate',\n",
              "       'financing_loan_months', 'incentive_max_type', 'incentive_max',\n",
              "       'all_company_access', 'client_logo', 'markup_type', 'test',\n",
              "       'probability', 'expected_close_date', 'shipping_address_location',\n",
              "       'rebate_bus_id', 'highest_value_option_id', 'audit_status', 'uuid',\n",
              "       'funding_status', 'enable_sync', 'finance_discount_rate',\n",
              "       'finance_term', 'copied_from_id', 'copy_status', 'tax_exempt',\n",
              "       'custom_attributes', 'measure_types'],\n",
              "      dtype='object')"
            ]
          },
          "metadata": {
            "tags": []
          },
          "execution_count": 126
        }
      ]
    },
    {
      "cell_type": "code",
      "metadata": {
        "id": "jtup0ULXMUpl"
      },
      "source": [
        "df_projects = projects[['id', 'company_id', 'name', 'company_project_status_id', 'active',\n",
        "       'tax_rate_source', 'uuid', 'tax_exempt', 'facility_type_id']]"
      ],
      "execution_count": null,
      "outputs": []
    },
    {
      "cell_type": "code",
      "metadata": {
        "colab": {
          "base_uri": "https://localhost:8080/"
        },
        "id": "z0H5KAoEutXY",
        "outputId": "3c70aa27-69c0-4ff4-b7fb-3dc66ba65f76"
      },
      "source": [
        "print(\"Removing null values \")\n",
        "print()\n",
        "for i in projects.columns:\n",
        "    if (projects[i].isnull().sum()/len(projects))*100 >= 30:\n",
        "        print(i,\":\", projects[i].isnull().sum()/len(projects)*100, \"%\")\n",
        "        projects.drop(i, axis=1,inplace=True)"
      ],
      "execution_count": null,
      "outputs": [
        {
          "output_type": "stream",
          "text": [
            "Removing null values \n",
            "\n",
            "client_id : 99.88135593220339 %\n",
            "contact_id : 50.72033898305085 %\n",
            "inactive_at : 87.80508474576271 %\n",
            "utility_id : 76.51694915254237 %\n",
            "utility_rate_plan : 99.9322033898305 %\n",
            "facility_type_id : 71.33050847457628 %\n",
            "rate_schedule_id : 47.67796610169491 %\n",
            "operating_schedule_id : 42.38135593220339 %\n",
            "cooling_id : 96.70338983050848 %\n",
            "heating_id : 99.02542372881355 %\n",
            "internal_notes : 98.84745762711864 %\n",
            "notes : 99.3135593220339 %\n",
            "prepared_for_user_id : 99.96610169491525 %\n",
            "prepared_by_user_id : 54.355932203389834 %\n",
            "maintenance_labor_rate : 85.59322033898306 %\n",
            "markup : 68.04237288135593 %\n",
            "apply_tax_on : 70.05932203389831 %\n",
            "tax_type : 73.7457627118644 %\n",
            "tax_rate : 73.19491525423729 %\n",
            "encentiv_id : 98.73728813559322 %\n",
            "financing_debt_percentage : 99.67796610169492 %\n",
            "financing_interest_rate : 99.63559322033898 %\n",
            "financing_loan_months : 99.66101694915255 %\n",
            "incentive_max_type : 95.19491525423729 %\n",
            "incentive_max : 97.91525423728814 %\n",
            "client_logo : 70.44915254237289 %\n",
            "markup_type : 62.92372881355932 %\n",
            "test : 56.86440677966102 %\n",
            "probability : 87.21186440677965 %\n",
            "expected_close_date : 89.67796610169492 %\n",
            "shipping_address_location : 35.771186440677965 %\n",
            "rebate_bus_id : 100.0 %\n",
            "highest_value_option_id : 45.220338983050844 %\n",
            "audit_status : 100.0 %\n",
            "funding_status : 92.53389830508475 %\n",
            "copied_from_id : 80.48305084745763 %\n"
          ],
          "name": "stdout"
        }
      ]
    },
    {
      "cell_type": "code",
      "metadata": {
        "colab": {
          "base_uri": "https://localhost:8080/"
        },
        "id": "9ZtA2ro0uwFw",
        "outputId": "1603dde6-f6fe-46a3-db81-c1926cc1e440"
      },
      "source": [
        "print(\"Dropping columns which have mostly zero's \")\n",
        "print()\n",
        "for i in projects.columns:\n",
        "    if len(projects[projects[i]==0])/len(projects)*100 >=85:\n",
        "        print(i,\":\", len(projects[projects[i]==0])/len(projects)*100,\"%\")\n",
        "        projects.drop(i, axis=1,inplace=True)"
      ],
      "execution_count": null,
      "outputs": [
        {
          "output_type": "stream",
          "text": [
            "Dropping columns which have mostly zero's \n",
            "\n",
            "copy_status : 99.97457627118645 %\n"
          ],
          "name": "stdout"
        }
      ]
    },
    {
      "cell_type": "code",
      "metadata": {
        "id": "_OrJHD5XKmvg"
      },
      "source": [
        "projects = projects.drop(columns=['created_by_user_id', 'created_at', 'updated_at', 'all_company_access', 'enable_sync',\n",
        "                                  'finance_discount_rate', 'finance_term', 'custom_attributes', 'measure_types'])"
      ],
      "execution_count": null,
      "outputs": []
    },
    {
      "cell_type": "code",
      "metadata": {
        "colab": {
          "base_uri": "https://localhost:8080/"
        },
        "id": "6GXVhirKvBny",
        "outputId": "395e3bec-e253-48d3-bdbc-9da06cbfffdb"
      },
      "source": [
        "df_projects.shape"
      ],
      "execution_count": null,
      "outputs": [
        {
          "output_type": "execute_result",
          "data": {
            "text/plain": [
              "(11800, 9)"
            ]
          },
          "metadata": {
            "tags": []
          },
          "execution_count": 130
        }
      ]
    },
    {
      "cell_type": "code",
      "metadata": {
        "colab": {
          "base_uri": "https://localhost:8080/"
        },
        "id": "MXVxkxzFvD6V",
        "outputId": "795685c6-9e82-406a-bd3c-718c4d9bac3c"
      },
      "source": [
        "df_projects.columns"
      ],
      "execution_count": null,
      "outputs": [
        {
          "output_type": "execute_result",
          "data": {
            "text/plain": [
              "Index(['id', 'company_id', 'name', 'company_project_status_id', 'active',\n",
              "       'tax_rate_source', 'uuid', 'tax_exempt', 'facility_type_id'],\n",
              "      dtype='object')"
            ]
          },
          "metadata": {
            "tags": []
          },
          "execution_count": 131
        }
      ]
    },
    {
      "cell_type": "code",
      "metadata": {
        "colab": {
          "base_uri": "https://localhost:8080/"
        },
        "id": "E-QoG7UtL_Ka",
        "outputId": "01da197e-3e93-473c-972b-161d1e0784aa"
      },
      "source": [
        "df_projects.info()"
      ],
      "execution_count": null,
      "outputs": [
        {
          "output_type": "stream",
          "text": [
            "<class 'pandas.core.frame.DataFrame'>\n",
            "RangeIndex: 11800 entries, 0 to 11799\n",
            "Data columns (total 9 columns):\n",
            " #   Column                     Non-Null Count  Dtype  \n",
            "---  ------                     --------------  -----  \n",
            " 0   id                         11800 non-null  int64  \n",
            " 1   company_id                 11797 non-null  float64\n",
            " 2   name                       11800 non-null  object \n",
            " 3   company_project_status_id  11799 non-null  float64\n",
            " 4   active                     11799 non-null  object \n",
            " 5   tax_rate_source            11670 non-null  float64\n",
            " 6   uuid                       11800 non-null  object \n",
            " 7   tax_exempt                 11799 non-null  object \n",
            " 8   facility_type_id           3383 non-null   float64\n",
            "dtypes: float64(4), int64(1), object(4)\n",
            "memory usage: 829.8+ KB\n"
          ],
          "name": "stdout"
        }
      ]
    },
    {
      "cell_type": "code",
      "metadata": {
        "colab": {
          "base_uri": "https://localhost:8080/"
        },
        "id": "BVgMq3GcVAUN",
        "outputId": "4f89777e-3367-4f38-e4e2-63d46e25b25b"
      },
      "source": [
        "df_projects['active'].value_counts(normalize=True)"
      ],
      "execution_count": null,
      "outputs": [
        {
          "output_type": "execute_result",
          "data": {
            "text/plain": [
              "t    0.877278\n",
              "f    0.122722\n",
              "Name: active, dtype: float64"
            ]
          },
          "metadata": {
            "tags": []
          },
          "execution_count": 180
        }
      ]
    },
    {
      "cell_type": "markdown",
      "metadata": {
        "id": "NJe2dgGdVWQR"
      },
      "source": [
        "12.3% is inactive"
      ]
    },
    {
      "cell_type": "code",
      "metadata": {
        "colab": {
          "base_uri": "https://localhost:8080/"
        },
        "id": "-1nN-3sqVbNZ",
        "outputId": "e9b31592-a1f0-4f77-e063-9678af9a2848"
      },
      "source": [
        "df_projectst = df_projects[df_projects.active == 't']\n",
        "df_projectst.shape"
      ],
      "execution_count": null,
      "outputs": [
        {
          "output_type": "execute_result",
          "data": {
            "text/plain": [
              "(10351, 9)"
            ]
          },
          "metadata": {
            "tags": []
          },
          "execution_count": 181
        }
      ]
    },
    {
      "cell_type": "markdown",
      "metadata": {
        "id": "-7SgaI8QKij9"
      },
      "source": [
        "Final Shapes"
      ]
    },
    {
      "cell_type": "code",
      "metadata": {
        "colab": {
          "base_uri": "https://localhost:8080/"
        },
        "id": "oOTi3PDpyI6W",
        "outputId": "2b5ac4b5-c5f9-4b6b-9caa-0814d231b56c"
      },
      "source": [
        "df_exist_light.shape"
      ],
      "execution_count": null,
      "outputs": [
        {
          "output_type": "execute_result",
          "data": {
            "text/plain": [
              "(75031, 7)"
            ]
          },
          "metadata": {
            "tags": []
          },
          "execution_count": 182
        }
      ]
    },
    {
      "cell_type": "code",
      "metadata": {
        "colab": {
          "base_uri": "https://localhost:8080/"
        },
        "id": "_XQLudxmyLVh",
        "outputId": "c379b4fb-5060-4ff0-e5c4-a491a79e2b06"
      },
      "source": [
        "df_exist_fixture.shape"
      ],
      "execution_count": null,
      "outputs": [
        {
          "output_type": "execute_result",
          "data": {
            "text/plain": [
              "(176425, 5)"
            ]
          },
          "metadata": {
            "tags": []
          },
          "execution_count": 183
        }
      ]
    },
    {
      "cell_type": "code",
      "metadata": {
        "colab": {
          "base_uri": "https://localhost:8080/"
        },
        "id": "9EPn-OYgyOzV",
        "outputId": "b833b2cd-66c9-4231-d82c-c2098cce624b"
      },
      "source": [
        "df_areas.shape"
      ],
      "execution_count": null,
      "outputs": [
        {
          "output_type": "execute_result",
          "data": {
            "text/plain": [
              "(159612, 7)"
            ]
          },
          "metadata": {
            "tags": []
          },
          "execution_count": 184
        }
      ]
    },
    {
      "cell_type": "code",
      "metadata": {
        "colab": {
          "base_uri": "https://localhost:8080/"
        },
        "id": "E2gaZloryRxb",
        "outputId": "c1b5902e-bc2e-4764-aeb1-e019b5a4e25b"
      },
      "source": [
        "df_floor_plan.shape"
      ],
      "execution_count": null,
      "outputs": [
        {
          "output_type": "execute_result",
          "data": {
            "text/plain": [
              "(254, 5)"
            ]
          },
          "metadata": {
            "tags": []
          },
          "execution_count": 185
        }
      ]
    },
    {
      "cell_type": "code",
      "metadata": {
        "colab": {
          "base_uri": "https://localhost:8080/"
        },
        "id": "ilex7p5jyUTx",
        "outputId": "30ec6668-2b06-4738-fa71-d50170756a5f"
      },
      "source": [
        "df_operating_schedule.shape"
      ],
      "execution_count": null,
      "outputs": [
        {
          "output_type": "execute_result",
          "data": {
            "text/plain": [
              "(13239, 7)"
            ]
          },
          "metadata": {
            "tags": []
          },
          "execution_count": 186
        }
      ]
    },
    {
      "cell_type": "code",
      "metadata": {
        "colab": {
          "base_uri": "https://localhost:8080/"
        },
        "id": "m8TREFkcyWiz",
        "outputId": "6dd41af8-f720-4771-f9b1-4a4327dc4182"
      },
      "source": [
        "df_rate_schedule.shape"
      ],
      "execution_count": null,
      "outputs": [
        {
          "output_type": "execute_result",
          "data": {
            "text/plain": [
              "(6615, 6)"
            ]
          },
          "metadata": {
            "tags": []
          },
          "execution_count": 187
        }
      ]
    },
    {
      "cell_type": "code",
      "metadata": {
        "colab": {
          "base_uri": "https://localhost:8080/"
        },
        "id": "KLrT0ha3N2Td",
        "outputId": "df2ad96a-3b81-4739-dbb6-1a542d17f2de"
      },
      "source": [
        "df_proopts.shape"
      ],
      "execution_count": null,
      "outputs": [
        {
          "output_type": "execute_result",
          "data": {
            "text/plain": [
              "(9340, 7)"
            ]
          },
          "metadata": {
            "tags": []
          },
          "execution_count": 188
        }
      ]
    },
    {
      "cell_type": "code",
      "metadata": {
        "colab": {
          "base_uri": "https://localhost:8080/"
        },
        "id": "3Nf9lzreyYI9",
        "outputId": "ccfd6783-8783-442f-f95d-1e0fc65d7db9"
      },
      "source": [
        "df_solutions.shape"
      ],
      "execution_count": null,
      "outputs": [
        {
          "output_type": "execute_result",
          "data": {
            "text/plain": [
              "(66510, 11)"
            ]
          },
          "metadata": {
            "tags": []
          },
          "execution_count": 189
        }
      ]
    },
    {
      "cell_type": "code",
      "metadata": {
        "colab": {
          "base_uri": "https://localhost:8080/"
        },
        "id": "9mviBSgnyZrJ",
        "outputId": "2782863e-4204-479c-9675-91019b0399a4"
      },
      "source": [
        "df_option_calc_lighting.shape"
      ],
      "execution_count": null,
      "outputs": [
        {
          "output_type": "execute_result",
          "data": {
            "text/plain": [
              "(75227, 7)"
            ]
          },
          "metadata": {
            "tags": []
          },
          "execution_count": 190
        }
      ]
    },
    {
      "cell_type": "code",
      "metadata": {
        "colab": {
          "base_uri": "https://localhost:8080/"
        },
        "id": "XbJCIMehycCn",
        "outputId": "8804fa20-c941-4e08-8e8e-996fd8c1dbdc"
      },
      "source": [
        "df_option_calc_fixtures.shape"
      ],
      "execution_count": null,
      "outputs": [
        {
          "output_type": "execute_result",
          "data": {
            "text/plain": [
              "(390083, 21)"
            ]
          },
          "metadata": {
            "tags": []
          },
          "execution_count": 191
        }
      ]
    },
    {
      "cell_type": "code",
      "metadata": {
        "colab": {
          "base_uri": "https://localhost:8080/"
        },
        "id": "0-itZG0vNDVK",
        "outputId": "944e3a12-2e8b-4f96-f262-1d920747b385"
      },
      "source": [
        "df_projectst.shape"
      ],
      "execution_count": null,
      "outputs": [
        {
          "output_type": "execute_result",
          "data": {
            "text/plain": [
              "(10351, 9)"
            ]
          },
          "metadata": {
            "tags": []
          },
          "execution_count": 192
        }
      ]
    }
  ]
}
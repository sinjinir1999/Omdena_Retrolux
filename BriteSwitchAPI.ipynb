{
 "cells": [
  {
   "cell_type": "code",
   "execution_count": 1,
   "id": "0510b83b",
   "metadata": {},
   "outputs": [],
   "source": [
    "# !pip install requests"
   ]
  },
  {
   "cell_type": "code",
   "execution_count": 2,
   "id": "a168ae0f",
   "metadata": {},
   "outputs": [],
   "source": [
    "import requests\n",
    "import pandas as pd\n",
    "import json"
   ]
  },
  {
   "cell_type": "code",
   "execution_count": 3,
   "id": "ae6c7d5a",
   "metadata": {},
   "outputs": [],
   "source": [
    "def get_utility(zip_code):\n",
    "    \"\"\"Get the utility based on the zip code\"\"\"\n",
    "    #Formating request parameters\n",
    "    URL = \"https://www.briteswitch.com/rebatedirect/api/utility.php\"\n",
    "    HEADERS = {'Content-type': 'application/x-www-form-urlencoded; charset=utf-8'}\n",
    "    PARAMS = f'param=[\"zip\":\"{zip_code}\",\"key\":\"4976821649\"]'\n",
    "    PARAMS = PARAMS.replace(\"[\",\"{\").replace(\"]\",\"}\")\n",
    "    # sending POST request and saving the response as response object\n",
    "    r = requests.post(url = URL, \n",
    "                      data= PARAMS, \n",
    "                      headers = HEADERS \n",
    "                      )\n",
    "    # extracting data in json format\n",
    "    data = r.json()\n",
    "    return data"
   ]
  },
  {
   "cell_type": "code",
   "execution_count": 4,
   "id": "a1394d75",
   "metadata": {},
   "outputs": [
    {
     "data": {
      "text/plain": [
       "['City of Anaheim - CA', 'Southern California Edison Co - CA']"
      ]
     },
     "execution_count": 4,
     "metadata": {},
     "output_type": "execute_result"
    }
   ],
   "source": [
    "## Uncomment below code to test the above function\n",
    "get_utility(92801)"
   ]
  },
  {
   "cell_type": "code",
   "execution_count": 5,
   "id": "670af461",
   "metadata": {},
   "outputs": [],
   "source": [
    "def getall_energy_rate():\n",
    "    \"\"\"Get the energy rates for all the states\"\"\"\n",
    "    URL = \"https://www.briteswitch.com/rebatedirect/api/energyrate.php\"\n",
    "    HEADERS = {'Content-type': 'application/x-www-form-urlencoded; charset=utf-8'}\n",
    "    PARAMS = \"param={\\\"key\\\":\\\"4976821649\\\"}\"    \n",
    "    # sending POST request and saving the response as response object\n",
    "    r = requests.post(url = URL, \n",
    "                      data= PARAMS, \n",
    "                      headers = HEADERS \n",
    "                      )\n",
    "    # extracting data in json format\n",
    "    data = r.json()  \n",
    "    return data "
   ]
  },
  {
   "cell_type": "code",
   "execution_count": 6,
   "id": "af363db1",
   "metadata": {},
   "outputs": [],
   "source": [
    "## Uncomment below code to test the above function\n",
    "# getall_energy_rate()"
   ]
  },
  {
   "cell_type": "code",
   "execution_count": 7,
   "id": "3aa2221f",
   "metadata": {},
   "outputs": [],
   "source": [
    "def get_rebate(zip_code):\n",
    "    \"\"\" Check if a zip code has rebates \"\"\"\n",
    "    URL = \"https://www.briteswitch.com/rebatedirect/api/rebateavailable.php\"\n",
    "    HEADERS = {'Content-type': 'application/x-www-form-urlencoded; charset=utf-8'}\n",
    "    PARAMS = f'param=[\"zip\":\"{zip_code}\",\"key\":\"4976821649\"]'\n",
    "    PARAMS = PARAMS.replace(\"[\",\"{\").replace(\"]\",\"}\")\n",
    "    # sending POST request and saving the response as response object\n",
    "    r = requests.post(url = URL, \n",
    "                      data= PARAMS, \n",
    "                      headers = HEADERS \n",
    "                      )\n",
    "    # extracting data in json format\n",
    "    data = r.json()  \n",
    "    return data "
   ]
  },
  {
   "cell_type": "code",
   "execution_count": 8,
   "id": "7bc18ab3",
   "metadata": {},
   "outputs": [],
   "source": [
    "## Uncomment below code to test the above function\n",
    "# get_rebate(95117)"
   ]
  },
  {
   "cell_type": "code",
   "execution_count": 9,
   "id": "cd3bece9",
   "metadata": {},
   "outputs": [],
   "source": [
    "def get_rebate_details(utility_name):\n",
    "    \"\"\" Detailed info about rebates for specific utility company \"\"\"\n",
    "\n",
    "    URL = \"https://www.briteswitch.com/rebatedirect/api/calculaterebate.php\"\n",
    "    HEADERS = {'Content-type': 'application/x-www-form-urlencoded; charset=utf-8'}\n",
    "    PARAMS = f'param=[\"Utility\":\"{utility_name}\",\"key\":\"4976821649\"]'\n",
    "    PARAMS = PARAMS.replace(\"[\",\"{\").replace(\"]\",\"}\")\n",
    "    r = requests.post(url =URL, \n",
    "                      data= PARAMS, \n",
    "                      headers=HEADERS\n",
    "                      )\n",
    "    # extracting data in json format\n",
    "    data = r.json()  \n",
    "    return data"
   ]
  },
  {
   "cell_type": "code",
   "execution_count": 10,
   "id": "879ff6c2",
   "metadata": {},
   "outputs": [],
   "source": [
    "## Uncomment below code to test the above function\n",
    "# get_rebate_details(\"Southern California Edison Co - CA\")"
   ]
  },
  {
   "cell_type": "code",
   "execution_count": 11,
   "id": "22f95f7e",
   "metadata": {},
   "outputs": [],
   "source": [
    "#convert the output of the above cell to csv for further analysis\n",
    "rebate_detail = get_rebate_details(\"City of Anaheim - CA\")\n",
    "rebate_df = pd.DataFrame(rebate_detail)\n",
    "rebate_df.to_csv(\"rebate_CA1.csv\")"
   ]
  },
  {
   "cell_type": "code",
   "execution_count": 12,
   "id": "588db5d7",
   "metadata": {},
   "outputs": [],
   "source": [
    "#convert the output of the above cell to csv for further analysis\n",
    "rebate_detail = get_rebate_details(\"Southern California Edison Co - CA\")\n",
    "rebate_df = pd.DataFrame(rebate_detail)\n",
    "rebate_df.to_csv(\"rebate_CA2.csv\")"
   ]
  }
 ],
 "metadata": {
  "kernelspec": {
   "display_name": "Python 3",
   "language": "python",
   "name": "python3"
  },
  "language_info": {
   "codemirror_mode": {
    "name": "ipython",
    "version": 3
   },
   "file_extension": ".py",
   "mimetype": "text/x-python",
   "name": "python",
   "nbconvert_exporter": "python",
   "pygments_lexer": "ipython3",
   "version": "3.8.8"
  }
 },
 "nbformat": 4,
 "nbformat_minor": 5
}

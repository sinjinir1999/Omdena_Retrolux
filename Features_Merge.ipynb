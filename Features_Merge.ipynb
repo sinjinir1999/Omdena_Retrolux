{
  "nbformat": 4,
  "nbformat_minor": 0,
  "metadata": {
    "colab": {
      "name": "Features_Merge",
      "provenance": []
    },
    "kernelspec": {
      "name": "python3",
      "display_name": "Python 3"
    },
    "language_info": {
      "name": "python"
    },
    "accelerator": "GPU"
  },
  "cells": [
    {
      "cell_type": "code",
      "metadata": {
        "id": "9nrIUubcIdxu"
      },
      "source": [
        "import pandas as pd\n",
        "import seaborn as sns\n",
        "import numpy as np\n",
        "import matplotlib.pyplot as plt"
      ],
      "execution_count": 1,
      "outputs": []
    },
    {
      "cell_type": "code",
      "metadata": {
        "id": "zh6SL5VDI9Yq"
      },
      "source": [
        "p1 = pd.read_csv(\"/content/drive/MyDrive/Data/Retrolux_EDA_Subtask/features_01.csv\")\n",
        "p2 = pd.read_csv(\"/content/drive/MyDrive/Data/Retrolux_EDA_Subtask/features_02.csv\")"
      ],
      "execution_count": 2,
      "outputs": []
    },
    {
      "cell_type": "code",
      "metadata": {
        "id": "HARLSrMWSP7A"
      },
      "source": [
        "p_final = pd.read_csv(\"/content/drive/MyDrive/Data/Retrolux_EDA_Subtask/features_merge_final.csv\") # PostgreSQL Merged for comparision"
      ],
      "execution_count": 3,
      "outputs": []
    },
    {
      "cell_type": "code",
      "metadata": {
        "colab": {
          "base_uri": "https://localhost:8080/",
          "height": 467
        },
        "id": "hYQTS94eJGak",
        "outputId": "c38c5f8f-e999-48b9-d5ae-fd75227750a6"
      },
      "source": [
        "p1.head()"
      ],
      "execution_count": 4,
      "outputs": [
        {
          "output_type": "execute_result",
          "data": {
            "text/html": [
              "<div>\n",
              "<style scoped>\n",
              "    .dataframe tbody tr th:only-of-type {\n",
              "        vertical-align: middle;\n",
              "    }\n",
              "\n",
              "    .dataframe tbody tr th {\n",
              "        vertical-align: top;\n",
              "    }\n",
              "\n",
              "    .dataframe thead th {\n",
              "        text-align: right;\n",
              "    }\n",
              "</style>\n",
              "<table border=\"1\" class=\"dataframe\">\n",
              "  <thead>\n",
              "    <tr style=\"text-align: right;\">\n",
              "      <th></th>\n",
              "      <th>areas_id</th>\n",
              "      <th>sqft</th>\n",
              "      <th>avg_illuminace</th>\n",
              "      <th>project_id</th>\n",
              "      <th>area_count</th>\n",
              "      <th>min_brightness_level</th>\n",
              "      <th>code</th>\n",
              "      <th>location_id</th>\n",
              "      <th>company_id</th>\n",
              "      <th>project_name</th>\n",
              "      <th>company_project_status_id</th>\n",
              "      <th>project_active</th>\n",
              "      <th>facility_type_id</th>\n",
              "      <th>tax_rate_source</th>\n",
              "      <th>shipping_address_location</th>\n",
              "      <th>tax_exempt</th>\n",
              "      <th>operating_id</th>\n",
              "      <th>annual_hours</th>\n",
              "      <th>proposals_id</th>\n",
              "      <th>name</th>\n",
              "      <th>proposals_active</th>\n",
              "      <th>rate_schedule_id</th>\n",
              "      <th>kwh_cost</th>\n",
              "      <th>demand_utilization</th>\n",
              "      <th>rate_customer</th>\n",
              "      <th>rate_type</th>\n",
              "    </tr>\n",
              "  </thead>\n",
              "  <tbody>\n",
              "    <tr>\n",
              "      <th>0</th>\n",
              "      <td>30064</td>\n",
              "      <td>NaN</td>\n",
              "      <td>NaN</td>\n",
              "      <td>3307.0</td>\n",
              "      <td>1</td>\n",
              "      <td>NaN</td>\n",
              "      <td>2.0</td>\n",
              "      <td>NaN</td>\n",
              "      <td>355.0</td>\n",
              "      <td>The Merk - Columbia River Mercantile</td>\n",
              "      <td>3817.0</td>\n",
              "      <td>t</td>\n",
              "      <td>41.0</td>\n",
              "      <td>2.0</td>\n",
              "      <td>1.0</td>\n",
              "      <td>f</td>\n",
              "      <td>4642</td>\n",
              "      <td>2856.0</td>\n",
              "      <td>3372</td>\n",
              "      <td>Belly Coffee</td>\n",
              "      <td>t</td>\n",
              "      <td>2560</td>\n",
              "      <td>0.085129</td>\n",
              "      <td>100.0</td>\n",
              "      <td>0.0</td>\n",
              "      <td>blended</td>\n",
              "    </tr>\n",
              "    <tr>\n",
              "      <th>1</th>\n",
              "      <td>30064</td>\n",
              "      <td>NaN</td>\n",
              "      <td>NaN</td>\n",
              "      <td>3307.0</td>\n",
              "      <td>1</td>\n",
              "      <td>NaN</td>\n",
              "      <td>2.0</td>\n",
              "      <td>NaN</td>\n",
              "      <td>355.0</td>\n",
              "      <td>The Merk - Columbia River Mercantile</td>\n",
              "      <td>3817.0</td>\n",
              "      <td>t</td>\n",
              "      <td>41.0</td>\n",
              "      <td>2.0</td>\n",
              "      <td>1.0</td>\n",
              "      <td>f</td>\n",
              "      <td>4644</td>\n",
              "      <td>3927.0</td>\n",
              "      <td>3372</td>\n",
              "      <td>Belly Coffee</td>\n",
              "      <td>t</td>\n",
              "      <td>2560</td>\n",
              "      <td>0.085129</td>\n",
              "      <td>100.0</td>\n",
              "      <td>0.0</td>\n",
              "      <td>blended</td>\n",
              "    </tr>\n",
              "    <tr>\n",
              "      <th>2</th>\n",
              "      <td>30064</td>\n",
              "      <td>NaN</td>\n",
              "      <td>NaN</td>\n",
              "      <td>3307.0</td>\n",
              "      <td>1</td>\n",
              "      <td>NaN</td>\n",
              "      <td>2.0</td>\n",
              "      <td>NaN</td>\n",
              "      <td>355.0</td>\n",
              "      <td>The Merk - Columbia River Mercantile</td>\n",
              "      <td>3817.0</td>\n",
              "      <td>t</td>\n",
              "      <td>41.0</td>\n",
              "      <td>2.0</td>\n",
              "      <td>1.0</td>\n",
              "      <td>f</td>\n",
              "      <td>4643</td>\n",
              "      <td>8568.0</td>\n",
              "      <td>3372</td>\n",
              "      <td>Belly Coffee</td>\n",
              "      <td>t</td>\n",
              "      <td>2560</td>\n",
              "      <td>0.085129</td>\n",
              "      <td>100.0</td>\n",
              "      <td>0.0</td>\n",
              "      <td>blended</td>\n",
              "    </tr>\n",
              "    <tr>\n",
              "      <th>3</th>\n",
              "      <td>30064</td>\n",
              "      <td>NaN</td>\n",
              "      <td>NaN</td>\n",
              "      <td>3307.0</td>\n",
              "      <td>1</td>\n",
              "      <td>NaN</td>\n",
              "      <td>2.0</td>\n",
              "      <td>NaN</td>\n",
              "      <td>355.0</td>\n",
              "      <td>The Merk - Columbia River Mercantile</td>\n",
              "      <td>3817.0</td>\n",
              "      <td>t</td>\n",
              "      <td>41.0</td>\n",
              "      <td>2.0</td>\n",
              "      <td>1.0</td>\n",
              "      <td>f</td>\n",
              "      <td>4645</td>\n",
              "      <td>4284.0</td>\n",
              "      <td>3372</td>\n",
              "      <td>Belly Coffee</td>\n",
              "      <td>t</td>\n",
              "      <td>2560</td>\n",
              "      <td>0.085129</td>\n",
              "      <td>100.0</td>\n",
              "      <td>0.0</td>\n",
              "      <td>blended</td>\n",
              "    </tr>\n",
              "    <tr>\n",
              "      <th>4</th>\n",
              "      <td>30094</td>\n",
              "      <td>NaN</td>\n",
              "      <td>NaN</td>\n",
              "      <td>3307.0</td>\n",
              "      <td>1</td>\n",
              "      <td>NaN</td>\n",
              "      <td>24.0</td>\n",
              "      <td>NaN</td>\n",
              "      <td>355.0</td>\n",
              "      <td>The Merk - Columbia River Mercantile</td>\n",
              "      <td>3817.0</td>\n",
              "      <td>t</td>\n",
              "      <td>41.0</td>\n",
              "      <td>2.0</td>\n",
              "      <td>1.0</td>\n",
              "      <td>f</td>\n",
              "      <td>4642</td>\n",
              "      <td>2856.0</td>\n",
              "      <td>3372</td>\n",
              "      <td>Belly Coffee</td>\n",
              "      <td>t</td>\n",
              "      <td>2560</td>\n",
              "      <td>0.085129</td>\n",
              "      <td>100.0</td>\n",
              "      <td>0.0</td>\n",
              "      <td>blended</td>\n",
              "    </tr>\n",
              "  </tbody>\n",
              "</table>\n",
              "</div>"
            ],
            "text/plain": [
              "   areas_id  sqft  avg_illuminace  ...  demand_utilization  rate_customer  rate_type\n",
              "0     30064   NaN             NaN  ...               100.0            0.0    blended\n",
              "1     30064   NaN             NaN  ...               100.0            0.0    blended\n",
              "2     30064   NaN             NaN  ...               100.0            0.0    blended\n",
              "3     30064   NaN             NaN  ...               100.0            0.0    blended\n",
              "4     30094   NaN             NaN  ...               100.0            0.0    blended\n",
              "\n",
              "[5 rows x 26 columns]"
            ]
          },
          "metadata": {
            "tags": []
          },
          "execution_count": 4
        }
      ]
    },
    {
      "cell_type": "code",
      "metadata": {
        "colab": {
          "base_uri": "https://localhost:8080/"
        },
        "id": "dOINF42YJOsS",
        "outputId": "58d97668-71f4-49cc-a7ad-deac4ede0fb3"
      },
      "source": [
        "p1.info()"
      ],
      "execution_count": 5,
      "outputs": [
        {
          "output_type": "stream",
          "text": [
            "<class 'pandas.core.frame.DataFrame'>\n",
            "RangeIndex: 1380567 entries, 0 to 1380566\n",
            "Data columns (total 26 columns):\n",
            " #   Column                     Non-Null Count    Dtype  \n",
            "---  ------                     --------------    -----  \n",
            " 0   areas_id                   1380567 non-null  int64  \n",
            " 1   sqft                       6837 non-null     float64\n",
            " 2   avg_illuminace             2044 non-null     float64\n",
            " 3   project_id                 1380567 non-null  float64\n",
            " 4   area_count                 1380567 non-null  int64  \n",
            " 5   min_brightness_level       62 non-null       float64\n",
            " 6   code                       1380567 non-null  float64\n",
            " 7   location_id                287111 non-null   float64\n",
            " 8   company_id                 1380567 non-null  float64\n",
            " 9   project_name               1380567 non-null  object \n",
            " 10  company_project_status_id  1380567 non-null  float64\n",
            " 11  project_active             1380567 non-null  object \n",
            " 12  facility_type_id           886912 non-null   float64\n",
            " 13  tax_rate_source            1379727 non-null  float64\n",
            " 14  shipping_address_location  1231177 non-null  float64\n",
            " 15  tax_exempt                 1380459 non-null  object \n",
            " 16  operating_id               1380567 non-null  int64  \n",
            " 17  annual_hours               1380567 non-null  float64\n",
            " 18  proposals_id               1380567 non-null  int64  \n",
            " 19  name                       1380567 non-null  object \n",
            " 20  proposals_active           1380567 non-null  object \n",
            " 21  rate_schedule_id           1380567 non-null  int64  \n",
            " 22  kwh_cost                   1338592 non-null  float64\n",
            " 23  demand_utilization         1380566 non-null  float64\n",
            " 24  rate_customer              1380566 non-null  float64\n",
            " 25  rate_type                  1380566 non-null  object \n",
            "dtypes: float64(15), int64(5), object(6)\n",
            "memory usage: 273.9+ MB\n"
          ],
          "name": "stdout"
        }
      ]
    },
    {
      "cell_type": "code",
      "metadata": {
        "colab": {
          "base_uri": "https://localhost:8080/"
        },
        "id": "-3nzQvvvHeDn",
        "outputId": "a6b140d1-6712-4c56-85d8-a98b28be4266"
      },
      "source": [
        "p1.nunique()"
      ],
      "execution_count": 6,
      "outputs": [
        {
          "output_type": "execute_result",
          "data": {
            "text/plain": [
              "areas_id                     83193\n",
              "sqft                           181\n",
              "avg_illuminace                  64\n",
              "project_id                    5834\n",
              "area_count                       1\n",
              "min_brightness_level             4\n",
              "code                          1767\n",
              "location_id                    723\n",
              "company_id                     311\n",
              "project_name                  5741\n",
              "company_project_status_id      663\n",
              "project_active                   2\n",
              "facility_type_id                60\n",
              "tax_rate_source                  2\n",
              "shipping_address_location        3\n",
              "tax_exempt                       2\n",
              "operating_id                 11301\n",
              "annual_hours                   950\n",
              "proposals_id                  9024\n",
              "name                          2510\n",
              "proposals_active                 2\n",
              "rate_schedule_id              6307\n",
              "kwh_cost                       569\n",
              "demand_utilization               5\n",
              "rate_customer                   14\n",
              "rate_type                        2\n",
              "dtype: int64"
            ]
          },
          "metadata": {
            "tags": []
          },
          "execution_count": 6
        }
      ]
    },
    {
      "cell_type": "code",
      "metadata": {
        "colab": {
          "base_uri": "https://localhost:8080/",
          "height": 215
        },
        "id": "O5AuAIdxJKxp",
        "outputId": "28b53521-7328-4679-981d-7271c6fa0edf"
      },
      "source": [
        "p2.head()"
      ],
      "execution_count": 7,
      "outputs": [
        {
          "output_type": "execute_result",
          "data": {
            "text/html": [
              "<div>\n",
              "<style scoped>\n",
              "    .dataframe tbody tr th:only-of-type {\n",
              "        vertical-align: middle;\n",
              "    }\n",
              "\n",
              "    .dataframe tbody tr th {\n",
              "        vertical-align: top;\n",
              "    }\n",
              "\n",
              "    .dataframe thead th {\n",
              "        text-align: right;\n",
              "    }\n",
              "</style>\n",
              "<table border=\"1\" class=\"dataframe\">\n",
              "  <thead>\n",
              "    <tr style=\"text-align: right;\">\n",
              "      <th></th>\n",
              "      <th>option_id</th>\n",
              "      <th>project_id</th>\n",
              "      <th>solution_id</th>\n",
              "      <th>name</th>\n",
              "      <th>existing_count_solutions</th>\n",
              "      <th>active</th>\n",
              "      <th>created_by_user_id</th>\n",
              "      <th>incentive_type</th>\n",
              "      <th>product_count</th>\n",
              "      <th>existing_lighting_id</th>\n",
              "      <th>proposal_options_id</th>\n",
              "      <th>proposal_id</th>\n",
              "      <th>area_id</th>\n",
              "      <th>existing_count_exlight</th>\n",
              "      <th>replacement_count</th>\n",
              "      <th>watts_per_product</th>\n",
              "      <th>option_calc_light_id</th>\n",
              "      <th>existing_quantity</th>\n",
              "      <th>proposed_quantity</th>\n",
              "    </tr>\n",
              "  </thead>\n",
              "  <tbody>\n",
              "    <tr>\n",
              "      <th>0</th>\n",
              "      <td>38</td>\n",
              "      <td>75</td>\n",
              "      <td>NaN</td>\n",
              "      <td>NaN</td>\n",
              "      <td>NaN</td>\n",
              "      <td>NaN</td>\n",
              "      <td>NaN</td>\n",
              "      <td>NaN</td>\n",
              "      <td>NaN</td>\n",
              "      <td>NaN</td>\n",
              "      <td>NaN</td>\n",
              "      <td>NaN</td>\n",
              "      <td>NaN</td>\n",
              "      <td>NaN</td>\n",
              "      <td>8.0</td>\n",
              "      <td>150.0</td>\n",
              "      <td>NaN</td>\n",
              "      <td>NaN</td>\n",
              "      <td>NaN</td>\n",
              "    </tr>\n",
              "    <tr>\n",
              "      <th>1</th>\n",
              "      <td>38</td>\n",
              "      <td>75</td>\n",
              "      <td>NaN</td>\n",
              "      <td>NaN</td>\n",
              "      <td>NaN</td>\n",
              "      <td>NaN</td>\n",
              "      <td>NaN</td>\n",
              "      <td>NaN</td>\n",
              "      <td>NaN</td>\n",
              "      <td>NaN</td>\n",
              "      <td>NaN</td>\n",
              "      <td>NaN</td>\n",
              "      <td>NaN</td>\n",
              "      <td>NaN</td>\n",
              "      <td>1.0</td>\n",
              "      <td>18.7</td>\n",
              "      <td>NaN</td>\n",
              "      <td>NaN</td>\n",
              "      <td>NaN</td>\n",
              "    </tr>\n",
              "    <tr>\n",
              "      <th>2</th>\n",
              "      <td>38</td>\n",
              "      <td>75</td>\n",
              "      <td>NaN</td>\n",
              "      <td>NaN</td>\n",
              "      <td>NaN</td>\n",
              "      <td>NaN</td>\n",
              "      <td>NaN</td>\n",
              "      <td>NaN</td>\n",
              "      <td>NaN</td>\n",
              "      <td>NaN</td>\n",
              "      <td>NaN</td>\n",
              "      <td>NaN</td>\n",
              "      <td>NaN</td>\n",
              "      <td>NaN</td>\n",
              "      <td>1.0</td>\n",
              "      <td>18.7</td>\n",
              "      <td>NaN</td>\n",
              "      <td>NaN</td>\n",
              "      <td>NaN</td>\n",
              "    </tr>\n",
              "    <tr>\n",
              "      <th>3</th>\n",
              "      <td>38</td>\n",
              "      <td>75</td>\n",
              "      <td>NaN</td>\n",
              "      <td>NaN</td>\n",
              "      <td>NaN</td>\n",
              "      <td>NaN</td>\n",
              "      <td>NaN</td>\n",
              "      <td>NaN</td>\n",
              "      <td>NaN</td>\n",
              "      <td>NaN</td>\n",
              "      <td>NaN</td>\n",
              "      <td>NaN</td>\n",
              "      <td>NaN</td>\n",
              "      <td>NaN</td>\n",
              "      <td>10.0</td>\n",
              "      <td>72.0</td>\n",
              "      <td>NaN</td>\n",
              "      <td>NaN</td>\n",
              "      <td>NaN</td>\n",
              "    </tr>\n",
              "    <tr>\n",
              "      <th>4</th>\n",
              "      <td>49</td>\n",
              "      <td>80</td>\n",
              "      <td>NaN</td>\n",
              "      <td>NaN</td>\n",
              "      <td>NaN</td>\n",
              "      <td>NaN</td>\n",
              "      <td>NaN</td>\n",
              "      <td>NaN</td>\n",
              "      <td>NaN</td>\n",
              "      <td>NaN</td>\n",
              "      <td>NaN</td>\n",
              "      <td>NaN</td>\n",
              "      <td>NaN</td>\n",
              "      <td>NaN</td>\n",
              "      <td>8.0</td>\n",
              "      <td>150.0</td>\n",
              "      <td>NaN</td>\n",
              "      <td>NaN</td>\n",
              "      <td>NaN</td>\n",
              "    </tr>\n",
              "  </tbody>\n",
              "</table>\n",
              "</div>"
            ],
            "text/plain": [
              "   option_id  project_id  ...  existing_quantity proposed_quantity\n",
              "0         38          75  ...                NaN               NaN\n",
              "1         38          75  ...                NaN               NaN\n",
              "2         38          75  ...                NaN               NaN\n",
              "3         38          75  ...                NaN               NaN\n",
              "4         49          80  ...                NaN               NaN\n",
              "\n",
              "[5 rows x 19 columns]"
            ]
          },
          "metadata": {
            "tags": []
          },
          "execution_count": 7
        }
      ]
    },
    {
      "cell_type": "code",
      "metadata": {
        "colab": {
          "base_uri": "https://localhost:8080/"
        },
        "id": "61rTwxxWJVc6",
        "outputId": "2427fd43-fcb3-42c1-f129-11963d94a0dc"
      },
      "source": [
        "p2.info()"
      ],
      "execution_count": 8,
      "outputs": [
        {
          "output_type": "stream",
          "text": [
            "<class 'pandas.core.frame.DataFrame'>\n",
            "RangeIndex: 93967 entries, 0 to 93966\n",
            "Data columns (total 19 columns):\n",
            " #   Column                    Non-Null Count  Dtype  \n",
            "---  ------                    --------------  -----  \n",
            " 0   option_id                 93967 non-null  int64  \n",
            " 1   project_id                93967 non-null  int64  \n",
            " 2   solution_id               90947 non-null  float64\n",
            " 3   name                      90944 non-null  object \n",
            " 4   existing_count_solutions  90947 non-null  float64\n",
            " 5   active                    90947 non-null  object \n",
            " 6   created_by_user_id        90947 non-null  float64\n",
            " 7   incentive_type            90939 non-null  float64\n",
            " 8   product_count             90947 non-null  float64\n",
            " 9   existing_lighting_id      54377 non-null  float64\n",
            " 10  proposal_options_id       93600 non-null  float64\n",
            " 11  proposal_id               93600 non-null  float64\n",
            " 12  area_id                   14365 non-null  float64\n",
            " 13  existing_count_exlight    14365 non-null  float64\n",
            " 14  replacement_count         68574 non-null  float64\n",
            " 15  watts_per_product         68574 non-null  float64\n",
            " 16  option_calc_light_id      43811 non-null  float64\n",
            " 17  existing_quantity         43811 non-null  float64\n",
            " 18  proposed_quantity         43811 non-null  float64\n",
            "dtypes: float64(15), int64(2), object(2)\n",
            "memory usage: 13.6+ MB\n"
          ],
          "name": "stdout"
        }
      ]
    },
    {
      "cell_type": "code",
      "metadata": {
        "colab": {
          "base_uri": "https://localhost:8080/"
        },
        "id": "ZIK24KTXHkER",
        "outputId": "b2bb3f75-7c09-4659-a564-574e708e61cc"
      },
      "source": [
        "p2.nunique()"
      ],
      "execution_count": 9,
      "outputs": [
        {
          "output_type": "execute_result",
          "data": {
            "text/plain": [
              "option_id                    9942\n",
              "project_id                   6610\n",
              "solution_id                 82461\n",
              "name                        20957\n",
              "existing_count_solutions      176\n",
              "active                          2\n",
              "created_by_user_id            373\n",
              "incentive_type                  5\n",
              "product_count                 164\n",
              "existing_lighting_id        22363\n",
              "proposal_options_id         10007\n",
              "proposal_id                  9908\n",
              "area_id                        82\n",
              "existing_count_exlight        449\n",
              "replacement_count            1097\n",
              "watts_per_product            1207\n",
              "option_calc_light_id        41207\n",
              "existing_quantity             748\n",
              "proposed_quantity             893\n",
              "dtype: int64"
            ]
          },
          "metadata": {
            "tags": []
          },
          "execution_count": 9
        }
      ]
    },
    {
      "cell_type": "code",
      "metadata": {
        "colab": {
          "base_uri": "https://localhost:8080/"
        },
        "id": "X3nTziXkS7uN",
        "outputId": "b3135a18-5a3b-42f1-9f43-b07e069fc41e"
      },
      "source": [
        "p_final.info()"
      ],
      "execution_count": 10,
      "outputs": [
        {
          "output_type": "stream",
          "text": [
            "<class 'pandas.core.frame.DataFrame'>\n",
            "RangeIndex: 12729 entries, 0 to 12728\n",
            "Data columns (total 38 columns):\n",
            " #   Column                     Non-Null Count  Dtype  \n",
            "---  ------                     --------------  -----  \n",
            " 0   project_id                 12729 non-null  int64  \n",
            " 1   option_id                  12375 non-null  float64\n",
            " 2   option_calculation_id      6222 non-null   float64\n",
            " 3   company_id                 12729 non-null  int64  \n",
            " 4   projects_name              12729 non-null  object \n",
            " 5   facility_type_id           6139 non-null   float64\n",
            " 6   facility_type              6139 non-null   object \n",
            " 7   tax_rate_source            12687 non-null  float64\n",
            " 8   finance_discount_rate      12729 non-null  int64  \n",
            " 9   tax_exempt                 12723 non-null  object \n",
            " 10  active                     12729 non-null  bool   \n",
            " 11  area_count                 12729 non-null  int64  \n",
            " 12  area_count_sum             12727 non-null  float64\n",
            " 13  ave_annual_hours           11517 non-null  float64\n",
            " 14  monday_ave_daily_hours     11967 non-null  float64\n",
            " 15  tuesday_ave_daily_hours    11967 non-null  float64\n",
            " 16  wednesday_ave_daily_hours  11967 non-null  float64\n",
            " 17  thursday_ave_daily_hours   11961 non-null  float64\n",
            " 18  friday_ave_daily_hours     11961 non-null  float64\n",
            " 19  saturday_ave_daily_hours   11967 non-null  float64\n",
            " 20  sunday_ave_daily_hours     11967 non-null  float64\n",
            " 21  ave_weeks_per_year         11967 non-null  float64\n",
            " 22  hour_type                  12219 non-null  float64\n",
            " 23  max_kwh_cost               11813 non-null  float64\n",
            " 24  max_kwh_cost_simple        195 non-null    float64\n",
            " 25  existing_lighting_count    12729 non-null  int64  \n",
            " 26  total_watts_per_product    12530 non-null  float64\n",
            " 27  ave_lm70                   12530 non-null  float64\n",
            " 28  total_solution_count       12729 non-null  int64  \n",
            " 29  total_existing_quantity    6222 non-null   float64\n",
            " 30  total_proposed_quantity    6222 non-null   float64\n",
            " 31  total_replacement_count    9805 non-null   float64\n",
            " 32  total_fixture_watts        9805 non-null   float64\n",
            " 33  total_fixture_watt_hours   9805 non-null   float64\n",
            " 34  total_fixture_life_years   9805 non-null   float64\n",
            " 35  total_item_watts           9805 non-null   float64\n",
            " 36  sol_total_existing_count   12729 non-null  int64  \n",
            " 37  total_product_count        12729 non-null  int64  \n",
            "dtypes: bool(1), float64(26), int64(8), object(3)\n",
            "memory usage: 3.6+ MB\n"
          ],
          "name": "stdout"
        }
      ]
    },
    {
      "cell_type": "code",
      "metadata": {
        "colab": {
          "base_uri": "https://localhost:8080/"
        },
        "id": "DH_VqXTjTA8T",
        "outputId": "0dce2ab8-862a-49c7-85b6-df4505045b83"
      },
      "source": [
        "p_final.shape"
      ],
      "execution_count": 11,
      "outputs": [
        {
          "output_type": "execute_result",
          "data": {
            "text/plain": [
              "(12729, 38)"
            ]
          },
          "metadata": {
            "tags": []
          },
          "execution_count": 11
        }
      ]
    },
    {
      "cell_type": "markdown",
      "metadata": {
        "id": "1Er16EOeYlUF"
      },
      "source": [
        "# **Aggregations**"
      ]
    },
    {
      "cell_type": "code",
      "metadata": {
        "colab": {
          "base_uri": "https://localhost:8080/"
        },
        "id": "lnbgDzmfeP-P",
        "outputId": "9f79c226-1b94-4ae8-b769-cad3b4ed227b"
      },
      "source": [
        "p1.columns"
      ],
      "execution_count": 12,
      "outputs": [
        {
          "output_type": "execute_result",
          "data": {
            "text/plain": [
              "Index(['areas_id', 'sqft', 'avg_illuminace', 'project_id', 'area_count',\n",
              "       'min_brightness_level', 'code', 'location_id', 'company_id',\n",
              "       'project_name', 'company_project_status_id', 'project_active',\n",
              "       'facility_type_id', 'tax_rate_source', 'shipping_address_location',\n",
              "       'tax_exempt', 'operating_id', 'annual_hours', 'proposals_id', 'name',\n",
              "       'proposals_active', 'rate_schedule_id', 'kwh_cost',\n",
              "       'demand_utilization', 'rate_customer', 'rate_type'],\n",
              "      dtype='object')"
            ]
          },
          "metadata": {
            "tags": []
          },
          "execution_count": 12
        }
      ]
    },
    {
      "cell_type": "code",
      "metadata": {
        "colab": {
          "base_uri": "https://localhost:8080/"
        },
        "id": "V83EedT4Yo5X",
        "outputId": "cef6038c-b47d-47a0-8a88-c7e90c5f0fa5"
      },
      "source": [
        "group1 = p1.groupby('project_id')['areas_id', 'sqft', 'avg_illuminace', 'area_count',\n",
        "       'min_brightness_level', 'code', 'location_id', 'company_id',\n",
        "       'project_name', 'company_project_status_id', 'project_active',\n",
        "       'facility_type_id', 'tax_rate_source', 'shipping_address_location',\n",
        "       'tax_exempt', 'operating_id', 'annual_hours', 'proposals_id', 'name',\n",
        "       'proposals_active', 'rate_schedule_id', 'kwh_cost',\n",
        "       'demand_utilization', 'rate_customer', 'rate_type'].sum().reset_index()"
      ],
      "execution_count": 15,
      "outputs": [
        {
          "output_type": "stream",
          "text": [
            "/usr/local/lib/python3.7/dist-packages/ipykernel_launcher.py:1: FutureWarning: Indexing with multiple keys (implicitly converted to a tuple of keys) will be deprecated, use a list instead.\n",
            "  \"\"\"Entry point for launching an IPython kernel.\n"
          ],
          "name": "stderr"
        }
      ]
    },
    {
      "cell_type": "code",
      "metadata": {
        "id": "ep86mTvBACGw"
      },
      "source": [
        "operations = p1.groupby('project_id').agg(\n",
        "    area_counts = (\"areas_id\", \"count\"),\n",
        "    area_counts_sum = (\"areas_id\", \"sum\"),\n",
        "    ave_annual_hours = (\"annual_hours\", \"mean\"),\n",
        "    max_kwh_cost = (\"kwh_cost\", \"max\")\n",
        ")"
      ],
      "execution_count": 13,
      "outputs": []
    },
    {
      "cell_type": "code",
      "metadata": {
        "colab": {
          "base_uri": "https://localhost:8080/",
          "height": 431
        },
        "id": "IXU8MGKFA9_N",
        "outputId": "8b2c76a9-b6af-4ddf-c25a-b1671461fe1d"
      },
      "source": [
        "operations"
      ],
      "execution_count": 14,
      "outputs": [
        {
          "output_type": "execute_result",
          "data": {
            "text/html": [
              "<div>\n",
              "<style scoped>\n",
              "    .dataframe tbody tr th:only-of-type {\n",
              "        vertical-align: middle;\n",
              "    }\n",
              "\n",
              "    .dataframe tbody tr th {\n",
              "        vertical-align: top;\n",
              "    }\n",
              "\n",
              "    .dataframe thead th {\n",
              "        text-align: right;\n",
              "    }\n",
              "</style>\n",
              "<table border=\"1\" class=\"dataframe\">\n",
              "  <thead>\n",
              "    <tr style=\"text-align: right;\">\n",
              "      <th></th>\n",
              "      <th>area_counts</th>\n",
              "      <th>area_counts_sum</th>\n",
              "      <th>ave_annual_hours</th>\n",
              "      <th>max_kwh_cost</th>\n",
              "    </tr>\n",
              "    <tr>\n",
              "      <th>project_id</th>\n",
              "      <th></th>\n",
              "      <th></th>\n",
              "      <th></th>\n",
              "      <th></th>\n",
              "    </tr>\n",
              "  </thead>\n",
              "  <tbody>\n",
              "    <tr>\n",
              "      <th>2.0</th>\n",
              "      <td>3</td>\n",
              "      <td>39</td>\n",
              "      <td>12.000000</td>\n",
              "      <td>0.12000</td>\n",
              "    </tr>\n",
              "    <tr>\n",
              "      <th>5.0</th>\n",
              "      <td>7</td>\n",
              "      <td>396</td>\n",
              "      <td>8760.000000</td>\n",
              "      <td>0.08000</td>\n",
              "    </tr>\n",
              "    <tr>\n",
              "      <th>6.0</th>\n",
              "      <td>8</td>\n",
              "      <td>40</td>\n",
              "      <td>2920.000000</td>\n",
              "      <td>0.18000</td>\n",
              "    </tr>\n",
              "    <tr>\n",
              "      <th>7.0</th>\n",
              "      <td>6</td>\n",
              "      <td>51</td>\n",
              "      <td>8760.000000</td>\n",
              "      <td>0.07234</td>\n",
              "    </tr>\n",
              "    <tr>\n",
              "      <th>8.0</th>\n",
              "      <td>1</td>\n",
              "      <td>1948</td>\n",
              "      <td>1000.000000</td>\n",
              "      <td>0.10000</td>\n",
              "    </tr>\n",
              "    <tr>\n",
              "      <th>...</th>\n",
              "      <td>...</td>\n",
              "      <td>...</td>\n",
              "      <td>...</td>\n",
              "      <td>...</td>\n",
              "    </tr>\n",
              "    <tr>\n",
              "      <th>12131.0</th>\n",
              "      <td>24</td>\n",
              "      <td>4013892</td>\n",
              "      <td>3106.666667</td>\n",
              "      <td>NaN</td>\n",
              "    </tr>\n",
              "    <tr>\n",
              "      <th>12132.0</th>\n",
              "      <td>8</td>\n",
              "      <td>1337914</td>\n",
              "      <td>6044.000000</td>\n",
              "      <td>0.10000</td>\n",
              "    </tr>\n",
              "    <tr>\n",
              "      <th>12133.0</th>\n",
              "      <td>4</td>\n",
              "      <td>669094</td>\n",
              "      <td>5940.000000</td>\n",
              "      <td>0.15000</td>\n",
              "    </tr>\n",
              "    <tr>\n",
              "      <th>12138.0</th>\n",
              "      <td>1</td>\n",
              "      <td>167307</td>\n",
              "      <td>2754.000000</td>\n",
              "      <td>0.10000</td>\n",
              "    </tr>\n",
              "    <tr>\n",
              "      <th>12143.0</th>\n",
              "      <td>1</td>\n",
              "      <td>167404</td>\n",
              "      <td>5000.000000</td>\n",
              "      <td>0.08000</td>\n",
              "    </tr>\n",
              "  </tbody>\n",
              "</table>\n",
              "<p>5834 rows × 4 columns</p>\n",
              "</div>"
            ],
            "text/plain": [
              "            area_counts  area_counts_sum  ave_annual_hours  max_kwh_cost\n",
              "project_id                                                              \n",
              "2.0                   3               39         12.000000       0.12000\n",
              "5.0                   7              396       8760.000000       0.08000\n",
              "6.0                   8               40       2920.000000       0.18000\n",
              "7.0                   6               51       8760.000000       0.07234\n",
              "8.0                   1             1948       1000.000000       0.10000\n",
              "...                 ...              ...               ...           ...\n",
              "12131.0              24          4013892       3106.666667           NaN\n",
              "12132.0               8          1337914       6044.000000       0.10000\n",
              "12133.0               4           669094       5940.000000       0.15000\n",
              "12138.0               1           167307       2754.000000       0.10000\n",
              "12143.0               1           167404       5000.000000       0.08000\n",
              "\n",
              "[5834 rows x 4 columns]"
            ]
          },
          "metadata": {
            "tags": []
          },
          "execution_count": 14
        }
      ]
    },
    {
      "cell_type": "code",
      "metadata": {
        "id": "hvNsyCOy_NHz"
      },
      "source": [
        "group1 = (pd.merge(group1, operations, on = 'project_id',how='left'))"
      ],
      "execution_count": 16,
      "outputs": []
    },
    {
      "cell_type": "code",
      "metadata": {
        "colab": {
          "base_uri": "https://localhost:8080/",
          "height": 215
        },
        "id": "8jkiBCCEgT7J",
        "outputId": "c2694b4d-8b3b-490e-fa0e-8ab375ffb86d"
      },
      "source": [
        "group1.head()"
      ],
      "execution_count": 17,
      "outputs": [
        {
          "output_type": "execute_result",
          "data": {
            "text/html": [
              "<div>\n",
              "<style scoped>\n",
              "    .dataframe tbody tr th:only-of-type {\n",
              "        vertical-align: middle;\n",
              "    }\n",
              "\n",
              "    .dataframe tbody tr th {\n",
              "        vertical-align: top;\n",
              "    }\n",
              "\n",
              "    .dataframe thead th {\n",
              "        text-align: right;\n",
              "    }\n",
              "</style>\n",
              "<table border=\"1\" class=\"dataframe\">\n",
              "  <thead>\n",
              "    <tr style=\"text-align: right;\">\n",
              "      <th></th>\n",
              "      <th>project_id</th>\n",
              "      <th>areas_id</th>\n",
              "      <th>sqft</th>\n",
              "      <th>avg_illuminace</th>\n",
              "      <th>area_count</th>\n",
              "      <th>min_brightness_level</th>\n",
              "      <th>code</th>\n",
              "      <th>location_id</th>\n",
              "      <th>company_id</th>\n",
              "      <th>company_project_status_id</th>\n",
              "      <th>facility_type_id</th>\n",
              "      <th>tax_rate_source</th>\n",
              "      <th>shipping_address_location</th>\n",
              "      <th>operating_id</th>\n",
              "      <th>annual_hours</th>\n",
              "      <th>proposals_id</th>\n",
              "      <th>rate_schedule_id</th>\n",
              "      <th>kwh_cost</th>\n",
              "      <th>demand_utilization</th>\n",
              "      <th>rate_customer</th>\n",
              "      <th>area_counts</th>\n",
              "      <th>area_counts_sum</th>\n",
              "      <th>ave_annual_hours</th>\n",
              "      <th>max_kwh_cost</th>\n",
              "    </tr>\n",
              "  </thead>\n",
              "  <tbody>\n",
              "    <tr>\n",
              "      <th>0</th>\n",
              "      <td>2.0</td>\n",
              "      <td>39</td>\n",
              "      <td>4100.0</td>\n",
              "      <td>0.0</td>\n",
              "      <td>3</td>\n",
              "      <td>0.0</td>\n",
              "      <td>6.0</td>\n",
              "      <td>0.0</td>\n",
              "      <td>12.0</td>\n",
              "      <td>3.0</td>\n",
              "      <td>186.0</td>\n",
              "      <td>0.0</td>\n",
              "      <td>0.0</td>\n",
              "      <td>3</td>\n",
              "      <td>36.0</td>\n",
              "      <td>3</td>\n",
              "      <td>3</td>\n",
              "      <td>0.36000</td>\n",
              "      <td>300.0</td>\n",
              "      <td>0.0</td>\n",
              "      <td>3</td>\n",
              "      <td>39</td>\n",
              "      <td>12.0</td>\n",
              "      <td>0.12000</td>\n",
              "    </tr>\n",
              "    <tr>\n",
              "      <th>1</th>\n",
              "      <td>5.0</td>\n",
              "      <td>396</td>\n",
              "      <td>5100.0</td>\n",
              "      <td>0.0</td>\n",
              "      <td>7</td>\n",
              "      <td>0.0</td>\n",
              "      <td>28.0</td>\n",
              "      <td>0.0</td>\n",
              "      <td>49.0</td>\n",
              "      <td>154.0</td>\n",
              "      <td>0.0</td>\n",
              "      <td>0.0</td>\n",
              "      <td>0.0</td>\n",
              "      <td>28</td>\n",
              "      <td>61320.0</td>\n",
              "      <td>14</td>\n",
              "      <td>14</td>\n",
              "      <td>0.56000</td>\n",
              "      <td>700.0</td>\n",
              "      <td>0.0</td>\n",
              "      <td>7</td>\n",
              "      <td>396</td>\n",
              "      <td>8760.0</td>\n",
              "      <td>0.08000</td>\n",
              "    </tr>\n",
              "    <tr>\n",
              "      <th>2</th>\n",
              "      <td>6.0</td>\n",
              "      <td>40</td>\n",
              "      <td>0.0</td>\n",
              "      <td>0.0</td>\n",
              "      <td>8</td>\n",
              "      <td>0.0</td>\n",
              "      <td>8.0</td>\n",
              "      <td>0.0</td>\n",
              "      <td>64.0</td>\n",
              "      <td>208.0</td>\n",
              "      <td>280.0</td>\n",
              "      <td>0.0</td>\n",
              "      <td>0.0</td>\n",
              "      <td>52</td>\n",
              "      <td>23360.0</td>\n",
              "      <td>24</td>\n",
              "      <td>28</td>\n",
              "      <td>0.72000</td>\n",
              "      <td>800.0</td>\n",
              "      <td>0.0</td>\n",
              "      <td>8</td>\n",
              "      <td>40</td>\n",
              "      <td>2920.0</td>\n",
              "      <td>0.18000</td>\n",
              "    </tr>\n",
              "    <tr>\n",
              "      <th>3</th>\n",
              "      <td>7.0</td>\n",
              "      <td>51</td>\n",
              "      <td>0.0</td>\n",
              "      <td>0.0</td>\n",
              "      <td>6</td>\n",
              "      <td>0.0</td>\n",
              "      <td>21.0</td>\n",
              "      <td>0.0</td>\n",
              "      <td>60.0</td>\n",
              "      <td>234.0</td>\n",
              "      <td>0.0</td>\n",
              "      <td>0.0</td>\n",
              "      <td>0.0</td>\n",
              "      <td>102</td>\n",
              "      <td>52560.0</td>\n",
              "      <td>24</td>\n",
              "      <td>72</td>\n",
              "      <td>0.43404</td>\n",
              "      <td>600.0</td>\n",
              "      <td>0.0</td>\n",
              "      <td>6</td>\n",
              "      <td>51</td>\n",
              "      <td>8760.0</td>\n",
              "      <td>0.07234</td>\n",
              "    </tr>\n",
              "    <tr>\n",
              "      <th>4</th>\n",
              "      <td>8.0</td>\n",
              "      <td>1948</td>\n",
              "      <td>0.0</td>\n",
              "      <td>0.0</td>\n",
              "      <td>1</td>\n",
              "      <td>0.0</td>\n",
              "      <td>1.0</td>\n",
              "      <td>0.0</td>\n",
              "      <td>7.0</td>\n",
              "      <td>20.0</td>\n",
              "      <td>0.0</td>\n",
              "      <td>0.0</td>\n",
              "      <td>0.0</td>\n",
              "      <td>402</td>\n",
              "      <td>1000.0</td>\n",
              "      <td>291</td>\n",
              "      <td>263</td>\n",
              "      <td>0.10000</td>\n",
              "      <td>100.0</td>\n",
              "      <td>0.0</td>\n",
              "      <td>1</td>\n",
              "      <td>1948</td>\n",
              "      <td>1000.0</td>\n",
              "      <td>0.10000</td>\n",
              "    </tr>\n",
              "  </tbody>\n",
              "</table>\n",
              "</div>"
            ],
            "text/plain": [
              "   project_id  areas_id  ...  ave_annual_hours  max_kwh_cost\n",
              "0         2.0        39  ...              12.0       0.12000\n",
              "1         5.0       396  ...            8760.0       0.08000\n",
              "2         6.0        40  ...            2920.0       0.18000\n",
              "3         7.0        51  ...            8760.0       0.07234\n",
              "4         8.0      1948  ...            1000.0       0.10000\n",
              "\n",
              "[5 rows x 24 columns]"
            ]
          },
          "metadata": {
            "tags": []
          },
          "execution_count": 17
        }
      ]
    },
    {
      "cell_type": "code",
      "metadata": {
        "colab": {
          "base_uri": "https://localhost:8080/"
        },
        "id": "HIszr65VgVgq",
        "outputId": "de1d5f30-bd30-4110-c786-b151340fab7a"
      },
      "source": [
        "print(type(group1))"
      ],
      "execution_count": 18,
      "outputs": [
        {
          "output_type": "stream",
          "text": [
            "<class 'pandas.core.frame.DataFrame'>\n"
          ],
          "name": "stdout"
        }
      ]
    },
    {
      "cell_type": "code",
      "metadata": {
        "colab": {
          "base_uri": "https://localhost:8080/"
        },
        "id": "xH8SynhOHREf",
        "outputId": "e084a4fa-a38a-4c47-8b8f-d8463c29143a"
      },
      "source": [
        "group1.info()"
      ],
      "execution_count": 19,
      "outputs": [
        {
          "output_type": "stream",
          "text": [
            "<class 'pandas.core.frame.DataFrame'>\n",
            "Int64Index: 5834 entries, 0 to 5833\n",
            "Data columns (total 24 columns):\n",
            " #   Column                     Non-Null Count  Dtype  \n",
            "---  ------                     --------------  -----  \n",
            " 0   project_id                 5834 non-null   float64\n",
            " 1   areas_id                   5834 non-null   int64  \n",
            " 2   sqft                       5834 non-null   float64\n",
            " 3   avg_illuminace             5834 non-null   float64\n",
            " 4   area_count                 5834 non-null   int64  \n",
            " 5   min_brightness_level       5834 non-null   float64\n",
            " 6   code                       5834 non-null   float64\n",
            " 7   location_id                5834 non-null   float64\n",
            " 8   company_id                 5834 non-null   float64\n",
            " 9   company_project_status_id  5834 non-null   float64\n",
            " 10  facility_type_id           5834 non-null   float64\n",
            " 11  tax_rate_source            5834 non-null   float64\n",
            " 12  shipping_address_location  5834 non-null   float64\n",
            " 13  operating_id               5834 non-null   int64  \n",
            " 14  annual_hours               5834 non-null   float64\n",
            " 15  proposals_id               5834 non-null   int64  \n",
            " 16  rate_schedule_id           5834 non-null   int64  \n",
            " 17  kwh_cost                   5834 non-null   float64\n",
            " 18  demand_utilization         5834 non-null   float64\n",
            " 19  rate_customer              5834 non-null   float64\n",
            " 20  area_counts                5834 non-null   int64  \n",
            " 21  area_counts_sum            5834 non-null   int64  \n",
            " 22  ave_annual_hours           5834 non-null   float64\n",
            " 23  max_kwh_cost               5811 non-null   float64\n",
            "dtypes: float64(17), int64(7)\n",
            "memory usage: 1.1 MB\n"
          ],
          "name": "stdout"
        }
      ]
    },
    {
      "cell_type": "code",
      "metadata": {
        "colab": {
          "base_uri": "https://localhost:8080/"
        },
        "id": "a0NW8UDqegcT",
        "outputId": "89be590f-1795-4c6b-ad42-9bba0c0a20f7"
      },
      "source": [
        "p2.columns"
      ],
      "execution_count": 20,
      "outputs": [
        {
          "output_type": "execute_result",
          "data": {
            "text/plain": [
              "Index(['option_id', 'project_id', 'solution_id', 'name',\n",
              "       'existing_count_solutions', 'active', 'created_by_user_id',\n",
              "       'incentive_type', 'product_count', 'existing_lighting_id',\n",
              "       'proposal_options_id', 'proposal_id', 'area_id',\n",
              "       'existing_count_exlight', 'replacement_count', 'watts_per_product',\n",
              "       'option_calc_light_id', 'existing_quantity', 'proposed_quantity'],\n",
              "      dtype='object')"
            ]
          },
          "metadata": {
            "tags": []
          },
          "execution_count": 20
        }
      ]
    },
    {
      "cell_type": "code",
      "metadata": {
        "colab": {
          "base_uri": "https://localhost:8080/"
        },
        "id": "SL1jGkaTafjU",
        "outputId": "1650afbb-0fd7-42ae-c6e8-95b97560b5ad"
      },
      "source": [
        "group2 = p2.groupby('project_id')['option_id', 'solution_id', 'name',\n",
        "       'existing_count_solutions', 'active', 'created_by_user_id',\n",
        "       'incentive_type', 'product_count', 'existing_lighting_id',\n",
        "       'proposal_options_id', 'proposal_id', 'area_id',\n",
        "       'existing_count_exlight', 'replacement_count', 'watts_per_product',\n",
        "       'option_calc_light_id', 'existing_quantity', 'proposed_quantity'].sum().reset_index()"
      ],
      "execution_count": 21,
      "outputs": [
        {
          "output_type": "stream",
          "text": [
            "/usr/local/lib/python3.7/dist-packages/ipykernel_launcher.py:1: FutureWarning: Indexing with multiple keys (implicitly converted to a tuple of keys) will be deprecated, use a list instead.\n",
            "  \"\"\"Entry point for launching an IPython kernel.\n"
          ],
          "name": "stderr"
        }
      ]
    },
    {
      "cell_type": "code",
      "metadata": {
        "id": "Ee_A15HKBX33"
      },
      "source": [
        "variables = p2.groupby('project_id').agg(\n",
        "    total_watts_per_product = (\"watts_per_product\", \"sum\"),\n",
        "    existing_lighting_count = (\"existing_lighting_id\", \"count\")\n",
        ")"
      ],
      "execution_count": 22,
      "outputs": []
    },
    {
      "cell_type": "code",
      "metadata": {
        "id": "XJkniWZWBl5R"
      },
      "source": [
        "group2 = (pd.merge(group2, variables, on = 'project_id',how='left'))"
      ],
      "execution_count": 23,
      "outputs": []
    },
    {
      "cell_type": "code",
      "metadata": {
        "colab": {
          "base_uri": "https://localhost:8080/",
          "height": 215
        },
        "id": "1276D1loamtd",
        "outputId": "bb9758ee-f3f4-4d0a-a9fc-28d3ac22b06c"
      },
      "source": [
        "group2.head()"
      ],
      "execution_count": 24,
      "outputs": [
        {
          "output_type": "execute_result",
          "data": {
            "text/html": [
              "<div>\n",
              "<style scoped>\n",
              "    .dataframe tbody tr th:only-of-type {\n",
              "        vertical-align: middle;\n",
              "    }\n",
              "\n",
              "    .dataframe tbody tr th {\n",
              "        vertical-align: top;\n",
              "    }\n",
              "\n",
              "    .dataframe thead th {\n",
              "        text-align: right;\n",
              "    }\n",
              "</style>\n",
              "<table border=\"1\" class=\"dataframe\">\n",
              "  <thead>\n",
              "    <tr style=\"text-align: right;\">\n",
              "      <th></th>\n",
              "      <th>project_id</th>\n",
              "      <th>option_id</th>\n",
              "      <th>solution_id</th>\n",
              "      <th>existing_count_solutions</th>\n",
              "      <th>created_by_user_id</th>\n",
              "      <th>incentive_type</th>\n",
              "      <th>product_count</th>\n",
              "      <th>existing_lighting_id</th>\n",
              "      <th>proposal_options_id</th>\n",
              "      <th>proposal_id</th>\n",
              "      <th>area_id</th>\n",
              "      <th>existing_count_exlight</th>\n",
              "      <th>replacement_count</th>\n",
              "      <th>watts_per_product</th>\n",
              "      <th>option_calc_light_id</th>\n",
              "      <th>existing_quantity</th>\n",
              "      <th>proposed_quantity</th>\n",
              "      <th>total_watts_per_product</th>\n",
              "      <th>existing_lighting_count</th>\n",
              "    </tr>\n",
              "  </thead>\n",
              "  <tbody>\n",
              "    <tr>\n",
              "      <th>0</th>\n",
              "      <td>3</td>\n",
              "      <td>116</td>\n",
              "      <td>455.0</td>\n",
              "      <td>10.0</td>\n",
              "      <td>30.0</td>\n",
              "      <td>20.0</td>\n",
              "      <td>10.0</td>\n",
              "      <td>80057.0</td>\n",
              "      <td>60.0</td>\n",
              "      <td>110.0</td>\n",
              "      <td>0.0</td>\n",
              "      <td>0.0</td>\n",
              "      <td>132.0</td>\n",
              "      <td>259.4</td>\n",
              "      <td>73832.0</td>\n",
              "      <td>112.0</td>\n",
              "      <td>112.0</td>\n",
              "      <td>259.4</td>\n",
              "      <td>10</td>\n",
              "    </tr>\n",
              "    <tr>\n",
              "      <th>1</th>\n",
              "      <td>4</td>\n",
              "      <td>5772</td>\n",
              "      <td>0.0</td>\n",
              "      <td>0.0</td>\n",
              "      <td>0.0</td>\n",
              "      <td>0.0</td>\n",
              "      <td>0.0</td>\n",
              "      <td>0.0</td>\n",
              "      <td>6140.0</td>\n",
              "      <td>5772.0</td>\n",
              "      <td>0.0</td>\n",
              "      <td>0.0</td>\n",
              "      <td>20.0</td>\n",
              "      <td>259.4</td>\n",
              "      <td>0.0</td>\n",
              "      <td>0.0</td>\n",
              "      <td>0.0</td>\n",
              "      <td>259.4</td>\n",
              "      <td>0</td>\n",
              "    </tr>\n",
              "    <tr>\n",
              "      <th>2</th>\n",
              "      <td>8</td>\n",
              "      <td>290</td>\n",
              "      <td>1294.0</td>\n",
              "      <td>1.0</td>\n",
              "      <td>4.0</td>\n",
              "      <td>2.0</td>\n",
              "      <td>1.0</td>\n",
              "      <td>8881.0</td>\n",
              "      <td>318.0</td>\n",
              "      <td>291.0</td>\n",
              "      <td>0.0</td>\n",
              "      <td>0.0</td>\n",
              "      <td>10.0</td>\n",
              "      <td>13.0</td>\n",
              "      <td>9950.0</td>\n",
              "      <td>10.0</td>\n",
              "      <td>10.0</td>\n",
              "      <td>13.0</td>\n",
              "      <td>1</td>\n",
              "    </tr>\n",
              "    <tr>\n",
              "      <th>3</th>\n",
              "      <td>11</td>\n",
              "      <td>92</td>\n",
              "      <td>455.0</td>\n",
              "      <td>1.0</td>\n",
              "      <td>28.0</td>\n",
              "      <td>5.0</td>\n",
              "      <td>1.0</td>\n",
              "      <td>8882.0</td>\n",
              "      <td>102.0</td>\n",
              "      <td>92.0</td>\n",
              "      <td>0.0</td>\n",
              "      <td>0.0</td>\n",
              "      <td>43.0</td>\n",
              "      <td>600.0</td>\n",
              "      <td>9190.0</td>\n",
              "      <td>43.0</td>\n",
              "      <td>43.0</td>\n",
              "      <td>600.0</td>\n",
              "      <td>1</td>\n",
              "    </tr>\n",
              "    <tr>\n",
              "      <th>4</th>\n",
              "      <td>15</td>\n",
              "      <td>7919</td>\n",
              "      <td>68280.0</td>\n",
              "      <td>47.0</td>\n",
              "      <td>902.0</td>\n",
              "      <td>82.0</td>\n",
              "      <td>47.0</td>\n",
              "      <td>284080.0</td>\n",
              "      <td>20775.0</td>\n",
              "      <td>18785.0</td>\n",
              "      <td>0.0</td>\n",
              "      <td>0.0</td>\n",
              "      <td>145.0</td>\n",
              "      <td>861.2</td>\n",
              "      <td>366088.0</td>\n",
              "      <td>84.0</td>\n",
              "      <td>80.0</td>\n",
              "      <td>861.2</td>\n",
              "      <td>41</td>\n",
              "    </tr>\n",
              "  </tbody>\n",
              "</table>\n",
              "</div>"
            ],
            "text/plain": [
              "   project_id  option_id  ...  total_watts_per_product  existing_lighting_count\n",
              "0           3        116  ...                    259.4                       10\n",
              "1           4       5772  ...                    259.4                        0\n",
              "2           8        290  ...                     13.0                        1\n",
              "3          11         92  ...                    600.0                        1\n",
              "4          15       7919  ...                    861.2                       41\n",
              "\n",
              "[5 rows x 19 columns]"
            ]
          },
          "metadata": {
            "tags": []
          },
          "execution_count": 24
        }
      ]
    },
    {
      "cell_type": "code",
      "metadata": {
        "colab": {
          "base_uri": "https://localhost:8080/"
        },
        "id": "XEHRw5wIbV5u",
        "outputId": "574467c9-fbb4-4331-8960-908d17de7525"
      },
      "source": [
        "print(type(group2))"
      ],
      "execution_count": 25,
      "outputs": [
        {
          "output_type": "stream",
          "text": [
            "<class 'pandas.core.frame.DataFrame'>\n"
          ],
          "name": "stdout"
        }
      ]
    },
    {
      "cell_type": "code",
      "metadata": {
        "colab": {
          "base_uri": "https://localhost:8080/"
        },
        "id": "PjECB0H9HVVG",
        "outputId": "52e472b8-6a6d-4f8c-bbae-593ffef49224"
      },
      "source": [
        "group2.info()"
      ],
      "execution_count": 26,
      "outputs": [
        {
          "output_type": "stream",
          "text": [
            "<class 'pandas.core.frame.DataFrame'>\n",
            "Int64Index: 6610 entries, 0 to 6609\n",
            "Data columns (total 19 columns):\n",
            " #   Column                    Non-Null Count  Dtype  \n",
            "---  ------                    --------------  -----  \n",
            " 0   project_id                6610 non-null   int64  \n",
            " 1   option_id                 6610 non-null   int64  \n",
            " 2   solution_id               6610 non-null   float64\n",
            " 3   existing_count_solutions  6610 non-null   float64\n",
            " 4   created_by_user_id        6610 non-null   float64\n",
            " 5   incentive_type            6610 non-null   float64\n",
            " 6   product_count             6610 non-null   float64\n",
            " 7   existing_lighting_id      6610 non-null   float64\n",
            " 8   proposal_options_id       6610 non-null   float64\n",
            " 9   proposal_id               6610 non-null   float64\n",
            " 10  area_id                   6610 non-null   float64\n",
            " 11  existing_count_exlight    6610 non-null   float64\n",
            " 12  replacement_count         6610 non-null   float64\n",
            " 13  watts_per_product         6610 non-null   float64\n",
            " 14  option_calc_light_id      6610 non-null   float64\n",
            " 15  existing_quantity         6610 non-null   float64\n",
            " 16  proposed_quantity         6610 non-null   float64\n",
            " 17  total_watts_per_product   6610 non-null   float64\n",
            " 18  existing_lighting_count   6610 non-null   int64  \n",
            "dtypes: float64(16), int64(3)\n",
            "memory usage: 1.0 MB\n"
          ],
          "name": "stdout"
        }
      ]
    },
    {
      "cell_type": "code",
      "metadata": {
        "id": "K2T4a0j5aomd"
      },
      "source": [
        "df_final = (pd.merge(group1, group2, how = 'left', on = 'project_id'))"
      ],
      "execution_count": 27,
      "outputs": []
    },
    {
      "cell_type": "code",
      "metadata": {
        "colab": {
          "base_uri": "https://localhost:8080/",
          "height": 215
        },
        "id": "wVpthQ_XgdKD",
        "outputId": "7c59f334-2bbe-4a81-c277-e8abaf8445d3"
      },
      "source": [
        "df_final.head()"
      ],
      "execution_count": 28,
      "outputs": [
        {
          "output_type": "execute_result",
          "data": {
            "text/html": [
              "<div>\n",
              "<style scoped>\n",
              "    .dataframe tbody tr th:only-of-type {\n",
              "        vertical-align: middle;\n",
              "    }\n",
              "\n",
              "    .dataframe tbody tr th {\n",
              "        vertical-align: top;\n",
              "    }\n",
              "\n",
              "    .dataframe thead th {\n",
              "        text-align: right;\n",
              "    }\n",
              "</style>\n",
              "<table border=\"1\" class=\"dataframe\">\n",
              "  <thead>\n",
              "    <tr style=\"text-align: right;\">\n",
              "      <th></th>\n",
              "      <th>project_id</th>\n",
              "      <th>areas_id</th>\n",
              "      <th>sqft</th>\n",
              "      <th>avg_illuminace</th>\n",
              "      <th>area_count</th>\n",
              "      <th>min_brightness_level</th>\n",
              "      <th>code</th>\n",
              "      <th>location_id</th>\n",
              "      <th>company_id</th>\n",
              "      <th>company_project_status_id</th>\n",
              "      <th>facility_type_id</th>\n",
              "      <th>tax_rate_source</th>\n",
              "      <th>shipping_address_location</th>\n",
              "      <th>operating_id</th>\n",
              "      <th>annual_hours</th>\n",
              "      <th>proposals_id</th>\n",
              "      <th>rate_schedule_id</th>\n",
              "      <th>kwh_cost</th>\n",
              "      <th>demand_utilization</th>\n",
              "      <th>rate_customer</th>\n",
              "      <th>area_counts</th>\n",
              "      <th>area_counts_sum</th>\n",
              "      <th>ave_annual_hours</th>\n",
              "      <th>max_kwh_cost</th>\n",
              "      <th>option_id</th>\n",
              "      <th>solution_id</th>\n",
              "      <th>existing_count_solutions</th>\n",
              "      <th>created_by_user_id</th>\n",
              "      <th>incentive_type</th>\n",
              "      <th>product_count</th>\n",
              "      <th>existing_lighting_id</th>\n",
              "      <th>proposal_options_id</th>\n",
              "      <th>proposal_id</th>\n",
              "      <th>area_id</th>\n",
              "      <th>existing_count_exlight</th>\n",
              "      <th>replacement_count</th>\n",
              "      <th>watts_per_product</th>\n",
              "      <th>option_calc_light_id</th>\n",
              "      <th>existing_quantity</th>\n",
              "      <th>proposed_quantity</th>\n",
              "      <th>total_watts_per_product</th>\n",
              "      <th>existing_lighting_count</th>\n",
              "    </tr>\n",
              "  </thead>\n",
              "  <tbody>\n",
              "    <tr>\n",
              "      <th>0</th>\n",
              "      <td>2.0</td>\n",
              "      <td>39</td>\n",
              "      <td>4100.0</td>\n",
              "      <td>0.0</td>\n",
              "      <td>3</td>\n",
              "      <td>0.0</td>\n",
              "      <td>6.0</td>\n",
              "      <td>0.0</td>\n",
              "      <td>12.0</td>\n",
              "      <td>3.0</td>\n",
              "      <td>186.0</td>\n",
              "      <td>0.0</td>\n",
              "      <td>0.0</td>\n",
              "      <td>3</td>\n",
              "      <td>36.0</td>\n",
              "      <td>3</td>\n",
              "      <td>3</td>\n",
              "      <td>0.36000</td>\n",
              "      <td>300.0</td>\n",
              "      <td>0.0</td>\n",
              "      <td>3</td>\n",
              "      <td>39</td>\n",
              "      <td>12.0</td>\n",
              "      <td>0.12000</td>\n",
              "      <td>NaN</td>\n",
              "      <td>NaN</td>\n",
              "      <td>NaN</td>\n",
              "      <td>NaN</td>\n",
              "      <td>NaN</td>\n",
              "      <td>NaN</td>\n",
              "      <td>NaN</td>\n",
              "      <td>NaN</td>\n",
              "      <td>NaN</td>\n",
              "      <td>NaN</td>\n",
              "      <td>NaN</td>\n",
              "      <td>NaN</td>\n",
              "      <td>NaN</td>\n",
              "      <td>NaN</td>\n",
              "      <td>NaN</td>\n",
              "      <td>NaN</td>\n",
              "      <td>NaN</td>\n",
              "      <td>NaN</td>\n",
              "    </tr>\n",
              "    <tr>\n",
              "      <th>1</th>\n",
              "      <td>5.0</td>\n",
              "      <td>396</td>\n",
              "      <td>5100.0</td>\n",
              "      <td>0.0</td>\n",
              "      <td>7</td>\n",
              "      <td>0.0</td>\n",
              "      <td>28.0</td>\n",
              "      <td>0.0</td>\n",
              "      <td>49.0</td>\n",
              "      <td>154.0</td>\n",
              "      <td>0.0</td>\n",
              "      <td>0.0</td>\n",
              "      <td>0.0</td>\n",
              "      <td>28</td>\n",
              "      <td>61320.0</td>\n",
              "      <td>14</td>\n",
              "      <td>14</td>\n",
              "      <td>0.56000</td>\n",
              "      <td>700.0</td>\n",
              "      <td>0.0</td>\n",
              "      <td>7</td>\n",
              "      <td>396</td>\n",
              "      <td>8760.0</td>\n",
              "      <td>0.08000</td>\n",
              "      <td>NaN</td>\n",
              "      <td>NaN</td>\n",
              "      <td>NaN</td>\n",
              "      <td>NaN</td>\n",
              "      <td>NaN</td>\n",
              "      <td>NaN</td>\n",
              "      <td>NaN</td>\n",
              "      <td>NaN</td>\n",
              "      <td>NaN</td>\n",
              "      <td>NaN</td>\n",
              "      <td>NaN</td>\n",
              "      <td>NaN</td>\n",
              "      <td>NaN</td>\n",
              "      <td>NaN</td>\n",
              "      <td>NaN</td>\n",
              "      <td>NaN</td>\n",
              "      <td>NaN</td>\n",
              "      <td>NaN</td>\n",
              "    </tr>\n",
              "    <tr>\n",
              "      <th>2</th>\n",
              "      <td>6.0</td>\n",
              "      <td>40</td>\n",
              "      <td>0.0</td>\n",
              "      <td>0.0</td>\n",
              "      <td>8</td>\n",
              "      <td>0.0</td>\n",
              "      <td>8.0</td>\n",
              "      <td>0.0</td>\n",
              "      <td>64.0</td>\n",
              "      <td>208.0</td>\n",
              "      <td>280.0</td>\n",
              "      <td>0.0</td>\n",
              "      <td>0.0</td>\n",
              "      <td>52</td>\n",
              "      <td>23360.0</td>\n",
              "      <td>24</td>\n",
              "      <td>28</td>\n",
              "      <td>0.72000</td>\n",
              "      <td>800.0</td>\n",
              "      <td>0.0</td>\n",
              "      <td>8</td>\n",
              "      <td>40</td>\n",
              "      <td>2920.0</td>\n",
              "      <td>0.18000</td>\n",
              "      <td>NaN</td>\n",
              "      <td>NaN</td>\n",
              "      <td>NaN</td>\n",
              "      <td>NaN</td>\n",
              "      <td>NaN</td>\n",
              "      <td>NaN</td>\n",
              "      <td>NaN</td>\n",
              "      <td>NaN</td>\n",
              "      <td>NaN</td>\n",
              "      <td>NaN</td>\n",
              "      <td>NaN</td>\n",
              "      <td>NaN</td>\n",
              "      <td>NaN</td>\n",
              "      <td>NaN</td>\n",
              "      <td>NaN</td>\n",
              "      <td>NaN</td>\n",
              "      <td>NaN</td>\n",
              "      <td>NaN</td>\n",
              "    </tr>\n",
              "    <tr>\n",
              "      <th>3</th>\n",
              "      <td>7.0</td>\n",
              "      <td>51</td>\n",
              "      <td>0.0</td>\n",
              "      <td>0.0</td>\n",
              "      <td>6</td>\n",
              "      <td>0.0</td>\n",
              "      <td>21.0</td>\n",
              "      <td>0.0</td>\n",
              "      <td>60.0</td>\n",
              "      <td>234.0</td>\n",
              "      <td>0.0</td>\n",
              "      <td>0.0</td>\n",
              "      <td>0.0</td>\n",
              "      <td>102</td>\n",
              "      <td>52560.0</td>\n",
              "      <td>24</td>\n",
              "      <td>72</td>\n",
              "      <td>0.43404</td>\n",
              "      <td>600.0</td>\n",
              "      <td>0.0</td>\n",
              "      <td>6</td>\n",
              "      <td>51</td>\n",
              "      <td>8760.0</td>\n",
              "      <td>0.07234</td>\n",
              "      <td>NaN</td>\n",
              "      <td>NaN</td>\n",
              "      <td>NaN</td>\n",
              "      <td>NaN</td>\n",
              "      <td>NaN</td>\n",
              "      <td>NaN</td>\n",
              "      <td>NaN</td>\n",
              "      <td>NaN</td>\n",
              "      <td>NaN</td>\n",
              "      <td>NaN</td>\n",
              "      <td>NaN</td>\n",
              "      <td>NaN</td>\n",
              "      <td>NaN</td>\n",
              "      <td>NaN</td>\n",
              "      <td>NaN</td>\n",
              "      <td>NaN</td>\n",
              "      <td>NaN</td>\n",
              "      <td>NaN</td>\n",
              "    </tr>\n",
              "    <tr>\n",
              "      <th>4</th>\n",
              "      <td>8.0</td>\n",
              "      <td>1948</td>\n",
              "      <td>0.0</td>\n",
              "      <td>0.0</td>\n",
              "      <td>1</td>\n",
              "      <td>0.0</td>\n",
              "      <td>1.0</td>\n",
              "      <td>0.0</td>\n",
              "      <td>7.0</td>\n",
              "      <td>20.0</td>\n",
              "      <td>0.0</td>\n",
              "      <td>0.0</td>\n",
              "      <td>0.0</td>\n",
              "      <td>402</td>\n",
              "      <td>1000.0</td>\n",
              "      <td>291</td>\n",
              "      <td>263</td>\n",
              "      <td>0.10000</td>\n",
              "      <td>100.0</td>\n",
              "      <td>0.0</td>\n",
              "      <td>1</td>\n",
              "      <td>1948</td>\n",
              "      <td>1000.0</td>\n",
              "      <td>0.10000</td>\n",
              "      <td>290.0</td>\n",
              "      <td>1294.0</td>\n",
              "      <td>1.0</td>\n",
              "      <td>4.0</td>\n",
              "      <td>2.0</td>\n",
              "      <td>1.0</td>\n",
              "      <td>8881.0</td>\n",
              "      <td>318.0</td>\n",
              "      <td>291.0</td>\n",
              "      <td>0.0</td>\n",
              "      <td>0.0</td>\n",
              "      <td>10.0</td>\n",
              "      <td>13.0</td>\n",
              "      <td>9950.0</td>\n",
              "      <td>10.0</td>\n",
              "      <td>10.0</td>\n",
              "      <td>13.0</td>\n",
              "      <td>1.0</td>\n",
              "    </tr>\n",
              "  </tbody>\n",
              "</table>\n",
              "</div>"
            ],
            "text/plain": [
              "   project_id  areas_id  ...  total_watts_per_product  existing_lighting_count\n",
              "0         2.0        39  ...                      NaN                      NaN\n",
              "1         5.0       396  ...                      NaN                      NaN\n",
              "2         6.0        40  ...                      NaN                      NaN\n",
              "3         7.0        51  ...                      NaN                      NaN\n",
              "4         8.0      1948  ...                     13.0                      1.0\n",
              "\n",
              "[5 rows x 42 columns]"
            ]
          },
          "metadata": {
            "tags": []
          },
          "execution_count": 28
        }
      ]
    },
    {
      "cell_type": "code",
      "metadata": {
        "colab": {
          "base_uri": "https://localhost:8080/"
        },
        "id": "SynwL8lYgfrp",
        "outputId": "69ef0db7-f361-4eaf-9100-2c076cdb1490"
      },
      "source": [
        "df_final.info()"
      ],
      "execution_count": 30,
      "outputs": [
        {
          "output_type": "stream",
          "text": [
            "<class 'pandas.core.frame.DataFrame'>\n",
            "Int64Index: 5834 entries, 0 to 5833\n",
            "Data columns (total 42 columns):\n",
            " #   Column                     Non-Null Count  Dtype  \n",
            "---  ------                     --------------  -----  \n",
            " 0   project_id                 5834 non-null   float64\n",
            " 1   areas_id                   5834 non-null   int64  \n",
            " 2   sqft                       5834 non-null   float64\n",
            " 3   avg_illuminace             5834 non-null   float64\n",
            " 4   area_count                 5834 non-null   int64  \n",
            " 5   min_brightness_level       5834 non-null   float64\n",
            " 6   code                       5834 non-null   float64\n",
            " 7   location_id                5834 non-null   float64\n",
            " 8   company_id                 5834 non-null   float64\n",
            " 9   company_project_status_id  5834 non-null   float64\n",
            " 10  facility_type_id           5834 non-null   float64\n",
            " 11  tax_rate_source            5834 non-null   float64\n",
            " 12  shipping_address_location  5834 non-null   float64\n",
            " 13  operating_id               5834 non-null   int64  \n",
            " 14  annual_hours               5834 non-null   float64\n",
            " 15  proposals_id               5834 non-null   int64  \n",
            " 16  rate_schedule_id           5834 non-null   int64  \n",
            " 17  kwh_cost                   5834 non-null   float64\n",
            " 18  demand_utilization         5834 non-null   float64\n",
            " 19  rate_customer              5834 non-null   float64\n",
            " 20  area_counts                5834 non-null   int64  \n",
            " 21  area_counts_sum            5834 non-null   int64  \n",
            " 22  ave_annual_hours           5834 non-null   float64\n",
            " 23  max_kwh_cost               5811 non-null   float64\n",
            " 24  option_id                  5829 non-null   float64\n",
            " 25  solution_id                5829 non-null   float64\n",
            " 26  existing_count_solutions   5829 non-null   float64\n",
            " 27  created_by_user_id         5829 non-null   float64\n",
            " 28  incentive_type             5829 non-null   float64\n",
            " 29  product_count              5829 non-null   float64\n",
            " 30  existing_lighting_id       5829 non-null   float64\n",
            " 31  proposal_options_id        5829 non-null   float64\n",
            " 32  proposal_id                5829 non-null   float64\n",
            " 33  area_id                    5829 non-null   float64\n",
            " 34  existing_count_exlight     5829 non-null   float64\n",
            " 35  replacement_count          5829 non-null   float64\n",
            " 36  watts_per_product          5829 non-null   float64\n",
            " 37  option_calc_light_id       5829 non-null   float64\n",
            " 38  existing_quantity          5829 non-null   float64\n",
            " 39  proposed_quantity          5829 non-null   float64\n",
            " 40  total_watts_per_product    5829 non-null   float64\n",
            " 41  existing_lighting_count    5829 non-null   float64\n",
            "dtypes: float64(35), int64(7)\n",
            "memory usage: 1.9 MB\n"
          ],
          "name": "stdout"
        }
      ]
    },
    {
      "cell_type": "code",
      "metadata": {
        "id": "O548p75JEdWn"
      },
      "source": [
        "df_final = df_final.drop(columns = ['min_brightness_level', 'areas_id', 'area_id', 'proposals_id', 'proposal_id'])"
      ],
      "execution_count": 31,
      "outputs": []
    },
    {
      "cell_type": "code",
      "metadata": {
        "colab": {
          "base_uri": "https://localhost:8080/"
        },
        "id": "VJQl9a6zVVGt",
        "outputId": "a46f3cee-523a-488b-dc56-b12de7e55ca9"
      },
      "source": [
        "df_final.info()"
      ],
      "execution_count": 37,
      "outputs": [
        {
          "output_type": "stream",
          "text": [
            "<class 'pandas.core.frame.DataFrame'>\n",
            "Int64Index: 5834 entries, 0 to 5833\n",
            "Data columns (total 37 columns):\n",
            " #   Column                     Non-Null Count  Dtype  \n",
            "---  ------                     --------------  -----  \n",
            " 0   project_id                 5834 non-null   float64\n",
            " 1   sqft                       5834 non-null   float64\n",
            " 2   avg_illuminace             5834 non-null   float64\n",
            " 3   area_count                 5834 non-null   int64  \n",
            " 4   code                       5834 non-null   float64\n",
            " 5   location_id                5834 non-null   float64\n",
            " 6   company_id                 5834 non-null   float64\n",
            " 7   company_project_status_id  5834 non-null   float64\n",
            " 8   facility_type_id           5834 non-null   float64\n",
            " 9   tax_rate_source            5834 non-null   float64\n",
            " 10  shipping_address_location  5834 non-null   float64\n",
            " 11  operating_id               5834 non-null   int64  \n",
            " 12  annual_hours               5834 non-null   float64\n",
            " 13  rate_schedule_id           5834 non-null   int64  \n",
            " 14  kwh_cost                   5834 non-null   float64\n",
            " 15  demand_utilization         5834 non-null   float64\n",
            " 16  rate_customer              5834 non-null   float64\n",
            " 17  area_counts                5834 non-null   int64  \n",
            " 18  area_counts_sum            5834 non-null   int64  \n",
            " 19  ave_annual_hours           5834 non-null   float64\n",
            " 20  max_kwh_cost               5811 non-null   float64\n",
            " 21  option_id                  5829 non-null   float64\n",
            " 22  solution_id                5829 non-null   float64\n",
            " 23  existing_count_solutions   5829 non-null   float64\n",
            " 24  created_by_user_id         5829 non-null   float64\n",
            " 25  incentive_type             5829 non-null   float64\n",
            " 26  product_count              5829 non-null   float64\n",
            " 27  existing_lighting_id       5829 non-null   float64\n",
            " 28  proposal_options_id        5829 non-null   float64\n",
            " 29  existing_count_exlight     5829 non-null   float64\n",
            " 30  replacement_count          5829 non-null   float64\n",
            " 31  watts_per_product          5829 non-null   float64\n",
            " 32  option_calc_light_id       5829 non-null   float64\n",
            " 33  existing_quantity          5829 non-null   float64\n",
            " 34  proposed_quantity          5829 non-null   float64\n",
            " 35  total_watts_per_product    5829 non-null   float64\n",
            " 36  existing_lighting_count    5829 non-null   float64\n",
            "dtypes: float64(32), int64(5)\n",
            "memory usage: 1.7 MB\n"
          ],
          "name": "stdout"
        }
      ]
    },
    {
      "cell_type": "code",
      "metadata": {
        "colab": {
          "base_uri": "https://localhost:8080/"
        },
        "id": "GTQ3UAd2gycD",
        "outputId": "ccb85344-6ab2-4592-943a-07f932670b75"
      },
      "source": [
        "df_final.shape"
      ],
      "execution_count": 32,
      "outputs": [
        {
          "output_type": "execute_result",
          "data": {
            "text/plain": [
              "(5834, 37)"
            ]
          },
          "metadata": {
            "tags": []
          },
          "execution_count": 32
        }
      ]
    },
    {
      "cell_type": "code",
      "metadata": {
        "colab": {
          "base_uri": "https://localhost:8080/"
        },
        "id": "nV5FsecRKCWj",
        "outputId": "6733a2d8-f1ac-4585-db73-ef68809472a4"
      },
      "source": [
        "df_final.nunique()"
      ],
      "execution_count": 33,
      "outputs": [
        {
          "output_type": "execute_result",
          "data": {
            "text/plain": [
              "project_id                   5834\n",
              "sqft                          156\n",
              "avg_illuminace                 46\n",
              "area_count                    436\n",
              "code                          712\n",
              "location_id                   674\n",
              "company_id                   2378\n",
              "company_project_status_id    3180\n",
              "facility_type_id              880\n",
              "tax_rate_source               437\n",
              "shipping_address_location     388\n",
              "operating_id                 5703\n",
              "annual_hours                 2949\n",
              "rate_schedule_id             5544\n",
              "kwh_cost                     2095\n",
              "demand_utilization            438\n",
              "rate_customer                  26\n",
              "area_counts                   436\n",
              "area_counts_sum              5817\n",
              "ave_annual_hours             1675\n",
              "max_kwh_cost                  522\n",
              "option_id                    5601\n",
              "solution_id                  5712\n",
              "existing_count_solutions      283\n",
              "created_by_user_id           2494\n",
              "incentive_type                363\n",
              "product_count                 295\n",
              "existing_lighting_id         3534\n",
              "proposal_options_id          5618\n",
              "existing_count_exlight        564\n",
              "replacement_count            1630\n",
              "watts_per_product            2509\n",
              "option_calc_light_id         3977\n",
              "existing_quantity            1066\n",
              "proposed_quantity            1164\n",
              "total_watts_per_product      2509\n",
              "existing_lighting_count       156\n",
              "dtype: int64"
            ]
          },
          "metadata": {
            "tags": []
          },
          "execution_count": 33
        }
      ]
    },
    {
      "cell_type": "code",
      "metadata": {
        "colab": {
          "base_uri": "https://localhost:8080/"
        },
        "id": "is9Xdwc7HBQr",
        "outputId": "908e0e5f-1d08-4519-cc6b-e2d56f8c01db"
      },
      "source": [
        "p_final.info()"
      ],
      "execution_count": 29,
      "outputs": [
        {
          "output_type": "stream",
          "text": [
            "<class 'pandas.core.frame.DataFrame'>\n",
            "RangeIndex: 12729 entries, 0 to 12728\n",
            "Data columns (total 38 columns):\n",
            " #   Column                     Non-Null Count  Dtype  \n",
            "---  ------                     --------------  -----  \n",
            " 0   project_id                 12729 non-null  int64  \n",
            " 1   option_id                  12375 non-null  float64\n",
            " 2   option_calculation_id      6222 non-null   float64\n",
            " 3   company_id                 12729 non-null  int64  \n",
            " 4   projects_name              12729 non-null  object \n",
            " 5   facility_type_id           6139 non-null   float64\n",
            " 6   facility_type              6139 non-null   object \n",
            " 7   tax_rate_source            12687 non-null  float64\n",
            " 8   finance_discount_rate      12729 non-null  int64  \n",
            " 9   tax_exempt                 12723 non-null  object \n",
            " 10  active                     12729 non-null  bool   \n",
            " 11  area_count                 12729 non-null  int64  \n",
            " 12  area_count_sum             12727 non-null  float64\n",
            " 13  ave_annual_hours           11517 non-null  float64\n",
            " 14  monday_ave_daily_hours     11967 non-null  float64\n",
            " 15  tuesday_ave_daily_hours    11967 non-null  float64\n",
            " 16  wednesday_ave_daily_hours  11967 non-null  float64\n",
            " 17  thursday_ave_daily_hours   11961 non-null  float64\n",
            " 18  friday_ave_daily_hours     11961 non-null  float64\n",
            " 19  saturday_ave_daily_hours   11967 non-null  float64\n",
            " 20  sunday_ave_daily_hours     11967 non-null  float64\n",
            " 21  ave_weeks_per_year         11967 non-null  float64\n",
            " 22  hour_type                  12219 non-null  float64\n",
            " 23  max_kwh_cost               11813 non-null  float64\n",
            " 24  max_kwh_cost_simple        195 non-null    float64\n",
            " 25  existing_lighting_count    12729 non-null  int64  \n",
            " 26  total_watts_per_product    12530 non-null  float64\n",
            " 27  ave_lm70                   12530 non-null  float64\n",
            " 28  total_solution_count       12729 non-null  int64  \n",
            " 29  total_existing_quantity    6222 non-null   float64\n",
            " 30  total_proposed_quantity    6222 non-null   float64\n",
            " 31  total_replacement_count    9805 non-null   float64\n",
            " 32  total_fixture_watts        9805 non-null   float64\n",
            " 33  total_fixture_watt_hours   9805 non-null   float64\n",
            " 34  total_fixture_life_years   9805 non-null   float64\n",
            " 35  total_item_watts           9805 non-null   float64\n",
            " 36  sol_total_existing_count   12729 non-null  int64  \n",
            " 37  total_product_count        12729 non-null  int64  \n",
            "dtypes: bool(1), float64(26), int64(8), object(3)\n",
            "memory usage: 3.6+ MB\n"
          ],
          "name": "stdout"
        }
      ]
    },
    {
      "cell_type": "code",
      "metadata": {
        "colab": {
          "base_uri": "https://localhost:8080/"
        },
        "id": "cQJDSI-0Jx9v",
        "outputId": "ff8a6e36-a143-4a81-b8aa-d89b49ec4862"
      },
      "source": [
        "p_final.shape"
      ],
      "execution_count": 35,
      "outputs": [
        {
          "output_type": "execute_result",
          "data": {
            "text/plain": [
              "(12729, 38)"
            ]
          },
          "metadata": {
            "tags": []
          },
          "execution_count": 35
        }
      ]
    },
    {
      "cell_type": "code",
      "metadata": {
        "colab": {
          "base_uri": "https://localhost:8080/"
        },
        "id": "YeJAHpKBKKHh",
        "outputId": "b5fb3592-53e3-4e73-bc63-b0220399d9bf"
      },
      "source": [
        "p_final.nunique()"
      ],
      "execution_count": 36,
      "outputs": [
        {
          "output_type": "execute_result",
          "data": {
            "text/plain": [
              "project_id                   6381\n",
              "option_id                    9194\n",
              "option_calculation_id        6219\n",
              "company_id                    325\n",
              "projects_name                6269\n",
              "facility_type_id               60\n",
              "facility_type                  60\n",
              "tax_rate_source                 2\n",
              "finance_discount_rate           1\n",
              "tax_exempt                      2\n",
              "active                          2\n",
              "area_count                     94\n",
              "area_count_sum                839\n",
              "ave_annual_hours             1536\n",
              "monday_ave_daily_hours        111\n",
              "tuesday_ave_daily_hours       109\n",
              "wednesday_ave_daily_hours     107\n",
              "thursday_ave_daily_hours      110\n",
              "friday_ave_daily_hours        111\n",
              "saturday_ave_daily_hours       89\n",
              "sunday_ave_daily_hours         73\n",
              "ave_weeks_per_year             99\n",
              "hour_type                       2\n",
              "max_kwh_cost                  523\n",
              "max_kwh_cost_simple            31\n",
              "existing_lighting_count        94\n",
              "total_watts_per_product      7534\n",
              "ave_lm70                     1284\n",
              "total_solution_count           94\n",
              "total_existing_quantity      1893\n",
              "total_proposed_quantity      2002\n",
              "total_replacement_count      1579\n",
              "total_fixture_watts          2708\n",
              "total_fixture_watt_hours     7610\n",
              "total_fixture_life_years     5032\n",
              "total_item_watts             6086\n",
              "sol_total_existing_count      395\n",
              "total_product_count           424\n",
              "dtype: int64"
            ]
          },
          "metadata": {
            "tags": []
          },
          "execution_count": 36
        }
      ]
    }
  ]
}
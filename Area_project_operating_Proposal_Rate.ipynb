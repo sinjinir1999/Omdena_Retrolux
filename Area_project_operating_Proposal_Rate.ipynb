{
 "cells": [
  {
   "cell_type": "code",
   "execution_count": 1,
   "metadata": {},
   "outputs": [
    {
     "name": "stderr",
     "output_type": "stream",
     "text": [
      "C:\\Users\\rashm\\Anaconda3\\lib\\site-packages\\statsmodels\\tools\\_testing.py:19: FutureWarning: pandas.util.testing is deprecated. Use the functions in the public API at pandas.testing instead.\n",
      "  import pandas.util.testing as tm\n"
     ]
    }
   ],
   "source": [
    "import pandas as pd\n",
    "import matplotlib.pyplot as plt\n",
    "import seaborn as sns"
   ]
  },
  {
   "cell_type": "code",
   "execution_count": 3,
   "metadata": {},
   "outputs": [
    {
     "name": "stderr",
     "output_type": "stream",
     "text": [
      "b'Skipping line 4363: expected 41 fields, saw 43\\nSkipping line 5876: expected 41 fields, saw 43\\nSkipping line 5877: expected 41 fields, saw 43\\nSkipping line 5884: expected 41 fields, saw 43\\nSkipping line 5885: expected 41 fields, saw 43\\nSkipping line 5886: expected 41 fields, saw 43\\nSkipping line 5887: expected 41 fields, saw 43\\nSkipping line 5888: expected 41 fields, saw 43\\nSkipping line 5889: expected 41 fields, saw 43\\nSkipping line 5890: expected 41 fields, saw 43\\nSkipping line 7371: expected 41 fields, saw 43\\nSkipping line 7389: expected 41 fields, saw 43\\nSkipping line 7713: expected 41 fields, saw 43\\nSkipping line 7714: expected 41 fields, saw 43\\nSkipping line 7715: expected 41 fields, saw 43\\nSkipping line 7716: expected 41 fields, saw 43\\nSkipping line 7717: expected 41 fields, saw 43\\nSkipping line 9514: expected 41 fields, saw 43\\nSkipping line 9515: expected 41 fields, saw 43\\nSkipping line 9516: expected 41 fields, saw 43\\nSkipping line 9517: expected 41 fields, saw 43\\nSkipping line 10396: expected 41 fields, saw 43\\nSkipping line 10397: expected 41 fields, saw 43\\nSkipping line 10399: expected 41 fields, saw 43\\nSkipping line 10415: expected 41 fields, saw 43\\nSkipping line 10485: expected 41 fields, saw 43\\nSkipping line 10486: expected 41 fields, saw 43\\nSkipping line 10487: expected 41 fields, saw 43\\nSkipping line 10488: expected 41 fields, saw 43\\nSkipping line 10498: expected 41 fields, saw 43\\nSkipping line 10499: expected 41 fields, saw 43\\nSkipping line 10500: expected 41 fields, saw 43\\nSkipping line 10501: expected 41 fields, saw 43\\nSkipping line 10502: expected 41 fields, saw 43\\nSkipping line 10503: expected 41 fields, saw 43\\nSkipping line 10504: expected 41 fields, saw 43\\nSkipping line 10505: expected 41 fields, saw 43\\nSkipping line 10510: expected 41 fields, saw 43\\nSkipping line 10511: expected 41 fields, saw 43\\nSkipping line 10512: expected 41 fields, saw 43\\nSkipping line 10514: expected 41 fields, saw 43\\nSkipping line 10515: expected 41 fields, saw 43\\nSkipping line 10517: expected 41 fields, saw 43\\nSkipping line 10519: expected 41 fields, saw 43\\nSkipping line 10811: expected 41 fields, saw 43\\nSkipping line 10812: expected 41 fields, saw 43\\nSkipping line 10879: expected 41 fields, saw 43\\nSkipping line 10880: expected 41 fields, saw 43\\nSkipping line 10881: expected 41 fields, saw 43\\nSkipping line 14155: expected 41 fields, saw 43\\nSkipping line 14165: expected 41 fields, saw 43\\nSkipping line 14166: expected 41 fields, saw 43\\nSkipping line 14562: expected 41 fields, saw 43\\nSkipping line 15204: expected 41 fields, saw 43\\nSkipping line 15205: expected 41 fields, saw 43\\nSkipping line 15206: expected 41 fields, saw 43\\nSkipping line 15207: expected 41 fields, saw 43\\nSkipping line 15208: expected 41 fields, saw 43\\nSkipping line 15629: expected 41 fields, saw 43\\nSkipping line 15630: expected 41 fields, saw 43\\nSkipping line 15631: expected 41 fields, saw 43\\nSkipping line 15632: expected 41 fields, saw 43\\nSkipping line 15633: expected 41 fields, saw 43\\nSkipping line 15634: expected 41 fields, saw 43\\nSkipping line 15635: expected 41 fields, saw 43\\nSkipping line 15636: expected 41 fields, saw 43\\nSkipping line 15637: expected 41 fields, saw 43\\nSkipping line 15638: expected 41 fields, saw 43\\nSkipping line 15639: expected 41 fields, saw 43\\nSkipping line 15640: expected 41 fields, saw 43\\nSkipping line 15641: expected 41 fields, saw 43\\nSkipping line 15646: expected 41 fields, saw 43\\nSkipping line 15647: expected 41 fields, saw 43\\nSkipping line 15795: expected 41 fields, saw 43\\nSkipping line 15805: expected 41 fields, saw 43\\nSkipping line 15806: expected 41 fields, saw 43\\nSkipping line 15931: expected 41 fields, saw 43\\nSkipping line 15933: expected 41 fields, saw 43\\nSkipping line 16014: expected 41 fields, saw 43\\nSkipping line 16015: expected 41 fields, saw 43\\nSkipping line 16016: expected 41 fields, saw 43\\nSkipping line 16017: expected 41 fields, saw 43\\nSkipping line 16291: expected 41 fields, saw 43\\n'\n",
      "b'Skipping line 16702: expected 41 fields, saw 43\\nSkipping line 16703: expected 41 fields, saw 43\\nSkipping line 17121: expected 41 fields, saw 43\\nSkipping line 17122: expected 41 fields, saw 43\\nSkipping line 17123: expected 41 fields, saw 43\\nSkipping line 18370: expected 41 fields, saw 43\\nSkipping line 18554: expected 41 fields, saw 43\\nSkipping line 18555: expected 41 fields, saw 43\\nSkipping line 18556: expected 41 fields, saw 43\\nSkipping line 18557: expected 41 fields, saw 43\\nSkipping line 18558: expected 41 fields, saw 43\\nSkipping line 18559: expected 41 fields, saw 43\\nSkipping line 18560: expected 41 fields, saw 43\\nSkipping line 18561: expected 41 fields, saw 43\\nSkipping line 18562: expected 41 fields, saw 43\\nSkipping line 18563: expected 41 fields, saw 43\\nSkipping line 18564: expected 41 fields, saw 43\\nSkipping line 18565: expected 41 fields, saw 43\\nSkipping line 18566: expected 41 fields, saw 43\\nSkipping line 18567: expected 41 fields, saw 43\\nSkipping line 18568: expected 41 fields, saw 43\\nSkipping line 18569: expected 41 fields, saw 43\\nSkipping line 18570: expected 41 fields, saw 43\\nSkipping line 18571: expected 41 fields, saw 43\\nSkipping line 18572: expected 41 fields, saw 43\\nSkipping line 18575: expected 41 fields, saw 43\\nSkipping line 18576: expected 41 fields, saw 43\\nSkipping line 18577: expected 41 fields, saw 43\\nSkipping line 18578: expected 41 fields, saw 43\\nSkipping line 18579: expected 41 fields, saw 43\\nSkipping line 18580: expected 41 fields, saw 43\\nSkipping line 18581: expected 41 fields, saw 43\\nSkipping line 19885: expected 41 fields, saw 43\\nSkipping line 19886: expected 41 fields, saw 43\\nSkipping line 19903: expected 41 fields, saw 43\\nSkipping line 19904: expected 41 fields, saw 43\\nSkipping line 19905: expected 41 fields, saw 43\\nSkipping line 31640: expected 41 fields, saw 42\\n'\n",
      "b'Skipping line 41190: expected 41 fields, saw 42\\nSkipping line 41232: expected 41 fields, saw 42\\nSkipping line 43818: expected 41 fields, saw 43\\n'\n",
      "b'Skipping line 50686: expected 41 fields, saw 42\\n'\n",
      "b'Skipping line 89128: expected 41 fields, saw 42\\n'\n",
      "b'Skipping line 116443: expected 41 fields, saw 42\\nSkipping line 125111: expected 41 fields, saw 45\\n'\n",
      "b'Skipping line 134297: expected 41 fields, saw 45\\n'\n",
      "b'Skipping line 152559: expected 41 fields, saw 43\\nSkipping line 157155: expected 41 fields, saw 43\\nSkipping line 157156: expected 41 fields, saw 43\\nSkipping line 157157: expected 41 fields, saw 43\\nSkipping line 157158: expected 41 fields, saw 43\\nSkipping line 157159: expected 41 fields, saw 43\\nSkipping line 157160: expected 41 fields, saw 43\\nSkipping line 157161: expected 41 fields, saw 43\\nSkipping line 157162: expected 41 fields, saw 43\\nSkipping line 157163: expected 41 fields, saw 43\\nSkipping line 157164: expected 41 fields, saw 43\\nSkipping line 157166: expected 41 fields, saw 43\\nSkipping line 157167: expected 41 fields, saw 43\\nSkipping line 157168: expected 41 fields, saw 43\\nSkipping line 157169: expected 41 fields, saw 43\\nSkipping line 157170: expected 41 fields, saw 43\\nSkipping line 157171: expected 41 fields, saw 43\\nSkipping line 157172: expected 41 fields, saw 43\\nSkipping line 157173: expected 41 fields, saw 43\\nSkipping line 159946: expected 41 fields, saw 43\\nSkipping line 159947: expected 41 fields, saw 43\\nSkipping line 159948: expected 41 fields, saw 43\\nSkipping line 159949: expected 41 fields, saw 43\\nSkipping line 159950: expected 41 fields, saw 43\\nSkipping line 159951: expected 41 fields, saw 43\\nSkipping line 159952: expected 41 fields, saw 43\\nSkipping line 160639: expected 41 fields, saw 43\\nSkipping line 160640: expected 41 fields, saw 43\\nSkipping line 160641: expected 41 fields, saw 43\\nSkipping line 160642: expected 41 fields, saw 43\\nSkipping line 160643: expected 41 fields, saw 43\\nSkipping line 160644: expected 41 fields, saw 43\\nSkipping line 160645: expected 41 fields, saw 43\\nSkipping line 160646: expected 41 fields, saw 43\\nSkipping line 160647: expected 41 fields, saw 43\\nSkipping line 160648: expected 41 fields, saw 43\\nSkipping line 160649: expected 41 fields, saw 43\\nSkipping line 160650: expected 41 fields, saw 43\\nSkipping line 160651: expected 41 fields, saw 43\\nSkipping line 160652: expected 41 fields, saw 43\\nSkipping line 160653: expected 41 fields, saw 43\\nSkipping line 160654: expected 41 fields, saw 43\\nSkipping line 160655: expected 41 fields, saw 43\\nSkipping line 161192: expected 41 fields, saw 43\\nSkipping line 161193: expected 41 fields, saw 43\\nSkipping line 161194: expected 41 fields, saw 43\\nSkipping line 161195: expected 41 fields, saw 43\\nSkipping line 161196: expected 41 fields, saw 43\\nSkipping line 161197: expected 41 fields, saw 43\\nSkipping line 161198: expected 41 fields, saw 43\\nSkipping line 161199: expected 41 fields, saw 43\\nSkipping line 161355: expected 41 fields, saw 43\\nSkipping line 161356: expected 41 fields, saw 43\\nSkipping line 161357: expected 41 fields, saw 43\\nSkipping line 161358: expected 41 fields, saw 43\\nSkipping line 161359: expected 41 fields, saw 43\\nSkipping line 161360: expected 41 fields, saw 43\\nSkipping line 161361: expected 41 fields, saw 43\\nSkipping line 161363: expected 41 fields, saw 43\\nSkipping line 161364: expected 41 fields, saw 43\\nSkipping line 161365: expected 41 fields, saw 43\\nSkipping line 161366: expected 41 fields, saw 43\\nSkipping line 161367: expected 41 fields, saw 43\\nSkipping line 161368: expected 41 fields, saw 43\\nSkipping line 161369: expected 41 fields, saw 43\\nSkipping line 161370: expected 41 fields, saw 43\\nSkipping line 161372: expected 41 fields, saw 43\\nSkipping line 161373: expected 41 fields, saw 43\\nSkipping line 161374: expected 41 fields, saw 43\\nSkipping line 161375: expected 41 fields, saw 43\\nSkipping line 161376: expected 41 fields, saw 43\\nSkipping line 161377: expected 41 fields, saw 43\\nSkipping line 161378: expected 41 fields, saw 43\\nSkipping line 161379: expected 41 fields, saw 43\\nSkipping line 161380: expected 41 fields, saw 43\\nSkipping line 161381: expected 41 fields, saw 43\\nSkipping line 161382: expected 41 fields, saw 43\\nSkipping line 161383: expected 41 fields, saw 43\\nSkipping line 161384: expected 41 fields, saw 43\\nSkipping line 161385: expected 41 fields, saw 43\\nSkipping line 161386: expected 41 fields, saw 43\\nSkipping line 161387: expected 41 fields, saw 43\\nSkipping line 161389: expected 41 fields, saw 43\\nSkipping line 161390: expected 41 fields, saw 43\\nSkipping line 161391: expected 41 fields, saw 43\\nSkipping line 161392: expected 41 fields, saw 43\\nSkipping line 161393: expected 41 fields, saw 43\\nSkipping line 161394: expected 41 fields, saw 43\\nSkipping line 161395: expected 41 fields, saw 43\\nSkipping line 161396: expected 41 fields, saw 43\\nSkipping line 161397: expected 41 fields, saw 43\\nSkipping line 161398: expected 41 fields, saw 43\\nSkipping line 161399: expected 41 fields, saw 43\\nSkipping line 161400: expected 41 fields, saw 43\\nSkipping line 161401: expected 41 fields, saw 43\\nSkipping line 161402: expected 41 fields, saw 43\\nSkipping line 161403: expected 41 fields, saw 43\\nSkipping line 161404: expected 41 fields, saw 43\\nSkipping line 161405: expected 41 fields, saw 43\\nSkipping line 161406: expected 41 fields, saw 43\\nSkipping line 161407: expected 41 fields, saw 43\\nSkipping line 161408: expected 41 fields, saw 43\\nSkipping line 161409: expected 41 fields, saw 43\\nSkipping line 161410: expected 41 fields, saw 43\\nSkipping line 161411: expected 41 fields, saw 43\\nSkipping line 161412: expected 41 fields, saw 43\\nSkipping line 161414: expected 41 fields, saw 43\\nSkipping line 161415: expected 41 fields, saw 43\\nSkipping line 161416: expected 41 fields, saw 43\\nSkipping line 161417: expected 41 fields, saw 43\\nSkipping line 161418: expected 41 fields, saw 43\\nSkipping line 161419: expected 41 fields, saw 43\\nSkipping line 161420: expected 41 fields, saw 43\\nSkipping line 161421: expected 41 fields, saw 43\\nSkipping line 161422: expected 41 fields, saw 43\\nSkipping line 161423: expected 41 fields, saw 43\\nSkipping line 161424: expected 41 fields, saw 43\\nSkipping line 161425: expected 41 fields, saw 43\\nSkipping line 161426: expected 41 fields, saw 43\\nSkipping line 161427: expected 41 fields, saw 43\\nSkipping line 161428: expected 41 fields, saw 43\\nSkipping line 161429: expected 41 fields, saw 43\\nSkipping line 161430: expected 41 fields, saw 43\\nSkipping line 161431: expected 41 fields, saw 43\\nSkipping line 161432: expected 41 fields, saw 43\\nSkipping line 161433: expected 41 fields, saw 43\\nSkipping line 161434: expected 41 fields, saw 43\\nSkipping line 161435: expected 41 fields, saw 43\\nSkipping line 161436: expected 41 fields, saw 43\\nSkipping line 161437: expected 41 fields, saw 43\\nSkipping line 161438: expected 41 fields, saw 43\\nSkipping line 161439: expected 41 fields, saw 43\\nSkipping line 161440: expected 41 fields, saw 43\\nSkipping line 161441: expected 41 fields, saw 43\\nSkipping line 161442: expected 41 fields, saw 43\\nSkipping line 161443: expected 41 fields, saw 43\\nSkipping line 161444: expected 41 fields, saw 43\\nSkipping line 161445: expected 41 fields, saw 43\\nSkipping line 161447: expected 41 fields, saw 43\\nSkipping line 161448: expected 41 fields, saw 43\\nSkipping line 161449: expected 41 fields, saw 43\\nSkipping line 161450: expected 41 fields, saw 43\\nSkipping line 161451: expected 41 fields, saw 43\\nSkipping line 161452: expected 41 fields, saw 43\\nSkipping line 161453: expected 41 fields, saw 43\\nSkipping line 161454: expected 41 fields, saw 43\\nSkipping line 161455: expected 41 fields, saw 43\\nSkipping line 161456: expected 41 fields, saw 43\\nSkipping line 161457: expected 41 fields, saw 43\\nSkipping line 161458: expected 41 fields, saw 43\\nSkipping line 161459: expected 41 fields, saw 43\\nSkipping line 161460: expected 41 fields, saw 43\\nSkipping line 161461: expected 41 fields, saw 43\\nSkipping line 161462: expected 41 fields, saw 43\\nSkipping line 161464: expected 41 fields, saw 43\\nSkipping line 161465: expected 41 fields, saw 43\\nSkipping line 161466: expected 41 fields, saw 43\\nSkipping line 161467: expected 41 fields, saw 43\\nSkipping line 161468: expected 41 fields, saw 43\\nSkipping line 161469: expected 41 fields, saw 43\\nSkipping line 161470: expected 41 fields, saw 43\\nSkipping line 161472: expected 41 fields, saw 43\\nSkipping line 161473: expected 41 fields, saw 43\\nSkipping line 161474: expected 41 fields, saw 43\\nSkipping line 161475: expected 41 fields, saw 43\\nSkipping line 161476: expected 41 fields, saw 43\\nSkipping line 161477: expected 41 fields, saw 43\\nSkipping line 161478: expected 41 fields, saw 43\\nSkipping line 161479: expected 41 fields, saw 43\\nSkipping line 161480: expected 41 fields, saw 43\\nSkipping line 161481: expected 41 fields, saw 43\\nSkipping line 161482: expected 41 fields, saw 43\\nSkipping line 161483: expected 41 fields, saw 43\\nSkipping line 161484: expected 41 fields, saw 43\\nSkipping line 161485: expected 41 fields, saw 43\\nSkipping line 161486: expected 41 fields, saw 43\\nSkipping line 161487: expected 41 fields, saw 43\\nSkipping line 161488: expected 41 fields, saw 43\\nSkipping line 161490: expected 41 fields, saw 43\\nSkipping line 161491: expected 41 fields, saw 43\\nSkipping line 161492: expected 41 fields, saw 43\\nSkipping line 161493: expected 41 fields, saw 43\\nSkipping line 161494: expected 41 fields, saw 43\\nSkipping line 161495: expected 41 fields, saw 43\\nSkipping line 161496: expected 41 fields, saw 43\\nSkipping line 161497: expected 41 fields, saw 43\\nSkipping line 161498: expected 41 fields, saw 43\\nSkipping line 161499: expected 41 fields, saw 43\\nSkipping line 161500: expected 41 fields, saw 43\\nSkipping line 161501: expected 41 fields, saw 43\\nSkipping line 161502: expected 41 fields, saw 43\\nSkipping line 161503: expected 41 fields, saw 43\\nSkipping line 161504: expected 41 fields, saw 43\\nSkipping line 161505: expected 41 fields, saw 43\\nSkipping line 161506: expected 41 fields, saw 43\\nSkipping line 161507: expected 41 fields, saw 43\\nSkipping line 161508: expected 41 fields, saw 43\\nSkipping line 161509: expected 41 fields, saw 43\\nSkipping line 161510: expected 41 fields, saw 43\\nSkipping line 161511: expected 41 fields, saw 43\\nSkipping line 161512: expected 41 fields, saw 43\\nSkipping line 161513: expected 41 fields, saw 43\\nSkipping line 161515: expected 41 fields, saw 43\\nSkipping line 161516: expected 41 fields, saw 43\\nSkipping line 161517: expected 41 fields, saw 43\\nSkipping line 161518: expected 41 fields, saw 43\\nSkipping line 161519: expected 41 fields, saw 43\\nSkipping line 161520: expected 41 fields, saw 43\\nSkipping line 161522: expected 41 fields, saw 43\\nSkipping line 161523: expected 41 fields, saw 43\\nSkipping line 161524: expected 41 fields, saw 43\\nSkipping line 161525: expected 41 fields, saw 43\\nSkipping line 161526: expected 41 fields, saw 43\\nSkipping line 161527: expected 41 fields, saw 43\\nSkipping line 161528: expected 41 fields, saw 43\\nSkipping line 161529: expected 41 fields, saw 43\\nSkipping line 161530: expected 41 fields, saw 43\\nSkipping line 161531: expected 41 fields, saw 43\\nSkipping line 161532: expected 41 fields, saw 43\\nSkipping line 161533: expected 41 fields, saw 43\\nSkipping line 161534: expected 41 fields, saw 43\\nSkipping line 161535: expected 41 fields, saw 43\\nSkipping line 161536: expected 41 fields, saw 43\\nSkipping line 161537: expected 41 fields, saw 43\\nSkipping line 161538: expected 41 fields, saw 43\\nSkipping line 161539: expected 41 fields, saw 43\\nSkipping line 161541: expected 41 fields, saw 43\\nSkipping line 161542: expected 41 fields, saw 43\\nSkipping line 161543: expected 41 fields, saw 43\\nSkipping line 161544: expected 41 fields, saw 43\\nSkipping line 161545: expected 41 fields, saw 43\\nSkipping line 161546: expected 41 fields, saw 43\\nSkipping line 161547: expected 41 fields, saw 43\\nSkipping line 161548: expected 41 fields, saw 43\\nSkipping line 161549: expected 41 fields, saw 43\\nSkipping line 161550: expected 41 fields, saw 43\\nSkipping line 161551: expected 41 fields, saw 43\\nSkipping line 161552: expected 41 fields, saw 43\\nSkipping line 161553: expected 41 fields, saw 43\\nSkipping line 161554: expected 41 fields, saw 43\\nSkipping line 161555: expected 41 fields, saw 43\\nSkipping line 161556: expected 41 fields, saw 43\\nSkipping line 161557: expected 41 fields, saw 43\\nSkipping line 161558: expected 41 fields, saw 43\\nSkipping line 161559: expected 41 fields, saw 43\\nSkipping line 161560: expected 41 fields, saw 43\\nSkipping line 161561: expected 41 fields, saw 43\\nSkipping line 161562: expected 41 fields, saw 43\\nSkipping line 161563: expected 41 fields, saw 43\\nSkipping line 161564: expected 41 fields, saw 43\\nSkipping line 161565: expected 41 fields, saw 43\\nSkipping line 161566: expected 41 fields, saw 43\\nSkipping line 161567: expected 41 fields, saw 43\\nSkipping line 161568: expected 41 fields, saw 43\\nSkipping line 161569: expected 41 fields, saw 43\\nSkipping line 161570: expected 41 fields, saw 43\\nSkipping line 161571: expected 41 fields, saw 43\\nSkipping line 161572: expected 41 fields, saw 43\\nSkipping line 161573: expected 41 fields, saw 43\\nSkipping line 161574: expected 41 fields, saw 43\\nSkipping line 161575: expected 41 fields, saw 43\\nSkipping line 161576: expected 41 fields, saw 43\\nSkipping line 161577: expected 41 fields, saw 43\\nSkipping line 161578: expected 41 fields, saw 43\\nSkipping line 161579: expected 41 fields, saw 43\\nSkipping line 161580: expected 41 fields, saw 43\\nSkipping line 161581: expected 41 fields, saw 43\\nSkipping line 161582: expected 41 fields, saw 43\\nSkipping line 161583: expected 41 fields, saw 43\\nSkipping line 161584: expected 41 fields, saw 43\\nSkipping line 161585: expected 41 fields, saw 43\\nSkipping line 161586: expected 41 fields, saw 43\\nSkipping line 161587: expected 41 fields, saw 43\\nSkipping line 161588: expected 41 fields, saw 43\\nSkipping line 161590: expected 41 fields, saw 43\\nSkipping line 161591: expected 41 fields, saw 43\\nSkipping line 161592: expected 41 fields, saw 43\\nSkipping line 161593: expected 41 fields, saw 43\\nSkipping line 161594: expected 41 fields, saw 43\\nSkipping line 161595: expected 41 fields, saw 43\\nSkipping line 161596: expected 41 fields, saw 43\\nSkipping line 161597: expected 41 fields, saw 43\\nSkipping line 161598: expected 41 fields, saw 43\\nSkipping line 161599: expected 41 fields, saw 43\\nSkipping line 161600: expected 41 fields, saw 43\\nSkipping line 161601: expected 41 fields, saw 43\\nSkipping line 161602: expected 41 fields, saw 43\\nSkipping line 161603: expected 41 fields, saw 43\\nSkipping line 161604: expected 41 fields, saw 43\\nSkipping line 161605: expected 41 fields, saw 43\\nSkipping line 161606: expected 41 fields, saw 43\\nSkipping line 161607: expected 41 fields, saw 43\\nSkipping line 161608: expected 41 fields, saw 43\\nSkipping line 161609: expected 41 fields, saw 43\\nSkipping line 161610: expected 41 fields, saw 43\\nSkipping line 161611: expected 41 fields, saw 43\\nSkipping line 161612: expected 41 fields, saw 43\\nSkipping line 161613: expected 41 fields, saw 43\\nSkipping line 161615: expected 41 fields, saw 43\\nSkipping line 161616: expected 41 fields, saw 43\\nSkipping line 161617: expected 41 fields, saw 43\\nSkipping line 161618: expected 41 fields, saw 43\\nSkipping line 161619: expected 41 fields, saw 43\\nSkipping line 161621: expected 41 fields, saw 43\\nSkipping line 161622: expected 41 fields, saw 43\\nSkipping line 161623: expected 41 fields, saw 43\\nSkipping line 161624: expected 41 fields, saw 43\\nSkipping line 161625: expected 41 fields, saw 43\\nSkipping line 161626: expected 41 fields, saw 43\\nSkipping line 161627: expected 41 fields, saw 43\\nSkipping line 161628: expected 41 fields, saw 43\\nSkipping line 161629: expected 41 fields, saw 43\\nSkipping line 161630: expected 41 fields, saw 43\\nSkipping line 161631: expected 41 fields, saw 43\\nSkipping line 161632: expected 41 fields, saw 43\\nSkipping line 161633: expected 41 fields, saw 43\\nSkipping line 161634: expected 41 fields, saw 43\\nSkipping line 161635: expected 41 fields, saw 43\\nSkipping line 161636: expected 41 fields, saw 43\\nSkipping line 161637: expected 41 fields, saw 43\\nSkipping line 161638: expected 41 fields, saw 43\\nSkipping line 161639: expected 41 fields, saw 43\\nSkipping line 161640: expected 41 fields, saw 43\\nSkipping line 161641: expected 41 fields, saw 43\\nSkipping line 161642: expected 41 fields, saw 43\\nSkipping line 161643: expected 41 fields, saw 43\\nSkipping line 161644: expected 41 fields, saw 43\\nSkipping line 161645: expected 41 fields, saw 43\\nSkipping line 161646: expected 41 fields, saw 43\\nSkipping line 161647: expected 41 fields, saw 43\\nSkipping line 161648: expected 41 fields, saw 43\\nSkipping line 161649: expected 41 fields, saw 43\\nSkipping line 161650: expected 41 fields, saw 43\\nSkipping line 161651: expected 41 fields, saw 43\\nSkipping line 161652: expected 41 fields, saw 43\\nSkipping line 161653: expected 41 fields, saw 43\\nSkipping line 161654: expected 41 fields, saw 43\\nSkipping line 161655: expected 41 fields, saw 43\\nSkipping line 161656: expected 41 fields, saw 43\\nSkipping line 161657: expected 41 fields, saw 43\\nSkipping line 161658: expected 41 fields, saw 43\\nSkipping line 161659: expected 41 fields, saw 43\\nSkipping line 161660: expected 41 fields, saw 43\\nSkipping line 161661: expected 41 fields, saw 43\\nSkipping line 161662: expected 41 fields, saw 43\\nSkipping line 161663: expected 41 fields, saw 43\\nSkipping line 161664: expected 41 fields, saw 43\\nSkipping line 161665: expected 41 fields, saw 43\\nSkipping line 161666: expected 41 fields, saw 43\\nSkipping line 161667: expected 41 fields, saw 43\\nSkipping line 161668: expected 41 fields, saw 43\\nSkipping line 161669: expected 41 fields, saw 43\\nSkipping line 161670: expected 41 fields, saw 43\\nSkipping line 161671: expected 41 fields, saw 43\\nSkipping line 161672: expected 41 fields, saw 43\\nSkipping line 161673: expected 41 fields, saw 43\\nSkipping line 161674: expected 41 fields, saw 43\\nSkipping line 161675: expected 41 fields, saw 43\\nSkipping line 161676: expected 41 fields, saw 43\\nSkipping line 161677: expected 41 fields, saw 43\\nSkipping line 161678: expected 41 fields, saw 43\\nSkipping line 161679: expected 41 fields, saw 43\\nSkipping line 161680: expected 41 fields, saw 43\\nSkipping line 161681: expected 41 fields, saw 43\\nSkipping line 161682: expected 41 fields, saw 43\\nSkipping line 161683: expected 41 fields, saw 43\\nSkipping line 161684: expected 41 fields, saw 43\\nSkipping line 161685: expected 41 fields, saw 43\\nSkipping line 161686: expected 41 fields, saw 43\\nSkipping line 161687: expected 41 fields, saw 43\\nSkipping line 161688: expected 41 fields, saw 43\\nSkipping line 161689: expected 41 fields, saw 43\\nSkipping line 161690: expected 41 fields, saw 43\\nSkipping line 161691: expected 41 fields, saw 43\\nSkipping line 161692: expected 41 fields, saw 43\\nSkipping line 161694: expected 41 fields, saw 43\\nSkipping line 161695: expected 41 fields, saw 43\\nSkipping line 161696: expected 41 fields, saw 43\\nSkipping line 161697: expected 41 fields, saw 43\\nSkipping line 161698: expected 41 fields, saw 43\\nSkipping line 161699: expected 41 fields, saw 43\\nSkipping line 161700: expected 41 fields, saw 43\\nSkipping line 161701: expected 41 fields, saw 43\\nSkipping line 161702: expected 41 fields, saw 43\\nSkipping line 161703: expected 41 fields, saw 43\\nSkipping line 161704: expected 41 fields, saw 43\\nSkipping line 161705: expected 41 fields, saw 43\\nSkipping line 161706: expected 41 fields, saw 43\\nSkipping line 161707: expected 41 fields, saw 43\\nSkipping line 161708: expected 41 fields, saw 43\\nSkipping line 161709: expected 41 fields, saw 43\\nSkipping line 161710: expected 41 fields, saw 43\\nSkipping line 161711: expected 41 fields, saw 43\\nSkipping line 161712: expected 41 fields, saw 43\\nSkipping line 161714: expected 41 fields, saw 43\\nSkipping line 161715: expected 41 fields, saw 43\\nSkipping line 161716: expected 41 fields, saw 43\\nSkipping line 161717: expected 41 fields, saw 43\\nSkipping line 161718: expected 41 fields, saw 43\\nSkipping line 161719: expected 41 fields, saw 43\\nSkipping line 161720: expected 41 fields, saw 43\\nSkipping line 161721: expected 41 fields, saw 43\\nSkipping line 161722: expected 41 fields, saw 43\\nSkipping line 161723: expected 41 fields, saw 43\\nSkipping line 161724: expected 41 fields, saw 43\\nSkipping line 161725: expected 41 fields, saw 43\\nSkipping line 161726: expected 41 fields, saw 43\\nSkipping line 161727: expected 41 fields, saw 43\\nSkipping line 161728: expected 41 fields, saw 43\\nSkipping line 161729: expected 41 fields, saw 43\\nSkipping line 161730: expected 41 fields, saw 43\\nSkipping line 161731: expected 41 fields, saw 43\\nSkipping line 161732: expected 41 fields, saw 43\\nSkipping line 161733: expected 41 fields, saw 43\\nSkipping line 161734: expected 41 fields, saw 43\\nSkipping line 161735: expected 41 fields, saw 43\\nSkipping line 161736: expected 41 fields, saw 43\\nSkipping line 161737: expected 41 fields, saw 43\\nSkipping line 161739: expected 41 fields, saw 43\\nSkipping line 161740: expected 41 fields, saw 43\\nSkipping line 161741: expected 41 fields, saw 43\\nSkipping line 161742: expected 41 fields, saw 43\\nSkipping line 161743: expected 41 fields, saw 43\\nSkipping line 161744: expected 41 fields, saw 43\\nSkipping line 161745: expected 41 fields, saw 43\\nSkipping line 161746: expected 41 fields, saw 43\\nSkipping line 161747: expected 41 fields, saw 43\\nSkipping line 161748: expected 41 fields, saw 43\\nSkipping line 161749: expected 41 fields, saw 43\\nSkipping line 161750: expected 41 fields, saw 43\\nSkipping line 161751: expected 41 fields, saw 43\\nSkipping line 161752: expected 41 fields, saw 43\\nSkipping line 161753: expected 41 fields, saw 43\\nSkipping line 161754: expected 41 fields, saw 43\\nSkipping line 161755: expected 41 fields, saw 43\\nSkipping line 161756: expected 41 fields, saw 43\\nSkipping line 161757: expected 41 fields, saw 43\\nSkipping line 161758: expected 41 fields, saw 43\\nSkipping line 161759: expected 41 fields, saw 43\\nSkipping line 161760: expected 41 fields, saw 43\\nSkipping line 161761: expected 41 fields, saw 43\\nSkipping line 161762: expected 41 fields, saw 43\\nSkipping line 161763: expected 41 fields, saw 43\\nSkipping line 161764: expected 41 fields, saw 43\\nSkipping line 161765: expected 41 fields, saw 43\\nSkipping line 161766: expected 41 fields, saw 43\\nSkipping line 161767: expected 41 fields, saw 43\\nSkipping line 161769: expected 41 fields, saw 43\\nSkipping line 161770: expected 41 fields, saw 43\\nSkipping line 161771: expected 41 fields, saw 43\\nSkipping line 161772: expected 41 fields, saw 43\\nSkipping line 161773: expected 41 fields, saw 43\\nSkipping line 161774: expected 41 fields, saw 43\\nSkipping line 161775: expected 41 fields, saw 43\\nSkipping line 161776: expected 41 fields, saw 43\\nSkipping line 161777: expected 41 fields, saw 43\\nSkipping line 161778: expected 41 fields, saw 43\\nSkipping line 161779: expected 41 fields, saw 43\\nSkipping line 161780: expected 41 fields, saw 43\\nSkipping line 161781: expected 41 fields, saw 43\\nSkipping line 161782: expected 41 fields, saw 43\\nSkipping line 161783: expected 41 fields, saw 43\\nSkipping line 161784: expected 41 fields, saw 43\\nSkipping line 161785: expected 41 fields, saw 43\\nSkipping line 161786: expected 41 fields, saw 43\\nSkipping line 161787: expected 41 fields, saw 43\\nSkipping line 161788: expected 41 fields, saw 43\\nSkipping line 161789: expected 41 fields, saw 43\\nSkipping line 161790: expected 41 fields, saw 43\\nSkipping line 161791: expected 41 fields, saw 43\\nSkipping line 161792: expected 41 fields, saw 43\\nSkipping line 161793: expected 41 fields, saw 43\\nSkipping line 161794: expected 41 fields, saw 43\\nSkipping line 161795: expected 41 fields, saw 43\\nSkipping line 161796: expected 41 fields, saw 43\\nSkipping line 161797: expected 41 fields, saw 43\\nSkipping line 161798: expected 41 fields, saw 43\\nSkipping line 161799: expected 41 fields, saw 43\\nSkipping line 161800: expected 41 fields, saw 43\\nSkipping line 161801: expected 41 fields, saw 43\\nSkipping line 161802: expected 41 fields, saw 43\\nSkipping line 161803: expected 41 fields, saw 43\\nSkipping line 161804: expected 41 fields, saw 43\\nSkipping line 161805: expected 41 fields, saw 43\\nSkipping line 161806: expected 41 fields, saw 43\\nSkipping line 161807: expected 41 fields, saw 43\\nSkipping line 161808: expected 41 fields, saw 43\\nSkipping line 161809: expected 41 fields, saw 43\\nSkipping line 161810: expected 41 fields, saw 43\\nSkipping line 161811: expected 41 fields, saw 43\\nSkipping line 161812: expected 41 fields, saw 43\\nSkipping line 161813: expected 41 fields, saw 43\\nSkipping line 161814: expected 41 fields, saw 43\\nSkipping line 161815: expected 41 fields, saw 43\\nSkipping line 161816: expected 41 fields, saw 43\\nSkipping line 161817: expected 41 fields, saw 43\\nSkipping line 161818: expected 41 fields, saw 43\\nSkipping line 161819: expected 41 fields, saw 43\\nSkipping line 161820: expected 41 fields, saw 43\\nSkipping line 161821: expected 41 fields, saw 43\\nSkipping line 161822: expected 41 fields, saw 43\\nSkipping line 161823: expected 41 fields, saw 43\\nSkipping line 161824: expected 41 fields, saw 43\\nSkipping line 161825: expected 41 fields, saw 43\\nSkipping line 161826: expected 41 fields, saw 43\\nSkipping line 161827: expected 41 fields, saw 43\\nSkipping line 161828: expected 41 fields, saw 43\\nSkipping line 161829: expected 41 fields, saw 43\\nSkipping line 161830: expected 41 fields, saw 43\\nSkipping line 161831: expected 41 fields, saw 43\\nSkipping line 161832: expected 41 fields, saw 43\\nSkipping line 161833: expected 41 fields, saw 43\\nSkipping line 161834: expected 41 fields, saw 43\\nSkipping line 161835: expected 41 fields, saw 43\\nSkipping line 161836: expected 41 fields, saw 43\\nSkipping line 161837: expected 41 fields, saw 43\\nSkipping line 161838: expected 41 fields, saw 43\\nSkipping line 161839: expected 41 fields, saw 43\\nSkipping line 161840: expected 41 fields, saw 43\\nSkipping line 161841: expected 41 fields, saw 43\\nSkipping line 161842: expected 41 fields, saw 43\\nSkipping line 161843: expected 41 fields, saw 43\\nSkipping line 161844: expected 41 fields, saw 43\\nSkipping line 161845: expected 41 fields, saw 43\\nSkipping line 161846: expected 41 fields, saw 43\\nSkipping line 161847: expected 41 fields, saw 43\\nSkipping line 161848: expected 41 fields, saw 43\\nSkipping line 161849: expected 41 fields, saw 43\\nSkipping line 161850: expected 41 fields, saw 43\\nSkipping line 161851: expected 41 fields, saw 43\\nSkipping line 161852: expected 41 fields, saw 43\\nSkipping line 161853: expected 41 fields, saw 43\\nSkipping line 161854: expected 41 fields, saw 43\\nSkipping line 161855: expected 41 fields, saw 43\\nSkipping line 161856: expected 41 fields, saw 43\\nSkipping line 161857: expected 41 fields, saw 43\\nSkipping line 161858: expected 41 fields, saw 43\\nSkipping line 161859: expected 41 fields, saw 43\\nSkipping line 161860: expected 41 fields, saw 43\\nSkipping line 161862: expected 41 fields, saw 43\\nSkipping line 161863: expected 41 fields, saw 43\\nSkipping line 161864: expected 41 fields, saw 43\\nSkipping line 161865: expected 41 fields, saw 43\\nSkipping line 161866: expected 41 fields, saw 43\\nSkipping line 161867: expected 41 fields, saw 43\\nSkipping line 161868: expected 41 fields, saw 43\\nSkipping line 161869: expected 41 fields, saw 43\\nSkipping line 161870: expected 41 fields, saw 43\\nSkipping line 161871: expected 41 fields, saw 43\\nSkipping line 161872: expected 41 fields, saw 43\\nSkipping line 161873: expected 41 fields, saw 43\\nSkipping line 161874: expected 41 fields, saw 43\\nSkipping line 161875: expected 41 fields, saw 43\\nSkipping line 161876: expected 41 fields, saw 43\\nSkipping line 161877: expected 41 fields, saw 43\\nSkipping line 161878: expected 41 fields, saw 43\\nSkipping line 161879: expected 41 fields, saw 43\\nSkipping line 161880: expected 41 fields, saw 43\\nSkipping line 161881: expected 41 fields, saw 43\\nSkipping line 161882: expected 41 fields, saw 43\\nSkipping line 161883: expected 41 fields, saw 43\\nSkipping line 161884: expected 41 fields, saw 43\\nSkipping line 161885: expected 41 fields, saw 43\\nSkipping line 161887: expected 41 fields, saw 43\\nSkipping line 161888: expected 41 fields, saw 43\\nSkipping line 161889: expected 41 fields, saw 43\\nSkipping line 161890: expected 41 fields, saw 43\\nSkipping line 161891: expected 41 fields, saw 43\\nSkipping line 161892: expected 41 fields, saw 43\\nSkipping line 161893: expected 41 fields, saw 43\\nSkipping line 161894: expected 41 fields, saw 43\\nSkipping line 161895: expected 41 fields, saw 43\\nSkipping line 161896: expected 41 fields, saw 43\\nSkipping line 161897: expected 41 fields, saw 43\\nSkipping line 161898: expected 41 fields, saw 43\\nSkipping line 161899: expected 41 fields, saw 43\\nSkipping line 161900: expected 41 fields, saw 43\\nSkipping line 161901: expected 41 fields, saw 43\\nSkipping line 161902: expected 41 fields, saw 43\\nSkipping line 161903: expected 41 fields, saw 43\\nSkipping line 161904: expected 41 fields, saw 43\\nSkipping line 161905: expected 41 fields, saw 43\\nSkipping line 161906: expected 41 fields, saw 43\\nSkipping line 161907: expected 41 fields, saw 43\\nSkipping line 161908: expected 41 fields, saw 43\\nSkipping line 161909: expected 41 fields, saw 43\\nSkipping line 161910: expected 41 fields, saw 43\\nSkipping line 161911: expected 41 fields, saw 43\\nSkipping line 161912: expected 41 fields, saw 43\\nSkipping line 161913: expected 41 fields, saw 43\\nSkipping line 161914: expected 41 fields, saw 43\\nSkipping line 161915: expected 41 fields, saw 43\\nSkipping line 161916: expected 41 fields, saw 43\\nSkipping line 161917: expected 41 fields, saw 43\\nSkipping line 161918: expected 41 fields, saw 43\\nSkipping line 161919: expected 41 fields, saw 43\\nSkipping line 161920: expected 41 fields, saw 43\\nSkipping line 161921: expected 41 fields, saw 43\\nSkipping line 161922: expected 41 fields, saw 43\\nSkipping line 161923: expected 41 fields, saw 43\\nSkipping line 161924: expected 41 fields, saw 43\\nSkipping line 161925: expected 41 fields, saw 43\\nSkipping line 161926: expected 41 fields, saw 43\\nSkipping line 161927: expected 41 fields, saw 43\\nSkipping line 161928: expected 41 fields, saw 43\\nSkipping line 163526: expected 41 fields, saw 43\\nSkipping line 163527: expected 41 fields, saw 43\\nSkipping line 163771: expected 41 fields, saw 43\\nSkipping line 163772: expected 41 fields, saw 43\\nSkipping line 163773: expected 41 fields, saw 43\\nSkipping line 163774: expected 41 fields, saw 43\\nSkipping line 163775: expected 41 fields, saw 43\\nSkipping line 163776: expected 41 fields, saw 43\\nSkipping line 163777: expected 41 fields, saw 43\\nSkipping line 163778: expected 41 fields, saw 43\\nSkipping line 163779: expected 41 fields, saw 43\\nSkipping line 163780: expected 41 fields, saw 43\\nSkipping line 163781: expected 41 fields, saw 43\\nSkipping line 163782: expected 41 fields, saw 43\\nSkipping line 163783: expected 41 fields, saw 43\\nSkipping line 163784: expected 41 fields, saw 43\\nSkipping line 163785: expected 41 fields, saw 43\\nSkipping line 163786: expected 41 fields, saw 43\\nSkipping line 163787: expected 41 fields, saw 43\\nSkipping line 163788: expected 41 fields, saw 43\\nSkipping line 163789: expected 41 fields, saw 43\\nSkipping line 163790: expected 41 fields, saw 43\\nSkipping line 163791: expected 41 fields, saw 43\\nSkipping line 163792: expected 41 fields, saw 43\\nSkipping line 163793: expected 41 fields, saw 43\\nSkipping line 163794: expected 41 fields, saw 43\\nSkipping line 163795: expected 41 fields, saw 43\\nSkipping line 163796: expected 41 fields, saw 43\\nSkipping line 163797: expected 41 fields, saw 43\\nSkipping line 163798: expected 41 fields, saw 43\\nSkipping line 163799: expected 41 fields, saw 43\\nSkipping line 163800: expected 41 fields, saw 43\\nSkipping line 163801: expected 41 fields, saw 43\\nSkipping line 163802: expected 41 fields, saw 43\\nSkipping line 163803: expected 41 fields, saw 43\\nSkipping line 163804: expected 41 fields, saw 43\\nSkipping line 163805: expected 41 fields, saw 43\\nSkipping line 163806: expected 41 fields, saw 43\\nSkipping line 163807: expected 41 fields, saw 43\\nSkipping line 163808: expected 41 fields, saw 43\\nSkipping line 163809: expected 41 fields, saw 43\\nSkipping line 163810: expected 41 fields, saw 43\\nSkipping line 163811: expected 41 fields, saw 43\\nSkipping line 163812: expected 41 fields, saw 43\\nSkipping line 163813: expected 41 fields, saw 43\\nSkipping line 163814: expected 41 fields, saw 43\\nSkipping line 163816: expected 41 fields, saw 43\\nSkipping line 163817: expected 41 fields, saw 43\\nSkipping line 163818: expected 41 fields, saw 43\\nSkipping line 163819: expected 41 fields, saw 43\\nSkipping line 163820: expected 41 fields, saw 43\\nSkipping line 163821: expected 41 fields, saw 43\\nSkipping line 163822: expected 41 fields, saw 43\\nSkipping line 163823: expected 41 fields, saw 43\\nSkipping line 163824: expected 41 fields, saw 43\\nSkipping line 163825: expected 41 fields, saw 43\\nSkipping line 163826: expected 41 fields, saw 43\\nSkipping line 163827: expected 41 fields, saw 43\\nSkipping line 163828: expected 41 fields, saw 43\\nSkipping line 163829: expected 41 fields, saw 43\\nSkipping line 163830: expected 41 fields, saw 43\\nSkipping line 163831: expected 41 fields, saw 43\\nSkipping line 163832: expected 41 fields, saw 43\\nSkipping line 163833: expected 41 fields, saw 43\\nSkipping line 163834: expected 41 fields, saw 43\\nSkipping line 163835: expected 41 fields, saw 43\\nSkipping line 163836: expected 41 fields, saw 43\\nSkipping line 163837: expected 41 fields, saw 43\\nSkipping line 163838: expected 41 fields, saw 43\\nSkipping line 163839: expected 41 fields, saw 43\\nSkipping line 163840: expected 41 fields, saw 43\\nSkipping line 163841: expected 41 fields, saw 43\\nSkipping line 163842: expected 41 fields, saw 43\\nSkipping line 163843: expected 41 fields, saw 43\\nSkipping line 163844: expected 41 fields, saw 43\\nSkipping line 163846: expected 41 fields, saw 43\\nSkipping line 163847: expected 41 fields, saw 43\\nSkipping line 163848: expected 41 fields, saw 43\\nSkipping line 163849: expected 41 fields, saw 43\\nSkipping line 163850: expected 41 fields, saw 43\\nSkipping line 163851: expected 41 fields, saw 43\\nSkipping line 163852: expected 41 fields, saw 43\\nSkipping line 163853: expected 41 fields, saw 43\\nSkipping line 163854: expected 41 fields, saw 43\\nSkipping line 163855: expected 41 fields, saw 43\\nSkipping line 163856: expected 41 fields, saw 43\\nSkipping line 163857: expected 41 fields, saw 43\\nSkipping line 163858: expected 41 fields, saw 43\\nSkipping line 163859: expected 41 fields, saw 43\\nSkipping line 163860: expected 41 fields, saw 43\\nSkipping line 163861: expected 41 fields, saw 43\\nSkipping line 163862: expected 41 fields, saw 43\\nSkipping line 163863: expected 41 fields, saw 43\\nSkipping line 163864: expected 41 fields, saw 43\\nSkipping line 163865: expected 41 fields, saw 43\\nSkipping line 163866: expected 41 fields, saw 43\\nSkipping line 163867: expected 41 fields, saw 43\\nSkipping line 163868: expected 41 fields, saw 43\\nSkipping line 163869: expected 41 fields, saw 43\\nSkipping line 163870: expected 41 fields, saw 43\\nSkipping line 163871: expected 41 fields, saw 43\\nSkipping line 163872: expected 41 fields, saw 43\\nSkipping line 163873: expected 41 fields, saw 43\\nSkipping line 163874: expected 41 fields, saw 43\\nSkipping line 163876: expected 41 fields, saw 43\\nSkipping line 163877: expected 41 fields, saw 43\\nSkipping line 163878: expected 41 fields, saw 43\\nSkipping line 163879: expected 41 fields, saw 43\\nSkipping line 163880: expected 41 fields, saw 43\\nSkipping line 163881: expected 41 fields, saw 43\\nSkipping line 163882: expected 41 fields, saw 43\\nSkipping line 163883: expected 41 fields, saw 43\\nSkipping line 163884: expected 41 fields, saw 43\\nSkipping line 163885: expected 41 fields, saw 43\\nSkipping line 163886: expected 41 fields, saw 43\\nSkipping line 163887: expected 41 fields, saw 43\\nSkipping line 163888: expected 41 fields, saw 43\\nSkipping line 163889: expected 41 fields, saw 43\\nSkipping line 163890: expected 41 fields, saw 43\\nSkipping line 163891: expected 41 fields, saw 43\\nSkipping line 163892: expected 41 fields, saw 43\\nSkipping line 163893: expected 41 fields, saw 43\\nSkipping line 163894: expected 41 fields, saw 43\\nSkipping line 163895: expected 41 fields, saw 43\\nSkipping line 163896: expected 41 fields, saw 43\\nSkipping line 163897: expected 41 fields, saw 43\\nSkipping line 163898: expected 41 fields, saw 43\\nSkipping line 163899: expected 41 fields, saw 43\\nSkipping line 163900: expected 41 fields, saw 43\\nSkipping line 163901: expected 41 fields, saw 43\\nSkipping line 163902: expected 41 fields, saw 43\\nSkipping line 163903: expected 41 fields, saw 43\\nSkipping line 163904: expected 41 fields, saw 43\\nSkipping line 163905: expected 41 fields, saw 43\\nSkipping line 163906: expected 41 fields, saw 43\\nSkipping line 163907: expected 41 fields, saw 43\\nSkipping line 163908: expected 41 fields, saw 43\\nSkipping line 163909: expected 41 fields, saw 43\\nSkipping line 163910: expected 41 fields, saw 43\\nSkipping line 163911: expected 41 fields, saw 43\\nSkipping line 163912: expected 41 fields, saw 43\\nSkipping line 163913: expected 41 fields, saw 43\\nSkipping line 163914: expected 41 fields, saw 43\\nSkipping line 163915: expected 41 fields, saw 43\\nSkipping line 163916: expected 41 fields, saw 43\\nSkipping line 163917: expected 41 fields, saw 43\\nSkipping line 163918: expected 41 fields, saw 43\\nSkipping line 163919: expected 41 fields, saw 43\\nSkipping line 163920: expected 41 fields, saw 43\\nSkipping line 163921: expected 41 fields, saw 43\\nSkipping line 163922: expected 41 fields, saw 43\\nSkipping line 163923: expected 41 fields, saw 43\\nSkipping line 163924: expected 41 fields, saw 43\\nSkipping line 163925: expected 41 fields, saw 43\\nSkipping line 163926: expected 41 fields, saw 43\\nSkipping line 163927: expected 41 fields, saw 43\\nSkipping line 163928: expected 41 fields, saw 43\\nSkipping line 163929: expected 41 fields, saw 43\\nSkipping line 163930: expected 41 fields, saw 43\\nSkipping line 163931: expected 41 fields, saw 43\\nSkipping line 163932: expected 41 fields, saw 43\\nSkipping line 163933: expected 41 fields, saw 43\\nSkipping line 163934: expected 41 fields, saw 43\\nSkipping line 163935: expected 41 fields, saw 43\\nSkipping line 163936: expected 41 fields, saw 43\\nSkipping line 163937: expected 41 fields, saw 43\\nSkipping line 163938: expected 41 fields, saw 43\\nSkipping line 163939: expected 41 fields, saw 43\\nSkipping line 163940: expected 41 fields, saw 43\\nSkipping line 163941: expected 41 fields, saw 43\\nSkipping line 163942: expected 41 fields, saw 43\\nSkipping line 163943: expected 41 fields, saw 43\\nSkipping line 163944: expected 41 fields, saw 43\\nSkipping line 163945: expected 41 fields, saw 43\\nSkipping line 163946: expected 41 fields, saw 43\\nSkipping line 163947: expected 41 fields, saw 43\\nSkipping line 163948: expected 41 fields, saw 43\\nSkipping line 163949: expected 41 fields, saw 43\\nSkipping line 163950: expected 41 fields, saw 43\\nSkipping line 163951: expected 41 fields, saw 43\\nSkipping line 163952: expected 41 fields, saw 43\\nSkipping line 163953: expected 41 fields, saw 43\\nSkipping line 163954: expected 41 fields, saw 43\\nSkipping line 163955: expected 41 fields, saw 43\\nSkipping line 163956: expected 41 fields, saw 43\\nSkipping line 163957: expected 41 fields, saw 43\\nSkipping line 163958: expected 41 fields, saw 43\\nSkipping line 163959: expected 41 fields, saw 43\\nSkipping line 163960: expected 41 fields, saw 43\\nSkipping line 163961: expected 41 fields, saw 43\\nSkipping line 163962: expected 41 fields, saw 43\\nSkipping line 163963: expected 41 fields, saw 43\\nSkipping line 163964: expected 41 fields, saw 43\\nSkipping line 163965: expected 41 fields, saw 43\\nSkipping line 163966: expected 41 fields, saw 43\\nSkipping line 163967: expected 41 fields, saw 43\\nSkipping line 163968: expected 41 fields, saw 43\\nSkipping line 163969: expected 41 fields, saw 43\\nSkipping line 163970: expected 41 fields, saw 43\\nSkipping line 163971: expected 41 fields, saw 43\\nSkipping line 163972: expected 41 fields, saw 43\\nSkipping line 163974: expected 41 fields, saw 43\\nSkipping line 163975: expected 41 fields, saw 43\\nSkipping line 163976: expected 41 fields, saw 43\\nSkipping line 163977: expected 41 fields, saw 43\\nSkipping line 163978: expected 41 fields, saw 43\\nSkipping line 163979: expected 41 fields, saw 43\\nSkipping line 163980: expected 41 fields, saw 43\\nSkipping line 163981: expected 41 fields, saw 43\\nSkipping line 163982: expected 41 fields, saw 43\\nSkipping line 163983: expected 41 fields, saw 43\\nSkipping line 163984: expected 41 fields, saw 43\\nSkipping line 163985: expected 41 fields, saw 43\\nSkipping line 163986: expected 41 fields, saw 43\\n'\n"
     ]
    },
    {
     "name": "stderr",
     "output_type": "stream",
     "text": [
      "b'Skipping line 165255: expected 41 fields, saw 43\\nSkipping line 165325: expected 41 fields, saw 43\\nSkipping line 165326: expected 41 fields, saw 43\\nSkipping line 165327: expected 41 fields, saw 43\\nSkipping line 165328: expected 41 fields, saw 43\\nSkipping line 165329: expected 41 fields, saw 43\\nSkipping line 165330: expected 41 fields, saw 43\\nSkipping line 165331: expected 41 fields, saw 43\\nSkipping line 165332: expected 41 fields, saw 43\\nSkipping line 165333: expected 41 fields, saw 43\\nSkipping line 165334: expected 41 fields, saw 43\\nSkipping line 165335: expected 41 fields, saw 43\\nSkipping line 165336: expected 41 fields, saw 43\\nSkipping line 165337: expected 41 fields, saw 43\\nSkipping line 165338: expected 41 fields, saw 43\\nSkipping line 165339: expected 41 fields, saw 43\\nSkipping line 165340: expected 41 fields, saw 43\\nSkipping line 165341: expected 41 fields, saw 43\\nSkipping line 165342: expected 41 fields, saw 43\\nSkipping line 165343: expected 41 fields, saw 43\\nSkipping line 165344: expected 41 fields, saw 43\\nSkipping line 165345: expected 41 fields, saw 43\\nSkipping line 165346: expected 41 fields, saw 43\\nSkipping line 165347: expected 41 fields, saw 43\\nSkipping line 165348: expected 41 fields, saw 43\\nSkipping line 165349: expected 41 fields, saw 43\\nSkipping line 165350: expected 41 fields, saw 43\\nSkipping line 165351: expected 41 fields, saw 43\\nSkipping line 165352: expected 41 fields, saw 43\\nSkipping line 165767: expected 41 fields, saw 43\\nSkipping line 165798: expected 41 fields, saw 43\\nSkipping line 165805: expected 41 fields, saw 43\\nSkipping line 165846: expected 41 fields, saw 43\\nSkipping line 165847: expected 41 fields, saw 43\\nSkipping line 165862: expected 41 fields, saw 43\\nSkipping line 165863: expected 41 fields, saw 43\\nSkipping line 165864: expected 41 fields, saw 43\\nSkipping line 165865: expected 41 fields, saw 43\\nSkipping line 165866: expected 41 fields, saw 43\\nSkipping line 165867: expected 41 fields, saw 43\\nSkipping line 165868: expected 41 fields, saw 43\\nSkipping line 165869: expected 41 fields, saw 43\\nSkipping line 165870: expected 41 fields, saw 43\\nSkipping line 165871: expected 41 fields, saw 43\\nSkipping line 165872: expected 41 fields, saw 43\\nSkipping line 165873: expected 41 fields, saw 43\\nSkipping line 166526: expected 41 fields, saw 43\\nSkipping line 166527: expected 41 fields, saw 43\\nSkipping line 166528: expected 41 fields, saw 43\\nSkipping line 166529: expected 41 fields, saw 43\\nSkipping line 166530: expected 41 fields, saw 43\\nSkipping line 166531: expected 41 fields, saw 43\\nSkipping line 166532: expected 41 fields, saw 43\\nSkipping line 166533: expected 41 fields, saw 43\\nSkipping line 166534: expected 41 fields, saw 43\\nSkipping line 166535: expected 41 fields, saw 43\\nSkipping line 166536: expected 41 fields, saw 43\\nSkipping line 166537: expected 41 fields, saw 43\\nSkipping line 166538: expected 41 fields, saw 43\\nSkipping line 166539: expected 41 fields, saw 43\\nSkipping line 166540: expected 41 fields, saw 43\\nSkipping line 166541: expected 41 fields, saw 43\\nSkipping line 166542: expected 41 fields, saw 43\\nSkipping line 166543: expected 41 fields, saw 43\\n'\n",
      "C:\\Users\\rashm\\AppData\\Roaming\\Python\\Python37\\site-packages\\IPython\\core\\interactiveshell.py:3166: DtypeWarning: Columns (0,1,2,5,6,10,11,12,13,17,19,21,22,23,24,35,36,37,38) have mixed types.Specify dtype option on import or set low_memory=False.\n",
      "  interactivity=interactivity, compiler=compiler, result=result)\n"
     ]
    }
   ],
   "source": [
    "areas1 = pd.read_csv(\"data/areas.csv\", error_bad_lines=False)"
   ]
  },
  {
   "cell_type": "code",
   "execution_count": 4,
   "metadata": {},
   "outputs": [],
   "source": [
    "projects2 = pd.read_csv(\"data/projects.csv\", error_bad_lines=False)"
   ]
  },
  {
   "cell_type": "code",
   "execution_count": 5,
   "metadata": {},
   "outputs": [],
   "source": [
    "operating_schedule3 = pd.read_csv(\"data/operating_schedules.csv\", error_bad_lines=False)"
   ]
  },
  {
   "cell_type": "code",
   "execution_count": 6,
   "metadata": {},
   "outputs": [],
   "source": [
    "proposals4 = pd.read_csv(\"data/proposals.csv\", error_bad_lines=False)"
   ]
  },
  {
   "cell_type": "code",
   "execution_count": 7,
   "metadata": {},
   "outputs": [],
   "source": [
    "rate_schedules5 = pd.read_csv(\"data/rate_schedules.csv\", error_bad_lines=False)"
   ]
  },
  {
   "cell_type": "code",
   "execution_count": 8,
   "metadata": {},
   "outputs": [
    {
     "name": "stderr",
     "output_type": "stream",
     "text": [
      "b'Skipping line 92: expected 64 fields, saw 66\\nSkipping line 224: expected 64 fields, saw 68\\nSkipping line 3152: expected 64 fields, saw 67\\nSkipping line 3153: expected 64 fields, saw 67\\nSkipping line 3164: expected 64 fields, saw 67\\nSkipping line 3169: expected 64 fields, saw 67\\nSkipping line 3180: expected 64 fields, saw 67\\nSkipping line 3216: expected 64 fields, saw 67\\nSkipping line 3256: expected 64 fields, saw 67\\nSkipping line 3285: expected 64 fields, saw 67\\nSkipping line 3340: expected 64 fields, saw 67\\nSkipping line 3372: expected 64 fields, saw 67\\nSkipping line 3391: expected 64 fields, saw 67\\nSkipping line 3392: expected 64 fields, saw 67\\nSkipping line 3396: expected 64 fields, saw 67\\nSkipping line 3401: expected 64 fields, saw 67\\nSkipping line 3408: expected 64 fields, saw 67\\nSkipping line 3409: expected 64 fields, saw 67\\nSkipping line 3411: expected 64 fields, saw 67\\nSkipping line 5538: expected 64 fields, saw 65\\nSkipping line 6258: expected 64 fields, saw 74\\nSkipping line 6261: expected 64 fields, saw 74\\nSkipping line 7550: expected 64 fields, saw 68\\nSkipping line 7562: expected 64 fields, saw 65\\nSkipping line 7590: expected 64 fields, saw 68\\nSkipping line 7627: expected 64 fields, saw 66\\nSkipping line 7654: expected 64 fields, saw 68\\nSkipping line 7679: expected 64 fields, saw 67\\nSkipping line 7719: expected 64 fields, saw 68\\nSkipping line 7724: expected 64 fields, saw 66\\nSkipping line 7767: expected 64 fields, saw 67\\nSkipping line 7814: expected 64 fields, saw 67\\nSkipping line 7870: expected 64 fields, saw 65\\nSkipping line 7888: expected 64 fields, saw 68\\n'\n",
      "b'Skipping line 8701: expected 64 fields, saw 72\\nSkipping line 9669: expected 64 fields, saw 65\\nSkipping line 10852: expected 64 fields, saw 75\\nSkipping line 12231: expected 64 fields, saw 67\\nSkipping line 15476: expected 64 fields, saw 69\\nSkipping line 15545: expected 64 fields, saw 68\\n'\n",
      "b'Skipping line 18315: expected 64 fields, saw 65\\nSkipping line 19506: expected 64 fields, saw 66\\nSkipping line 20488: expected 64 fields, saw 67\\nSkipping line 20507: expected 64 fields, saw 65\\nSkipping line 20519: expected 64 fields, saw 65\\nSkipping line 20521: expected 64 fields, saw 65\\nSkipping line 20575: expected 64 fields, saw 65\\nSkipping line 20580: expected 64 fields, saw 65\\nSkipping line 20599: expected 64 fields, saw 65\\nSkipping line 20601: expected 64 fields, saw 65\\nSkipping line 20603: expected 64 fields, saw 65\\nSkipping line 20619: expected 64 fields, saw 65\\nSkipping line 20631: expected 64 fields, saw 65\\nSkipping line 20643: expected 64 fields, saw 65\\nSkipping line 20718: expected 64 fields, saw 66\\nSkipping line 20720: expected 64 fields, saw 66\\nSkipping line 20821: expected 64 fields, saw 65\\nSkipping line 20828: expected 64 fields, saw 65\\nSkipping line 20834: expected 64 fields, saw 65\\nSkipping line 20841: expected 64 fields, saw 65\\nSkipping line 20843: expected 64 fields, saw 65\\nSkipping line 20858: expected 64 fields, saw 65\\nSkipping line 20864: expected 64 fields, saw 65\\nSkipping line 20874: expected 64 fields, saw 65\\nSkipping line 20877: expected 64 fields, saw 65\\nSkipping line 20879: expected 64 fields, saw 65\\nSkipping line 20881: expected 64 fields, saw 65\\nSkipping line 22205: expected 64 fields, saw 68\\nSkipping line 22207: expected 64 fields, saw 68\\nSkipping line 24218: expected 64 fields, saw 66\\nSkipping line 24488: expected 64 fields, saw 67\\nSkipping line 24615: expected 64 fields, saw 65\\n'\n",
      "b'Skipping line 25236: expected 64 fields, saw 65\\nSkipping line 25239: expected 64 fields, saw 65\\nSkipping line 25288: expected 64 fields, saw 65\\nSkipping line 25290: expected 64 fields, saw 65\\nSkipping line 25298: expected 64 fields, saw 65\\nSkipping line 31695: expected 64 fields, saw 78\\n'\n",
      "b'Skipping line 35550: expected 64 fields, saw 66\\nSkipping line 40825: expected 64 fields, saw 67\\n'\n",
      "b'Skipping line 41221: expected 64 fields, saw 67\\nSkipping line 41224: expected 64 fields, saw 67\\nSkipping line 41240: expected 64 fields, saw 67\\nSkipping line 41259: expected 64 fields, saw 67\\nSkipping line 41261: expected 64 fields, saw 67\\nSkipping line 41277: expected 64 fields, saw 67\\nSkipping line 44150: expected 64 fields, saw 65\\nSkipping line 44176: expected 64 fields, saw 65\\nSkipping line 45977: expected 64 fields, saw 65\\nSkipping line 46168: expected 64 fields, saw 65\\nSkipping line 46988: expected 64 fields, saw 66\\nSkipping line 48741: expected 64 fields, saw 66\\n'\n",
      "b'Skipping line 53126: expected 64 fields, saw 65\\nSkipping line 53127: expected 64 fields, saw 65\\nSkipping line 53596: expected 64 fields, saw 66\\nSkipping line 53608: expected 64 fields, saw 66\\n'\n",
      "b'Skipping line 61917: expected 64 fields, saw 65\\nSkipping line 62369: expected 64 fields, saw 66\\nSkipping line 64898: expected 64 fields, saw 67\\n'\n",
      "b'Skipping line 66799: expected 64 fields, saw 66\\nSkipping line 67017: expected 64 fields, saw 66\\nSkipping line 67617: expected 64 fields, saw 67\\nSkipping line 68116: expected 64 fields, saw 65\\nSkipping line 68125: expected 64 fields, saw 65\\nSkipping line 68148: expected 64 fields, saw 68\\nSkipping line 68188: expected 64 fields, saw 66\\nSkipping line 68190: expected 64 fields, saw 66\\nSkipping line 68207: expected 64 fields, saw 65\\nSkipping line 68251: expected 64 fields, saw 65\\nSkipping line 68360: expected 64 fields, saw 67\\nSkipping line 68362: expected 64 fields, saw 65\\nSkipping line 68366: expected 64 fields, saw 65\\nSkipping line 68485: expected 64 fields, saw 65\\nSkipping line 68551: expected 64 fields, saw 65\\nSkipping line 68623: expected 64 fields, saw 67\\nSkipping line 68633: expected 64 fields, saw 66\\nSkipping line 68640: expected 64 fields, saw 67\\nSkipping line 68652: expected 64 fields, saw 65\\nSkipping line 68685: expected 64 fields, saw 65\\nSkipping line 68689: expected 64 fields, saw 65\\nSkipping line 68768: expected 64 fields, saw 65\\nSkipping line 68889: expected 64 fields, saw 67\\nSkipping line 70444: expected 64 fields, saw 66\\nSkipping line 70464: expected 64 fields, saw 67\\nSkipping line 70519: expected 64 fields, saw 66\\nSkipping line 70828: expected 64 fields, saw 66\\nSkipping line 71640: expected 64 fields, saw 65\\nSkipping line 71673: expected 64 fields, saw 65\\n'\n",
      "b'Skipping line 74278: expected 64 fields, saw 65\\nSkipping line 74294: expected 64 fields, saw 65\\nSkipping line 74304: expected 64 fields, saw 65\\nSkipping line 74322: expected 64 fields, saw 65\\nSkipping line 74337: expected 64 fields, saw 65\\nSkipping line 74363: expected 64 fields, saw 65\\nSkipping line 74396: expected 64 fields, saw 65\\nSkipping line 74404: expected 64 fields, saw 65\\nSkipping line 74444: expected 64 fields, saw 65\\nSkipping line 74450: expected 64 fields, saw 65\\nSkipping line 77949: expected 64 fields, saw 67\\nSkipping line 79853: expected 64 fields, saw 65\\nSkipping line 79866: expected 64 fields, saw 65\\nSkipping line 80297: expected 64 fields, saw 66\\nSkipping line 81119: expected 64 fields, saw 65\\nSkipping line 81178: expected 64 fields, saw 65\\nSkipping line 81226: expected 64 fields, saw 65\\nSkipping line 81236: expected 64 fields, saw 65\\nSkipping line 81249: expected 64 fields, saw 65\\nSkipping line 81262: expected 64 fields, saw 65\\n'\n",
      "b'Skipping line 83034: expected 64 fields, saw 66\\nSkipping line 84222: expected 64 fields, saw 65\\nSkipping line 87574: expected 64 fields, saw 65\\nSkipping line 87589: expected 64 fields, saw 65\\nSkipping line 87605: expected 64 fields, saw 65\\nSkipping line 89139: expected 64 fields, saw 66\\n'\n",
      "b'Skipping line 91120: expected 64 fields, saw 67\\nSkipping line 91286: expected 64 fields, saw 65\\nSkipping line 91309: expected 64 fields, saw 65\\nSkipping line 91317: expected 64 fields, saw 65\\nSkipping line 91473: expected 64 fields, saw 65\\nSkipping line 94661: expected 64 fields, saw 65\\nSkipping line 94662: expected 64 fields, saw 65\\nSkipping line 96380: expected 64 fields, saw 65\\n'\n",
      "b'Skipping line 99051: expected 64 fields, saw 66\\nSkipping line 105773: expected 64 fields, saw 67\\n'\n",
      "b'Skipping line 106809: expected 64 fields, saw 66\\nSkipping line 106813: expected 64 fields, saw 65\\nSkipping line 107151: expected 64 fields, saw 66\\nSkipping line 107378: expected 64 fields, saw 65\\nSkipping line 107449: expected 64 fields, saw 65\\nSkipping line 107516: expected 64 fields, saw 65\\nSkipping line 107557: expected 64 fields, saw 65\\nSkipping line 107621: expected 64 fields, saw 65\\nSkipping line 108097: expected 64 fields, saw 66\\nSkipping line 108445: expected 64 fields, saw 65\\nSkipping line 108446: expected 64 fields, saw 65\\nSkipping line 108447: expected 64 fields, saw 65\\nSkipping line 108448: expected 64 fields, saw 65\\nSkipping line 108461: expected 64 fields, saw 65\\nSkipping line 108462: expected 64 fields, saw 65\\nSkipping line 108463: expected 64 fields, saw 65\\nSkipping line 109476: expected 64 fields, saw 65\\nSkipping line 109477: expected 64 fields, saw 65\\nSkipping line 109479: expected 64 fields, saw 65\\nSkipping line 110176: expected 64 fields, saw 65\\nSkipping line 110189: expected 64 fields, saw 65\\nSkipping line 110190: expected 64 fields, saw 65\\n'\n"
     ]
    },
    {
     "name": "stderr",
     "output_type": "stream",
     "text": [
      "b'Skipping line 115202: expected 64 fields, saw 67\\nSkipping line 115232: expected 64 fields, saw 67\\nSkipping line 118714: expected 64 fields, saw 65\\nSkipping line 118715: expected 64 fields, saw 65\\nSkipping line 120363: expected 64 fields, saw 65\\n'\n",
      "b'Skipping line 125737: expected 64 fields, saw 66\\nSkipping line 127933: expected 64 fields, saw 66\\nSkipping line 128048: expected 64 fields, saw 66\\nSkipping line 129780: expected 64 fields, saw 70\\n'\n",
      "b'Skipping line 131698: expected 64 fields, saw 67\\nSkipping line 131844: expected 64 fields, saw 67\\nSkipping line 132048: expected 64 fields, saw 65\\nSkipping line 132053: expected 64 fields, saw 65\\nSkipping line 132105: expected 64 fields, saw 65\\nSkipping line 132135: expected 64 fields, saw 65\\nSkipping line 132173: expected 64 fields, saw 65\\nSkipping line 132228: expected 64 fields, saw 65\\nSkipping line 132229: expected 64 fields, saw 65\\nSkipping line 132260: expected 64 fields, saw 65\\nSkipping line 132312: expected 64 fields, saw 65\\nSkipping line 132392: expected 64 fields, saw 65\\nSkipping line 132430: expected 64 fields, saw 65\\nSkipping line 132449: expected 64 fields, saw 65\\nSkipping line 132547: expected 64 fields, saw 65\\nSkipping line 132605: expected 64 fields, saw 65\\nSkipping line 133756: expected 64 fields, saw 65\\nSkipping line 133759: expected 64 fields, saw 65\\nSkipping line 133835: expected 64 fields, saw 65\\nSkipping line 133850: expected 64 fields, saw 65\\nSkipping line 134381: expected 64 fields, saw 66\\nSkipping line 134399: expected 64 fields, saw 66\\nSkipping line 134451: expected 64 fields, saw 66\\nSkipping line 134457: expected 64 fields, saw 66\\nSkipping line 134460: expected 64 fields, saw 66\\nSkipping line 134462: expected 64 fields, saw 66\\nSkipping line 134472: expected 64 fields, saw 66\\nSkipping line 134476: expected 64 fields, saw 66\\nSkipping line 134479: expected 64 fields, saw 66\\nSkipping line 134505: expected 64 fields, saw 66\\nSkipping line 134533: expected 64 fields, saw 65\\nSkipping line 134535: expected 64 fields, saw 66\\nSkipping line 134556: expected 64 fields, saw 66\\nSkipping line 134566: expected 64 fields, saw 67\\nSkipping line 134568: expected 64 fields, saw 67\\nSkipping line 134569: expected 64 fields, saw 67\\nSkipping line 134570: expected 64 fields, saw 67\\nSkipping line 134572: expected 64 fields, saw 67\\nSkipping line 134573: expected 64 fields, saw 67\\nSkipping line 134574: expected 64 fields, saw 67\\nSkipping line 134578: expected 64 fields, saw 67\\nSkipping line 134581: expected 64 fields, saw 67\\nSkipping line 134585: expected 64 fields, saw 67\\nSkipping line 134589: expected 64 fields, saw 67\\nSkipping line 134591: expected 64 fields, saw 67\\nSkipping line 134595: expected 64 fields, saw 67\\nSkipping line 134596: expected 64 fields, saw 67\\nSkipping line 134601: expected 64 fields, saw 67\\nSkipping line 134608: expected 64 fields, saw 67\\nSkipping line 134624: expected 64 fields, saw 65\\nSkipping line 134629: expected 64 fields, saw 67\\nSkipping line 134634: expected 64 fields, saw 65\\nSkipping line 134635: expected 64 fields, saw 65\\nSkipping line 134636: expected 64 fields, saw 65\\nSkipping line 134638: expected 64 fields, saw 65\\nSkipping line 134666: expected 64 fields, saw 65\\nSkipping line 134709: expected 64 fields, saw 65\\nSkipping line 134713: expected 64 fields, saw 65\\nSkipping line 134727: expected 64 fields, saw 65\\nSkipping line 134728: expected 64 fields, saw 65\\nSkipping line 134735: expected 64 fields, saw 65\\nSkipping line 134736: expected 64 fields, saw 65\\nSkipping line 134743: expected 64 fields, saw 65\\nSkipping line 134839: expected 64 fields, saw 66\\nSkipping line 134847: expected 64 fields, saw 67\\nSkipping line 136095: expected 64 fields, saw 65\\nSkipping line 136107: expected 64 fields, saw 65\\nSkipping line 136120: expected 64 fields, saw 65\\nSkipping line 136123: expected 64 fields, saw 65\\nSkipping line 136212: expected 64 fields, saw 65\\nSkipping line 136382: expected 64 fields, saw 65\\nSkipping line 136627: expected 64 fields, saw 65\\nSkipping line 136743: expected 64 fields, saw 65\\nSkipping line 136784: expected 64 fields, saw 65\\nSkipping line 136851: expected 64 fields, saw 65\\nSkipping line 136963: expected 64 fields, saw 65\\nSkipping line 137013: expected 64 fields, saw 65\\nSkipping line 137055: expected 64 fields, saw 65\\nSkipping line 137106: expected 64 fields, saw 65\\nSkipping line 137114: expected 64 fields, saw 65\\nSkipping line 137165: expected 64 fields, saw 67\\nSkipping line 138364: expected 64 fields, saw 66\\nSkipping line 138709: expected 64 fields, saw 68\\nSkipping line 138799: expected 64 fields, saw 66\\nSkipping line 138971: expected 64 fields, saw 66\\nSkipping line 138982: expected 64 fields, saw 66\\nSkipping line 138992: expected 64 fields, saw 66\\nSkipping line 139001: expected 64 fields, saw 66\\nSkipping line 139324: expected 64 fields, saw 66\\n'\n",
      "b'Skipping line 141425: expected 64 fields, saw 65\\nSkipping line 141426: expected 64 fields, saw 65\\nSkipping line 141427: expected 64 fields, saw 65\\nSkipping line 141459: expected 64 fields, saw 65\\nSkipping line 141526: expected 64 fields, saw 65\\nSkipping line 141541: expected 64 fields, saw 65\\nSkipping line 141780: expected 64 fields, saw 67\\nSkipping line 141783: expected 64 fields, saw 67\\nSkipping line 142459: expected 64 fields, saw 66\\nSkipping line 142461: expected 64 fields, saw 66\\nSkipping line 142466: expected 64 fields, saw 66\\nSkipping line 142474: expected 64 fields, saw 66\\nSkipping line 142611: expected 64 fields, saw 66\\nSkipping line 143918: expected 64 fields, saw 65\\nSkipping line 144049: expected 64 fields, saw 65\\n'\n",
      "b'Skipping line 149587: expected 64 fields, saw 65\\nSkipping line 149794: expected 64 fields, saw 67\\nSkipping line 151151: expected 64 fields, saw 65\\nSkipping line 151371: expected 64 fields, saw 65\\nSkipping line 152039: expected 64 fields, saw 68\\nSkipping line 152041: expected 64 fields, saw 68\\nSkipping line 152052: expected 64 fields, saw 68\\nSkipping line 152053: expected 64 fields, saw 68\\nSkipping line 152070: expected 64 fields, saw 68\\nSkipping line 152084: expected 64 fields, saw 68\\nSkipping line 152145: expected 64 fields, saw 66\\nSkipping line 152806: expected 64 fields, saw 65\\nSkipping line 152952: expected 64 fields, saw 66\\nSkipping line 153005: expected 64 fields, saw 65\\nSkipping line 153033: expected 64 fields, saw 66\\nSkipping line 155609: expected 64 fields, saw 65\\n'\n",
      "b'Skipping line 158201: expected 64 fields, saw 65\\nSkipping line 163839: expected 64 fields, saw 66\\n'\n",
      "b'Skipping line 167353: expected 64 fields, saw 67\\nSkipping line 167398: expected 64 fields, saw 67\\nSkipping line 167429: expected 64 fields, saw 67\\nSkipping line 167430: expected 64 fields, saw 67\\nSkipping line 167444: expected 64 fields, saw 67\\nSkipping line 167460: expected 64 fields, saw 67\\nSkipping line 167476: expected 64 fields, saw 67\\nSkipping line 167564: expected 64 fields, saw 66\\nSkipping line 171730: expected 64 fields, saw 66\\n'\n",
      "b'Skipping line 176257: expected 64 fields, saw 65\\nSkipping line 177874: expected 64 fields, saw 67\\nSkipping line 178526: expected 64 fields, saw 67\\nSkipping line 178580: expected 64 fields, saw 67\\n'\n",
      "b'Skipping line 180982: expected 64 fields, saw 67\\nSkipping line 181530: expected 64 fields, saw 65\\nSkipping line 181581: expected 64 fields, saw 66\\nSkipping line 181593: expected 64 fields, saw 66\\nSkipping line 182423: expected 64 fields, saw 66\\nSkipping line 186277: expected 64 fields, saw 65\\n'\n",
      "b'Skipping line 189908: expected 64 fields, saw 67\\nSkipping line 189923: expected 64 fields, saw 67\\nSkipping line 189934: expected 64 fields, saw 67\\nSkipping line 189936: expected 64 fields, saw 67\\nSkipping line 190006: expected 64 fields, saw 67\\nSkipping line 190049: expected 64 fields, saw 67\\nSkipping line 191522: expected 64 fields, saw 67\\nSkipping line 192217: expected 64 fields, saw 67\\nSkipping line 192232: expected 64 fields, saw 67\\nSkipping line 192300: expected 64 fields, saw 67\\nSkipping line 192585: expected 64 fields, saw 67\\nSkipping line 192594: expected 64 fields, saw 67\\nSkipping line 193094: expected 64 fields, saw 67\\nSkipping line 193121: expected 64 fields, saw 67\\nSkipping line 193145: expected 64 fields, saw 67\\nSkipping line 193200: expected 64 fields, saw 67\\nSkipping line 193206: expected 64 fields, saw 67\\nSkipping line 193210: expected 64 fields, saw 67\\nSkipping line 193287: expected 64 fields, saw 67\\nSkipping line 193297: expected 64 fields, saw 67\\nSkipping line 193686: expected 64 fields, saw 67\\nSkipping line 193687: expected 64 fields, saw 67\\nSkipping line 193751: expected 64 fields, saw 67\\nSkipping line 193761: expected 64 fields, saw 67\\nSkipping line 193762: expected 64 fields, saw 67\\nSkipping line 193788: expected 64 fields, saw 67\\nSkipping line 193807: expected 64 fields, saw 67\\nSkipping line 193927: expected 64 fields, saw 67\\nSkipping line 194252: expected 64 fields, saw 67\\nSkipping line 194554: expected 64 fields, saw 71\\nSkipping line 194714: expected 64 fields, saw 67\\nSkipping line 194737: expected 64 fields, saw 67\\nSkipping line 194834: expected 64 fields, saw 67\\nSkipping line 194926: expected 64 fields, saw 67\\nSkipping line 194927: expected 64 fields, saw 67\\nSkipping line 194939: expected 64 fields, saw 67\\nSkipping line 194941: expected 64 fields, saw 67\\nSkipping line 195594: expected 64 fields, saw 67\\nSkipping line 195860: expected 64 fields, saw 67\\nSkipping line 196060: expected 64 fields, saw 67\\nSkipping line 196071: expected 64 fields, saw 67\\nSkipping line 196715: expected 64 fields, saw 67\\nSkipping line 196728: expected 64 fields, saw 67\\nSkipping line 196776: expected 64 fields, saw 67\\nSkipping line 196795: expected 64 fields, saw 67\\n'\n"
     ]
    },
    {
     "name": "stderr",
     "output_type": "stream",
     "text": [
      "b'Skipping line 197213: expected 64 fields, saw 65\\nSkipping line 197215: expected 64 fields, saw 67\\nSkipping line 197238: expected 64 fields, saw 67\\nSkipping line 198305: expected 64 fields, saw 67\\nSkipping line 198334: expected 64 fields, saw 67\\nSkipping line 198349: expected 64 fields, saw 67\\nSkipping line 198394: expected 64 fields, saw 65\\nSkipping line 198410: expected 64 fields, saw 67\\nSkipping line 198420: expected 64 fields, saw 65\\nSkipping line 198426: expected 64 fields, saw 67\\nSkipping line 198710: expected 64 fields, saw 67\\nSkipping line 198819: expected 64 fields, saw 67\\nSkipping line 198851: expected 64 fields, saw 67\\nSkipping line 199160: expected 64 fields, saw 66\\nSkipping line 199812: expected 64 fields, saw 67\\nSkipping line 200475: expected 64 fields, saw 67\\nSkipping line 201088: expected 64 fields, saw 67\\nSkipping line 201117: expected 64 fields, saw 67\\nSkipping line 201121: expected 64 fields, saw 67\\nSkipping line 201133: expected 64 fields, saw 67\\nSkipping line 201135: expected 64 fields, saw 67\\nSkipping line 201146: expected 64 fields, saw 67\\nSkipping line 201534: expected 64 fields, saw 67\\nSkipping line 201908: expected 64 fields, saw 67\\nSkipping line 202381: expected 64 fields, saw 67\\nSkipping line 202639: expected 64 fields, saw 65\\nSkipping line 202640: expected 64 fields, saw 65\\nSkipping line 202838: expected 64 fields, saw 65\\nSkipping line 202869: expected 64 fields, saw 67\\nSkipping line 202923: expected 64 fields, saw 67\\nSkipping line 203281: expected 64 fields, saw 65\\nSkipping line 203764: expected 64 fields, saw 66\\nSkipping line 203921: expected 64 fields, saw 65\\nSkipping line 204454: expected 64 fields, saw 65\\nSkipping line 204479: expected 64 fields, saw 65\\nSkipping line 204480: expected 64 fields, saw 65\\nSkipping line 204830: expected 64 fields, saw 67\\nSkipping line 204861: expected 64 fields, saw 67\\nSkipping line 204879: expected 64 fields, saw 67\\nSkipping line 205047: expected 64 fields, saw 67\\nSkipping line 205144: expected 64 fields, saw 67\\nSkipping line 205220: expected 64 fields, saw 67\\n'\n",
      "b'Skipping line 205331: expected 64 fields, saw 65\\nSkipping line 205334: expected 64 fields, saw 65\\nSkipping line 205338: expected 64 fields, saw 65\\nSkipping line 205344: expected 64 fields, saw 65\\nSkipping line 205346: expected 64 fields, saw 65\\nSkipping line 205350: expected 64 fields, saw 65\\nSkipping line 205354: expected 64 fields, saw 65\\nSkipping line 205360: expected 64 fields, saw 65\\nSkipping line 205372: expected 64 fields, saw 65\\nSkipping line 205378: expected 64 fields, saw 65\\nSkipping line 205380: expected 64 fields, saw 65\\nSkipping line 205388: expected 64 fields, saw 65\\nSkipping line 205399: expected 64 fields, saw 65\\nSkipping line 205400: expected 64 fields, saw 65\\nSkipping line 205706: expected 64 fields, saw 67\\nSkipping line 205956: expected 64 fields, saw 65\\nSkipping line 205959: expected 64 fields, saw 65\\nSkipping line 205963: expected 64 fields, saw 65\\nSkipping line 205986: expected 64 fields, saw 65\\nSkipping line 205988: expected 64 fields, saw 65\\nSkipping line 205995: expected 64 fields, saw 65\\nSkipping line 205999: expected 64 fields, saw 65\\nSkipping line 206009: expected 64 fields, saw 65\\nSkipping line 206017: expected 64 fields, saw 65\\nSkipping line 206025: expected 64 fields, saw 65\\nSkipping line 206027: expected 64 fields, saw 65\\nSkipping line 206031: expected 64 fields, saw 65\\nSkipping line 206040: expected 64 fields, saw 65\\nSkipping line 206041: expected 64 fields, saw 65\\nSkipping line 206997: expected 64 fields, saw 67\\nSkipping line 211289: expected 64 fields, saw 66\\nSkipping line 211534: expected 64 fields, saw 67\\nSkipping line 211537: expected 64 fields, saw 67\\n'\n",
      "b'Skipping line 214120: expected 64 fields, saw 68\\nSkipping line 214122: expected 64 fields, saw 68\\nSkipping line 214123: expected 64 fields, saw 68\\nSkipping line 214127: expected 64 fields, saw 68\\nSkipping line 214133: expected 64 fields, saw 68\\nSkipping line 214146: expected 64 fields, saw 68\\nSkipping line 214154: expected 64 fields, saw 68\\nSkipping line 214170: expected 64 fields, saw 68\\nSkipping line 214172: expected 64 fields, saw 68\\nSkipping line 214229: expected 64 fields, saw 68\\nSkipping line 214230: expected 64 fields, saw 68\\nSkipping line 215113: expected 64 fields, saw 65\\nSkipping line 215562: expected 64 fields, saw 65\\nSkipping line 215969: expected 64 fields, saw 68\\nSkipping line 215972: expected 64 fields, saw 68\\nSkipping line 217063: expected 64 fields, saw 65\\nSkipping line 218966: expected 64 fields, saw 67\\nSkipping line 220136: expected 64 fields, saw 66\\nSkipping line 220556: expected 64 fields, saw 65\\nSkipping line 221457: expected 64 fields, saw 65\\n'\n",
      "b'Skipping line 225432: expected 64 fields, saw 65\\nSkipping line 225614: expected 64 fields, saw 66\\nSkipping line 226608: expected 64 fields, saw 67\\n'\n",
      "b'Skipping line 230650: expected 64 fields, saw 65\\n'\n",
      "b'Skipping line 242893: expected 64 fields, saw 65\\nSkipping line 243536: expected 64 fields, saw 65\\nSkipping line 243537: expected 64 fields, saw 65\\nSkipping line 244093: expected 64 fields, saw 65\\nSkipping line 244094: expected 64 fields, saw 65\\nSkipping line 244632: expected 64 fields, saw 66\\n'\n",
      "b'Skipping line 248100: expected 64 fields, saw 68\\nSkipping line 248104: expected 64 fields, saw 68\\nSkipping line 248105: expected 64 fields, saw 68\\nSkipping line 248107: expected 64 fields, saw 68\\nSkipping line 248110: expected 64 fields, saw 68\\nSkipping line 251003: expected 64 fields, saw 67\\nSkipping line 253509: expected 64 fields, saw 65\\nSkipping line 253693: expected 64 fields, saw 65\\nSkipping line 254411: expected 64 fields, saw 65\\nSkipping line 254413: expected 64 fields, saw 65\\n'\n",
      "b'Skipping line 255102: expected 64 fields, saw 67\\nSkipping line 256333: expected 64 fields, saw 67\\nSkipping line 256334: expected 64 fields, saw 67\\nSkipping line 256336: expected 64 fields, saw 67\\nSkipping line 256337: expected 64 fields, saw 67\\nSkipping line 256339: expected 64 fields, saw 67\\nSkipping line 256340: expected 64 fields, saw 67\\nSkipping line 256341: expected 64 fields, saw 67\\nSkipping line 256342: expected 64 fields, saw 67\\nSkipping line 256343: expected 64 fields, saw 67\\nSkipping line 256345: expected 64 fields, saw 67\\nSkipping line 256346: expected 64 fields, saw 67\\nSkipping line 256347: expected 64 fields, saw 67\\nSkipping line 256348: expected 64 fields, saw 67\\nSkipping line 256349: expected 64 fields, saw 67\\nSkipping line 256350: expected 64 fields, saw 67\\nSkipping line 256351: expected 64 fields, saw 67\\nSkipping line 256352: expected 64 fields, saw 67\\nSkipping line 256355: expected 64 fields, saw 67\\nSkipping line 256356: expected 64 fields, saw 67\\nSkipping line 256357: expected 64 fields, saw 67\\nSkipping line 256358: expected 64 fields, saw 67\\nSkipping line 256359: expected 64 fields, saw 67\\nSkipping line 256360: expected 64 fields, saw 67\\nSkipping line 256362: expected 64 fields, saw 67\\nSkipping line 256363: expected 64 fields, saw 67\\nSkipping line 256364: expected 64 fields, saw 67\\nSkipping line 256369: expected 64 fields, saw 67\\nSkipping line 256370: expected 64 fields, saw 67\\nSkipping line 256372: expected 64 fields, saw 67\\nSkipping line 256373: expected 64 fields, saw 67\\nSkipping line 256375: expected 64 fields, saw 67\\nSkipping line 256446: expected 64 fields, saw 67\\nSkipping line 256447: expected 64 fields, saw 67\\nSkipping line 256448: expected 64 fields, saw 67\\nSkipping line 256456: expected 64 fields, saw 67\\nSkipping line 256457: expected 64 fields, saw 67\\nSkipping line 256458: expected 64 fields, saw 67\\nSkipping line 256460: expected 64 fields, saw 67\\nSkipping line 256461: expected 64 fields, saw 67\\nSkipping line 256462: expected 64 fields, saw 67\\nSkipping line 258291: expected 64 fields, saw 66\\nSkipping line 258477: expected 64 fields, saw 67\\nSkipping line 259050: expected 64 fields, saw 66\\n'\n",
      "b'Skipping line 266082: expected 64 fields, saw 67\\nSkipping line 266218: expected 64 fields, saw 66\\nSkipping line 268311: expected 64 fields, saw 67\\nSkipping line 268505: expected 64 fields, saw 67\\nSkipping line 268625: expected 64 fields, saw 67\\n'\n"
     ]
    },
    {
     "name": "stderr",
     "output_type": "stream",
     "text": [
      "b'Skipping line 271221: expected 64 fields, saw 65\\nSkipping line 278193: expected 64 fields, saw 67\\nSkipping line 278236: expected 64 fields, saw 67\\n'\n",
      "b'Skipping line 283321: expected 64 fields, saw 66\\nSkipping line 283324: expected 64 fields, saw 66\\nSkipping line 283326: expected 64 fields, saw 66\\nSkipping line 283327: expected 64 fields, saw 66\\nSkipping line 283328: expected 64 fields, saw 66\\nSkipping line 283329: expected 64 fields, saw 66\\nSkipping line 283331: expected 64 fields, saw 66\\nSkipping line 283333: expected 64 fields, saw 66\\nSkipping line 283334: expected 64 fields, saw 66\\nSkipping line 283335: expected 64 fields, saw 66\\nSkipping line 283352: expected 64 fields, saw 66\\nSkipping line 283359: expected 64 fields, saw 66\\nSkipping line 283387: expected 64 fields, saw 66\\nSkipping line 283393: expected 64 fields, saw 66\\nSkipping line 283400: expected 64 fields, saw 66\\nSkipping line 283409: expected 64 fields, saw 66\\nSkipping line 283417: expected 64 fields, saw 66\\nSkipping line 283422: expected 64 fields, saw 66\\nSkipping line 283423: expected 64 fields, saw 66\\nSkipping line 283436: expected 64 fields, saw 66\\nSkipping line 283439: expected 64 fields, saw 66\\nSkipping line 283451: expected 64 fields, saw 66\\nSkipping line 283469: expected 64 fields, saw 66\\nSkipping line 283497: expected 64 fields, saw 66\\nSkipping line 283511: expected 64 fields, saw 66\\nSkipping line 283512: expected 64 fields, saw 66\\nSkipping line 283513: expected 64 fields, saw 66\\nSkipping line 283539: expected 64 fields, saw 66\\nSkipping line 283540: expected 64 fields, saw 66\\nSkipping line 283541: expected 64 fields, saw 66\\nSkipping line 283555: expected 64 fields, saw 66\\nSkipping line 283556: expected 64 fields, saw 66\\nSkipping line 283559: expected 64 fields, saw 66\\nSkipping line 283561: expected 64 fields, saw 66\\nSkipping line 283562: expected 64 fields, saw 66\\nSkipping line 283601: expected 64 fields, saw 66\\nSkipping line 283603: expected 64 fields, saw 66\\nSkipping line 283616: expected 64 fields, saw 66\\nSkipping line 283617: expected 64 fields, saw 66\\nSkipping line 283624: expected 64 fields, saw 66\\nSkipping line 283626: expected 64 fields, saw 66\\nSkipping line 283627: expected 64 fields, saw 66\\nSkipping line 283628: expected 64 fields, saw 66\\nSkipping line 283638: expected 64 fields, saw 66\\nSkipping line 283646: expected 64 fields, saw 66\\nSkipping line 283647: expected 64 fields, saw 66\\nSkipping line 283677: expected 64 fields, saw 66\\nSkipping line 283678: expected 64 fields, saw 66\\nSkipping line 283680: expected 64 fields, saw 66\\nSkipping line 283687: expected 64 fields, saw 66\\nSkipping line 283688: expected 64 fields, saw 66\\nSkipping line 283691: expected 64 fields, saw 66\\nSkipping line 283699: expected 64 fields, saw 66\\nSkipping line 283965: expected 64 fields, saw 66\\n'\n",
      "b'Skipping line 289168: expected 64 fields, saw 65\\nSkipping line 290597: expected 64 fields, saw 66\\nSkipping line 290614: expected 64 fields, saw 66\\nSkipping line 290690: expected 64 fields, saw 66\\nSkipping line 290691: expected 64 fields, saw 66\\nSkipping line 290693: expected 64 fields, saw 66\\nSkipping line 290694: expected 64 fields, saw 66\\nSkipping line 290708: expected 64 fields, saw 66\\nSkipping line 290736: expected 64 fields, saw 66\\n'\n",
      "b'Skipping line 299615: expected 64 fields, saw 65\\nSkipping line 301642: expected 64 fields, saw 65\\nSkipping line 303250: expected 64 fields, saw 67\\n'\n",
      "b'Skipping line 304634: expected 64 fields, saw 65\\nSkipping line 304649: expected 64 fields, saw 65\\nSkipping line 304651: expected 64 fields, saw 65\\nSkipping line 306881: expected 64 fields, saw 67\\nSkipping line 306883: expected 64 fields, saw 67\\nSkipping line 306887: expected 64 fields, saw 67\\nSkipping line 306889: expected 64 fields, saw 67\\nSkipping line 306891: expected 64 fields, saw 67\\nSkipping line 306901: expected 64 fields, saw 67\\nSkipping line 306908: expected 64 fields, saw 67\\nSkipping line 306916: expected 64 fields, saw 67\\nSkipping line 306927: expected 64 fields, saw 67\\nSkipping line 306937: expected 64 fields, saw 67\\nSkipping line 306945: expected 64 fields, saw 67\\nSkipping line 306946: expected 64 fields, saw 67\\nSkipping line 306949: expected 64 fields, saw 67\\nSkipping line 306950: expected 64 fields, saw 67\\nSkipping line 306953: expected 64 fields, saw 67\\nSkipping line 306958: expected 64 fields, saw 67\\nSkipping line 306963: expected 64 fields, saw 67\\nSkipping line 306965: expected 64 fields, saw 67\\nSkipping line 307781: expected 64 fields, saw 67\\nSkipping line 309089: expected 64 fields, saw 67\\nSkipping line 310493: expected 64 fields, saw 65\\nSkipping line 310494: expected 64 fields, saw 65\\n'\n",
      "b'Skipping line 314697: expected 64 fields, saw 65\\nSkipping line 315250: expected 64 fields, saw 65\\nSkipping line 318650: expected 64 fields, saw 65\\nSkipping line 318753: expected 64 fields, saw 65\\nSkipping line 319699: expected 64 fields, saw 65\\n'\n",
      "b'Skipping line 322320: expected 64 fields, saw 65\\nSkipping line 322864: expected 64 fields, saw 65\\nSkipping line 324635: expected 64 fields, saw 65\\nSkipping line 324666: expected 64 fields, saw 65\\n'\n",
      "b'Skipping line 329189: expected 64 fields, saw 65\\nSkipping line 329937: expected 64 fields, saw 66\\nSkipping line 329938: expected 64 fields, saw 66\\nSkipping line 330532: expected 64 fields, saw 66\\nSkipping line 330541: expected 64 fields, saw 66\\nSkipping line 330542: expected 64 fields, saw 66\\nSkipping line 330545: expected 64 fields, saw 66\\nSkipping line 330610: expected 64 fields, saw 66\\nSkipping line 331253: expected 64 fields, saw 66\\nSkipping line 331362: expected 64 fields, saw 66\\nSkipping line 331490: expected 64 fields, saw 65\\nSkipping line 331491: expected 64 fields, saw 65\\nSkipping line 332393: expected 64 fields, saw 66\\nSkipping line 332434: expected 64 fields, saw 66\\nSkipping line 332469: expected 64 fields, saw 65\\nSkipping line 332470: expected 64 fields, saw 65\\nSkipping line 332487: expected 64 fields, saw 66\\nSkipping line 332495: expected 64 fields, saw 66\\nSkipping line 332496: expected 64 fields, saw 66\\nSkipping line 332517: expected 64 fields, saw 66\\nSkipping line 332519: expected 64 fields, saw 66\\nSkipping line 332522: expected 64 fields, saw 66\\nSkipping line 332528: expected 64 fields, saw 66\\nSkipping line 332529: expected 64 fields, saw 66\\nSkipping line 332539: expected 64 fields, saw 66\\nSkipping line 332671: expected 64 fields, saw 66\\nSkipping line 332676: expected 64 fields, saw 66\\nSkipping line 333081: expected 64 fields, saw 67\\nSkipping line 333093: expected 64 fields, saw 67\\nSkipping line 333121: expected 64 fields, saw 67\\nSkipping line 333122: expected 64 fields, saw 67\\nSkipping line 333123: expected 64 fields, saw 67\\nSkipping line 333138: expected 64 fields, saw 67\\nSkipping line 333153: expected 64 fields, saw 67\\nSkipping line 333154: expected 64 fields, saw 67\\nSkipping line 333264: expected 64 fields, saw 67\\nSkipping line 333272: expected 64 fields, saw 67\\nSkipping line 333278: expected 64 fields, saw 67\\nSkipping line 333281: expected 64 fields, saw 67\\nSkipping line 333282: expected 64 fields, saw 67\\nSkipping line 333303: expected 64 fields, saw 67\\nSkipping line 333314: expected 64 fields, saw 67\\nSkipping line 333336: expected 64 fields, saw 67\\nSkipping line 333391: expected 64 fields, saw 67\\nSkipping line 333394: expected 64 fields, saw 67\\nSkipping line 333411: expected 64 fields, saw 67\\nSkipping line 333413: expected 64 fields, saw 67\\nSkipping line 333476: expected 64 fields, saw 67\\nSkipping line 333501: expected 64 fields, saw 67\\nSkipping line 333519: expected 64 fields, saw 67\\n'\n",
      "b'Skipping line 337850: expected 64 fields, saw 65\\nSkipping line 337948: expected 64 fields, saw 65\\nSkipping line 338736: expected 64 fields, saw 66\\nSkipping line 338889: expected 64 fields, saw 66\\nSkipping line 338926: expected 64 fields, saw 66\\nSkipping line 338933: expected 64 fields, saw 66\\nSkipping line 339943: expected 64 fields, saw 65\\nSkipping line 342989: expected 64 fields, saw 66\\nSkipping line 344679: expected 64 fields, saw 72\\nSkipping line 344747: expected 64 fields, saw 66\\n'\n",
      "b'Skipping line 344894: expected 64 fields, saw 66\\nSkipping line 346139: expected 64 fields, saw 67\\nSkipping line 346155: expected 64 fields, saw 67\\nSkipping line 348017: expected 64 fields, saw 66\\nSkipping line 348136: expected 64 fields, saw 66\\nSkipping line 350169: expected 64 fields, saw 65\\nSkipping line 350198: expected 64 fields, saw 65\\nSkipping line 350615: expected 64 fields, saw 66\\nSkipping line 351967: expected 64 fields, saw 66\\nSkipping line 351968: expected 64 fields, saw 66\\nSkipping line 352004: expected 64 fields, saw 69\\nSkipping line 352700: expected 64 fields, saw 66\\n'\n"
     ]
    },
    {
     "name": "stderr",
     "output_type": "stream",
     "text": [
      "b'Skipping line 353673: expected 64 fields, saw 66\\nSkipping line 353699: expected 64 fields, saw 66\\n'\n",
      "b'Skipping line 362095: expected 64 fields, saw 66\\nSkipping line 364253: expected 64 fields, saw 67\\nSkipping line 364263: expected 64 fields, saw 67\\nSkipping line 364276: expected 64 fields, saw 67\\nSkipping line 366917: expected 64 fields, saw 65\\nSkipping line 367790: expected 64 fields, saw 67\\nSkipping line 367896: expected 64 fields, saw 67\\nSkipping line 367900: expected 64 fields, saw 67\\nSkipping line 367901: expected 64 fields, saw 67\\nSkipping line 367905: expected 64 fields, saw 67\\nSkipping line 367908: expected 64 fields, saw 67\\nSkipping line 367912: expected 64 fields, saw 67\\nSkipping line 367914: expected 64 fields, saw 67\\nSkipping line 367915: expected 64 fields, saw 67\\nSkipping line 367921: expected 64 fields, saw 67\\nSkipping line 367935: expected 64 fields, saw 67\\nSkipping line 367943: expected 64 fields, saw 67\\nSkipping line 367949: expected 64 fields, saw 67\\nSkipping line 367963: expected 64 fields, saw 67\\nSkipping line 367965: expected 64 fields, saw 67\\nSkipping line 367966: expected 64 fields, saw 67\\nSkipping line 367971: expected 64 fields, saw 67\\nSkipping line 367973: expected 64 fields, saw 67\\nSkipping line 367977: expected 64 fields, saw 67\\nSkipping line 367981: expected 64 fields, saw 67\\nSkipping line 367983: expected 64 fields, saw 67\\nSkipping line 367987: expected 64 fields, saw 67\\nSkipping line 367991: expected 64 fields, saw 67\\nSkipping line 367995: expected 64 fields, saw 67\\nSkipping line 368001: expected 64 fields, saw 67\\nSkipping line 368011: expected 64 fields, saw 67\\nSkipping line 368012: expected 64 fields, saw 67\\nSkipping line 368021: expected 64 fields, saw 67\\nSkipping line 368024: expected 64 fields, saw 67\\nSkipping line 368030: expected 64 fields, saw 67\\nSkipping line 368032: expected 64 fields, saw 67\\nSkipping line 368041: expected 64 fields, saw 67\\nSkipping line 368044: expected 64 fields, saw 67\\nSkipping line 368051: expected 64 fields, saw 67\\nSkipping line 368054: expected 64 fields, saw 67\\nSkipping line 368055: expected 64 fields, saw 67\\nSkipping line 368057: expected 64 fields, saw 67\\nSkipping line 368072: expected 64 fields, saw 67\\nSkipping line 368080: expected 64 fields, saw 67\\nSkipping line 368083: expected 64 fields, saw 67\\nSkipping line 368090: expected 64 fields, saw 67\\nSkipping line 368091: expected 64 fields, saw 67\\nSkipping line 368092: expected 64 fields, saw 67\\nSkipping line 368106: expected 64 fields, saw 67\\nSkipping line 368121: expected 64 fields, saw 67\\nSkipping line 368125: expected 64 fields, saw 67\\nSkipping line 368129: expected 64 fields, saw 67\\nSkipping line 368133: expected 64 fields, saw 67\\nSkipping line 368141: expected 64 fields, saw 67\\nSkipping line 368147: expected 64 fields, saw 67\\nSkipping line 368150: expected 64 fields, saw 67\\nSkipping line 368154: expected 64 fields, saw 67\\nSkipping line 368155: expected 64 fields, saw 67\\nSkipping line 368158: expected 64 fields, saw 67\\nSkipping line 368159: expected 64 fields, saw 67\\nSkipping line 368160: expected 64 fields, saw 67\\nSkipping line 368164: expected 64 fields, saw 67\\nSkipping line 368169: expected 64 fields, saw 67\\nSkipping line 368178: expected 64 fields, saw 67\\nSkipping line 368191: expected 64 fields, saw 67\\nSkipping line 368197: expected 64 fields, saw 67\\nSkipping line 368199: expected 64 fields, saw 67\\nSkipping line 368201: expected 64 fields, saw 67\\nSkipping line 368205: expected 64 fields, saw 67\\nSkipping line 368206: expected 64 fields, saw 67\\n'\n",
      "b'Skipping line 370958: expected 64 fields, saw 65\\nSkipping line 370959: expected 64 fields, saw 65\\nSkipping line 370961: expected 64 fields, saw 65\\nSkipping line 370962: expected 64 fields, saw 65\\nSkipping line 370963: expected 64 fields, saw 65\\nSkipping line 370964: expected 64 fields, saw 65\\nSkipping line 370970: expected 64 fields, saw 65\\nSkipping line 370971: expected 64 fields, saw 65\\nSkipping line 370978: expected 64 fields, saw 65\\nSkipping line 370980: expected 64 fields, saw 65\\nSkipping line 371393: expected 64 fields, saw 65\\nSkipping line 371394: expected 64 fields, saw 71\\nSkipping line 375513: expected 64 fields, saw 65\\nSkipping line 375514: expected 64 fields, saw 65\\nSkipping line 376429: expected 64 fields, saw 65\\nSkipping line 376430: expected 64 fields, saw 65\\nSkipping line 376431: expected 64 fields, saw 67\\n'\n",
      "b'Skipping line 377713: expected 64 fields, saw 65\\nSkipping line 379185: expected 64 fields, saw 66\\nSkipping line 379189: expected 64 fields, saw 66\\nSkipping line 379197: expected 64 fields, saw 66\\nSkipping line 379210: expected 64 fields, saw 66\\nSkipping line 379218: expected 64 fields, saw 66\\nSkipping line 379221: expected 64 fields, saw 66\\nSkipping line 380015: expected 64 fields, saw 65\\nSkipping line 382219: expected 64 fields, saw 67\\nSkipping line 382256: expected 64 fields, saw 67\\nSkipping line 382272: expected 64 fields, saw 67\\nSkipping line 382351: expected 64 fields, saw 67\\nSkipping line 382362: expected 64 fields, saw 67\\nSkipping line 382621: expected 64 fields, saw 67\\nSkipping line 382622: expected 64 fields, saw 67\\nSkipping line 382623: expected 64 fields, saw 67\\nSkipping line 382760: expected 64 fields, saw 67\\nSkipping line 382797: expected 64 fields, saw 67\\nSkipping line 382813: expected 64 fields, saw 67\\nSkipping line 382893: expected 64 fields, saw 67\\nSkipping line 382904: expected 64 fields, saw 67\\nSkipping line 383210: expected 64 fields, saw 67\\nSkipping line 383211: expected 64 fields, saw 67\\nSkipping line 383212: expected 64 fields, saw 67\\nSkipping line 383213: expected 64 fields, saw 67\\nSkipping line 383217: expected 64 fields, saw 65\\nSkipping line 383218: expected 64 fields, saw 65\\nSkipping line 383219: expected 64 fields, saw 65\\nSkipping line 383400: expected 64 fields, saw 65\\nSkipping line 384171: expected 64 fields, saw 65\\n'\n",
      "b'Skipping line 387216: expected 64 fields, saw 65\\nSkipping line 387294: expected 64 fields, saw 65\\nSkipping line 387307: expected 64 fields, saw 65\\nSkipping line 387308: expected 64 fields, saw 65\\nSkipping line 387309: expected 64 fields, saw 65\\nSkipping line 387311: expected 64 fields, saw 65\\nSkipping line 387312: expected 64 fields, saw 65\\nSkipping line 387313: expected 64 fields, saw 65\\nSkipping line 387314: expected 64 fields, saw 65\\nSkipping line 387315: expected 64 fields, saw 65\\nSkipping line 388434: expected 64 fields, saw 65\\nSkipping line 388960: expected 64 fields, saw 65\\nSkipping line 389117: expected 64 fields, saw 65\\nSkipping line 389292: expected 64 fields, saw 65\\n'\n",
      "b'Skipping line 394150: expected 64 fields, saw 65\\nSkipping line 394583: expected 64 fields, saw 65\\nSkipping line 394585: expected 64 fields, saw 65\\nSkipping line 394587: expected 64 fields, saw 65\\nSkipping line 394972: expected 64 fields, saw 65\\nSkipping line 394973: expected 64 fields, saw 65\\nSkipping line 394974: expected 64 fields, saw 65\\nSkipping line 395126: expected 64 fields, saw 65\\nSkipping line 395149: expected 64 fields, saw 65\\nSkipping line 395151: expected 64 fields, saw 65\\nSkipping line 395183: expected 64 fields, saw 65\\nSkipping line 395184: expected 64 fields, saw 65\\nSkipping line 395267: expected 64 fields, saw 65\\nSkipping line 398602: expected 64 fields, saw 65\\nSkipping line 398603: expected 64 fields, saw 65\\nSkipping line 398604: expected 64 fields, saw 65\\nSkipping line 400387: expected 64 fields, saw 67\\nSkipping line 400848: expected 64 fields, saw 65\\nSkipping line 401543: expected 64 fields, saw 65\\nSkipping line 401544: expected 64 fields, saw 65\\nSkipping line 401813: expected 64 fields, saw 65\\nSkipping line 401814: expected 64 fields, saw 65\\nSkipping line 401815: expected 64 fields, saw 65\\nSkipping line 401968: expected 64 fields, saw 65\\nSkipping line 402000: expected 64 fields, saw 65\\nSkipping line 402003: expected 64 fields, saw 65\\nSkipping line 402004: expected 64 fields, saw 65\\nSkipping line 402005: expected 64 fields, saw 65\\nSkipping line 402198: expected 64 fields, saw 65\\n'\n",
      "b'Skipping line 402343: expected 64 fields, saw 65\\nSkipping line 402428: expected 64 fields, saw 65\\nSkipping line 402429: expected 64 fields, saw 65\\nSkipping line 402677: expected 64 fields, saw 65\\nSkipping line 402678: expected 64 fields, saw 65\\nSkipping line 404260: expected 64 fields, saw 65\\nSkipping line 404262: expected 64 fields, saw 65\\nSkipping line 404263: expected 64 fields, saw 65\\nSkipping line 404284: expected 64 fields, saw 65\\nSkipping line 404286: expected 64 fields, saw 65\\nSkipping line 404287: expected 64 fields, saw 65\\nSkipping line 404466: expected 64 fields, saw 65\\n'\n"
     ]
    }
   ],
   "source": [
    "option_calc_fixtures6 = pd.read_csv(\"data/option_calc_fixtures\", error_bad_lines=False)"
   ]
  },
  {
   "cell_type": "code",
   "execution_count": 9,
   "metadata": {},
   "outputs": [],
   "source": [
    "areas1.drop(['parent_id', 'name', 'description',       \n",
    "        'lighting_satisfaction', 'ceiling_height',\n",
    "       'reflectance',  'inactive_at',\n",
    "        'internal_notes', 'notes',  'width',\n",
    "       'length', 'floor_plan',  'copied_from_id',\n",
    "        'existing_controls',\n",
    "       'bi_level_or_occupancy_sensor',  'first_illuminance',\n",
    "       'second_illuminance', 'third_illuminance', 'fourth_illuminance',\n",
    "       'fifth_illuminance',  'area_type', 'custom_attributes',\n",
    "       'audit_complete'], axis = 1, inplace = True)"
   ]
  },
  {
   "cell_type": "code",
   "execution_count": 10,
   "metadata": {},
   "outputs": [],
   "source": [
    "areas1.drop(['cooling_id', 'heating_id'], axis = 1, inplace = True)"
   ]
  },
  {
   "cell_type": "code",
   "execution_count": 11,
   "metadata": {},
   "outputs": [],
   "source": [
    "areas1.drop(['operating_schedule_id', 'rate_schedule_id'], axis = 1, inplace = True)"
   ]
  },
  {
   "cell_type": "code",
   "execution_count": 12,
   "metadata": {},
   "outputs": [
    {
     "data": {
      "text/plain": [
       "Index(['id', 'created_by_user_id', 'sqft', 'avg_illuminace', 'created_at',\n",
       "       'updated_at', 'active', 'project_id', 'area_count', 'uuid',\n",
       "       'name_with_parents', 'min_brightness_level', 'code', 'location_id'],\n",
       "      dtype='object')"
      ]
     },
     "execution_count": 12,
     "metadata": {},
     "output_type": "execute_result"
    }
   ],
   "source": [
    "areas1.columns"
   ]
  },
  {
   "cell_type": "code",
   "execution_count": 13,
   "metadata": {},
   "outputs": [],
   "source": [
    "areas1.drop(['updated_at', 'name_with_parents', 'created_at','uuid', 'created_by_user_id'], axis = 1, inplace = True)"
   ]
  },
  {
   "cell_type": "code",
   "execution_count": 14,
   "metadata": {},
   "outputs": [
    {
     "data": {
      "text/plain": [
       "Index(['id', 'sqft', 'avg_illuminace', 'active', 'project_id', 'area_count',\n",
       "       'min_brightness_level', 'code', 'location_id'],\n",
       "      dtype='object')"
      ]
     },
     "execution_count": 14,
     "metadata": {},
     "output_type": "execute_result"
    }
   ],
   "source": [
    "areas1.columns"
   ]
  },
  {
   "cell_type": "code",
   "execution_count": 15,
   "metadata": {},
   "outputs": [],
   "source": [
    "areas1.rename(columns = {'id':'areas_id'}, inplace = True) "
   ]
  },
  {
   "cell_type": "code",
   "execution_count": 16,
   "metadata": {},
   "outputs": [],
   "source": [
    "areas1.drop(['active'], axis = 1, inplace = True)"
   ]
  },
  {
   "cell_type": "code",
   "execution_count": 17,
   "metadata": {},
   "outputs": [
    {
     "data": {
      "text/plain": [
       "Index(['areas_id', 'sqft', 'avg_illuminace', 'project_id', 'area_count',\n",
       "       'min_brightness_level', 'code', 'location_id'],\n",
       "      dtype='object')"
      ]
     },
     "execution_count": 17,
     "metadata": {},
     "output_type": "execute_result"
    }
   ],
   "source": [
    "areas1.columns"
   ]
  },
  {
   "cell_type": "code",
   "execution_count": 18,
   "metadata": {},
   "outputs": [],
   "source": [
    "projects2.rename(columns = {'id':'project_id'}, inplace = True) "
   ]
  },
  {
   "cell_type": "code",
   "execution_count": 19,
   "metadata": {},
   "outputs": [],
   "source": [
    "projects2.drop(['client_id', 'utility_id' ,'utility_rate_plan', \n",
    "             'cooling_id','heating_id','internal_notes','notes',\n",
    "             'prepared_by_user_id','maintenance_labor_rate','markup',\n",
    "             'apply_tax_on', 'tax_type','tax_rate',  'encentiv_id', \n",
    "             'incentive_max_type','incentive_max','client_logo','markup_type',\n",
    "             'copied_from_id'],\n",
    "             axis = 1, inplace = True)"
   ]
  },
  {
   "cell_type": "code",
   "execution_count": 20,
   "metadata": {},
   "outputs": [
    {
     "data": {
      "text/plain": [
       "Index(['project_id', 'company_id', 'name', 'company_project_status_id',\n",
       "       'contact_id', 'active', 'facility_type_id', 'rate_schedule_id',\n",
       "       'operating_schedule_id', 'tax_rate_source', 'shipping_address_location',\n",
       "       'highest_value_option_id', 'uuid', 'enable_sync', 'tax_exempt'],\n",
       "      dtype='object')"
      ]
     },
     "execution_count": 20,
     "metadata": {},
     "output_type": "execute_result"
    }
   ],
   "source": [
    "projects2.columns"
   ]
  },
  {
   "cell_type": "code",
   "execution_count": 22,
   "metadata": {},
   "outputs": [],
   "source": [
    "projects2.drop(['uuid','contact_id', 'rate_schedule_id',\n",
    "       'operating_schedule_id','enable_sync', 'highest_value_option_id'\n",
    "             ],\n",
    "             axis = 1, inplace = True)"
   ]
  },
  {
   "cell_type": "code",
   "execution_count": 23,
   "metadata": {},
   "outputs": [],
   "source": [
    "projects2.rename(columns = {'name':'project_name'}, inplace = True) "
   ]
  },
  {
   "cell_type": "code",
   "execution_count": 24,
   "metadata": {},
   "outputs": [],
   "source": [
    "projects2.rename(columns = {'active':'project_active'}, inplace = True) "
   ]
  },
  {
   "cell_type": "code",
   "execution_count": 25,
   "metadata": {},
   "outputs": [
    {
     "data": {
      "text/plain": [
       "Index(['project_id', 'company_id', 'project_name', 'company_project_status_id',\n",
       "       'project_active', 'facility_type_id', 'tax_rate_source',\n",
       "       'shipping_address_location', 'tax_exempt'],\n",
       "      dtype='object')"
      ]
     },
     "execution_count": 25,
     "metadata": {},
     "output_type": "execute_result"
    }
   ],
   "source": [
    "projects2.columns"
   ]
  },
  {
   "cell_type": "code",
   "execution_count": 26,
   "metadata": {},
   "outputs": [
    {
     "data": {
      "text/plain": [
       "(13492, 9)"
      ]
     },
     "execution_count": 26,
     "metadata": {},
     "output_type": "execute_result"
    }
   ],
   "source": [
    "operating_schedule3.shape"
   ]
  },
  {
   "cell_type": "code",
   "execution_count": 27,
   "metadata": {},
   "outputs": [
    {
     "data": {
      "text/plain": [
       "Index(['id', 'project_id', 'name', 'annual_hours', 'internal_notes', 'notes',\n",
       "       'uuid', 'copied_from_id', 'controls_reduction'],\n",
       "      dtype='object')"
      ]
     },
     "execution_count": 27,
     "metadata": {},
     "output_type": "execute_result"
    }
   ],
   "source": [
    "operating_schedule3.columns"
   ]
  },
  {
   "cell_type": "code",
   "execution_count": 28,
   "metadata": {},
   "outputs": [],
   "source": [
    "operating_schedule3.rename(columns = {'id':'operating_id'}, inplace = True) "
   ]
  },
  {
   "cell_type": "code",
   "execution_count": 29,
   "metadata": {},
   "outputs": [
    {
     "name": "stdout",
     "output_type": "stream",
     "text": [
      "Removing null values \n",
      "\n",
      "internal_notes : 97.61340053364958 %\n",
      "notes : 98.903053661429 %\n",
      "copied_from_id : 90.05336495701157 %\n",
      "controls_reduction : 99.09576045063741 %\n"
     ]
    }
   ],
   "source": [
    "print(\"Removing null values \")\n",
    "print()\n",
    "for i in operating_schedule3.columns:\n",
    "    if (operating_schedule3[i].isnull().sum()/len(operating_schedule3))*100 >= 30:\n",
    "        print(i,\":\", operating_schedule3[i].isnull().sum()/len(operating_schedule3)*100, \"%\")\n",
    "        operating_schedule3.drop(i, axis=1,inplace=True)"
   ]
  },
  {
   "cell_type": "code",
   "execution_count": 32,
   "metadata": {},
   "outputs": [],
   "source": [
    "operating_schedule3.drop(['uuid', 'name'],axis = 1, inplace = True)"
   ]
  },
  {
   "cell_type": "code",
   "execution_count": 33,
   "metadata": {},
   "outputs": [
    {
     "data": {
      "text/plain": [
       "Index(['operating_id', 'project_id', 'annual_hours'], dtype='object')"
      ]
     },
     "execution_count": 33,
     "metadata": {},
     "output_type": "execute_result"
    }
   ],
   "source": [
    "operating_schedule3.columns"
   ]
  },
  {
   "cell_type": "code",
   "execution_count": 34,
   "metadata": {},
   "outputs": [
    {
     "data": {
      "text/plain": [
       "(9956, 25)"
      ]
     },
     "execution_count": 34,
     "metadata": {},
     "output_type": "execute_result"
    }
   ],
   "source": [
    "proposals4.shape"
   ]
  },
  {
   "cell_type": "code",
   "execution_count": 35,
   "metadata": {},
   "outputs": [
    {
     "name": "stdout",
     "output_type": "stream",
     "text": [
      "Removing null values \n",
      "\n",
      "prepared_for_user_id : 99.96986741663318 %\n",
      "theme : 100.0 %\n",
      "inactive_at : 89.79509843310566 %\n",
      "cover_photo : 65.19686621132985 %\n",
      "copied_from_id : 82.36239453595822 %\n",
      "stage_id : 95.78143832864605 %\n",
      "utility_name : 99.9899558055444 %\n"
     ]
    }
   ],
   "source": [
    "print(\"Removing null values \")\n",
    "print()\n",
    "for i in proposals4.columns:\n",
    "    if (proposals4[i].isnull().sum()/len(proposals4))*100 >= 30:\n",
    "        print(i,\":\", proposals4[i].isnull().sum()/len(proposals4)*100, \"%\")\n",
    "        proposals4.drop(i, axis=1,inplace=True)"
   ]
  },
  {
   "cell_type": "code",
   "execution_count": 36,
   "metadata": {},
   "outputs": [],
   "source": [
    "# Removing the following columns since it looks like language lorum ipsum and does not add value\n",
    "proposals4.drop(['team', 'intro' ,'legal', \n",
    "             'disclaimers','references','internal_notes','notes',\n",
    "             'estimates','lot_pricing_notes'],\n",
    "             axis = 1, inplace = True)"
   ]
  },
  {
   "cell_type": "code",
   "execution_count": 37,
   "metadata": {},
   "outputs": [
    {
     "data": {
      "text/plain": [
       "Index(['id', 'project_id', 'name', 'created_by_user_id', 'prepared_by_user_id',\n",
       "       'created_at', 'updated_at', 'active', 'copy_status'],\n",
       "      dtype='object')"
      ]
     },
     "execution_count": 37,
     "metadata": {},
     "output_type": "execute_result"
    }
   ],
   "source": [
    "proposals4.columns"
   ]
  },
  {
   "cell_type": "code",
   "execution_count": 38,
   "metadata": {},
   "outputs": [],
   "source": [
    "proposals4.rename(columns = {'id':'proposals_id'}, inplace = True)"
   ]
  },
  {
   "cell_type": "code",
   "execution_count": 39,
   "metadata": {},
   "outputs": [],
   "source": [
    "proposals4.rename(columns = {'active':'proposals_active'}, inplace = True)"
   ]
  },
  {
   "cell_type": "code",
   "execution_count": 40,
   "metadata": {},
   "outputs": [],
   "source": [
    "proposals4.drop(['created_by_user_id', 'prepared_by_user_id',\n",
    "       'created_at', 'updated_at', 'copy_status'],\n",
    "             axis = 1, inplace = True)"
   ]
  },
  {
   "cell_type": "code",
   "execution_count": 41,
   "metadata": {},
   "outputs": [
    {
     "data": {
      "text/plain": [
       "(9956, 4)"
      ]
     },
     "execution_count": 41,
     "metadata": {},
     "output_type": "execute_result"
    }
   ],
   "source": [
    "proposals4.shape"
   ]
  },
  {
   "cell_type": "code",
   "execution_count": 42,
   "metadata": {},
   "outputs": [],
   "source": [
    "rate_schedules5.rename(columns = {'id':'rate_schedule_id'}, inplace = True)"
   ]
  },
  {
   "cell_type": "code",
   "execution_count": 43,
   "metadata": {},
   "outputs": [
    {
     "name": "stdout",
     "output_type": "stream",
     "text": [
      "Removing null values \n",
      "\n",
      "inactive_at : 98.0900207284572 %\n",
      "internal_notes : 98.44536570920936 %\n",
      "notes : 98.9191590168789 %\n",
      "copied_from_id : 94.21083802191295 %\n",
      "kwh_cost_simple : 98.8007106899615 %\n",
      "kw_demand_cost : 98.97838318033759 %\n",
      "rate_escalator : 97.15724015398283 %\n"
     ]
    }
   ],
   "source": [
    "print(\"Removing null values \")\n",
    "print()\n",
    "for i in rate_schedules5.columns:\n",
    "    if (rate_schedules5[i].isnull().sum()/len(rate_schedules5))*100 >= 30:\n",
    "        print(i,\":\", rate_schedules5[i].isnull().sum()/len(rate_schedules5)*100, \"%\")\n",
    "        rate_schedules5.drop(i, axis=1,inplace=True)"
   ]
  },
  {
   "cell_type": "code",
   "execution_count": 44,
   "metadata": {},
   "outputs": [
    {
     "data": {
      "text/plain": [
       "Index(['rate_schedule_id', 'created_by_user_id', 'project_id', 'name',\n",
       "       'kwh_cost', 'created_at', 'updated_at', 'active', 'uuid',\n",
       "       'demand_utilization', 'rate_customer', 'rate_type'],\n",
       "      dtype='object')"
      ]
     },
     "execution_count": 44,
     "metadata": {},
     "output_type": "execute_result"
    }
   ],
   "source": [
    "rate_schedules5.columns"
   ]
  },
  {
   "cell_type": "code",
   "execution_count": 49,
   "metadata": {},
   "outputs": [],
   "source": [
    "rate_schedules5.drop(['uuid', 'active','created_by_user_id', 'name',  \n",
    "                      'created_at', 'updated_at'], axis = 1, inplace = True)"
   ]
  },
  {
   "cell_type": "code",
   "execution_count": 50,
   "metadata": {},
   "outputs": [
    {
     "data": {
      "text/plain": [
       "Index(['rate_schedule_id', 'project_id', 'kwh_cost', 'demand_utilization',\n",
       "       'rate_customer', 'rate_type'],\n",
       "      dtype='object')"
      ]
     },
     "execution_count": 50,
     "metadata": {},
     "output_type": "execute_result"
    }
   ],
   "source": [
    "rate_schedules5.columns"
   ]
  },
  {
   "cell_type": "code",
   "execution_count": 52,
   "metadata": {},
   "outputs": [],
   "source": [
    "Project_area = (pd.merge(areas1,projects2, on = 'project_id',how='inner'))"
   ]
  },
  {
   "cell_type": "code",
   "execution_count": null,
   "metadata": {},
   "outputs": [],
   "source": [
    "areas_experiment = "
   ]
  },
  {
   "cell_type": "code",
   "execution_count": 53,
   "metadata": {},
   "outputs": [
    {
     "data": {
      "text/plain": [
       "(165430, 16)"
      ]
     },
     "execution_count": 53,
     "metadata": {},
     "output_type": "execute_result"
    }
   ],
   "source": [
    "Project_area.shape"
   ]
  },
  {
   "cell_type": "code",
   "execution_count": 55,
   "metadata": {},
   "outputs": [
    {
     "data": {
      "text/plain": [
       "(165536, 8)"
      ]
     },
     "execution_count": 55,
     "metadata": {},
     "output_type": "execute_result"
    }
   ],
   "source": [
    "areas1.shape"
   ]
  },
  {
   "cell_type": "code",
   "execution_count": 57,
   "metadata": {},
   "outputs": [
    {
     "data": {
      "text/plain": [
       "(11799, 9)"
      ]
     },
     "execution_count": 57,
     "metadata": {},
     "output_type": "execute_result"
    }
   ],
   "source": [
    "projects2.shape"
   ]
  },
  {
   "cell_type": "code",
   "execution_count": 54,
   "metadata": {},
   "outputs": [
    {
     "data": {
      "text/html": [
       "<div>\n",
       "<style scoped>\n",
       "    .dataframe tbody tr th:only-of-type {\n",
       "        vertical-align: middle;\n",
       "    }\n",
       "\n",
       "    .dataframe tbody tr th {\n",
       "        vertical-align: top;\n",
       "    }\n",
       "\n",
       "    .dataframe thead th {\n",
       "        text-align: right;\n",
       "    }\n",
       "</style>\n",
       "<table border=\"1\" class=\"dataframe\">\n",
       "  <thead>\n",
       "    <tr style=\"text-align: right;\">\n",
       "      <th></th>\n",
       "      <th>areas_id</th>\n",
       "      <th>sqft</th>\n",
       "      <th>avg_illuminace</th>\n",
       "      <th>project_id</th>\n",
       "      <th>area_count</th>\n",
       "      <th>min_brightness_level</th>\n",
       "      <th>code</th>\n",
       "      <th>location_id</th>\n",
       "      <th>company_id</th>\n",
       "      <th>project_name</th>\n",
       "      <th>company_project_status_id</th>\n",
       "      <th>project_active</th>\n",
       "      <th>facility_type_id</th>\n",
       "      <th>tax_rate_source</th>\n",
       "      <th>shipping_address_location</th>\n",
       "      <th>tax_exempt</th>\n",
       "    </tr>\n",
       "  </thead>\n",
       "  <tbody>\n",
       "    <tr>\n",
       "      <th>0</th>\n",
       "      <td>135534</td>\n",
       "      <td>NaN</td>\n",
       "      <td>NaN</td>\n",
       "      <td>10349.0</td>\n",
       "      <td>1</td>\n",
       "      <td>20.0</td>\n",
       "      <td>1.0</td>\n",
       "      <td>NaN</td>\n",
       "      <td>485.0</td>\n",
       "      <td>Kreider Building</td>\n",
       "      <td>5374.0</td>\n",
       "      <td>t</td>\n",
       "      <td>NaN</td>\n",
       "      <td>2.0</td>\n",
       "      <td>1.0</td>\n",
       "      <td>f</td>\n",
       "    </tr>\n",
       "    <tr>\n",
       "      <th>1</th>\n",
       "      <td>135535</td>\n",
       "      <td>NaN</td>\n",
       "      <td>NaN</td>\n",
       "      <td>10349.0</td>\n",
       "      <td>1</td>\n",
       "      <td>20.0</td>\n",
       "      <td>2.0</td>\n",
       "      <td>NaN</td>\n",
       "      <td>485.0</td>\n",
       "      <td>Kreider Building</td>\n",
       "      <td>5374.0</td>\n",
       "      <td>t</td>\n",
       "      <td>NaN</td>\n",
       "      <td>2.0</td>\n",
       "      <td>1.0</td>\n",
       "      <td>f</td>\n",
       "    </tr>\n",
       "    <tr>\n",
       "      <th>2</th>\n",
       "      <td>135536</td>\n",
       "      <td>NaN</td>\n",
       "      <td>NaN</td>\n",
       "      <td>10349.0</td>\n",
       "      <td>1</td>\n",
       "      <td>10.0</td>\n",
       "      <td>3.0</td>\n",
       "      <td>NaN</td>\n",
       "      <td>485.0</td>\n",
       "      <td>Kreider Building</td>\n",
       "      <td>5374.0</td>\n",
       "      <td>t</td>\n",
       "      <td>NaN</td>\n",
       "      <td>2.0</td>\n",
       "      <td>1.0</td>\n",
       "      <td>f</td>\n",
       "    </tr>\n",
       "    <tr>\n",
       "      <th>3</th>\n",
       "      <td>135538</td>\n",
       "      <td>NaN</td>\n",
       "      <td>NaN</td>\n",
       "      <td>10349.0</td>\n",
       "      <td>1</td>\n",
       "      <td>20.0</td>\n",
       "      <td>5.0</td>\n",
       "      <td>NaN</td>\n",
       "      <td>485.0</td>\n",
       "      <td>Kreider Building</td>\n",
       "      <td>5374.0</td>\n",
       "      <td>t</td>\n",
       "      <td>NaN</td>\n",
       "      <td>2.0</td>\n",
       "      <td>1.0</td>\n",
       "      <td>f</td>\n",
       "    </tr>\n",
       "    <tr>\n",
       "      <th>4</th>\n",
       "      <td>135539</td>\n",
       "      <td>NaN</td>\n",
       "      <td>NaN</td>\n",
       "      <td>10349.0</td>\n",
       "      <td>1</td>\n",
       "      <td>NaN</td>\n",
       "      <td>6.0</td>\n",
       "      <td>NaN</td>\n",
       "      <td>485.0</td>\n",
       "      <td>Kreider Building</td>\n",
       "      <td>5374.0</td>\n",
       "      <td>t</td>\n",
       "      <td>NaN</td>\n",
       "      <td>2.0</td>\n",
       "      <td>1.0</td>\n",
       "      <td>f</td>\n",
       "    </tr>\n",
       "  </tbody>\n",
       "</table>\n",
       "</div>"
      ],
      "text/plain": [
       "  areas_id  sqft avg_illuminace  project_id area_count  min_brightness_level  \\\n",
       "0   135534   NaN            NaN     10349.0          1                  20.0   \n",
       "1   135535   NaN            NaN     10349.0          1                  20.0   \n",
       "2   135536   NaN            NaN     10349.0          1                  10.0   \n",
       "3   135538   NaN            NaN     10349.0          1                  20.0   \n",
       "4   135539   NaN            NaN     10349.0          1                   NaN   \n",
       "\n",
       "   code location_id  company_id      project_name  company_project_status_id  \\\n",
       "0   1.0         NaN       485.0  Kreider Building                     5374.0   \n",
       "1   2.0         NaN       485.0  Kreider Building                     5374.0   \n",
       "2   3.0         NaN       485.0  Kreider Building                     5374.0   \n",
       "3   5.0         NaN       485.0  Kreider Building                     5374.0   \n",
       "4   6.0         NaN       485.0  Kreider Building                     5374.0   \n",
       "\n",
       "  project_active  facility_type_id  tax_rate_source  \\\n",
       "0              t               NaN              2.0   \n",
       "1              t               NaN              2.0   \n",
       "2              t               NaN              2.0   \n",
       "3              t               NaN              2.0   \n",
       "4              t               NaN              2.0   \n",
       "\n",
       "   shipping_address_location tax_exempt  \n",
       "0                        1.0          f  \n",
       "1                        1.0          f  \n",
       "2                        1.0          f  \n",
       "3                        1.0          f  \n",
       "4                        1.0          f  "
      ]
     },
     "execution_count": 54,
     "metadata": {},
     "output_type": "execute_result"
    }
   ],
   "source": [
    "Project_area.head()"
   ]
  },
  {
   "cell_type": "code",
   "execution_count": 58,
   "metadata": {},
   "outputs": [],
   "source": [
    "Project_area_ops = (pd.merge(Project_area,operating_schedule3, on = 'project_id',how='inner'))"
   ]
  },
  {
   "cell_type": "code",
   "execution_count": 59,
   "metadata": {},
   "outputs": [
    {
     "data": {
      "text/plain": [
       "(400130, 18)"
      ]
     },
     "execution_count": 59,
     "metadata": {},
     "output_type": "execute_result"
    }
   ],
   "source": [
    "Project_area_ops.shape"
   ]
  },
  {
   "cell_type": "code",
   "execution_count": 60,
   "metadata": {},
   "outputs": [],
   "source": [
    "Project_area_ops_prop = (pd.merge(Project_area_ops,proposals4, on = 'project_id',how='inner'))"
   ]
  },
  {
   "cell_type": "code",
   "execution_count": 61,
   "metadata": {},
   "outputs": [
    {
     "data": {
      "text/plain": [
       "(1085983, 21)"
      ]
     },
     "execution_count": 61,
     "metadata": {},
     "output_type": "execute_result"
    }
   ],
   "source": [
    "Project_area_ops_prop.shape"
   ]
  },
  {
   "cell_type": "code",
   "execution_count": 62,
   "metadata": {},
   "outputs": [],
   "source": [
    "Project_area_ops_prop_ratesc = (pd.merge(Project_area_ops_prop,rate_schedules5, on = 'project_id',how='inner'))"
   ]
  },
  {
   "cell_type": "code",
   "execution_count": 63,
   "metadata": {},
   "outputs": [
    {
     "data": {
      "text/plain": [
       "(1380567, 26)"
      ]
     },
     "execution_count": 63,
     "metadata": {},
     "output_type": "execute_result"
    }
   ],
   "source": [
    "Project_area_ops_prop_ratesc.shape"
   ]
  },
  {
   "cell_type": "code",
   "execution_count": 64,
   "metadata": {},
   "outputs": [
    {
     "data": {
      "text/plain": [
       "Index(['areas_id', 'sqft', 'avg_illuminace', 'project_id', 'area_count',\n",
       "       'min_brightness_level', 'code', 'location_id', 'company_id',\n",
       "       'project_name', 'company_project_status_id', 'project_active',\n",
       "       'facility_type_id', 'tax_rate_source', 'shipping_address_location',\n",
       "       'tax_exempt', 'operating_id', 'annual_hours', 'proposals_id', 'name',\n",
       "       'proposals_active', 'rate_schedule_id', 'kwh_cost',\n",
       "       'demand_utilization', 'rate_customer', 'rate_type'],\n",
       "      dtype='object')"
      ]
     },
     "execution_count": 64,
     "metadata": {},
     "output_type": "execute_result"
    }
   ],
   "source": [
    "Project_area_ops_prop_ratesc.columns"
   ]
  },
  {
   "cell_type": "code",
   "execution_count": 65,
   "metadata": {},
   "outputs": [],
   "source": [
    "Project_area_ops_prop_ratesc.to_csv('data/features_01.csv',index=False)"
   ]
  },
  {
   "cell_type": "code",
   "execution_count": 67,
   "metadata": {},
   "outputs": [],
   "source": [
    "features_02 = pd.read_csv(\"data/features_02.csv\", error_bad_lines=False)"
   ]
  },
  {
   "cell_type": "code",
   "execution_count": 66,
   "metadata": {},
   "outputs": [
    {
     "name": "stderr",
     "output_type": "stream",
     "text": [
      "b'Skipping line 92: expected 64 fields, saw 66\\nSkipping line 224: expected 64 fields, saw 68\\nSkipping line 3152: expected 64 fields, saw 67\\nSkipping line 3153: expected 64 fields, saw 67\\nSkipping line 3164: expected 64 fields, saw 67\\nSkipping line 3169: expected 64 fields, saw 67\\nSkipping line 3180: expected 64 fields, saw 67\\nSkipping line 3216: expected 64 fields, saw 67\\nSkipping line 3256: expected 64 fields, saw 67\\nSkipping line 3285: expected 64 fields, saw 67\\nSkipping line 3340: expected 64 fields, saw 67\\nSkipping line 3372: expected 64 fields, saw 67\\nSkipping line 3391: expected 64 fields, saw 67\\nSkipping line 3392: expected 64 fields, saw 67\\nSkipping line 3396: expected 64 fields, saw 67\\nSkipping line 3401: expected 64 fields, saw 67\\nSkipping line 3408: expected 64 fields, saw 67\\nSkipping line 3409: expected 64 fields, saw 67\\nSkipping line 3411: expected 64 fields, saw 67\\nSkipping line 5538: expected 64 fields, saw 65\\nSkipping line 6258: expected 64 fields, saw 74\\nSkipping line 6261: expected 64 fields, saw 74\\nSkipping line 7550: expected 64 fields, saw 68\\nSkipping line 7562: expected 64 fields, saw 65\\nSkipping line 7590: expected 64 fields, saw 68\\nSkipping line 7627: expected 64 fields, saw 66\\nSkipping line 7654: expected 64 fields, saw 68\\nSkipping line 7679: expected 64 fields, saw 67\\nSkipping line 7719: expected 64 fields, saw 68\\nSkipping line 7724: expected 64 fields, saw 66\\nSkipping line 7767: expected 64 fields, saw 67\\nSkipping line 7814: expected 64 fields, saw 67\\nSkipping line 7870: expected 64 fields, saw 65\\nSkipping line 7888: expected 64 fields, saw 68\\n'\n",
      "b'Skipping line 8701: expected 64 fields, saw 72\\nSkipping line 9669: expected 64 fields, saw 65\\nSkipping line 10852: expected 64 fields, saw 75\\nSkipping line 12231: expected 64 fields, saw 67\\nSkipping line 15476: expected 64 fields, saw 69\\nSkipping line 15545: expected 64 fields, saw 68\\n'\n",
      "b'Skipping line 18315: expected 64 fields, saw 65\\nSkipping line 19506: expected 64 fields, saw 66\\nSkipping line 20488: expected 64 fields, saw 67\\nSkipping line 20507: expected 64 fields, saw 65\\nSkipping line 20519: expected 64 fields, saw 65\\nSkipping line 20521: expected 64 fields, saw 65\\nSkipping line 20575: expected 64 fields, saw 65\\nSkipping line 20580: expected 64 fields, saw 65\\nSkipping line 20599: expected 64 fields, saw 65\\nSkipping line 20601: expected 64 fields, saw 65\\nSkipping line 20603: expected 64 fields, saw 65\\nSkipping line 20619: expected 64 fields, saw 65\\nSkipping line 20631: expected 64 fields, saw 65\\nSkipping line 20643: expected 64 fields, saw 65\\nSkipping line 20718: expected 64 fields, saw 66\\nSkipping line 20720: expected 64 fields, saw 66\\nSkipping line 20821: expected 64 fields, saw 65\\nSkipping line 20828: expected 64 fields, saw 65\\nSkipping line 20834: expected 64 fields, saw 65\\nSkipping line 20841: expected 64 fields, saw 65\\nSkipping line 20843: expected 64 fields, saw 65\\nSkipping line 20858: expected 64 fields, saw 65\\nSkipping line 20864: expected 64 fields, saw 65\\nSkipping line 20874: expected 64 fields, saw 65\\nSkipping line 20877: expected 64 fields, saw 65\\nSkipping line 20879: expected 64 fields, saw 65\\nSkipping line 20881: expected 64 fields, saw 65\\nSkipping line 22205: expected 64 fields, saw 68\\nSkipping line 22207: expected 64 fields, saw 68\\nSkipping line 24218: expected 64 fields, saw 66\\nSkipping line 24488: expected 64 fields, saw 67\\nSkipping line 24615: expected 64 fields, saw 65\\n'\n",
      "b'Skipping line 25236: expected 64 fields, saw 65\\nSkipping line 25239: expected 64 fields, saw 65\\nSkipping line 25288: expected 64 fields, saw 65\\nSkipping line 25290: expected 64 fields, saw 65\\nSkipping line 25298: expected 64 fields, saw 65\\nSkipping line 31695: expected 64 fields, saw 78\\n'\n",
      "b'Skipping line 35550: expected 64 fields, saw 66\\nSkipping line 40825: expected 64 fields, saw 67\\n'\n",
      "b'Skipping line 41221: expected 64 fields, saw 67\\nSkipping line 41224: expected 64 fields, saw 67\\nSkipping line 41240: expected 64 fields, saw 67\\nSkipping line 41259: expected 64 fields, saw 67\\nSkipping line 41261: expected 64 fields, saw 67\\nSkipping line 41277: expected 64 fields, saw 67\\nSkipping line 44150: expected 64 fields, saw 65\\nSkipping line 44176: expected 64 fields, saw 65\\nSkipping line 45977: expected 64 fields, saw 65\\nSkipping line 46168: expected 64 fields, saw 65\\nSkipping line 46988: expected 64 fields, saw 66\\nSkipping line 48741: expected 64 fields, saw 66\\n'\n",
      "b'Skipping line 53126: expected 64 fields, saw 65\\nSkipping line 53127: expected 64 fields, saw 65\\nSkipping line 53596: expected 64 fields, saw 66\\nSkipping line 53608: expected 64 fields, saw 66\\n'\n",
      "b'Skipping line 61917: expected 64 fields, saw 65\\nSkipping line 62369: expected 64 fields, saw 66\\nSkipping line 64898: expected 64 fields, saw 67\\n'\n",
      "b'Skipping line 66799: expected 64 fields, saw 66\\nSkipping line 67017: expected 64 fields, saw 66\\nSkipping line 67617: expected 64 fields, saw 67\\nSkipping line 68116: expected 64 fields, saw 65\\nSkipping line 68125: expected 64 fields, saw 65\\nSkipping line 68148: expected 64 fields, saw 68\\nSkipping line 68188: expected 64 fields, saw 66\\nSkipping line 68190: expected 64 fields, saw 66\\nSkipping line 68207: expected 64 fields, saw 65\\nSkipping line 68251: expected 64 fields, saw 65\\nSkipping line 68360: expected 64 fields, saw 67\\nSkipping line 68362: expected 64 fields, saw 65\\nSkipping line 68366: expected 64 fields, saw 65\\nSkipping line 68485: expected 64 fields, saw 65\\nSkipping line 68551: expected 64 fields, saw 65\\nSkipping line 68623: expected 64 fields, saw 67\\nSkipping line 68633: expected 64 fields, saw 66\\nSkipping line 68640: expected 64 fields, saw 67\\nSkipping line 68652: expected 64 fields, saw 65\\nSkipping line 68685: expected 64 fields, saw 65\\nSkipping line 68689: expected 64 fields, saw 65\\nSkipping line 68768: expected 64 fields, saw 65\\nSkipping line 68889: expected 64 fields, saw 67\\nSkipping line 70444: expected 64 fields, saw 66\\nSkipping line 70464: expected 64 fields, saw 67\\nSkipping line 70519: expected 64 fields, saw 66\\nSkipping line 70828: expected 64 fields, saw 66\\nSkipping line 71640: expected 64 fields, saw 65\\nSkipping line 71673: expected 64 fields, saw 65\\n'\n",
      "b'Skipping line 74278: expected 64 fields, saw 65\\nSkipping line 74294: expected 64 fields, saw 65\\nSkipping line 74304: expected 64 fields, saw 65\\nSkipping line 74322: expected 64 fields, saw 65\\nSkipping line 74337: expected 64 fields, saw 65\\nSkipping line 74363: expected 64 fields, saw 65\\nSkipping line 74396: expected 64 fields, saw 65\\nSkipping line 74404: expected 64 fields, saw 65\\nSkipping line 74444: expected 64 fields, saw 65\\nSkipping line 74450: expected 64 fields, saw 65\\nSkipping line 77949: expected 64 fields, saw 67\\nSkipping line 79853: expected 64 fields, saw 65\\nSkipping line 79866: expected 64 fields, saw 65\\nSkipping line 80297: expected 64 fields, saw 66\\nSkipping line 81119: expected 64 fields, saw 65\\nSkipping line 81178: expected 64 fields, saw 65\\nSkipping line 81226: expected 64 fields, saw 65\\nSkipping line 81236: expected 64 fields, saw 65\\nSkipping line 81249: expected 64 fields, saw 65\\nSkipping line 81262: expected 64 fields, saw 65\\n'\n",
      "b'Skipping line 83034: expected 64 fields, saw 66\\nSkipping line 84222: expected 64 fields, saw 65\\nSkipping line 87574: expected 64 fields, saw 65\\nSkipping line 87589: expected 64 fields, saw 65\\nSkipping line 87605: expected 64 fields, saw 65\\nSkipping line 89139: expected 64 fields, saw 66\\n'\n",
      "b'Skipping line 91120: expected 64 fields, saw 67\\nSkipping line 91286: expected 64 fields, saw 65\\nSkipping line 91309: expected 64 fields, saw 65\\nSkipping line 91317: expected 64 fields, saw 65\\nSkipping line 91473: expected 64 fields, saw 65\\nSkipping line 94661: expected 64 fields, saw 65\\nSkipping line 94662: expected 64 fields, saw 65\\nSkipping line 96380: expected 64 fields, saw 65\\n'\n",
      "b'Skipping line 99051: expected 64 fields, saw 66\\nSkipping line 105773: expected 64 fields, saw 67\\n'\n",
      "b'Skipping line 106809: expected 64 fields, saw 66\\nSkipping line 106813: expected 64 fields, saw 65\\nSkipping line 107151: expected 64 fields, saw 66\\nSkipping line 107378: expected 64 fields, saw 65\\nSkipping line 107449: expected 64 fields, saw 65\\nSkipping line 107516: expected 64 fields, saw 65\\nSkipping line 107557: expected 64 fields, saw 65\\nSkipping line 107621: expected 64 fields, saw 65\\nSkipping line 108097: expected 64 fields, saw 66\\nSkipping line 108445: expected 64 fields, saw 65\\nSkipping line 108446: expected 64 fields, saw 65\\nSkipping line 108447: expected 64 fields, saw 65\\nSkipping line 108448: expected 64 fields, saw 65\\nSkipping line 108461: expected 64 fields, saw 65\\nSkipping line 108462: expected 64 fields, saw 65\\nSkipping line 108463: expected 64 fields, saw 65\\nSkipping line 109476: expected 64 fields, saw 65\\nSkipping line 109477: expected 64 fields, saw 65\\nSkipping line 109479: expected 64 fields, saw 65\\nSkipping line 110176: expected 64 fields, saw 65\\nSkipping line 110189: expected 64 fields, saw 65\\nSkipping line 110190: expected 64 fields, saw 65\\n'\n"
     ]
    },
    {
     "name": "stderr",
     "output_type": "stream",
     "text": [
      "b'Skipping line 115202: expected 64 fields, saw 67\\nSkipping line 115232: expected 64 fields, saw 67\\nSkipping line 118714: expected 64 fields, saw 65\\nSkipping line 118715: expected 64 fields, saw 65\\nSkipping line 120363: expected 64 fields, saw 65\\n'\n",
      "b'Skipping line 125737: expected 64 fields, saw 66\\nSkipping line 127933: expected 64 fields, saw 66\\nSkipping line 128048: expected 64 fields, saw 66\\nSkipping line 129780: expected 64 fields, saw 70\\n'\n",
      "b'Skipping line 131698: expected 64 fields, saw 67\\nSkipping line 131844: expected 64 fields, saw 67\\nSkipping line 132048: expected 64 fields, saw 65\\nSkipping line 132053: expected 64 fields, saw 65\\nSkipping line 132105: expected 64 fields, saw 65\\nSkipping line 132135: expected 64 fields, saw 65\\nSkipping line 132173: expected 64 fields, saw 65\\nSkipping line 132228: expected 64 fields, saw 65\\nSkipping line 132229: expected 64 fields, saw 65\\nSkipping line 132260: expected 64 fields, saw 65\\nSkipping line 132312: expected 64 fields, saw 65\\nSkipping line 132392: expected 64 fields, saw 65\\nSkipping line 132430: expected 64 fields, saw 65\\nSkipping line 132449: expected 64 fields, saw 65\\nSkipping line 132547: expected 64 fields, saw 65\\nSkipping line 132605: expected 64 fields, saw 65\\nSkipping line 133756: expected 64 fields, saw 65\\nSkipping line 133759: expected 64 fields, saw 65\\nSkipping line 133835: expected 64 fields, saw 65\\nSkipping line 133850: expected 64 fields, saw 65\\nSkipping line 134381: expected 64 fields, saw 66\\nSkipping line 134399: expected 64 fields, saw 66\\nSkipping line 134451: expected 64 fields, saw 66\\nSkipping line 134457: expected 64 fields, saw 66\\nSkipping line 134460: expected 64 fields, saw 66\\nSkipping line 134462: expected 64 fields, saw 66\\nSkipping line 134472: expected 64 fields, saw 66\\nSkipping line 134476: expected 64 fields, saw 66\\nSkipping line 134479: expected 64 fields, saw 66\\nSkipping line 134505: expected 64 fields, saw 66\\nSkipping line 134533: expected 64 fields, saw 65\\nSkipping line 134535: expected 64 fields, saw 66\\nSkipping line 134556: expected 64 fields, saw 66\\nSkipping line 134566: expected 64 fields, saw 67\\nSkipping line 134568: expected 64 fields, saw 67\\nSkipping line 134569: expected 64 fields, saw 67\\nSkipping line 134570: expected 64 fields, saw 67\\nSkipping line 134572: expected 64 fields, saw 67\\nSkipping line 134573: expected 64 fields, saw 67\\nSkipping line 134574: expected 64 fields, saw 67\\nSkipping line 134578: expected 64 fields, saw 67\\nSkipping line 134581: expected 64 fields, saw 67\\nSkipping line 134585: expected 64 fields, saw 67\\nSkipping line 134589: expected 64 fields, saw 67\\nSkipping line 134591: expected 64 fields, saw 67\\nSkipping line 134595: expected 64 fields, saw 67\\nSkipping line 134596: expected 64 fields, saw 67\\nSkipping line 134601: expected 64 fields, saw 67\\nSkipping line 134608: expected 64 fields, saw 67\\nSkipping line 134624: expected 64 fields, saw 65\\nSkipping line 134629: expected 64 fields, saw 67\\nSkipping line 134634: expected 64 fields, saw 65\\nSkipping line 134635: expected 64 fields, saw 65\\nSkipping line 134636: expected 64 fields, saw 65\\nSkipping line 134638: expected 64 fields, saw 65\\nSkipping line 134666: expected 64 fields, saw 65\\nSkipping line 134709: expected 64 fields, saw 65\\nSkipping line 134713: expected 64 fields, saw 65\\nSkipping line 134727: expected 64 fields, saw 65\\nSkipping line 134728: expected 64 fields, saw 65\\nSkipping line 134735: expected 64 fields, saw 65\\nSkipping line 134736: expected 64 fields, saw 65\\nSkipping line 134743: expected 64 fields, saw 65\\nSkipping line 134839: expected 64 fields, saw 66\\nSkipping line 134847: expected 64 fields, saw 67\\nSkipping line 136095: expected 64 fields, saw 65\\nSkipping line 136107: expected 64 fields, saw 65\\nSkipping line 136120: expected 64 fields, saw 65\\nSkipping line 136123: expected 64 fields, saw 65\\nSkipping line 136212: expected 64 fields, saw 65\\nSkipping line 136382: expected 64 fields, saw 65\\nSkipping line 136627: expected 64 fields, saw 65\\nSkipping line 136743: expected 64 fields, saw 65\\nSkipping line 136784: expected 64 fields, saw 65\\nSkipping line 136851: expected 64 fields, saw 65\\nSkipping line 136963: expected 64 fields, saw 65\\nSkipping line 137013: expected 64 fields, saw 65\\nSkipping line 137055: expected 64 fields, saw 65\\nSkipping line 137106: expected 64 fields, saw 65\\nSkipping line 137114: expected 64 fields, saw 65\\nSkipping line 137165: expected 64 fields, saw 67\\nSkipping line 138364: expected 64 fields, saw 66\\nSkipping line 138709: expected 64 fields, saw 68\\nSkipping line 138799: expected 64 fields, saw 66\\nSkipping line 138971: expected 64 fields, saw 66\\nSkipping line 138982: expected 64 fields, saw 66\\nSkipping line 138992: expected 64 fields, saw 66\\nSkipping line 139001: expected 64 fields, saw 66\\nSkipping line 139324: expected 64 fields, saw 66\\n'\n",
      "b'Skipping line 141425: expected 64 fields, saw 65\\nSkipping line 141426: expected 64 fields, saw 65\\nSkipping line 141427: expected 64 fields, saw 65\\nSkipping line 141459: expected 64 fields, saw 65\\nSkipping line 141526: expected 64 fields, saw 65\\nSkipping line 141541: expected 64 fields, saw 65\\nSkipping line 141780: expected 64 fields, saw 67\\nSkipping line 141783: expected 64 fields, saw 67\\nSkipping line 142459: expected 64 fields, saw 66\\nSkipping line 142461: expected 64 fields, saw 66\\nSkipping line 142466: expected 64 fields, saw 66\\nSkipping line 142474: expected 64 fields, saw 66\\nSkipping line 142611: expected 64 fields, saw 66\\nSkipping line 143918: expected 64 fields, saw 65\\nSkipping line 144049: expected 64 fields, saw 65\\n'\n",
      "b'Skipping line 149587: expected 64 fields, saw 65\\nSkipping line 149794: expected 64 fields, saw 67\\nSkipping line 151151: expected 64 fields, saw 65\\nSkipping line 151371: expected 64 fields, saw 65\\nSkipping line 152039: expected 64 fields, saw 68\\nSkipping line 152041: expected 64 fields, saw 68\\nSkipping line 152052: expected 64 fields, saw 68\\nSkipping line 152053: expected 64 fields, saw 68\\nSkipping line 152070: expected 64 fields, saw 68\\nSkipping line 152084: expected 64 fields, saw 68\\nSkipping line 152145: expected 64 fields, saw 66\\nSkipping line 152806: expected 64 fields, saw 65\\nSkipping line 152952: expected 64 fields, saw 66\\nSkipping line 153005: expected 64 fields, saw 65\\nSkipping line 153033: expected 64 fields, saw 66\\nSkipping line 155609: expected 64 fields, saw 65\\n'\n",
      "b'Skipping line 158201: expected 64 fields, saw 65\\nSkipping line 163839: expected 64 fields, saw 66\\n'\n",
      "b'Skipping line 167353: expected 64 fields, saw 67\\nSkipping line 167398: expected 64 fields, saw 67\\nSkipping line 167429: expected 64 fields, saw 67\\nSkipping line 167430: expected 64 fields, saw 67\\nSkipping line 167444: expected 64 fields, saw 67\\nSkipping line 167460: expected 64 fields, saw 67\\nSkipping line 167476: expected 64 fields, saw 67\\nSkipping line 167564: expected 64 fields, saw 66\\nSkipping line 171730: expected 64 fields, saw 66\\n'\n",
      "b'Skipping line 176257: expected 64 fields, saw 65\\nSkipping line 177874: expected 64 fields, saw 67\\nSkipping line 178526: expected 64 fields, saw 67\\nSkipping line 178580: expected 64 fields, saw 67\\n'\n",
      "b'Skipping line 180982: expected 64 fields, saw 67\\nSkipping line 181530: expected 64 fields, saw 65\\nSkipping line 181581: expected 64 fields, saw 66\\nSkipping line 181593: expected 64 fields, saw 66\\nSkipping line 182423: expected 64 fields, saw 66\\nSkipping line 186277: expected 64 fields, saw 65\\n'\n",
      "b'Skipping line 189908: expected 64 fields, saw 67\\nSkipping line 189923: expected 64 fields, saw 67\\nSkipping line 189934: expected 64 fields, saw 67\\nSkipping line 189936: expected 64 fields, saw 67\\nSkipping line 190006: expected 64 fields, saw 67\\nSkipping line 190049: expected 64 fields, saw 67\\nSkipping line 191522: expected 64 fields, saw 67\\nSkipping line 192217: expected 64 fields, saw 67\\nSkipping line 192232: expected 64 fields, saw 67\\nSkipping line 192300: expected 64 fields, saw 67\\nSkipping line 192585: expected 64 fields, saw 67\\nSkipping line 192594: expected 64 fields, saw 67\\nSkipping line 193094: expected 64 fields, saw 67\\nSkipping line 193121: expected 64 fields, saw 67\\nSkipping line 193145: expected 64 fields, saw 67\\nSkipping line 193200: expected 64 fields, saw 67\\nSkipping line 193206: expected 64 fields, saw 67\\nSkipping line 193210: expected 64 fields, saw 67\\nSkipping line 193287: expected 64 fields, saw 67\\nSkipping line 193297: expected 64 fields, saw 67\\nSkipping line 193686: expected 64 fields, saw 67\\nSkipping line 193687: expected 64 fields, saw 67\\nSkipping line 193751: expected 64 fields, saw 67\\nSkipping line 193761: expected 64 fields, saw 67\\nSkipping line 193762: expected 64 fields, saw 67\\nSkipping line 193788: expected 64 fields, saw 67\\nSkipping line 193807: expected 64 fields, saw 67\\nSkipping line 193927: expected 64 fields, saw 67\\nSkipping line 194252: expected 64 fields, saw 67\\nSkipping line 194554: expected 64 fields, saw 71\\nSkipping line 194714: expected 64 fields, saw 67\\nSkipping line 194737: expected 64 fields, saw 67\\nSkipping line 194834: expected 64 fields, saw 67\\nSkipping line 194926: expected 64 fields, saw 67\\nSkipping line 194927: expected 64 fields, saw 67\\nSkipping line 194939: expected 64 fields, saw 67\\nSkipping line 194941: expected 64 fields, saw 67\\nSkipping line 195594: expected 64 fields, saw 67\\nSkipping line 195860: expected 64 fields, saw 67\\nSkipping line 196060: expected 64 fields, saw 67\\nSkipping line 196071: expected 64 fields, saw 67\\nSkipping line 196715: expected 64 fields, saw 67\\nSkipping line 196728: expected 64 fields, saw 67\\nSkipping line 196776: expected 64 fields, saw 67\\nSkipping line 196795: expected 64 fields, saw 67\\n'\n"
     ]
    },
    {
     "name": "stderr",
     "output_type": "stream",
     "text": [
      "b'Skipping line 197213: expected 64 fields, saw 65\\nSkipping line 197215: expected 64 fields, saw 67\\nSkipping line 197238: expected 64 fields, saw 67\\nSkipping line 198305: expected 64 fields, saw 67\\nSkipping line 198334: expected 64 fields, saw 67\\nSkipping line 198349: expected 64 fields, saw 67\\nSkipping line 198394: expected 64 fields, saw 65\\nSkipping line 198410: expected 64 fields, saw 67\\nSkipping line 198420: expected 64 fields, saw 65\\nSkipping line 198426: expected 64 fields, saw 67\\nSkipping line 198710: expected 64 fields, saw 67\\nSkipping line 198819: expected 64 fields, saw 67\\nSkipping line 198851: expected 64 fields, saw 67\\nSkipping line 199160: expected 64 fields, saw 66\\nSkipping line 199812: expected 64 fields, saw 67\\nSkipping line 200475: expected 64 fields, saw 67\\nSkipping line 201088: expected 64 fields, saw 67\\nSkipping line 201117: expected 64 fields, saw 67\\nSkipping line 201121: expected 64 fields, saw 67\\nSkipping line 201133: expected 64 fields, saw 67\\nSkipping line 201135: expected 64 fields, saw 67\\nSkipping line 201146: expected 64 fields, saw 67\\nSkipping line 201534: expected 64 fields, saw 67\\nSkipping line 201908: expected 64 fields, saw 67\\nSkipping line 202381: expected 64 fields, saw 67\\nSkipping line 202639: expected 64 fields, saw 65\\nSkipping line 202640: expected 64 fields, saw 65\\nSkipping line 202838: expected 64 fields, saw 65\\nSkipping line 202869: expected 64 fields, saw 67\\nSkipping line 202923: expected 64 fields, saw 67\\nSkipping line 203281: expected 64 fields, saw 65\\nSkipping line 203764: expected 64 fields, saw 66\\nSkipping line 203921: expected 64 fields, saw 65\\nSkipping line 204454: expected 64 fields, saw 65\\nSkipping line 204479: expected 64 fields, saw 65\\nSkipping line 204480: expected 64 fields, saw 65\\nSkipping line 204830: expected 64 fields, saw 67\\nSkipping line 204861: expected 64 fields, saw 67\\nSkipping line 204879: expected 64 fields, saw 67\\nSkipping line 205047: expected 64 fields, saw 67\\nSkipping line 205144: expected 64 fields, saw 67\\nSkipping line 205220: expected 64 fields, saw 67\\n'\n",
      "b'Skipping line 205331: expected 64 fields, saw 65\\nSkipping line 205334: expected 64 fields, saw 65\\nSkipping line 205338: expected 64 fields, saw 65\\nSkipping line 205344: expected 64 fields, saw 65\\nSkipping line 205346: expected 64 fields, saw 65\\nSkipping line 205350: expected 64 fields, saw 65\\nSkipping line 205354: expected 64 fields, saw 65\\nSkipping line 205360: expected 64 fields, saw 65\\nSkipping line 205372: expected 64 fields, saw 65\\nSkipping line 205378: expected 64 fields, saw 65\\nSkipping line 205380: expected 64 fields, saw 65\\nSkipping line 205388: expected 64 fields, saw 65\\nSkipping line 205399: expected 64 fields, saw 65\\nSkipping line 205400: expected 64 fields, saw 65\\nSkipping line 205706: expected 64 fields, saw 67\\nSkipping line 205956: expected 64 fields, saw 65\\nSkipping line 205959: expected 64 fields, saw 65\\nSkipping line 205963: expected 64 fields, saw 65\\nSkipping line 205986: expected 64 fields, saw 65\\nSkipping line 205988: expected 64 fields, saw 65\\nSkipping line 205995: expected 64 fields, saw 65\\nSkipping line 205999: expected 64 fields, saw 65\\nSkipping line 206009: expected 64 fields, saw 65\\nSkipping line 206017: expected 64 fields, saw 65\\nSkipping line 206025: expected 64 fields, saw 65\\nSkipping line 206027: expected 64 fields, saw 65\\nSkipping line 206031: expected 64 fields, saw 65\\nSkipping line 206040: expected 64 fields, saw 65\\nSkipping line 206041: expected 64 fields, saw 65\\nSkipping line 206997: expected 64 fields, saw 67\\nSkipping line 211289: expected 64 fields, saw 66\\nSkipping line 211534: expected 64 fields, saw 67\\nSkipping line 211537: expected 64 fields, saw 67\\n'\n",
      "b'Skipping line 214120: expected 64 fields, saw 68\\nSkipping line 214122: expected 64 fields, saw 68\\nSkipping line 214123: expected 64 fields, saw 68\\nSkipping line 214127: expected 64 fields, saw 68\\nSkipping line 214133: expected 64 fields, saw 68\\nSkipping line 214146: expected 64 fields, saw 68\\nSkipping line 214154: expected 64 fields, saw 68\\nSkipping line 214170: expected 64 fields, saw 68\\nSkipping line 214172: expected 64 fields, saw 68\\nSkipping line 214229: expected 64 fields, saw 68\\nSkipping line 214230: expected 64 fields, saw 68\\nSkipping line 215113: expected 64 fields, saw 65\\nSkipping line 215562: expected 64 fields, saw 65\\nSkipping line 215969: expected 64 fields, saw 68\\nSkipping line 215972: expected 64 fields, saw 68\\nSkipping line 217063: expected 64 fields, saw 65\\nSkipping line 218966: expected 64 fields, saw 67\\nSkipping line 220136: expected 64 fields, saw 66\\nSkipping line 220556: expected 64 fields, saw 65\\nSkipping line 221457: expected 64 fields, saw 65\\n'\n",
      "b'Skipping line 225432: expected 64 fields, saw 65\\nSkipping line 225614: expected 64 fields, saw 66\\nSkipping line 226608: expected 64 fields, saw 67\\n'\n",
      "b'Skipping line 230650: expected 64 fields, saw 65\\n'\n",
      "b'Skipping line 242893: expected 64 fields, saw 65\\nSkipping line 243536: expected 64 fields, saw 65\\nSkipping line 243537: expected 64 fields, saw 65\\nSkipping line 244093: expected 64 fields, saw 65\\nSkipping line 244094: expected 64 fields, saw 65\\nSkipping line 244632: expected 64 fields, saw 66\\n'\n",
      "b'Skipping line 248100: expected 64 fields, saw 68\\nSkipping line 248104: expected 64 fields, saw 68\\nSkipping line 248105: expected 64 fields, saw 68\\nSkipping line 248107: expected 64 fields, saw 68\\nSkipping line 248110: expected 64 fields, saw 68\\nSkipping line 251003: expected 64 fields, saw 67\\nSkipping line 253509: expected 64 fields, saw 65\\nSkipping line 253693: expected 64 fields, saw 65\\nSkipping line 254411: expected 64 fields, saw 65\\nSkipping line 254413: expected 64 fields, saw 65\\n'\n",
      "b'Skipping line 255102: expected 64 fields, saw 67\\nSkipping line 256333: expected 64 fields, saw 67\\nSkipping line 256334: expected 64 fields, saw 67\\nSkipping line 256336: expected 64 fields, saw 67\\nSkipping line 256337: expected 64 fields, saw 67\\nSkipping line 256339: expected 64 fields, saw 67\\nSkipping line 256340: expected 64 fields, saw 67\\nSkipping line 256341: expected 64 fields, saw 67\\nSkipping line 256342: expected 64 fields, saw 67\\nSkipping line 256343: expected 64 fields, saw 67\\nSkipping line 256345: expected 64 fields, saw 67\\nSkipping line 256346: expected 64 fields, saw 67\\nSkipping line 256347: expected 64 fields, saw 67\\nSkipping line 256348: expected 64 fields, saw 67\\nSkipping line 256349: expected 64 fields, saw 67\\nSkipping line 256350: expected 64 fields, saw 67\\nSkipping line 256351: expected 64 fields, saw 67\\nSkipping line 256352: expected 64 fields, saw 67\\nSkipping line 256355: expected 64 fields, saw 67\\nSkipping line 256356: expected 64 fields, saw 67\\nSkipping line 256357: expected 64 fields, saw 67\\nSkipping line 256358: expected 64 fields, saw 67\\nSkipping line 256359: expected 64 fields, saw 67\\nSkipping line 256360: expected 64 fields, saw 67\\nSkipping line 256362: expected 64 fields, saw 67\\nSkipping line 256363: expected 64 fields, saw 67\\nSkipping line 256364: expected 64 fields, saw 67\\nSkipping line 256369: expected 64 fields, saw 67\\nSkipping line 256370: expected 64 fields, saw 67\\nSkipping line 256372: expected 64 fields, saw 67\\nSkipping line 256373: expected 64 fields, saw 67\\nSkipping line 256375: expected 64 fields, saw 67\\nSkipping line 256446: expected 64 fields, saw 67\\nSkipping line 256447: expected 64 fields, saw 67\\nSkipping line 256448: expected 64 fields, saw 67\\nSkipping line 256456: expected 64 fields, saw 67\\nSkipping line 256457: expected 64 fields, saw 67\\nSkipping line 256458: expected 64 fields, saw 67\\nSkipping line 256460: expected 64 fields, saw 67\\nSkipping line 256461: expected 64 fields, saw 67\\nSkipping line 256462: expected 64 fields, saw 67\\nSkipping line 258291: expected 64 fields, saw 66\\nSkipping line 258477: expected 64 fields, saw 67\\nSkipping line 259050: expected 64 fields, saw 66\\n'\n",
      "b'Skipping line 266082: expected 64 fields, saw 67\\nSkipping line 266218: expected 64 fields, saw 66\\nSkipping line 268311: expected 64 fields, saw 67\\nSkipping line 268505: expected 64 fields, saw 67\\nSkipping line 268625: expected 64 fields, saw 67\\n'\n"
     ]
    },
    {
     "name": "stderr",
     "output_type": "stream",
     "text": [
      "b'Skipping line 271221: expected 64 fields, saw 65\\nSkipping line 278193: expected 64 fields, saw 67\\nSkipping line 278236: expected 64 fields, saw 67\\n'\n",
      "b'Skipping line 283321: expected 64 fields, saw 66\\nSkipping line 283324: expected 64 fields, saw 66\\nSkipping line 283326: expected 64 fields, saw 66\\nSkipping line 283327: expected 64 fields, saw 66\\nSkipping line 283328: expected 64 fields, saw 66\\nSkipping line 283329: expected 64 fields, saw 66\\nSkipping line 283331: expected 64 fields, saw 66\\nSkipping line 283333: expected 64 fields, saw 66\\nSkipping line 283334: expected 64 fields, saw 66\\nSkipping line 283335: expected 64 fields, saw 66\\nSkipping line 283352: expected 64 fields, saw 66\\nSkipping line 283359: expected 64 fields, saw 66\\nSkipping line 283387: expected 64 fields, saw 66\\nSkipping line 283393: expected 64 fields, saw 66\\nSkipping line 283400: expected 64 fields, saw 66\\nSkipping line 283409: expected 64 fields, saw 66\\nSkipping line 283417: expected 64 fields, saw 66\\nSkipping line 283422: expected 64 fields, saw 66\\nSkipping line 283423: expected 64 fields, saw 66\\nSkipping line 283436: expected 64 fields, saw 66\\nSkipping line 283439: expected 64 fields, saw 66\\nSkipping line 283451: expected 64 fields, saw 66\\nSkipping line 283469: expected 64 fields, saw 66\\nSkipping line 283497: expected 64 fields, saw 66\\nSkipping line 283511: expected 64 fields, saw 66\\nSkipping line 283512: expected 64 fields, saw 66\\nSkipping line 283513: expected 64 fields, saw 66\\nSkipping line 283539: expected 64 fields, saw 66\\nSkipping line 283540: expected 64 fields, saw 66\\nSkipping line 283541: expected 64 fields, saw 66\\nSkipping line 283555: expected 64 fields, saw 66\\nSkipping line 283556: expected 64 fields, saw 66\\nSkipping line 283559: expected 64 fields, saw 66\\nSkipping line 283561: expected 64 fields, saw 66\\nSkipping line 283562: expected 64 fields, saw 66\\nSkipping line 283601: expected 64 fields, saw 66\\nSkipping line 283603: expected 64 fields, saw 66\\nSkipping line 283616: expected 64 fields, saw 66\\nSkipping line 283617: expected 64 fields, saw 66\\nSkipping line 283624: expected 64 fields, saw 66\\nSkipping line 283626: expected 64 fields, saw 66\\nSkipping line 283627: expected 64 fields, saw 66\\nSkipping line 283628: expected 64 fields, saw 66\\nSkipping line 283638: expected 64 fields, saw 66\\nSkipping line 283646: expected 64 fields, saw 66\\nSkipping line 283647: expected 64 fields, saw 66\\nSkipping line 283677: expected 64 fields, saw 66\\nSkipping line 283678: expected 64 fields, saw 66\\nSkipping line 283680: expected 64 fields, saw 66\\nSkipping line 283687: expected 64 fields, saw 66\\nSkipping line 283688: expected 64 fields, saw 66\\nSkipping line 283691: expected 64 fields, saw 66\\nSkipping line 283699: expected 64 fields, saw 66\\nSkipping line 283965: expected 64 fields, saw 66\\n'\n",
      "b'Skipping line 289168: expected 64 fields, saw 65\\nSkipping line 290597: expected 64 fields, saw 66\\nSkipping line 290614: expected 64 fields, saw 66\\nSkipping line 290690: expected 64 fields, saw 66\\nSkipping line 290691: expected 64 fields, saw 66\\nSkipping line 290693: expected 64 fields, saw 66\\nSkipping line 290694: expected 64 fields, saw 66\\nSkipping line 290708: expected 64 fields, saw 66\\nSkipping line 290736: expected 64 fields, saw 66\\n'\n",
      "b'Skipping line 299615: expected 64 fields, saw 65\\nSkipping line 301642: expected 64 fields, saw 65\\nSkipping line 303250: expected 64 fields, saw 67\\n'\n",
      "b'Skipping line 304634: expected 64 fields, saw 65\\nSkipping line 304649: expected 64 fields, saw 65\\nSkipping line 304651: expected 64 fields, saw 65\\nSkipping line 306881: expected 64 fields, saw 67\\nSkipping line 306883: expected 64 fields, saw 67\\nSkipping line 306887: expected 64 fields, saw 67\\nSkipping line 306889: expected 64 fields, saw 67\\nSkipping line 306891: expected 64 fields, saw 67\\nSkipping line 306901: expected 64 fields, saw 67\\nSkipping line 306908: expected 64 fields, saw 67\\nSkipping line 306916: expected 64 fields, saw 67\\nSkipping line 306927: expected 64 fields, saw 67\\nSkipping line 306937: expected 64 fields, saw 67\\nSkipping line 306945: expected 64 fields, saw 67\\nSkipping line 306946: expected 64 fields, saw 67\\nSkipping line 306949: expected 64 fields, saw 67\\nSkipping line 306950: expected 64 fields, saw 67\\nSkipping line 306953: expected 64 fields, saw 67\\nSkipping line 306958: expected 64 fields, saw 67\\nSkipping line 306963: expected 64 fields, saw 67\\nSkipping line 306965: expected 64 fields, saw 67\\nSkipping line 307781: expected 64 fields, saw 67\\nSkipping line 309089: expected 64 fields, saw 67\\nSkipping line 310493: expected 64 fields, saw 65\\nSkipping line 310494: expected 64 fields, saw 65\\n'\n",
      "b'Skipping line 314697: expected 64 fields, saw 65\\nSkipping line 315250: expected 64 fields, saw 65\\nSkipping line 318650: expected 64 fields, saw 65\\nSkipping line 318753: expected 64 fields, saw 65\\nSkipping line 319699: expected 64 fields, saw 65\\n'\n",
      "b'Skipping line 322320: expected 64 fields, saw 65\\nSkipping line 322864: expected 64 fields, saw 65\\nSkipping line 324635: expected 64 fields, saw 65\\nSkipping line 324666: expected 64 fields, saw 65\\n'\n",
      "b'Skipping line 329189: expected 64 fields, saw 65\\nSkipping line 329937: expected 64 fields, saw 66\\nSkipping line 329938: expected 64 fields, saw 66\\nSkipping line 330532: expected 64 fields, saw 66\\nSkipping line 330541: expected 64 fields, saw 66\\nSkipping line 330542: expected 64 fields, saw 66\\nSkipping line 330545: expected 64 fields, saw 66\\nSkipping line 330610: expected 64 fields, saw 66\\nSkipping line 331253: expected 64 fields, saw 66\\nSkipping line 331362: expected 64 fields, saw 66\\nSkipping line 331490: expected 64 fields, saw 65\\nSkipping line 331491: expected 64 fields, saw 65\\nSkipping line 332393: expected 64 fields, saw 66\\nSkipping line 332434: expected 64 fields, saw 66\\nSkipping line 332469: expected 64 fields, saw 65\\nSkipping line 332470: expected 64 fields, saw 65\\nSkipping line 332487: expected 64 fields, saw 66\\nSkipping line 332495: expected 64 fields, saw 66\\nSkipping line 332496: expected 64 fields, saw 66\\nSkipping line 332517: expected 64 fields, saw 66\\nSkipping line 332519: expected 64 fields, saw 66\\nSkipping line 332522: expected 64 fields, saw 66\\nSkipping line 332528: expected 64 fields, saw 66\\nSkipping line 332529: expected 64 fields, saw 66\\nSkipping line 332539: expected 64 fields, saw 66\\nSkipping line 332671: expected 64 fields, saw 66\\nSkipping line 332676: expected 64 fields, saw 66\\nSkipping line 333081: expected 64 fields, saw 67\\nSkipping line 333093: expected 64 fields, saw 67\\nSkipping line 333121: expected 64 fields, saw 67\\nSkipping line 333122: expected 64 fields, saw 67\\nSkipping line 333123: expected 64 fields, saw 67\\nSkipping line 333138: expected 64 fields, saw 67\\nSkipping line 333153: expected 64 fields, saw 67\\nSkipping line 333154: expected 64 fields, saw 67\\nSkipping line 333264: expected 64 fields, saw 67\\nSkipping line 333272: expected 64 fields, saw 67\\nSkipping line 333278: expected 64 fields, saw 67\\nSkipping line 333281: expected 64 fields, saw 67\\nSkipping line 333282: expected 64 fields, saw 67\\nSkipping line 333303: expected 64 fields, saw 67\\nSkipping line 333314: expected 64 fields, saw 67\\nSkipping line 333336: expected 64 fields, saw 67\\nSkipping line 333391: expected 64 fields, saw 67\\nSkipping line 333394: expected 64 fields, saw 67\\nSkipping line 333411: expected 64 fields, saw 67\\nSkipping line 333413: expected 64 fields, saw 67\\nSkipping line 333476: expected 64 fields, saw 67\\nSkipping line 333501: expected 64 fields, saw 67\\nSkipping line 333519: expected 64 fields, saw 67\\n'\n",
      "b'Skipping line 337850: expected 64 fields, saw 65\\nSkipping line 337948: expected 64 fields, saw 65\\nSkipping line 338736: expected 64 fields, saw 66\\nSkipping line 338889: expected 64 fields, saw 66\\nSkipping line 338926: expected 64 fields, saw 66\\nSkipping line 338933: expected 64 fields, saw 66\\nSkipping line 339943: expected 64 fields, saw 65\\nSkipping line 342989: expected 64 fields, saw 66\\nSkipping line 344679: expected 64 fields, saw 72\\nSkipping line 344747: expected 64 fields, saw 66\\n'\n",
      "b'Skipping line 344894: expected 64 fields, saw 66\\nSkipping line 346139: expected 64 fields, saw 67\\nSkipping line 346155: expected 64 fields, saw 67\\nSkipping line 348017: expected 64 fields, saw 66\\nSkipping line 348136: expected 64 fields, saw 66\\nSkipping line 350169: expected 64 fields, saw 65\\nSkipping line 350198: expected 64 fields, saw 65\\nSkipping line 350615: expected 64 fields, saw 66\\nSkipping line 351967: expected 64 fields, saw 66\\nSkipping line 351968: expected 64 fields, saw 66\\nSkipping line 352004: expected 64 fields, saw 69\\nSkipping line 352700: expected 64 fields, saw 66\\n'\n"
     ]
    },
    {
     "name": "stderr",
     "output_type": "stream",
     "text": [
      "b'Skipping line 353673: expected 64 fields, saw 66\\nSkipping line 353699: expected 64 fields, saw 66\\n'\n",
      "b'Skipping line 362095: expected 64 fields, saw 66\\nSkipping line 364253: expected 64 fields, saw 67\\nSkipping line 364263: expected 64 fields, saw 67\\nSkipping line 364276: expected 64 fields, saw 67\\nSkipping line 366917: expected 64 fields, saw 65\\nSkipping line 367790: expected 64 fields, saw 67\\nSkipping line 367896: expected 64 fields, saw 67\\nSkipping line 367900: expected 64 fields, saw 67\\nSkipping line 367901: expected 64 fields, saw 67\\nSkipping line 367905: expected 64 fields, saw 67\\nSkipping line 367908: expected 64 fields, saw 67\\nSkipping line 367912: expected 64 fields, saw 67\\nSkipping line 367914: expected 64 fields, saw 67\\nSkipping line 367915: expected 64 fields, saw 67\\nSkipping line 367921: expected 64 fields, saw 67\\nSkipping line 367935: expected 64 fields, saw 67\\nSkipping line 367943: expected 64 fields, saw 67\\nSkipping line 367949: expected 64 fields, saw 67\\nSkipping line 367963: expected 64 fields, saw 67\\nSkipping line 367965: expected 64 fields, saw 67\\nSkipping line 367966: expected 64 fields, saw 67\\nSkipping line 367971: expected 64 fields, saw 67\\nSkipping line 367973: expected 64 fields, saw 67\\nSkipping line 367977: expected 64 fields, saw 67\\nSkipping line 367981: expected 64 fields, saw 67\\nSkipping line 367983: expected 64 fields, saw 67\\nSkipping line 367987: expected 64 fields, saw 67\\nSkipping line 367991: expected 64 fields, saw 67\\nSkipping line 367995: expected 64 fields, saw 67\\nSkipping line 368001: expected 64 fields, saw 67\\nSkipping line 368011: expected 64 fields, saw 67\\nSkipping line 368012: expected 64 fields, saw 67\\nSkipping line 368021: expected 64 fields, saw 67\\nSkipping line 368024: expected 64 fields, saw 67\\nSkipping line 368030: expected 64 fields, saw 67\\nSkipping line 368032: expected 64 fields, saw 67\\nSkipping line 368041: expected 64 fields, saw 67\\nSkipping line 368044: expected 64 fields, saw 67\\nSkipping line 368051: expected 64 fields, saw 67\\nSkipping line 368054: expected 64 fields, saw 67\\nSkipping line 368055: expected 64 fields, saw 67\\nSkipping line 368057: expected 64 fields, saw 67\\nSkipping line 368072: expected 64 fields, saw 67\\nSkipping line 368080: expected 64 fields, saw 67\\nSkipping line 368083: expected 64 fields, saw 67\\nSkipping line 368090: expected 64 fields, saw 67\\nSkipping line 368091: expected 64 fields, saw 67\\nSkipping line 368092: expected 64 fields, saw 67\\nSkipping line 368106: expected 64 fields, saw 67\\nSkipping line 368121: expected 64 fields, saw 67\\nSkipping line 368125: expected 64 fields, saw 67\\nSkipping line 368129: expected 64 fields, saw 67\\nSkipping line 368133: expected 64 fields, saw 67\\nSkipping line 368141: expected 64 fields, saw 67\\nSkipping line 368147: expected 64 fields, saw 67\\nSkipping line 368150: expected 64 fields, saw 67\\nSkipping line 368154: expected 64 fields, saw 67\\nSkipping line 368155: expected 64 fields, saw 67\\nSkipping line 368158: expected 64 fields, saw 67\\nSkipping line 368159: expected 64 fields, saw 67\\nSkipping line 368160: expected 64 fields, saw 67\\nSkipping line 368164: expected 64 fields, saw 67\\nSkipping line 368169: expected 64 fields, saw 67\\nSkipping line 368178: expected 64 fields, saw 67\\nSkipping line 368191: expected 64 fields, saw 67\\nSkipping line 368197: expected 64 fields, saw 67\\nSkipping line 368199: expected 64 fields, saw 67\\nSkipping line 368201: expected 64 fields, saw 67\\nSkipping line 368205: expected 64 fields, saw 67\\nSkipping line 368206: expected 64 fields, saw 67\\n'\n",
      "b'Skipping line 370958: expected 64 fields, saw 65\\nSkipping line 370959: expected 64 fields, saw 65\\nSkipping line 370961: expected 64 fields, saw 65\\nSkipping line 370962: expected 64 fields, saw 65\\nSkipping line 370963: expected 64 fields, saw 65\\nSkipping line 370964: expected 64 fields, saw 65\\nSkipping line 370970: expected 64 fields, saw 65\\nSkipping line 370971: expected 64 fields, saw 65\\nSkipping line 370978: expected 64 fields, saw 65\\nSkipping line 370980: expected 64 fields, saw 65\\nSkipping line 371393: expected 64 fields, saw 65\\nSkipping line 371394: expected 64 fields, saw 71\\nSkipping line 375513: expected 64 fields, saw 65\\nSkipping line 375514: expected 64 fields, saw 65\\nSkipping line 376429: expected 64 fields, saw 65\\nSkipping line 376430: expected 64 fields, saw 65\\nSkipping line 376431: expected 64 fields, saw 67\\n'\n",
      "b'Skipping line 377713: expected 64 fields, saw 65\\nSkipping line 379185: expected 64 fields, saw 66\\nSkipping line 379189: expected 64 fields, saw 66\\nSkipping line 379197: expected 64 fields, saw 66\\nSkipping line 379210: expected 64 fields, saw 66\\nSkipping line 379218: expected 64 fields, saw 66\\nSkipping line 379221: expected 64 fields, saw 66\\nSkipping line 380015: expected 64 fields, saw 65\\nSkipping line 382219: expected 64 fields, saw 67\\nSkipping line 382256: expected 64 fields, saw 67\\nSkipping line 382272: expected 64 fields, saw 67\\nSkipping line 382351: expected 64 fields, saw 67\\nSkipping line 382362: expected 64 fields, saw 67\\nSkipping line 382621: expected 64 fields, saw 67\\nSkipping line 382622: expected 64 fields, saw 67\\nSkipping line 382623: expected 64 fields, saw 67\\nSkipping line 382760: expected 64 fields, saw 67\\nSkipping line 382797: expected 64 fields, saw 67\\nSkipping line 382813: expected 64 fields, saw 67\\nSkipping line 382893: expected 64 fields, saw 67\\nSkipping line 382904: expected 64 fields, saw 67\\nSkipping line 383210: expected 64 fields, saw 67\\nSkipping line 383211: expected 64 fields, saw 67\\nSkipping line 383212: expected 64 fields, saw 67\\nSkipping line 383213: expected 64 fields, saw 67\\nSkipping line 383217: expected 64 fields, saw 65\\nSkipping line 383218: expected 64 fields, saw 65\\nSkipping line 383219: expected 64 fields, saw 65\\nSkipping line 383400: expected 64 fields, saw 65\\nSkipping line 384171: expected 64 fields, saw 65\\n'\n",
      "b'Skipping line 387216: expected 64 fields, saw 65\\nSkipping line 387294: expected 64 fields, saw 65\\nSkipping line 387307: expected 64 fields, saw 65\\nSkipping line 387308: expected 64 fields, saw 65\\nSkipping line 387309: expected 64 fields, saw 65\\nSkipping line 387311: expected 64 fields, saw 65\\nSkipping line 387312: expected 64 fields, saw 65\\nSkipping line 387313: expected 64 fields, saw 65\\nSkipping line 387314: expected 64 fields, saw 65\\nSkipping line 387315: expected 64 fields, saw 65\\nSkipping line 388434: expected 64 fields, saw 65\\nSkipping line 388960: expected 64 fields, saw 65\\nSkipping line 389117: expected 64 fields, saw 65\\nSkipping line 389292: expected 64 fields, saw 65\\n'\n",
      "b'Skipping line 394150: expected 64 fields, saw 65\\nSkipping line 394583: expected 64 fields, saw 65\\nSkipping line 394585: expected 64 fields, saw 65\\nSkipping line 394587: expected 64 fields, saw 65\\nSkipping line 394972: expected 64 fields, saw 65\\nSkipping line 394973: expected 64 fields, saw 65\\nSkipping line 394974: expected 64 fields, saw 65\\nSkipping line 395126: expected 64 fields, saw 65\\nSkipping line 395149: expected 64 fields, saw 65\\nSkipping line 395151: expected 64 fields, saw 65\\nSkipping line 395183: expected 64 fields, saw 65\\nSkipping line 395184: expected 64 fields, saw 65\\nSkipping line 395267: expected 64 fields, saw 65\\nSkipping line 398602: expected 64 fields, saw 65\\nSkipping line 398603: expected 64 fields, saw 65\\nSkipping line 398604: expected 64 fields, saw 65\\nSkipping line 400387: expected 64 fields, saw 67\\nSkipping line 400848: expected 64 fields, saw 65\\nSkipping line 401543: expected 64 fields, saw 65\\nSkipping line 401544: expected 64 fields, saw 65\\nSkipping line 401813: expected 64 fields, saw 65\\nSkipping line 401814: expected 64 fields, saw 65\\nSkipping line 401815: expected 64 fields, saw 65\\nSkipping line 401968: expected 64 fields, saw 65\\nSkipping line 402000: expected 64 fields, saw 65\\nSkipping line 402003: expected 64 fields, saw 65\\nSkipping line 402004: expected 64 fields, saw 65\\nSkipping line 402005: expected 64 fields, saw 65\\nSkipping line 402198: expected 64 fields, saw 65\\n'\n",
      "b'Skipping line 402343: expected 64 fields, saw 65\\nSkipping line 402428: expected 64 fields, saw 65\\nSkipping line 402429: expected 64 fields, saw 65\\nSkipping line 402677: expected 64 fields, saw 65\\nSkipping line 402678: expected 64 fields, saw 65\\nSkipping line 404260: expected 64 fields, saw 65\\nSkipping line 404262: expected 64 fields, saw 65\\nSkipping line 404263: expected 64 fields, saw 65\\nSkipping line 404284: expected 64 fields, saw 65\\nSkipping line 404286: expected 64 fields, saw 65\\nSkipping line 404287: expected 64 fields, saw 65\\nSkipping line 404466: expected 64 fields, saw 65\\n'\n"
     ]
    },
    {
     "name": "stderr",
     "output_type": "stream",
     "text": [
      "C:\\Users\\rashm\\AppData\\Roaming\\Python\\Python37\\site-packages\\IPython\\core\\interactiveshell.py:3166: DtypeWarning: Columns (42,43,44,45,55,56,57,58,59,60,62) have mixed types.Specify dtype option on import or set low_memory=False.\n",
      "  interactivity=interactivity, compiler=compiler, result=result)\n"
     ]
    }
   ],
   "source": [
    "option_calc_fixtures6 = pd.read_csv(\"data/option_calc_fixtures\", error_bad_lines=False)"
   ]
  },
  {
   "cell_type": "code",
   "execution_count": 68,
   "metadata": {},
   "outputs": [
    {
     "data": {
      "text/plain": [
       "(409780, 64)"
      ]
     },
     "execution_count": 68,
     "metadata": {},
     "output_type": "execute_result"
    }
   ],
   "source": [
    "option_calc_fixtures6.shape"
   ]
  },
  {
   "cell_type": "code",
   "execution_count": 69,
   "metadata": {},
   "outputs": [
    {
     "name": "stdout",
     "output_type": "stream",
     "text": [
      "Removing null values \n",
      "\n",
      "option_calculation_id : 34.26887598223437 %\n",
      "heating_id : 97.04621992288544 %\n",
      "cooling_id : 90.8057982331983 %\n",
      "markup : 32.29293767387379 %\n",
      "markup_type : 38.48601688711016 %\n",
      "incentive_savings : 59.65249646151594 %\n",
      "total_savings : 34.27400068329348 %\n",
      "total_savings_per_lamp_life : 34.27400068329348 %\n",
      "option_calc_fixture_id : 34.273268583142176 %\n",
      "solution_id : 59.6476157938406 %\n",
      "simple_payback : 63.42647274147103 %\n",
      "demand_savings : 37.000341646737276 %\n",
      "demand_cost_savings : 37.0201083508224 %\n",
      "heating_cost_savings : 37.0201083508224 %\n",
      "cooling_cost_savings : 37.02059641758992 %\n",
      "maintenance_cost_savings : 37.02035238420616 %\n",
      "energy_savings : 37.020840450973694 %\n",
      "energy_cost_savings : 37.00058568012104 %\n",
      "inactive_at : 98.0101517887647 %\n"
     ]
    }
   ],
   "source": [
    "print(\"Removing null values \")\n",
    "print()\n",
    "for i in option_calc_fixtures6.columns:\n",
    "    if (option_calc_fixtures6[i].isnull().sum()/len(option_calc_fixtures6))*100 >= 30:\n",
    "        print(i,\":\", option_calc_fixtures6[i].isnull().sum()/len(option_calc_fixtures6)*100, \"%\")\n",
    "        option_calc_fixtures6.drop(i, axis=1,inplace=True)"
   ]
  },
  {
   "cell_type": "code",
   "execution_count": 70,
   "metadata": {},
   "outputs": [
    {
     "data": {
      "text/plain": [
       "(409780, 45)"
      ]
     },
     "execution_count": 70,
     "metadata": {},
     "output_type": "execute_result"
    }
   ],
   "source": [
    "option_calc_fixtures6.shape"
   ]
  },
  {
   "cell_type": "code",
   "execution_count": null,
   "metadata": {},
   "outputs": [],
   "source": []
  }
 ],
 "metadata": {
  "kernelspec": {
   "display_name": "Python 3",
   "language": "python",
   "name": "python3"
  },
  "language_info": {
   "codemirror_mode": {
    "name": "ipython",
    "version": 3
   },
   "file_extension": ".py",
   "mimetype": "text/x-python",
   "name": "python",
   "nbconvert_exporter": "python",
   "pygments_lexer": "ipython3",
   "version": "3.7.4"
  }
 },
 "nbformat": 4,
 "nbformat_minor": 2
}

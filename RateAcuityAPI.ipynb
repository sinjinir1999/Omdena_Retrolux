{
 "cells": [
  {
   "cell_type": "markdown",
   "id": "59d25670",
   "metadata": {},
   "source": [
    "The username for your account is leif@retrolux.com and password is retro09.\n",
    "For help refer to https://secure.rateacuity.com/RateAcuityJSONAPI/help?p1=leif%40retrolux.com&p2=retro09"
   ]
  },
  {
   "cell_type": "code",
   "execution_count": 18,
   "id": "f0195b55",
   "metadata": {},
   "outputs": [],
   "source": [
    "import requests\n",
    "import json"
   ]
  },
  {
   "cell_type": "code",
   "execution_count": 23,
   "id": "d0e69714",
   "metadata": {},
   "outputs": [],
   "source": [
    "def get_utilitybystate(state_code):\n",
    "    \"\"\"\n",
    "    This function gets the two-character state code as a string and returns the list of available utility companies available \n",
    "    in that state\n",
    "    NOTE: Several utility company could be available in each state\n",
    "\n",
    "    \"\"\"\n",
    "    URL = \"https://secure.rateacuity.com/RateAcuityJSONAPI/api/Utility/\" + state_code +\"?p1=leif%40retrolux.com&p2=retro09\"\n",
    "\n",
    "    # sending get request and saving the response as response object\n",
    "    r = requests.get(url = URL)\n",
    "    # converting data to json format\n",
    "    data = r.json()  \n",
    "    return data "
   ]
  },
  {
   "cell_type": "code",
   "execution_count": 25,
   "id": "c5e4ced0",
   "metadata": {},
   "outputs": [],
   "source": [
    "##Uncomment below line to test the function\n",
    "# get_utilitybystate(\"NY\")"
   ]
  },
  {
   "cell_type": "code",
   "execution_count": 27,
   "id": "ad1079de",
   "metadata": {},
   "outputs": [],
   "source": [
    "def get_utilitybyzip(zip_code):\n",
    "    \"\"\"\n",
    "    This function gets the zip code as a STRING and returns the list of available utility companies  \n",
    "    in that area\n",
    "    NOTE: Several utility company could be available in each area\n",
    "    \"\"\"\n",
    "    URL = \"https://secure.rateacuity.com/RateAcuityJSONAPI/api/utilitybyzip/\" + zip_code +\"?p1=leif%40retrolux.com&p2=retro09\"\n",
    "\n",
    "    # sending get request and saving the response as response object\n",
    "    r = requests.get(url = URL)\n",
    "    # converting data to json format\n",
    "    data = r.json()\n",
    "    return data "
   ]
  },
  {
   "cell_type": "code",
   "execution_count": 63,
   "id": "96976d67",
   "metadata": {},
   "outputs": [],
   "source": [
    "##Uncomment below line to test the function\n",
    "# get_utilitybyzip(\"99040\")"
   ]
  },
  {
   "cell_type": "code",
   "execution_count": 48,
   "id": "1236124d",
   "metadata": {},
   "outputs": [],
   "source": [
    "def get_schedules(utility_ID):\n",
    "    \"\"\"\n",
    "    This function gets the utility_ID as a STRING and returns the list of available schedules or tariffs \n",
    "    that are included in RateAcuity for a specific utility\n",
    "    NOTE: Each utility can have several schedules and tariffs\n",
    "    \"\"\"\n",
    "    URL = \"https://secure.rateacuity.com/RateAcuityJSONAPI/api/Schedule/\" + utility_ID +\"?p1=leif%40retrolux.com&p2=retro09\"\n",
    "\n",
    "    # sending get request and saving the response as response object\n",
    "    r = requests.get(url = URL)\n",
    "    # converting data to json format\n",
    "    data = r.json()  \n",
    "    return data "
   ]
  },
  {
   "cell_type": "code",
   "execution_count": 58,
   "id": "6003d675",
   "metadata": {},
   "outputs": [],
   "source": [
    "##Uncomment below line to test the function\n",
    "# get_schedules(\"62\")"
   ]
  },
  {
   "cell_type": "code",
   "execution_count": 60,
   "id": "092a4fd3",
   "metadata": {},
   "outputs": [],
   "source": [
    "def get_TimeOfUseSchedule(utilitye_ID):\n",
    "    \"\"\"\n",
    "    This function gets the utilitye_ID as a STRING and returns a list of all schedules in RateAcuity for a specific \n",
    "    state or utility that has rates that vary by season, day of the week, or hour of the day. \n",
    "    NOTE1: This is an additional way to find schedules of interest. This will apply a filter on top of get_schedules() to\n",
    "    narrow down the results\n",
    "    NOTE2: There could be several schedules for each utility_ID\n",
    "    \"\"\"\n",
    "    URL = \"https://secure.rateacuity.com/RateAcuityJSONAPI/api/TimeofUseSchedule/\" + utilitye_ID +\"?p1=leif%40retrolux.com&p2=retro09\"\n",
    "\n",
    "    # sending get request and saving the response as response object\n",
    "    r = requests.get(url = URL)\n",
    "    # converting data to json format\n",
    "    data = r.json()  \n",
    "    return data "
   ]
  },
  {
   "cell_type": "code",
   "execution_count": 62,
   "id": "3c7f9e04",
   "metadata": {},
   "outputs": [],
   "source": [
    "##Uncomment below line to test the function\n",
    "# get_TimeOfUseSchedule(\"62\")"
   ]
  },
  {
   "cell_type": "code",
   "execution_count": 51,
   "id": "e943f7eb",
   "metadata": {},
   "outputs": [],
   "source": [
    "def get_schedule_detail(schedule_ID):\n",
    "    \"\"\"\n",
    "    This function gets the schedule_ID as a STRING and pulls the information belonging to the ScheduleID\n",
    "    NOTE: There could be several schedules details for each schedule_ID\n",
    "    \"\"\"\n",
    "    URL = \"https://secure.rateacuity.com/RateAcuityJSONAPI/api/ScheduleDetailTIP/\" + schedule_ID +\"?p1=leif%40retrolux.com&p2=retro09\"\n",
    "\n",
    "    # sending get request and saving the response as response object\n",
    "    r = requests.get(url = URL)\n",
    "    # converting data to json format\n",
    "    data = r.json()  \n",
    "    return data "
   ]
  },
  {
   "cell_type": "code",
   "execution_count": 59,
   "id": "f4b7341c",
   "metadata": {},
   "outputs": [],
   "source": [
    "##Uncomment below line to test the function\n",
    "# get_schedule_detail(\"856\")"
   ]
  }
 ],
 "metadata": {
  "kernelspec": {
   "display_name": "Python 3",
   "language": "python",
   "name": "python3"
  },
  "language_info": {
   "codemirror_mode": {
    "name": "ipython",
    "version": 3
   },
   "file_extension": ".py",
   "mimetype": "text/x-python",
   "name": "python",
   "nbconvert_exporter": "python",
   "pygments_lexer": "ipython3",
   "version": "3.8.8"
  }
 },
 "nbformat": 4,
 "nbformat_minor": 5
}

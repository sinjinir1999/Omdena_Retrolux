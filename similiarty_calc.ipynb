{
  "nbformat": 4,
  "nbformat_minor": 0,
  "metadata": {
    "colab": {
      "name": "distance_calculation",
      "provenance": [],
      "collapsed_sections": []
    },
    "kernelspec": {
      "name": "python3",
      "display_name": "Python 3"
    },
    "language_info": {
      "name": "python"
    }
  },
  "cells": [
    {
      "cell_type": "code",
      "metadata": {
        "id": "czBzVpSew9ab"
      },
      "source": [
        "import numpy as np\n",
        "\n",
        "from scipy.stats import chi2\n",
        "\n",
        "\n",
        "import math"
      ],
      "execution_count": 1,
      "outputs": []
    },
    {
      "cell_type": "code",
      "metadata": {
        "id": "I7_fCh17x5eN"
      },
      "source": [
        "def euclidean_distance(a,b):\n",
        "  a_arr = np.array(a)\n",
        "\n",
        "  b_arr = np.array(b)\n",
        "  \n",
        "  distance = np.linalg.norm(a_arr - b_arr)\n",
        "  return distance"
      ],
      "execution_count": 2,
      "outputs": []
    },
    {
      "cell_type": "code",
      "metadata": {
        "id": "6Da6zbh8ydea"
      },
      "source": [
        "def cosine_distance(a,b):\n",
        "  vector1 = np.dot(a, b)\n",
        "\n",
        "  norm_a = np.linalg.norm(a)\n",
        "  norm_b = np.linalg.norm(b)\n",
        "\n",
        "  normalized_vector  = vector1/(norm_a*norm_b)\n",
        "  \n",
        "  return normalized_vector "
      ],
      "execution_count": 13,
      "outputs": []
    },
    {
      "cell_type": "code",
      "metadata": {
        "id": "HQRSIDtSBXeY"
      },
      "source": [
        "def manhattan_distance(a, b):\n",
        "  result = sum(abs(a_element-b_element) for a_element, b_element in zip(a,b))\n",
        "  \n",
        "  return result  "
      ],
      "execution_count": 8,
      "outputs": []
    },
    {
      "cell_type": "code",
      "metadata": {
        "id": "n09A2c0sFo0a"
      },
      "source": [
        "def mahalanobis(df, d_values):\n",
        "\n",
        "    mean_diff = df - np.mean(d_values)\n",
        "\n",
        "    matrix = np.cov(d_values.values.T)\n",
        "    inv_matrix = np.linalg.inv(matrix)\n",
        "    \n",
        "    left_side = np.dot(x_mu, inv_matrix)\n",
        "    \n",
        "    mahal_matrix = np.dot(left_side, mean_diff.T)\n",
        "   \n",
        "    result = mahal_matrix.diagonal()\n",
        "\n",
        "    df['mahal'] = result\n",
        "    \n",
        "    df['p']  = 1 - chi2.cdf(df['mahalanobis'], 3)\n",
        "\n",
        "    return df"
      ],
      "execution_count": 9,
      "outputs": []
    },
    {
      "cell_type": "code",
      "metadata": {
        "colab": {
          "base_uri": "https://localhost:8080/"
        },
        "id": "vaSgBI9LyINX",
        "outputId": "a449b87a-aa49-4ad9-b40e-6a462373c306"
      },
      "source": [
        "\n",
        "a = [1,1,1,20]\n",
        "c = [2.5,1,1,10]\n",
        "\n",
        "cosine_distance(c, a)"
      ],
      "execution_count": 14,
      "outputs": [
        {
          "output_type": "execute_result",
          "data": {
            "text/plain": [
              "0.9790995179797175"
            ]
          },
          "metadata": {
            "tags": []
          },
          "execution_count": 14
        }
      ]
    },
    {
      "cell_type": "code",
      "metadata": {
        "colab": {
          "base_uri": "https://localhost:8080/"
        },
        "id": "egUI99GUySaK",
        "outputId": "4130b038-553a-4bdd-f645-50047595842e"
      },
      "source": [
        "a = [1,1,1,2]\n",
        "c = [2.5,1,1,1]\n",
        "\n",
        "euclidean_distance(c, a)"
      ],
      "execution_count": null,
      "outputs": [
        {
          "output_type": "execute_result",
          "data": {
            "text/plain": [
              "1.8027756377319946"
            ]
          },
          "metadata": {
            "tags": []
          },
          "execution_count": 32
        }
      ]
    },
    {
      "cell_type": "code",
      "metadata": {
        "colab": {
          "base_uri": "https://localhost:8080/"
        },
        "id": "pQvZ-08eAgYe",
        "outputId": "4b25c1e2-f484-4e41-bb13-9ee071f9b8e6"
      },
      "source": [
        "\n",
        "a = [1,1,1,2]\n",
        "c = [2.5,1,1,1]\n",
        "\n",
        "manhattan_distance(c, a)"
      ],
      "execution_count": null,
      "outputs": [
        {
          "output_type": "execute_result",
          "data": {
            "text/plain": [
              "2.5"
            ]
          },
          "metadata": {
            "tags": []
          },
          "execution_count": 22
        }
      ]
    },
    {
      "cell_type": "code",
      "metadata": {
        "id": "8EhW4VpvwO16"
      },
      "source": [
        ""
      ],
      "execution_count": null,
      "outputs": []
    }
  ]
}